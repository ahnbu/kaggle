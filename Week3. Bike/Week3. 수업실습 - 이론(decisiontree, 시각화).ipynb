{
 "cells": [
  {
   "cell_type": "markdown",
   "metadata": {},
   "source": [
    "# DecisionTreeClassifier\n",
    "\n",
    "- feature : X_train, X_test (Pclass, Sex, ...) ==> condition... (좋은 조건..)\n",
    "- lable : Y_train (Survived)\n",
    "\n",
    "\n",
    "# Gini Impurity\n",
    "\n",
    "- 1- (P_Survived)**2 - (P_Perish)**2 \n",
    "\n",
    "- 100명 중 모두 살아남는 경우\n",
    "- 1 - (100/100)**2 - (0/100)**2 = 0\n",
    "\n",
    "- 100명 중 모두 죽은 경우\n",
    "- 1 - (0/100)**2 - (100/100)**2 = 0\n",
    "\n",
    "- 50명 살고, 50명 죽는 경우\n",
    "- 1 - (50/100)**2 - (50/100)**2 = 0.5\n",
    "\n",
    "- 좋을 수록 0, 안좋을 수록 0.5\n",
    "\n",
    "- 평균 Gini Impurity가 0에 가까워지도록 계속 만들어감.\n",
    "- max_depth를 어디까지 두느냐..\n",
    "\n",
    "- graphviz..\n",
    "\n",
    "- decisiontree보다는 pandas와 시각화를 익숙하게 하는게 우선\n",
    "\n",
    "\n",
    "# Feature Importance 기준으로 Feature Selection\n",
    "\n",
    "model.fit(X_train, y_train)\n",
    "list(zip(feature_names, model.feature_importances_))\n",
    "\n",
    " \n",
    "\n"
   ]
  },
  {
   "cell_type": "markdown",
   "metadata": {},
   "source": [
    "# Scikit-Learn의 모델 종류\n",
    "\n",
    "## Tree계열\n",
    "- DecisionTreeClassifier\n",
    "- RandomForestClassifier\n",
    "- Gradient Boosting Decision Tree\n",
    "\n",
    "## Regression\n",
    "- LogisticRegression\n",
    "\n",
    "## SVM (Support Vector Machine)\n",
    "- SVC\n",
    "\n",
    "## KNN\n",
    "- KNeighborsClassifier\n",
    "\n",
    "## Bayesian\n",
    "- MultinomialNB\n",
    "\n",
    "## Neural Network\n",
    "- MLPClassifier"
   ]
  },
  {
   "cell_type": "markdown",
   "metadata": {},
   "source": [
    "# Classification vs. Regression"
   ]
  },
  {
   "cell_type": "markdown",
   "metadata": {},
   "source": [
    "- categorical => Classification\n",
    "- continuous => Regression\n"
   ]
  },
  {
   "cell_type": "markdown",
   "metadata": {},
   "source": [
    "# 검증방식 - Model Evaluation"
   ]
  },
  {
   "cell_type": "markdown",
   "metadata": {},
   "source": [
    "- 피벗테이블의 대안\n",
    "- \n",
    "- Cross Validation (조각만큼 여러번 실행)\n",
    "- ==> 정확도는 높으나, 실행속도가 느림\n",
    "- ==> 보통은 5조각, 여기서는 20조각\n",
    "- ==> 나눠지는 기준은 행의 순서대로이고, random으로 하려면\n",
    "- ==> 5개의 tree 모델이 생기지만, 예측값만 가져오고, 그 모델은 버린다.\n",
    "\n",
    "- Holdout Validation (2천개에 대해서만 1회)\n",
    "- ==> 실행속도가 빠르나, 정확하게 나눠줘야 함\n",
    "- \n",
    "- GPU 400만원 * 5개 = 2천만원짜리..  "
   ]
  },
  {
   "cell_type": "markdown",
   "metadata": {},
   "source": [
    "# Evaluation Metric"
   ]
  },
  {
   "cell_type": "markdown",
   "metadata": {},
   "source": [
    "- Accuracy 같은 것\n",
    "- Regression이냐 Classification 문제에 따라서, 써야할 Accuracy가 다름\n",
    "\n",
    "- Mean Absolute Error (MAE)"
   ]
  },
  {
   "cell_type": "markdown",
   "metadata": {},
   "source": [
    "# RandomForest"
   ]
  },
  {
   "cell_type": "markdown",
   "metadata": {},
   "source": [
    "- 여러 개의 decisiontree를 만들어서 그 트리 중에서 맞춘 트리가 많은 것을 vote해서 모델 선정"
   ]
  },
  {
   "cell_type": "markdown",
   "metadata": {},
   "source": [
    "# 데이터시각화\n",
    "\n",
    "- matplotlib (매트플롯라이브러리) => 강하지만, 코드량이 많아야 함\n",
    "\n",
    "- seaborn => 작은 코드량으로 구현 가능, 그래프 중 5가지 정도만 할 수 있으면 됨\n",
    "- 5개로 가는데, 그걸로 안되면, seaborn의 gallery에 가서 공부하고 해보면 됨\n",
    "\n",
    "- 그래프 내에 값을 표기시켜보고 싶다면, 그건 seaborn에서 지원하지 않음\n",
    "- 레포트 용으로 하고 싶다면, table... 이런 패키지를 쓰거나, ppt 등에서 추가하는게 좋음\n",
    "  "
   ]
  },
  {
   "cell_type": "code",
   "execution_count": null,
   "metadata": {},
   "outputs": [],
   "source": []
  },
  {
   "cell_type": "code",
   "execution_count": null,
   "metadata": {},
   "outputs": [],
   "source": []
  }
 ],
 "metadata": {
  "kernelspec": {
   "display_name": "Python 3",
   "language": "python",
   "name": "python3"
  },
  "language_info": {
   "codemirror_mode": {
    "name": "ipython",
    "version": 3
   },
   "file_extension": ".py",
   "mimetype": "text/x-python",
   "name": "python",
   "nbconvert_exporter": "python",
   "pygments_lexer": "ipython3",
   "version": "3.6.5"
  }
 },
 "nbformat": 4,
 "nbformat_minor": 2
}
