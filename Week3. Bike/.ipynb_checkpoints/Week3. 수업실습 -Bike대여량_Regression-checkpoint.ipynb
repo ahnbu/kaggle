{
 "cells": [
  {
   "cell_type": "markdown",
   "metadata": {},
   "source": [
    "# Bike의 특징"
   ]
  },
  {
   "cell_type": "markdown",
   "metadata": {},
   "source": [
    " - 대용량 데이터\n",
    " - 숫자 데이터 중심 (date만 제외)\n",
    " - NaN 같은 게 없음\n",
    " - 3가지 lable이 있음 (비회원 이용량, 회원 이용량)\n",
    " - 비회원과 회원을 따로 추측하고, 이를 합산한 것으로 하는게 좋다.\n",
    " \n",
    " \n",
    " - _\n",
    "\n",
    "- holiday (1은 공휴일)\n",
    "- weather (4가 매우 안좋은 날씨)\n",
    "- atemp (체감)\n",
    "\n",
    "- weather와 season은 연산하는게 아니므로, 원핫인코딩하는게 좋음\n",
    "- (원핫인코딩하면 점수가 오를수도 있다. 항상 오르는 건 아니다)"
   ]
  },
  {
   "cell_type": "markdown",
   "metadata": {},
   "source": [
    "# 패키지로딩"
   ]
  },
  {
   "cell_type": "code",
   "execution_count": 1,
   "metadata": {},
   "outputs": [
    {
     "name": "stdout",
     "output_type": "stream",
     "text": [
      "테스트\n"
     ]
    }
   ],
   "source": [
    "print(\"테스트\")\n",
    "\n",
    "import pandas as pd\n",
    "import seaborn as sns\n",
    "import sklearn\n",
    "import numpy as np\n",
    "import os"
   ]
  },
  {
   "cell_type": "markdown",
   "metadata": {},
   "source": [
    "# 데이터 로딩"
   ]
  },
  {
   "cell_type": "code",
   "execution_count": 2,
   "metadata": {},
   "outputs": [
    {
     "name": "stdout",
     "output_type": "stream",
     "text": [
      "(10886, 12) (6493, 9)\n"
     ]
    },
    {
     "data": {
      "text/html": [
       "<div>\n",
       "<style scoped>\n",
       "    .dataframe tbody tr th:only-of-type {\n",
       "        vertical-align: middle;\n",
       "    }\n",
       "\n",
       "    .dataframe tbody tr th {\n",
       "        vertical-align: top;\n",
       "    }\n",
       "\n",
       "    .dataframe thead th {\n",
       "        text-align: right;\n",
       "    }\n",
       "</style>\n",
       "<table border=\"1\" class=\"dataframe\">\n",
       "  <thead>\n",
       "    <tr style=\"text-align: right;\">\n",
       "      <th></th>\n",
       "      <th>datetime</th>\n",
       "      <th>season</th>\n",
       "      <th>holiday</th>\n",
       "      <th>workingday</th>\n",
       "      <th>weather</th>\n",
       "      <th>temp</th>\n",
       "      <th>atemp</th>\n",
       "      <th>humidity</th>\n",
       "      <th>windspeed</th>\n",
       "    </tr>\n",
       "  </thead>\n",
       "  <tbody>\n",
       "    <tr>\n",
       "      <th>0</th>\n",
       "      <td>2011-01-20 00:00:00</td>\n",
       "      <td>1</td>\n",
       "      <td>0</td>\n",
       "      <td>1</td>\n",
       "      <td>1</td>\n",
       "      <td>10.66</td>\n",
       "      <td>11.365</td>\n",
       "      <td>56</td>\n",
       "      <td>26.0027</td>\n",
       "    </tr>\n",
       "    <tr>\n",
       "      <th>1</th>\n",
       "      <td>2011-01-20 01:00:00</td>\n",
       "      <td>1</td>\n",
       "      <td>0</td>\n",
       "      <td>1</td>\n",
       "      <td>1</td>\n",
       "      <td>10.66</td>\n",
       "      <td>13.635</td>\n",
       "      <td>56</td>\n",
       "      <td>0.0000</td>\n",
       "    </tr>\n",
       "    <tr>\n",
       "      <th>2</th>\n",
       "      <td>2011-01-20 02:00:00</td>\n",
       "      <td>1</td>\n",
       "      <td>0</td>\n",
       "      <td>1</td>\n",
       "      <td>1</td>\n",
       "      <td>10.66</td>\n",
       "      <td>13.635</td>\n",
       "      <td>56</td>\n",
       "      <td>0.0000</td>\n",
       "    </tr>\n",
       "    <tr>\n",
       "      <th>3</th>\n",
       "      <td>2011-01-20 03:00:00</td>\n",
       "      <td>1</td>\n",
       "      <td>0</td>\n",
       "      <td>1</td>\n",
       "      <td>1</td>\n",
       "      <td>10.66</td>\n",
       "      <td>12.880</td>\n",
       "      <td>56</td>\n",
       "      <td>11.0014</td>\n",
       "    </tr>\n",
       "    <tr>\n",
       "      <th>4</th>\n",
       "      <td>2011-01-20 04:00:00</td>\n",
       "      <td>1</td>\n",
       "      <td>0</td>\n",
       "      <td>1</td>\n",
       "      <td>1</td>\n",
       "      <td>10.66</td>\n",
       "      <td>12.880</td>\n",
       "      <td>56</td>\n",
       "      <td>11.0014</td>\n",
       "    </tr>\n",
       "  </tbody>\n",
       "</table>\n",
       "</div>"
      ],
      "text/plain": [
       "              datetime  season  holiday  workingday  weather   temp   atemp  \\\n",
       "0  2011-01-20 00:00:00       1        0           1        1  10.66  11.365   \n",
       "1  2011-01-20 01:00:00       1        0           1        1  10.66  13.635   \n",
       "2  2011-01-20 02:00:00       1        0           1        1  10.66  13.635   \n",
       "3  2011-01-20 03:00:00       1        0           1        1  10.66  12.880   \n",
       "4  2011-01-20 04:00:00       1        0           1        1  10.66  12.880   \n",
       "\n",
       "   humidity  windspeed  \n",
       "0        56    26.0027  \n",
       "1        56     0.0000  \n",
       "2        56     0.0000  \n",
       "3        56    11.0014  \n",
       "4        56    11.0014  "
      ]
     },
     "execution_count": 2,
     "metadata": {},
     "output_type": "execute_result"
    }
   ],
   "source": [
    "train = pd.read_csv(\"data/bike/train.csv\")\n",
    "test = pd.read_csv(\"data/bike/test.csv\")\n",
    "\n",
    "print(train.shape, test.shape)\n",
    "\n",
    "assert train.shape == (10886, 12)\n",
    "assert test.shape == (6493, 9)\n",
    "\n",
    "train.head()\n",
    "test.head()"
   ]
  },
  {
   "cell_type": "markdown",
   "metadata": {},
   "source": [
    "# Seaborn"
   ]
  },
  {
   "cell_type": "code",
   "execution_count": 3,
   "metadata": {},
   "outputs": [
    {
     "data": {
      "text/plain": [
       "<matplotlib.axes._subplots.AxesSubplot at 0xab1e4a8>"
      ]
     },
     "execution_count": 3,
     "metadata": {},
     "output_type": "execute_result"
    },
    {
     "data": {
      "image/png": "[encoded data removed]",
      "text/plain": [
       "<Figure size 432x288 with 1 Axes>"
      ]
     },
     "metadata": {},
     "output_type": "display_data"
    }
   ],
   "source": [
    "# 시각화 결과를 화면에 바로 출력할 수도, 파일로 저장할 수 있음\n",
    "\n",
    "%matplotlib inline  \n",
    "# 시각화결과를 주피터노트북에서 바로 보여줘라.\n",
    "\n",
    "sns.countplot(data = train, x = \"weather\", hue = \"holiday\") \n",
    "# hue는 x를 이걸로 쪼개서 보여주세요.\n",
    "\n",
    "sns.countplot(data = train, x = \"season\", hue = \"holiday\")"
   ]
  },
  {
   "cell_type": "code",
   "execution_count": null,
   "metadata": {},
   "outputs": [],
   "source": []
  },
  {
   "cell_type": "markdown",
   "metadata": {},
   "source": [
    "# 데이터 전처리(NaN) - 진단"
   ]
  },
  {
   "cell_type": "code",
   "execution_count": 4,
   "metadata": {},
   "outputs": [
    {
     "name": "stdout",
     "output_type": "stream",
     "text": [
      "            season      holiday   workingday      weather         temp  \\\n",
      "count  6493.000000  6493.000000  6493.000000  6493.000000  6493.000000   \n",
      "mean      2.493300     0.029108     0.685815     1.436778    20.620607   \n",
      "std       1.091258     0.168123     0.464226     0.648390     8.059583   \n",
      "min       1.000000     0.000000     0.000000     1.000000     0.820000   \n",
      "25%       2.000000     0.000000     0.000000     1.000000    13.940000   \n",
      "50%       3.000000     0.000000     1.000000     1.000000    21.320000   \n",
      "75%       3.000000     0.000000     1.000000     2.000000    27.060000   \n",
      "max       4.000000     1.000000     1.000000     4.000000    40.180000   \n",
      "\n",
      "             atemp     humidity    windspeed  \n",
      "count  6493.000000  6493.000000  6493.000000  \n",
      "mean     24.012865    64.125212    12.631157  \n",
      "std       8.782741    19.293391     8.250151  \n",
      "min       0.000000    16.000000     0.000000  \n",
      "25%      16.665000    49.000000     7.001500  \n",
      "50%      25.000000    65.000000    11.001400  \n",
      "75%      31.060000    81.000000    16.997900  \n",
      "max      50.000000   100.000000    55.998600  \n"
     ]
    },
    {
     "data": {
      "text/plain": [
       "Index(['datetime', 'season', 'holiday', 'workingday', 'weather', 'temp',\n",
       "       'atemp', 'humidity', 'windspeed'],\n",
       "      dtype='object')"
      ]
     },
     "execution_count": 4,
     "metadata": {},
     "output_type": "execute_result"
    }
   ],
   "source": [
    "# 정량\n",
    "\n",
    "train.describe()\n",
    "# 없음\n",
    "print (test.describe())\n",
    "# 없음\n",
    "\n",
    "train.columns\n",
    "# datetime, casual, registerd, count\n",
    "\n",
    "test.columns\n",
    "\n",
    "#train[[\"datetime\", \"casual\", \"registerd\", \"count\"]].describe()\n",
    "#test[[\"datetime\", \"casual\", \"count\"]].describe()"
   ]
  },
  {
   "cell_type": "code",
   "execution_count": 40,
   "metadata": {},
   "outputs": [
    {
     "data": {
      "text/plain": [
       "RandomForestRegressor(bootstrap=True, criterion='mse', max_depth=None,\n",
       "           max_features='auto', max_leaf_nodes=None,\n",
       "           min_impurity_decrease=0.0, min_impurity_split=None,\n",
       "           min_samples_leaf=1, min_samples_split=2,\n",
       "           min_weight_fraction_leaf=0.0, n_estimators=10, n_jobs=1,\n",
       "           oob_score=False, random_state=79, verbose=0, warm_start=False)"
      ]
     },
     "execution_count": 40,
     "metadata": {},
     "output_type": "execute_result"
    }
   ],
   "source": [
    "from sklearn.tree import DecisionTreeClassifier\n",
    "from sklearn.tree import DecisionTreeRegressor\n",
    "from sklearn.ensemble import RandomForestRegressor\n",
    "\n",
    "# model = DecisionTreeClassifier(max_depth = 8, random_state = 0)\n",
    "# model = DecisionTreeClassifier()\n",
    "# model = DecisionTreeRegressor(random_state = 79)\n",
    "\n",
    "model = RandomForestRegressor(random_state = 79)\n",
    "model"
   ]
  },
  {
   "cell_type": "markdown",
   "metadata": {},
   "source": [
    "# Model Evaluation - Cross Val."
   ]
  },
  {
   "cell_type": "code",
   "execution_count": 41,
   "metadata": {},
   "outputs": [
    {
     "name": "stdout",
     "output_type": "stream",
     "text": [
      "(10886,)\n"
     ]
    },
    {
     "data": {
      "text/plain": [
       "array([ 26.76666667,  97.8       ,  97.8       , ..., 267.16666667,\n",
       "       254.925     ,  38.23333333])"
      ]
     },
     "execution_count": 41,
     "metadata": {},
     "output_type": "execute_result"
    }
   ],
   "source": [
    "from sklearn.model_selection import cross_val_predict\n",
    "\n",
    "y_predict = cross_val_predict(model, X_train, y_train, cv = 20)\n",
    "\n",
    "# train 데이터 내에서 대여량 예측값이 나옴\n",
    "\n",
    "print(y_predict.shape)\n",
    "y_predict"
   ]
  },
  {
   "cell_type": "markdown",
   "metadata": {},
   "source": [
    "# Evalution Metric - Mean Absolute Error"
   ]
  },
  {
   "cell_type": "code",
   "execution_count": 42,
   "metadata": {},
   "outputs": [
    {
     "name": "stdout",
     "output_type": "stream",
     "text": [
      "Score = 129.49875288275535\n",
      "Score = 129.49875\n",
      "Score = 129.49875\n"
     ]
    }
   ],
   "source": [
    "score = np.abs(y_predict - y_train).mean()\n",
    "score\n",
    "\n",
    "print(f\"Score = {score}\") # 신버전 파이썬만\n",
    "print(f\"Score = {score:.5f}\") # 소수점 5짜리까지\n",
    "print(\"Score = {:.5f}\".format(score)) # 구버전인 경우.. 추천하지는 않음\n",
    "\n",
    "# 할 때마다 점수가 다를 수도 있는데, \n",
    "# 이는 degression의 prediction을 random을 고정시키는 게 좋다."
   ]
  },
  {
   "cell_type": "code",
   "execution_count": null,
   "metadata": {},
   "outputs": [],
   "source": []
  },
  {
   "cell_type": "code",
   "execution_count": null,
   "metadata": {},
   "outputs": [],
   "source": []
  },
  {
   "cell_type": "code",
   "execution_count": null,
   "metadata": {},
   "outputs": [],
   "source": []
  },
  {
   "cell_type": "code",
   "execution_count": 43,
   "metadata": {},
   "outputs": [
    {
     "data": {
      "text/plain": [
       "'count'"
      ]
     },
     "execution_count": 43,
     "metadata": {},
     "output_type": "execute_result"
    }
   ],
   "source": [
    "feature_names = ['season', 'holiday', 'workingday', 'weather', 'temp',\n",
    "       'atemp', 'humidity', 'windspeed']\n",
    "\n",
    "feature_names1 = ['datetime', 'season', 'holiday', 'workingday', 'weather', 'temp',\n",
    "       'atemp', 'humidity', 'windspeed']\n",
    "lable_name = \"count\"\n",
    "lable_name"
   ]
  },
  {
   "cell_type": "code",
   "execution_count": 44,
   "metadata": {},
   "outputs": [
    {
     "name": "stdout",
     "output_type": "stream",
     "text": [
      "(10886, 8)\n"
     ]
    }
   ],
   "source": [
    "X_train = train[feature_names]\n",
    "X_test = test[feature_names]\n",
    "y_train = train[lable_name]\n",
    "\n",
    "print(X_train.shape)"
   ]
  },
  {
   "cell_type": "code",
   "execution_count": 45,
   "metadata": {},
   "outputs": [
    {
     "data": {
      "text/plain": [
       "Index(['datetime', 'season', 'holiday', 'workingday', 'weather', 'temp',\n",
       "       'atemp', 'humidity', 'windspeed'],\n",
       "      dtype='object')"
      ]
     },
     "execution_count": 45,
     "metadata": {},
     "output_type": "execute_result"
    }
   ],
   "source": [
    "test.columns"
   ]
  },
  {
   "cell_type": "code",
   "execution_count": 46,
   "metadata": {},
   "outputs": [
    {
     "data": {
      "text/plain": [
       "RandomForestRegressor(bootstrap=True, criterion='mse', max_depth=None,\n",
       "           max_features='auto', max_leaf_nodes=None,\n",
       "           min_impurity_decrease=0.0, min_impurity_split=None,\n",
       "           min_samples_leaf=1, min_samples_split=2,\n",
       "           min_weight_fraction_leaf=0.0, n_estimators=10, n_jobs=1,\n",
       "           oob_score=False, random_state=79, verbose=0, warm_start=False)"
      ]
     },
     "execution_count": 46,
     "metadata": {},
     "output_type": "execute_result"
    }
   ],
   "source": [
    "model.fit(X_train, y_train)"
   ]
  },
  {
   "cell_type": "markdown",
   "metadata": {},
   "source": [
    "# Feature selection & Accuracy"
   ]
  },
  {
   "cell_type": "code",
   "execution_count": 47,
   "metadata": {},
   "outputs": [
    {
     "name": "stdout",
     "output_type": "stream",
     "text": [
      "[('season', 0.0665426104867756), ('holiday', 0.0060453172589612315), ('workingday', 0.043843060886639036), ('weather', 0.05283410689553667), ('temp', 0.14586444990220906), ('atemp', 0.2343963389197378), ('humidity', 0.25404231283606515), ('windspeed', 0.19643180281407546)]\n",
      "Train Set Accuracy =  0.8050166364066041\n"
     ]
    }
   ],
   "source": [
    "print(list(zip(feature_names, model.feature_importances_))) # fit한 다음에 사용해야 함\n",
    "print(\"Train Set Accuracy = \", model.score(X_train, y_train))"
   ]
  },
  {
   "cell_type": "markdown",
   "metadata": {},
   "source": [
    "# Graphviz"
   ]
  },
  {
   "cell_type": "code",
   "execution_count": 48,
   "metadata": {},
   "outputs": [
    {
     "data": {
      "text/plain": [
       "'\\nimport graphviz\\nfrom sklearn.tree import export_graphviz\\n\\ndot_tree = export_graphviz(model,\\n                          feature_names = feature_names,\\n                          class_names = [\"Non-Rent\", \"Rent\"],\\n                          out_file = None)\\n\\ngraphviz.Source(dot_tree)\\n'"
      ]
     },
     "execution_count": 48,
     "metadata": {},
     "output_type": "execute_result"
    }
   ],
   "source": [
    "'''\n",
    "import graphviz\n",
    "from sklearn.tree import export_graphviz\n",
    "\n",
    "dot_tree = export_graphviz(model,\n",
    "                          feature_names = feature_names,\n",
    "                          class_names = [\"Non-Rent\", \"Rent\"],\n",
    "                          out_file = None)\n",
    "\n",
    "graphviz.Source(dot_tree)\n",
    "'''"
   ]
  },
  {
   "cell_type": "markdown",
   "metadata": {},
   "source": [
    "# Predict"
   ]
  },
  {
   "cell_type": "code",
   "execution_count": 49,
   "metadata": {},
   "outputs": [
    {
     "name": "stdout",
     "output_type": "stream",
     "text": [
      "(6493,)\n",
      "(6493, 9)\n"
     ]
    }
   ],
   "source": [
    "predictions = model.predict(X_test)\n",
    "\n",
    "print(predictions.shape)\n",
    "\n",
    "print(test.shape)"
   ]
  },
  {
   "cell_type": "markdown",
   "metadata": {},
   "source": [
    "# Submit"
   ]
  },
  {
   "cell_type": "code",
   "execution_count": 50,
   "metadata": {},
   "outputs": [
    {
     "name": "stdout",
     "output_type": "stream",
     "text": [
      "(6493, 2)\n"
     ]
    },
    {
     "data": {
      "text/html": [
       "<div>\n",
       "<style scoped>\n",
       "    .dataframe tbody tr th:only-of-type {\n",
       "        vertical-align: middle;\n",
       "    }\n",
       "\n",
       "    .dataframe tbody tr th {\n",
       "        vertical-align: top;\n",
       "    }\n",
       "\n",
       "    .dataframe thead th {\n",
       "        text-align: right;\n",
       "    }\n",
       "</style>\n",
       "<table border=\"1\" class=\"dataframe\">\n",
       "  <thead>\n",
       "    <tr style=\"text-align: right;\">\n",
       "      <th></th>\n",
       "      <th>datetime</th>\n",
       "      <th>count</th>\n",
       "    </tr>\n",
       "  </thead>\n",
       "  <tbody>\n",
       "    <tr>\n",
       "      <th>0</th>\n",
       "      <td>2011-01-20 00:00:00</td>\n",
       "      <td>231.47</td>\n",
       "    </tr>\n",
       "    <tr>\n",
       "      <th>1</th>\n",
       "      <td>2011-01-20 01:00:00</td>\n",
       "      <td>50.15</td>\n",
       "    </tr>\n",
       "    <tr>\n",
       "      <th>2</th>\n",
       "      <td>2011-01-20 02:00:00</td>\n",
       "      <td>50.15</td>\n",
       "    </tr>\n",
       "    <tr>\n",
       "      <th>3</th>\n",
       "      <td>2011-01-20 03:00:00</td>\n",
       "      <td>100.60</td>\n",
       "    </tr>\n",
       "    <tr>\n",
       "      <th>4</th>\n",
       "      <td>2011-01-20 04:00:00</td>\n",
       "      <td>100.60</td>\n",
       "    </tr>\n",
       "  </tbody>\n",
       "</table>\n",
       "</div>"
      ],
      "text/plain": [
       "              datetime   count\n",
       "0  2011-01-20 00:00:00  231.47\n",
       "1  2011-01-20 01:00:00   50.15\n",
       "2  2011-01-20 02:00:00   50.15\n",
       "3  2011-01-20 03:00:00  100.60\n",
       "4  2011-01-20 04:00:00  100.60"
      ]
     },
     "execution_count": 50,
     "metadata": {},
     "output_type": "execute_result"
    }
   ],
   "source": [
    "submission = pd.read_csv(\"data/bike/sampleSubmission.csv\")\n",
    "\n",
    "submission[\"count\"] = predictions\n",
    "\n",
    "print(submission.shape)\n",
    "submission.head()"
   ]
  },
  {
   "cell_type": "code",
   "execution_count": 52,
   "metadata": {},
   "outputs": [],
   "source": [
    "submission.to_csv(\"data/bike/bike_predictions_20180902_regressor_rf.csv\", index = False)\n",
    "# index가 자동으로 들어가는데, 이것을 빼고 싶으면 index False를 지정해주면 됨"
   ]
  },
  {
   "cell_type": "markdown",
   "metadata": {},
   "source": [
    "# Kaggle Score"
   ]
  },
  {
   "cell_type": "markdown",
   "metadata": {},
   "source": [
    "- 0에 가까워야 좋은 점수. 1위는 0.3점대\n",
    "\n",
    "- 점수 1.70229 (DecisionTreeClassifier)\n",
    "\n",
    "- 점수 1.62 (DecisionTreeRegression)\n",
    "\n",
    "- 점수 1.38 (RandomForest)\n",
    "- \n",
    "- 0.4 중반대 정도를 목표로 함\n",
    "\n",
    "## 정석 Tip\n",
    "\n",
    "### (1) 코드 안짜는 시기 (2일~7일)... 데이터를 완벽하게 이해하기까지\n",
    "- (e.g. 엑셀, 시각화 등)\n",
    "- 0이라고 되어 있는데, 실제로는 NaN인 경우가 있음 (예. windspeed)\n",
    "- lmplot으로 상관관계있는 변수들을 보완해주면 (예. temp, atemp)\n",
    "\n",
    "### (2) Kernel과 Discussion을 적극적으로 참고해서 한다\n",
    "- 기업에서 일하는 경우에는 더더욱 그렇다\n",
    "- 비슷한 캐글 2~3개 사례를 참고하는 것\n",
    "\n",
    "## 속성 Tip\n",
    "\n",
    "### (1) datetime을 처리하면 parse로..\n",
    "\n",
    "### (2) 피처에 넣으면, 오히려 역효과 나는 피처가 있음. 그건 빼줘야\n",
    "- CV가 안좋아졌는데, 실제로는 좋아지는 경우도, 반대도 있음\n",
    "\n",
    "### (3) 원핫인코딩 (Embarked처럼)\n",
    "\n",
    "\n",
    "\n",
    "\n",
    "## MY\n",
    "- cross val 잘 나눠주는게 좋음\n"
   ]
  },
  {
   "cell_type": "code",
   "execution_count": null,
   "metadata": {},
   "outputs": [],
   "source": []
  },
  {
   "cell_type": "code",
   "execution_count": null,
   "metadata": {},
   "outputs": [],
   "source": []
  }
 ],
 "metadata": {
  "kernelspec": {
   "display_name": "Python 3",
   "language": "python",
   "name": "python3"
  },
  "language_info": {
   "codemirror_mode": {
    "name": "ipython",
    "version": 3
   },
   "file_extension": ".py",
   "mimetype": "text/x-python",
   "name": "python",
   "nbconvert_exporter": "python",
   "pygments_lexer": "ipython3",
   "version": "3.6.5"
  }
 },
 "nbformat": 4,
 "nbformat_minor": 2
}
