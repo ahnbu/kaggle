{
 "cells": [
  {
   "cell_type": "markdown",
   "metadata": {},
   "source": [
    "# Bike의 특징"
   ]
  },
  {
   "cell_type": "markdown",
   "metadata": {},
   "source": [
    " - 대용량 데이터\n",
    " - 숫자 데이터 중심 (date만 제외)\n",
    " - NaN 같은 게 없음\n",
    " - 3가지 lable이 있음 (비회원 이용량, 회원 이용량)\n",
    " - 비회원과 회원을 따로 추측하고, 이를 합산한 것으로 하는게 좋다.\n",
    " \n",
    " \n",
    " - _\n",
    "\n",
    "- holiday (1은 공휴일)\n",
    "- weather (4가 매우 안좋은 날씨)\n",
    "- atemp (체감)\n",
    "\n",
    "- weather와 season은 연산하는게 아니므로, 원핫인코딩하는게 좋음\n",
    "- (원핫인코딩하면 점수가 오를수도 있다. 항상 오르는 건 아니다)"
   ]
  },
  {
   "cell_type": "markdown",
   "metadata": {},
   "source": [
    "# 패키지로딩"
   ]
  },
  {
   "cell_type": "code",
   "execution_count": 1,
   "metadata": {},
   "outputs": [
    {
     "name": "stdout",
     "output_type": "stream",
     "text": [
      "테스트\n"
     ]
    }
   ],
   "source": [
    "print(\"테스트\")\n",
    "\n",
    "import pandas as pd\n",
    "import seaborn as sns\n",
    "import sklearn\n",
    "import numpy as np\n",
    "import os"
   ]
  },
  {
   "cell_type": "markdown",
   "metadata": {},
   "source": [
    "# 데이터 로딩"
   ]
  },
  {
   "cell_type": "code",
   "execution_count": 2,
   "metadata": {},
   "outputs": [
    {
     "name": "stdout",
     "output_type": "stream",
     "text": [
      "(10886, 13) (6493, 10)\n"
     ]
    },
    {
     "data": {
      "text/html": [
       "<div>\n",
       "<style scoped>\n",
       "    .dataframe tbody tr th:only-of-type {\n",
       "        vertical-align: middle;\n",
       "    }\n",
       "\n",
       "    .dataframe tbody tr th {\n",
       "        vertical-align: top;\n",
       "    }\n",
       "\n",
       "    .dataframe thead th {\n",
       "        text-align: right;\n",
       "    }\n",
       "</style>\n",
       "<table border=\"1\" class=\"dataframe\">\n",
       "  <thead>\n",
       "    <tr style=\"text-align: right;\">\n",
       "      <th></th>\n",
       "      <th>datetime</th>\n",
       "      <th>season</th>\n",
       "      <th>holiday</th>\n",
       "      <th>workingday</th>\n",
       "      <th>weather</th>\n",
       "      <th>temp</th>\n",
       "      <th>atemp</th>\n",
       "      <th>humidity</th>\n",
       "      <th>windspeed</th>\n",
       "      <th>windspeed_encode</th>\n",
       "    </tr>\n",
       "  </thead>\n",
       "  <tbody>\n",
       "    <tr>\n",
       "      <th>0</th>\n",
       "      <td>2011-01-20 00:00:00</td>\n",
       "      <td>1</td>\n",
       "      <td>0</td>\n",
       "      <td>1</td>\n",
       "      <td>1</td>\n",
       "      <td>10.66</td>\n",
       "      <td>11.365</td>\n",
       "      <td>56</td>\n",
       "      <td>26.0027</td>\n",
       "      <td>10.66</td>\n",
       "    </tr>\n",
       "    <tr>\n",
       "      <th>1</th>\n",
       "      <td>2011-01-20 01:00:00</td>\n",
       "      <td>1</td>\n",
       "      <td>0</td>\n",
       "      <td>1</td>\n",
       "      <td>1</td>\n",
       "      <td>10.66</td>\n",
       "      <td>13.635</td>\n",
       "      <td>56</td>\n",
       "      <td>0.0000</td>\n",
       "      <td>10.66</td>\n",
       "    </tr>\n",
       "    <tr>\n",
       "      <th>2</th>\n",
       "      <td>2011-01-20 02:00:00</td>\n",
       "      <td>1</td>\n",
       "      <td>0</td>\n",
       "      <td>1</td>\n",
       "      <td>1</td>\n",
       "      <td>10.66</td>\n",
       "      <td>13.635</td>\n",
       "      <td>56</td>\n",
       "      <td>0.0000</td>\n",
       "      <td>10.66</td>\n",
       "    </tr>\n",
       "    <tr>\n",
       "      <th>3</th>\n",
       "      <td>2011-01-20 03:00:00</td>\n",
       "      <td>1</td>\n",
       "      <td>0</td>\n",
       "      <td>1</td>\n",
       "      <td>1</td>\n",
       "      <td>10.66</td>\n",
       "      <td>12.880</td>\n",
       "      <td>56</td>\n",
       "      <td>11.0014</td>\n",
       "      <td>10.66</td>\n",
       "    </tr>\n",
       "    <tr>\n",
       "      <th>4</th>\n",
       "      <td>2011-01-20 04:00:00</td>\n",
       "      <td>1</td>\n",
       "      <td>0</td>\n",
       "      <td>1</td>\n",
       "      <td>1</td>\n",
       "      <td>10.66</td>\n",
       "      <td>12.880</td>\n",
       "      <td>56</td>\n",
       "      <td>11.0014</td>\n",
       "      <td>10.66</td>\n",
       "    </tr>\n",
       "  </tbody>\n",
       "</table>\n",
       "</div>"
      ],
      "text/plain": [
       "             datetime  season  holiday  workingday  weather   temp   atemp  \\\n",
       "0 2011-01-20 00:00:00       1        0           1        1  10.66  11.365   \n",
       "1 2011-01-20 01:00:00       1        0           1        1  10.66  13.635   \n",
       "2 2011-01-20 02:00:00       1        0           1        1  10.66  13.635   \n",
       "3 2011-01-20 03:00:00       1        0           1        1  10.66  12.880   \n",
       "4 2011-01-20 04:00:00       1        0           1        1  10.66  12.880   \n",
       "\n",
       "   humidity  windspeed  windspeed_encode  \n",
       "0        56    26.0027             10.66  \n",
       "1        56     0.0000             10.66  \n",
       "2        56     0.0000             10.66  \n",
       "3        56    11.0014             10.66  \n",
       "4        56    11.0014             10.66  "
      ]
     },
     "execution_count": 2,
     "metadata": {},
     "output_type": "execute_result"
    }
   ],
   "source": [
    "train = pd.read_csv(\"data/bike/train_better.csv\", parse_dates = [\"datetime\"])\n",
    "test = pd.read_csv(\"data/bike/test_better.csv\", parse_dates = [\"datetime\"])\n",
    "\n",
    "print(train.shape, test.shape)\n",
    "\n",
    "#assert train.shape == (10886, 12)\n",
    "#assert test.shape == (6493, 9)\n",
    "\n",
    "train.head()\n",
    "test.head()"
   ]
  },
  {
   "cell_type": "markdown",
   "metadata": {},
   "source": [
    "# Seaborn"
   ]
  },
  {
   "cell_type": "code",
   "execution_count": 3,
   "metadata": {},
   "outputs": [
    {
     "data": {
      "text/plain": [
       "<matplotlib.axes._subplots.AxesSubplot at 0xabfd3c8>"
      ]
     },
     "execution_count": 3,
     "metadata": {},
     "output_type": "execute_result"
    },
    {
     "data": {
      "image/png": "[encoded data removed]",
      "text/plain": [
       "<Figure size 432x288 with 1 Axes>"
      ]
     },
     "metadata": {},
     "output_type": "display_data"
    }
   ],
   "source": [
    "# 시각화 결과를 화면에 바로 출력할 수도, 파일로 저장할 수 있음\n",
    "\n",
    "%matplotlib inline  \n",
    "# 시각화결과를 주피터노트북에서 바로 보여줘라.\n",
    "\n",
    "sns.countplot(data = train, x = \"weather\", hue = \"holiday\") \n",
    "# hue는 x를 이걸로 쪼개서 보여주세요.\n",
    "\n",
    "sns.countplot(data = train, x = \"season\", hue = \"holiday\")"
   ]
  },
  {
   "cell_type": "markdown",
   "metadata": {},
   "source": [
    "# 데이터전처리(wind 이상값 처리) - 엑셀로"
   ]
  },
  {
   "cell_type": "code",
   "execution_count": 4,
   "metadata": {},
   "outputs": [
    {
     "data": {
      "text/plain": [
       "<matplotlib.axes._subplots.AxesSubplot at 0xac04780>"
      ]
     },
     "execution_count": 4,
     "metadata": {},
     "output_type": "execute_result"
    },
    {
     "data": {
      "image/png": "[encoded data removed]",
      "text/plain": [
       "<Figure size 432x288 with 1 Axes>"
      ]
     },
     "metadata": {},
     "output_type": "display_data"
    }
   ],
   "source": [
    "#sns.countplot(data = train, x = \"windspeed\")\n",
    "sns.countplot(data = test, x = \"windspeed\")"
   ]
  },
  {
   "cell_type": "code",
   "execution_count": 5,
   "metadata": {},
   "outputs": [
    {
     "data": {
      "text/html": [
       "<div>\n",
       "<style scoped>\n",
       "    .dataframe tbody tr th:only-of-type {\n",
       "        vertical-align: middle;\n",
       "    }\n",
       "\n",
       "    .dataframe tbody tr th {\n",
       "        vertical-align: top;\n",
       "    }\n",
       "\n",
       "    .dataframe thead th {\n",
       "        text-align: right;\n",
       "    }\n",
       "</style>\n",
       "<table border=\"1\" class=\"dataframe\">\n",
       "  <thead>\n",
       "    <tr style=\"text-align: right;\">\n",
       "      <th></th>\n",
       "      <th>datetime</th>\n",
       "      <th>season</th>\n",
       "      <th>holiday</th>\n",
       "      <th>workingday</th>\n",
       "      <th>weather</th>\n",
       "      <th>temp</th>\n",
       "      <th>atemp</th>\n",
       "      <th>humidity</th>\n",
       "      <th>windspeed</th>\n",
       "      <th>windspeed_encode</th>\n",
       "    </tr>\n",
       "  </thead>\n",
       "  <tbody>\n",
       "  </tbody>\n",
       "</table>\n",
       "</div>"
      ],
      "text/plain": [
       "Empty DataFrame\n",
       "Columns: [datetime, season, holiday, workingday, weather, temp, atemp, humidity, windspeed, windspeed_encode]\n",
       "Index: []"
      ]
     },
     "execution_count": 5,
     "metadata": {},
     "output_type": "execute_result"
    },
    {
     "data": {
      "image/png": "[encoded data removed]",
      "text/plain": [
       "<Figure size 432x288 with 1 Axes>"
      ]
     },
     "metadata": {},
     "output_type": "display_data"
    }
   ],
   "source": [
    "#sns.countplot(data = train, x = \"windspeed_encode\")\n",
    "sns.countplot(data = test, x = \"windspeed_encode\")\n",
    "test.loc[test[\"windspeed_encode\"] == 0]\n",
    "\n",
    "# 0으로 된 것은 없다."
   ]
  },
  {
   "cell_type": "markdown",
   "metadata": {},
   "source": [
    "# 데이터전처리(atemp 이상값 처리)"
   ]
  },
  {
   "cell_type": "code",
   "execution_count": 6,
   "metadata": {},
   "outputs": [
    {
     "data": {
      "text/plain": [
       "<seaborn.axisgrid.FacetGrid at 0xb0e84e0>"
      ]
     },
     "execution_count": 6,
     "metadata": {},
     "output_type": "execute_result"
    },
    {
     "data": {
      "image/png": "[encoded data removed]",
      "text/plain": [
       "<Figure size 360x360 with 1 Axes>"
      ]
     },
     "metadata": {},
     "output_type": "display_data"
    },
    {
     "data": {
      "image/png": "[encoded data removed]",
      "text/plain": [
       "<Figure size 360x360 with 1 Axes>"
      ]
     },
     "metadata": {},
     "output_type": "display_data"
    }
   ],
   "source": [
    "sns.lmplot(data = train, x = \"temp\", y =\"atemp\")\n",
    "sns.lmplot(data = test, x = \"temp\", y =\"atemp\")"
   ]
  },
  {
   "cell_type": "code",
   "execution_count": 7,
   "metadata": {},
   "outputs": [
    {
     "data": {
      "text/html": [
       "<div>\n",
       "<style scoped>\n",
       "    .dataframe tbody tr th:only-of-type {\n",
       "        vertical-align: middle;\n",
       "    }\n",
       "\n",
       "    .dataframe tbody tr th {\n",
       "        vertical-align: top;\n",
       "    }\n",
       "\n",
       "    .dataframe thead th {\n",
       "        text-align: right;\n",
       "    }\n",
       "</style>\n",
       "<table border=\"1\" class=\"dataframe\">\n",
       "  <thead>\n",
       "    <tr style=\"text-align: right;\">\n",
       "      <th></th>\n",
       "      <th>datetime</th>\n",
       "      <th>season</th>\n",
       "      <th>holiday</th>\n",
       "      <th>workingday</th>\n",
       "      <th>weather</th>\n",
       "      <th>temp</th>\n",
       "      <th>atemp</th>\n",
       "      <th>humidity</th>\n",
       "      <th>windspeed</th>\n",
       "      <th>windspeed_encode</th>\n",
       "      <th>atemp_gap</th>\n",
       "      <th>atemp_encode</th>\n",
       "      <th>atemp_gap2</th>\n",
       "    </tr>\n",
       "  </thead>\n",
       "  <tbody>\n",
       "  </tbody>\n",
       "</table>\n",
       "</div>"
      ],
      "text/plain": [
       "Empty DataFrame\n",
       "Columns: [datetime, season, holiday, workingday, weather, temp, atemp, humidity, windspeed, windspeed_encode, atemp_gap, atemp_encode, atemp_gap2]\n",
       "Index: []"
      ]
     },
     "execution_count": 7,
     "metadata": {},
     "output_type": "execute_result"
    }
   ],
   "source": [
    "##### train\n",
    "\n",
    "train[\"atemp_gap\"] = train[\"atemp\"] - train[\"temp\"]\n",
    "train[\"atemp_gap\"].describe()\n",
    "train[\"atemp_gap\"].max()\n",
    "\n",
    "train[\"atemp_encode\"] = train[\"atemp\"]\n",
    "train.loc[train[\"atemp_gap\"] < -2, \"atemp_encode\"] = train[\"temp\"] + 3\n",
    "\n",
    "# 제대로 처리됐는지 체크\n",
    "\n",
    "train[\"atemp_gap2\"] = train[\"atemp_encode\"] - train[\"temp\"]\n",
    "train.loc[train[\"atemp_gap2\"] < -2]\n",
    "\n",
    "# train[[\"temp\", \"atemp\", \"atemp_encode\"]]\n",
    "\n",
    "\n",
    "##### test\n",
    "\n",
    "test[\"atemp_gap\"] = test[\"atemp\"] - test[\"temp\"]\n",
    "test[\"atemp_gap\"].describe()\n",
    "test[\"atemp_gap\"].max()\n",
    "\n",
    "test[\"atemp_encode\"] = test[\"atemp\"]\n",
    "test.loc[train[\"atemp_gap\"] < -2, \"atemp_encode\"] = test[\"temp\"] + 3\n",
    "\n",
    "# 제대로 처리됐는지 체크\n",
    "\n",
    "test[\"atemp_gap2\"] = test[\"atemp_encode\"] - test[\"temp\"]\n",
    "test.loc[train[\"atemp_gap2\"] < -2]"
   ]
  },
  {
   "cell_type": "code",
   "execution_count": 8,
   "metadata": {},
   "outputs": [
    {
     "data": {
      "text/plain": [
       "<seaborn.axisgrid.FacetGrid at 0xb1d3d68>"
      ]
     },
     "execution_count": 8,
     "metadata": {},
     "output_type": "execute_result"
    },
    {
     "data": {
      "image/png": "[encoded data removed]",
      "text/plain": [
       "<Figure size 360x360 with 1 Axes>"
      ]
     },
     "metadata": {},
     "output_type": "display_data"
    },
    {
     "data": {
      "image/png": "[encoded data removed]",
      "text/plain": [
       "<Figure size 360x360 with 1 Axes>"
      ]
     },
     "metadata": {},
     "output_type": "display_data"
    }
   ],
   "source": [
    "# 제대로 처리됐는지 체크\n",
    "sns.lmplot(data = train, x = \"temp\", y =\"atemp_encode\")\n",
    "sns.lmplot(data = test, x = \"temp\", y =\"atemp_encode\")"
   ]
  },
  {
   "cell_type": "markdown",
   "metadata": {},
   "source": [
    "# 데이터전처리(날짜 구분)"
   ]
  },
  {
   "cell_type": "code",
   "execution_count": 9,
   "metadata": {},
   "outputs": [
    {
     "data": {
      "text/html": [
       "<div>\n",
       "<style scoped>\n",
       "    .dataframe tbody tr th:only-of-type {\n",
       "        vertical-align: middle;\n",
       "    }\n",
       "\n",
       "    .dataframe tbody tr th {\n",
       "        vertical-align: top;\n",
       "    }\n",
       "\n",
       "    .dataframe thead th {\n",
       "        text-align: right;\n",
       "    }\n",
       "</style>\n",
       "<table border=\"1\" class=\"dataframe\">\n",
       "  <thead>\n",
       "    <tr style=\"text-align: right;\">\n",
       "      <th></th>\n",
       "      <th>datetime</th>\n",
       "      <th>season</th>\n",
       "      <th>holiday</th>\n",
       "      <th>workingday</th>\n",
       "      <th>weather</th>\n",
       "      <th>temp</th>\n",
       "      <th>atemp</th>\n",
       "      <th>humidity</th>\n",
       "      <th>windspeed</th>\n",
       "      <th>windspeed_encode</th>\n",
       "      <th>atemp_gap</th>\n",
       "      <th>atemp_encode</th>\n",
       "      <th>atemp_gap2</th>\n",
       "      <th>year</th>\n",
       "      <th>month</th>\n",
       "      <th>hour</th>\n",
       "      <th>minute</th>\n",
       "    </tr>\n",
       "  </thead>\n",
       "  <tbody>\n",
       "    <tr>\n",
       "      <th>0</th>\n",
       "      <td>2011-01-20 00:00:00</td>\n",
       "      <td>1</td>\n",
       "      <td>0</td>\n",
       "      <td>1</td>\n",
       "      <td>1</td>\n",
       "      <td>10.66</td>\n",
       "      <td>11.365</td>\n",
       "      <td>56</td>\n",
       "      <td>26.0027</td>\n",
       "      <td>10.66</td>\n",
       "      <td>0.705</td>\n",
       "      <td>11.365</td>\n",
       "      <td>0.705</td>\n",
       "      <td>2011</td>\n",
       "      <td>1</td>\n",
       "      <td>0</td>\n",
       "      <td>0</td>\n",
       "    </tr>\n",
       "    <tr>\n",
       "      <th>1</th>\n",
       "      <td>2011-01-20 01:00:00</td>\n",
       "      <td>1</td>\n",
       "      <td>0</td>\n",
       "      <td>1</td>\n",
       "      <td>1</td>\n",
       "      <td>10.66</td>\n",
       "      <td>13.635</td>\n",
       "      <td>56</td>\n",
       "      <td>0.0000</td>\n",
       "      <td>10.66</td>\n",
       "      <td>2.975</td>\n",
       "      <td>13.635</td>\n",
       "      <td>2.975</td>\n",
       "      <td>2011</td>\n",
       "      <td>1</td>\n",
       "      <td>1</td>\n",
       "      <td>0</td>\n",
       "    </tr>\n",
       "    <tr>\n",
       "      <th>2</th>\n",
       "      <td>2011-01-20 02:00:00</td>\n",
       "      <td>1</td>\n",
       "      <td>0</td>\n",
       "      <td>1</td>\n",
       "      <td>1</td>\n",
       "      <td>10.66</td>\n",
       "      <td>13.635</td>\n",
       "      <td>56</td>\n",
       "      <td>0.0000</td>\n",
       "      <td>10.66</td>\n",
       "      <td>2.975</td>\n",
       "      <td>13.635</td>\n",
       "      <td>2.975</td>\n",
       "      <td>2011</td>\n",
       "      <td>1</td>\n",
       "      <td>2</td>\n",
       "      <td>0</td>\n",
       "    </tr>\n",
       "    <tr>\n",
       "      <th>3</th>\n",
       "      <td>2011-01-20 03:00:00</td>\n",
       "      <td>1</td>\n",
       "      <td>0</td>\n",
       "      <td>1</td>\n",
       "      <td>1</td>\n",
       "      <td>10.66</td>\n",
       "      <td>12.880</td>\n",
       "      <td>56</td>\n",
       "      <td>11.0014</td>\n",
       "      <td>10.66</td>\n",
       "      <td>2.220</td>\n",
       "      <td>12.880</td>\n",
       "      <td>2.220</td>\n",
       "      <td>2011</td>\n",
       "      <td>1</td>\n",
       "      <td>3</td>\n",
       "      <td>0</td>\n",
       "    </tr>\n",
       "    <tr>\n",
       "      <th>4</th>\n",
       "      <td>2011-01-20 04:00:00</td>\n",
       "      <td>1</td>\n",
       "      <td>0</td>\n",
       "      <td>1</td>\n",
       "      <td>1</td>\n",
       "      <td>10.66</td>\n",
       "      <td>12.880</td>\n",
       "      <td>56</td>\n",
       "      <td>11.0014</td>\n",
       "      <td>10.66</td>\n",
       "      <td>2.220</td>\n",
       "      <td>12.880</td>\n",
       "      <td>2.220</td>\n",
       "      <td>2011</td>\n",
       "      <td>1</td>\n",
       "      <td>4</td>\n",
       "      <td>0</td>\n",
       "    </tr>\n",
       "  </tbody>\n",
       "</table>\n",
       "</div>"
      ],
      "text/plain": [
       "             datetime  season  holiday  workingday  weather   temp   atemp  \\\n",
       "0 2011-01-20 00:00:00       1        0           1        1  10.66  11.365   \n",
       "1 2011-01-20 01:00:00       1        0           1        1  10.66  13.635   \n",
       "2 2011-01-20 02:00:00       1        0           1        1  10.66  13.635   \n",
       "3 2011-01-20 03:00:00       1        0           1        1  10.66  12.880   \n",
       "4 2011-01-20 04:00:00       1        0           1        1  10.66  12.880   \n",
       "\n",
       "   humidity  windspeed  windspeed_encode  atemp_gap  atemp_encode  atemp_gap2  \\\n",
       "0        56    26.0027             10.66      0.705        11.365       0.705   \n",
       "1        56     0.0000             10.66      2.975        13.635       2.975   \n",
       "2        56     0.0000             10.66      2.975        13.635       2.975   \n",
       "3        56    11.0014             10.66      2.220        12.880       2.220   \n",
       "4        56    11.0014             10.66      2.220        12.880       2.220   \n",
       "\n",
       "   year  month  hour  minute  \n",
       "0  2011      1     0       0  \n",
       "1  2011      1     1       0  \n",
       "2  2011      1     2       0  \n",
       "3  2011      1     3       0  \n",
       "4  2011      1     4       0  "
      ]
     },
     "execution_count": 9,
     "metadata": {},
     "output_type": "execute_result"
    }
   ],
   "source": [
    "# train \n",
    "\n",
    "train[\"year\"] = train[\"datetime\"].dt.year\n",
    "train[\"month\"] = train[\"datetime\"].dt.month\n",
    "train[\"hour\"] = train[\"datetime\"].dt.hour\n",
    "train[\"minute\"] = train[\"datetime\"].dt.minute\n",
    "\n",
    "train.shape\n",
    "train.head()\n",
    "\n",
    "# test\n",
    "\n",
    "test[\"year\"] = test[\"datetime\"].dt.year\n",
    "test[\"month\"] = test[\"datetime\"].dt.month\n",
    "test[\"hour\"] = test[\"datetime\"].dt.hour\n",
    "test[\"minute\"] = test[\"datetime\"].dt.minute\n",
    "\n",
    "test.shape\n",
    "test.head()"
   ]
  },
  {
   "cell_type": "code",
   "execution_count": null,
   "metadata": {},
   "outputs": [],
   "source": []
  },
  {
   "cell_type": "code",
   "execution_count": null,
   "metadata": {},
   "outputs": [],
   "source": []
  },
  {
   "cell_type": "markdown",
   "metadata": {},
   "source": [
    "# 데이터 전처리(NaN) - 진단"
   ]
  },
  {
   "cell_type": "code",
   "execution_count": 10,
   "metadata": {},
   "outputs": [
    {
     "name": "stdout",
     "output_type": "stream",
     "text": [
      "            season      holiday   workingday      weather         temp  \\\n",
      "count  6493.000000  6493.000000  6493.000000  6493.000000  6493.000000   \n",
      "mean      2.493300     0.029108     0.685815     1.436778    20.620607   \n",
      "std       1.091258     0.168123     0.464226     0.648390     8.059583   \n",
      "min       1.000000     0.000000     0.000000     1.000000     0.820000   \n",
      "25%       2.000000     0.000000     0.000000     1.000000    13.940000   \n",
      "50%       3.000000     0.000000     1.000000     1.000000    21.320000   \n",
      "75%       3.000000     0.000000     1.000000     2.000000    27.060000   \n",
      "max       4.000000     1.000000     1.000000     4.000000    40.180000   \n",
      "\n",
      "             atemp     humidity    windspeed  windspeed_encode    atemp_gap  \\\n",
      "count  6493.000000  6493.000000  6493.000000       6493.000000  6493.000000   \n",
      "mean     24.012865    64.125212    12.631157         20.620607     3.392258   \n",
      "std       8.782741    19.293391     8.250151          8.059583     1.290172   \n",
      "min       0.000000    16.000000     0.000000          0.820000    -1.640000   \n",
      "25%      16.665000    49.000000     7.001500         13.940000     2.655000   \n",
      "50%      25.000000    65.000000    11.001400         21.320000     3.680000   \n",
      "75%      31.060000    81.000000    16.997900         27.060000     4.055000   \n",
      "max      50.000000   100.000000    55.998600         40.180000    11.075000   \n",
      "\n",
      "       atemp_encode   atemp_gap2         year        month         hour  \\\n",
      "count   6493.000000  6493.000000  6493.000000  6493.000000  6493.000000   \n",
      "mean      24.012865     3.392258  2011.503619     6.565070    11.555367   \n",
      "std        8.782741     1.290172     0.500025     3.429462     6.912526   \n",
      "min        0.000000    -1.640000  2011.000000     1.000000     0.000000   \n",
      "25%       16.665000     2.655000  2011.000000     4.000000     6.000000   \n",
      "50%       25.000000     3.680000  2012.000000     7.000000    12.000000   \n",
      "75%       31.060000     4.055000  2012.000000    10.000000    18.000000   \n",
      "max       50.000000    11.075000  2012.000000    12.000000    23.000000   \n",
      "\n",
      "       minute  \n",
      "count  6493.0  \n",
      "mean      0.0  \n",
      "std       0.0  \n",
      "min       0.0  \n",
      "25%       0.0  \n",
      "50%       0.0  \n",
      "75%       0.0  \n",
      "max       0.0  \n"
     ]
    },
    {
     "data": {
      "text/plain": [
       "Index(['datetime', 'season', 'holiday', 'workingday', 'weather', 'temp',\n",
       "       'atemp', 'humidity', 'windspeed', 'windspeed_encode', 'atemp_gap',\n",
       "       'atemp_encode', 'atemp_gap2', 'year', 'month', 'hour', 'minute'],\n",
       "      dtype='object')"
      ]
     },
     "execution_count": 10,
     "metadata": {},
     "output_type": "execute_result"
    }
   ],
   "source": [
    "# 정량\n",
    "\n",
    "train.describe()\n",
    "# 없음\n",
    "print (test.describe())\n",
    "# 없음\n",
    "\n",
    "train.columns\n",
    "# datetime, casual, registerd, count\n",
    "\n",
    "test.columns\n",
    "\n",
    "#train[[\"datetime\", \"casual\", \"registerd\", \"count\"]].describe()\n",
    "#test[[\"datetime\", \"casual\", \"count\"]].describe()"
   ]
  },
  {
   "cell_type": "code",
   "execution_count": 11,
   "metadata": {},
   "outputs": [
    {
     "data": {
      "text/plain": [
       "RandomForestRegressor(bootstrap=True, criterion='mse', max_depth=None,\n",
       "           max_features='auto', max_leaf_nodes=None,\n",
       "           min_impurity_decrease=0.0, min_impurity_split=None,\n",
       "           min_samples_leaf=1, min_samples_split=2,\n",
       "           min_weight_fraction_leaf=0.0, n_estimators=10, n_jobs=1,\n",
       "           oob_score=False, random_state=79, verbose=0, warm_start=False)"
      ]
     },
     "execution_count": 11,
     "metadata": {},
     "output_type": "execute_result"
    }
   ],
   "source": [
    "from sklearn.tree import DecisionTreeClassifier\n",
    "from sklearn.tree import DecisionTreeRegressor\n",
    "from sklearn.ensemble import RandomForestRegressor\n",
    "\n",
    "# model = DecisionTreeClassifier(max_depth = 8, random_state = 0)\n",
    "# model = DecisionTreeClassifier()\n",
    "# model = DecisionTreeRegressor(random_state = 79)\n",
    "\n",
    "model = RandomForestRegressor(random_state = 79)\n",
    "model"
   ]
  },
  {
   "cell_type": "code",
   "execution_count": 12,
   "metadata": {},
   "outputs": [
    {
     "name": "stdout",
     "output_type": "stream",
     "text": [
      "(10886, 12)\n"
     ]
    },
    {
     "data": {
      "text/plain": [
       "Index(['datetime', 'season', 'holiday', 'workingday', 'weather', 'temp',\n",
       "       'atemp', 'humidity', 'windspeed', 'windspeed_encode', 'atemp_gap',\n",
       "       'atemp_encode', 'atemp_gap2', 'year', 'month', 'hour', 'minute'],\n",
       "      dtype='object')"
      ]
     },
     "execution_count": 12,
     "metadata": {},
     "output_type": "execute_result"
    }
   ],
   "source": [
    "feature_names = ['season', 'holiday', 'workingday', 'weather', 'temp',\n",
    "       'atemp_encode', 'humidity', 'windspeed_encode', 'year', 'month', 'hour', 'minute']\n",
    "        # windspeed => windspeed_encode\n",
    "\n",
    "feature_names4 = ['season', 'holiday', 'workingday', 'weather', 'temp',\n",
    "       'atemp_encode', 'humidity', 'windspeed', 'year', 'month', 'hour', 'minute']\n",
    "        # atemp => atemp_encode\n",
    "\n",
    "feature_names3 = ['season', 'holiday', 'workingday', 'weather', 'temp',\n",
    "       'atemp', 'humidity', 'windspeed', 'year', 'month', 'hour', 'minute']\n",
    "        # datetime 처리\n",
    "    \n",
    "feature_names2 = ['season', 'holiday', 'workingday', 'weather', 'temp',\n",
    "       'atemp', 'humidity', 'windspeed']\n",
    "\n",
    "feature_names1 = ['datetime', 'season', 'holiday', 'workingday', 'weather', 'temp',\n",
    "       'atemp', 'humidity', 'windspeed'] # datetime 에러\n",
    "\n",
    "\n",
    "lable_name = \"casual\"\n",
    "lable_name2 = \"registered\"\n",
    "\n",
    "\n",
    "X_train = train[feature_names]\n",
    "X_test = test[feature_names]\n",
    "y_train = train[lable_name]\n",
    "\n",
    "\n",
    "print(X_train.shape)\n",
    "\n",
    "test.columns\n"
   ]
  },
  {
   "cell_type": "markdown",
   "metadata": {},
   "source": [
    "# Model Evaluation - Cross Val."
   ]
  },
  {
   "cell_type": "code",
   "execution_count": 13,
   "metadata": {},
   "outputs": [
    {
     "name": "stdout",
     "output_type": "stream",
     "text": [
      "(10886,)\n"
     ]
    },
    {
     "data": {
      "text/plain": [
       "array([ 6.6,  6.2,  4.9, ..., 12.3, 14. , 13.2])"
      ]
     },
     "execution_count": 13,
     "metadata": {},
     "output_type": "execute_result"
    }
   ],
   "source": [
    "from sklearn.model_selection import cross_val_predict\n",
    "\n",
    "y_predict = cross_val_predict(model, X_train, y_train, cv = 20)\n",
    "\n",
    "# train 데이터 내에서 대여량 예측값이 나옴\n",
    "\n",
    "print(y_predict.shape)\n",
    "y_predict"
   ]
  },
  {
   "cell_type": "code",
   "execution_count": null,
   "metadata": {},
   "outputs": [],
   "source": []
  },
  {
   "cell_type": "markdown",
   "metadata": {},
   "source": [
    "# Evalution Metric - Mean Absolute Error"
   ]
  },
  {
   "cell_type": "code",
   "execution_count": 14,
   "metadata": {},
   "outputs": [
    {
     "name": "stdout",
     "output_type": "stream",
     "text": [
      "Score = 12.500712361005435\n",
      "Score = 12.50071\n",
      "Score = 12.50071\n"
     ]
    }
   ],
   "source": [
    "score = np.abs(y_predict - y_train).mean()\n",
    "score\n",
    "\n",
    "print(f\"Score = {score}\") # 신버전 파이썬만\n",
    "print(f\"Score = {score:.5f}\") # 소수점 5짜리까지\n",
    "print(\"Score = {:.5f}\".format(score)) # 구버전인 경우.. 추천하지는 않음\n",
    "\n",
    "# 할 때마다 점수가 다를 수도 있는데, \n",
    "# 이는 degression의 prediction을 random을 고정시키는 게 좋다."
   ]
  },
  {
   "cell_type": "code",
   "execution_count": null,
   "metadata": {},
   "outputs": [],
   "source": []
  },
  {
   "cell_type": "markdown",
   "metadata": {},
   "source": [
    "## 기존 Score: 129\n",
    "## 날짜 세분화: 34\n",
    "## atemp 보정: 34\n",
    "- 이는 train에는 있는데, test 데이터에 atemp 이상값이 없기 때문\n",
    "\n",
    "## windspeed 보정: 34\n",
    "\n",
    "## 비회원(12), 회원(26)"
   ]
  },
  {
   "cell_type": "code",
   "execution_count": 15,
   "metadata": {},
   "outputs": [
    {
     "data": {
      "text/plain": [
       "RandomForestRegressor(bootstrap=True, criterion='mse', max_depth=None,\n",
       "           max_features='auto', max_leaf_nodes=None,\n",
       "           min_impurity_decrease=0.0, min_impurity_split=None,\n",
       "           min_samples_leaf=1, min_samples_split=2,\n",
       "           min_weight_fraction_leaf=0.0, n_estimators=10, n_jobs=1,\n",
       "           oob_score=False, random_state=79, verbose=0, warm_start=False)"
      ]
     },
     "execution_count": 15,
     "metadata": {},
     "output_type": "execute_result"
    }
   ],
   "source": [
    "model.fit(X_train, y_train)"
   ]
  },
  {
   "cell_type": "markdown",
   "metadata": {},
   "source": [
    "# Feature selection & Accuracy"
   ]
  },
  {
   "cell_type": "code",
   "execution_count": 16,
   "metadata": {},
   "outputs": [
    {
     "name": "stdout",
     "output_type": "stream",
     "text": [
      "[('season', 0.008222976137928805), ('holiday', 0.006244533860558495), ('workingday', 0.1796104797896843), ('weather', 0.00578129278026545), ('temp', 0.04331309126980312), ('atemp_encode', 0.2566183317124947), ('humidity', 0.06578896750535346), ('windspeed_encode', 0.023459814437824987), ('year', 0.03481012767664651), ('month', 0.02468602375389825), ('hour', 0.3514643610755419), ('minute', 0.0)]\n",
      "Train Set Accuracy =  0.9812799000139595\n"
     ]
    }
   ],
   "source": [
    "print(list(zip(feature_names, model.feature_importances_))) # fit한 다음에 사용해야 함\n",
    "print(\"Train Set Accuracy = \", model.score(X_train, y_train))"
   ]
  },
  {
   "cell_type": "markdown",
   "metadata": {},
   "source": [
    "# Graphviz"
   ]
  },
  {
   "cell_type": "code",
   "execution_count": 17,
   "metadata": {},
   "outputs": [
    {
     "data": {
      "text/plain": [
       "'\\nimport graphviz\\nfrom sklearn.tree import export_graphviz\\n\\ndot_tree = export_graphviz(model,\\n                          feature_names = feature_names,\\n                          class_names = [\"Non-Rent\", \"Rent\"],\\n                          out_file = None)\\n\\ngraphviz.Source(dot_tree)\\n'"
      ]
     },
     "execution_count": 17,
     "metadata": {},
     "output_type": "execute_result"
    }
   ],
   "source": [
    "'''\n",
    "import graphviz\n",
    "from sklearn.tree import export_graphviz\n",
    "\n",
    "dot_tree = export_graphviz(model,\n",
    "                          feature_names = feature_names,\n",
    "                          class_names = [\"Non-Rent\", \"Rent\"],\n",
    "                          out_file = None)\n",
    "\n",
    "graphviz.Source(dot_tree)\n",
    "'''"
   ]
  },
  {
   "cell_type": "markdown",
   "metadata": {},
   "source": [
    "# Predict"
   ]
  },
  {
   "cell_type": "code",
   "execution_count": 18,
   "metadata": {},
   "outputs": [
    {
     "name": "stdout",
     "output_type": "stream",
     "text": [
      "(6493,)\n",
      "(6493, 17)\n"
     ]
    }
   ],
   "source": [
    "predictions = model.predict(X_test)\n",
    "\n",
    "print(predictions.shape)\n",
    "\n",
    "print(test.shape)"
   ]
  },
  {
   "cell_type": "markdown",
   "metadata": {},
   "source": [
    "# Submit"
   ]
  },
  {
   "cell_type": "code",
   "execution_count": 19,
   "metadata": {},
   "outputs": [
    {
     "name": "stdout",
     "output_type": "stream",
     "text": [
      "(6493, 3)\n"
     ]
    },
    {
     "data": {
      "text/html": [
       "<div>\n",
       "<style scoped>\n",
       "    .dataframe tbody tr th:only-of-type {\n",
       "        vertical-align: middle;\n",
       "    }\n",
       "\n",
       "    .dataframe tbody tr th {\n",
       "        vertical-align: top;\n",
       "    }\n",
       "\n",
       "    .dataframe thead th {\n",
       "        text-align: right;\n",
       "    }\n",
       "</style>\n",
       "<table border=\"1\" class=\"dataframe\">\n",
       "  <thead>\n",
       "    <tr style=\"text-align: right;\">\n",
       "      <th></th>\n",
       "      <th>datetime</th>\n",
       "      <th>count</th>\n",
       "      <th>casual</th>\n",
       "    </tr>\n",
       "  </thead>\n",
       "  <tbody>\n",
       "    <tr>\n",
       "      <th>0</th>\n",
       "      <td>2011-01-20 00:00:00</td>\n",
       "      <td>0</td>\n",
       "      <td>2.6</td>\n",
       "    </tr>\n",
       "    <tr>\n",
       "      <th>1</th>\n",
       "      <td>2011-01-20 01:00:00</td>\n",
       "      <td>0</td>\n",
       "      <td>1.4</td>\n",
       "    </tr>\n",
       "    <tr>\n",
       "      <th>2</th>\n",
       "      <td>2011-01-20 02:00:00</td>\n",
       "      <td>0</td>\n",
       "      <td>0.5</td>\n",
       "    </tr>\n",
       "    <tr>\n",
       "      <th>3</th>\n",
       "      <td>2011-01-20 03:00:00</td>\n",
       "      <td>0</td>\n",
       "      <td>0.0</td>\n",
       "    </tr>\n",
       "    <tr>\n",
       "      <th>4</th>\n",
       "      <td>2011-01-20 04:00:00</td>\n",
       "      <td>0</td>\n",
       "      <td>0.0</td>\n",
       "    </tr>\n",
       "  </tbody>\n",
       "</table>\n",
       "</div>"
      ],
      "text/plain": [
       "              datetime  count  casual\n",
       "0  2011-01-20 00:00:00      0     2.6\n",
       "1  2011-01-20 01:00:00      0     1.4\n",
       "2  2011-01-20 02:00:00      0     0.5\n",
       "3  2011-01-20 03:00:00      0     0.0\n",
       "4  2011-01-20 04:00:00      0     0.0"
      ]
     },
     "execution_count": 19,
     "metadata": {},
     "output_type": "execute_result"
    }
   ],
   "source": [
    "submission = pd.read_csv(\"data/bike/sampleSubmission.csv\")\n",
    "\n",
    "submission[\"casual\"] = predictions\n",
    "\n",
    "print(submission.shape)\n",
    "submission.head()"
   ]
  },
  {
   "cell_type": "markdown",
   "metadata": {},
   "source": [
    "# 회원 예측"
   ]
  },
  {
   "cell_type": "code",
   "execution_count": 20,
   "metadata": {},
   "outputs": [
    {
     "name": "stdout",
     "output_type": "stream",
     "text": [
      "(10886,)\n",
      "Score = 26.61768140381274\n",
      "Score = 26.61768\n",
      "Score = 26.61768\n"
     ]
    },
    {
     "data": {
      "text/plain": [
       "RandomForestRegressor(bootstrap=True, criterion='mse', max_depth=None,\n",
       "           max_features='auto', max_leaf_nodes=None,\n",
       "           min_impurity_decrease=0.0, min_impurity_split=None,\n",
       "           min_samples_leaf=1, min_samples_split=2,\n",
       "           min_weight_fraction_leaf=0.0, n_estimators=10, n_jobs=1,\n",
       "           oob_score=False, random_state=79, verbose=0, warm_start=False)"
      ]
     },
     "execution_count": 20,
     "metadata": {},
     "output_type": "execute_result"
    }
   ],
   "source": [
    "y_train2 = train[lable_name2]\n",
    "y_predict2 = cross_val_predict(model, X_train, y_train2, cv = 20)\n",
    "\n",
    "# train 데이터 내에서 대여량 예측값이 나옴\n",
    "\n",
    "print(y_predict.shape)\n",
    "y_predict\n",
    "\n",
    "score = np.abs(y_predict2 - y_train2).mean()\n",
    "score\n",
    "\n",
    "print(f\"Score = {score}\") # 신버전 파이썬만\n",
    "print(f\"Score = {score:.5f}\") # 소수점 5짜리까지\n",
    "print(\"Score = {:.5f}\".format(score)) # 구버전인 경우.. 추천하지는 않음\n",
    "\n",
    "# 할 때마다 점수가 다를 수도 있는데, \n",
    "# 이는 degression의 prediction을 random을 고정시키는 게 좋다.\n",
    "\n",
    "model.fit(X_train, y_train2)"
   ]
  },
  {
   "cell_type": "code",
   "execution_count": null,
   "metadata": {},
   "outputs": [],
   "source": []
  },
  {
   "cell_type": "code",
   "execution_count": 21,
   "metadata": {},
   "outputs": [
    {
     "name": "stdout",
     "output_type": "stream",
     "text": [
      "(6493, 2)\n"
     ]
    },
    {
     "data": {
      "text/html": [
       "<div>\n",
       "<style scoped>\n",
       "    .dataframe tbody tr th:only-of-type {\n",
       "        vertical-align: middle;\n",
       "    }\n",
       "\n",
       "    .dataframe tbody tr th {\n",
       "        vertical-align: top;\n",
       "    }\n",
       "\n",
       "    .dataframe thead th {\n",
       "        text-align: right;\n",
       "    }\n",
       "</style>\n",
       "<table border=\"1\" class=\"dataframe\">\n",
       "  <thead>\n",
       "    <tr style=\"text-align: right;\">\n",
       "      <th></th>\n",
       "      <th>datetime</th>\n",
       "      <th>count</th>\n",
       "    </tr>\n",
       "  </thead>\n",
       "  <tbody>\n",
       "    <tr>\n",
       "      <th>0</th>\n",
       "      <td>2011-01-20 00:00:00</td>\n",
       "      <td>5.2</td>\n",
       "    </tr>\n",
       "    <tr>\n",
       "      <th>1</th>\n",
       "      <td>2011-01-20 01:00:00</td>\n",
       "      <td>2.8</td>\n",
       "    </tr>\n",
       "    <tr>\n",
       "      <th>2</th>\n",
       "      <td>2011-01-20 02:00:00</td>\n",
       "      <td>1.0</td>\n",
       "    </tr>\n",
       "    <tr>\n",
       "      <th>3</th>\n",
       "      <td>2011-01-20 03:00:00</td>\n",
       "      <td>0.0</td>\n",
       "    </tr>\n",
       "    <tr>\n",
       "      <th>4</th>\n",
       "      <td>2011-01-20 04:00:00</td>\n",
       "      <td>0.0</td>\n",
       "    </tr>\n",
       "  </tbody>\n",
       "</table>\n",
       "</div>"
      ],
      "text/plain": [
       "              datetime  count\n",
       "0  2011-01-20 00:00:00    5.2\n",
       "1  2011-01-20 01:00:00    2.8\n",
       "2  2011-01-20 02:00:00    1.0\n",
       "3  2011-01-20 03:00:00    0.0\n",
       "4  2011-01-20 04:00:00    0.0"
      ]
     },
     "execution_count": 21,
     "metadata": {},
     "output_type": "execute_result"
    }
   ],
   "source": [
    "submission[\"registered\"] = predictions\n",
    "\n",
    "submission[\"count\"] = submission[\"casual\"] + submission[\"registered\"]\n",
    "\n",
    "submission = submission[[\"datetime\",\"count\"]]\n",
    "\n",
    "print(submission.shape)\n",
    "submission.head()"
   ]
  },
  {
   "cell_type": "code",
   "execution_count": 22,
   "metadata": {},
   "outputs": [],
   "source": [
    "submission.to_csv(\"data/bike/bike_predictions_20180902_final.csv\", index = False)\n",
    "# index가 자동으로 들어가는데, 이것을 빼고 싶으면 index False를 지정해주면 됨"
   ]
  },
  {
   "cell_type": "markdown",
   "metadata": {},
   "source": [
    "# Kaggle Score"
   ]
  },
  {
   "cell_type": "markdown",
   "metadata": {},
   "source": [
    "- 0에 가까워야 좋은 점수. 1위는 0.3점대\n",
    "\n",
    "- 점수 1.70229 (DecisionTreeClassifier)\n",
    "\n",
    "- 점수 1.62 (DecisionTreeRegression)\n",
    "\n",
    "- 점수 1.38 (RandomForest)\n",
    "\n",
    "- 점수 0.48 (datetime을 세분화)\n",
    "\n",
    "- 점수 0.48 (windspeed 0 --> 주위 평균치)\n",
    "\n",
    "\n",
    "- 0.4 중반대 정도를 목표로 함\n",
    "\n",
    "## 정석 Tip\n",
    "\n",
    "### (1) 코드 안짜는 시기 (2일~7일)... 데이터를 완벽하게 이해하기까지\n",
    "- (e.g. 엑셀, 시각화 등)\n",
    "- 0이라고 되어 있는데, 실제로는 NaN인 경우가 있음 (예. windspeed)\n",
    "- lmplot으로 상관관계있는 변수들을 보완해주면 (예. temp, atemp)\n",
    "\n",
    "### (2) Kernel과 Discussion을 적극적으로 참고해서 한다\n",
    "- 기업에서 일하는 경우에는 더더욱 그렇다\n",
    "- 비슷한 캐글 2~3개 사례를 참고하는 것\n",
    "\n",
    "## 속성 Tip\n",
    "\n",
    "### (1) datetime을 처리하면 parse로..\n",
    "\n",
    "### (2) 피처에 넣으면, 오히려 역효과 나는 피처가 있음. 그건 빼줘야\n",
    "- CV가 안좋아졌는데, 실제로는 좋아지는 경우도, 반대도 있음\n",
    "\n",
    "### (3) 원핫인코딩 (Embarked처럼)\n",
    "\n",
    "\n",
    "\n",
    "\n",
    "## MY\n",
    "- cross val 잘 나눠주는게 좋음\n"
   ]
  },
  {
   "cell_type": "code",
   "execution_count": null,
   "metadata": {},
   "outputs": [],
   "source": []
  },
  {
   "cell_type": "code",
   "execution_count": null,
   "metadata": {},
   "outputs": [],
   "source": []
  },
  {
   "cell_type": "code",
   "execution_count": null,
   "metadata": {},
   "outputs": [],
   "source": []
  }
 ],
 "metadata": {
  "kernelspec": {
   "display_name": "Python 3",
   "language": "python",
   "name": "python3"
  },
  "language_info": {
   "codemirror_mode": {
    "name": "ipython",
    "version": 3
   },
   "file_extension": ".py",
   "mimetype": "text/x-python",
   "name": "python",
   "nbconvert_exporter": "python",
   "pygments_lexer": "ipython3",
   "version": "3.6.5"
  }
 },
 "nbformat": 4,
 "nbformat_minor": 2
}
