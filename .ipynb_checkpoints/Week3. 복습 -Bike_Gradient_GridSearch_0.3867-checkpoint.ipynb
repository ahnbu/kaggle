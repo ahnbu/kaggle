{
 "cells": [
  {
   "cell_type": "code",
   "execution_count": 1,
   "metadata": {},
   "outputs": [
    {
     "name": "stdout",
     "output_type": "stream",
     "text": [
      "테스트\n"
     ]
    }
   ],
   "source": [
    "print(\"테스트\")"
   ]
  },
  {
   "cell_type": "markdown",
   "metadata": {},
   "source": [
    "# 데이터, 패키지 로딩"
   ]
  },
  {
   "cell_type": "code",
   "execution_count": 2,
   "metadata": {},
   "outputs": [],
   "source": [
    "import pandas as pd\n",
    "import numpy as np\n",
    "\n",
    "# 시각화\n",
    "import seaborn as sns\n",
    "import matplotlib as mpl\n",
    "import matplotlib.pyplot as plt\n",
    "\n",
    "%matplotlib inline"
   ]
  },
  {
   "cell_type": "code",
   "execution_count": 3,
   "metadata": {},
   "outputs": [
    {
     "name": "stdout",
     "output_type": "stream",
     "text": [
      "(10886, 12) (6493, 9)\n",
      "<class 'pandas.core.frame.DataFrame'>\n",
      "RangeIndex: 10886 entries, 0 to 10885\n",
      "Data columns (total 12 columns):\n",
      "datetime      10886 non-null datetime64[ns]\n",
      "season        10886 non-null int64\n",
      "holiday       10886 non-null int64\n",
      "workingday    10886 non-null int64\n",
      "weather       10886 non-null int64\n",
      "temp          10886 non-null float64\n",
      "atemp         10886 non-null float64\n",
      "humidity      10886 non-null int64\n",
      "windspeed     10886 non-null float64\n",
      "casual        10886 non-null int64\n",
      "registered    10886 non-null int64\n",
      "count         10886 non-null int64\n",
      "dtypes: datetime64[ns](1), float64(3), int64(8)\n",
      "memory usage: 1020.6 KB\n",
      "<class 'pandas.core.frame.DataFrame'>\n",
      "RangeIndex: 6493 entries, 0 to 6492\n",
      "Data columns (total 9 columns):\n",
      "datetime      6493 non-null datetime64[ns]\n",
      "season        6493 non-null int64\n",
      "holiday       6493 non-null int64\n",
      "workingday    6493 non-null int64\n",
      "weather       6493 non-null int64\n",
      "temp          6493 non-null float64\n",
      "atemp         6493 non-null float64\n",
      "humidity      6493 non-null int64\n",
      "windspeed     6493 non-null float64\n",
      "dtypes: datetime64[ns](1), float64(3), int64(5)\n",
      "memory usage: 456.6 KB\n",
      "None None\n"
     ]
    }
   ],
   "source": [
    "train = pd.read_csv(\"data/bike/train.csv\", parse_dates = [\"datetime\"])\n",
    "test = pd.read_csv(\"data/bike/test.csv\", parse_dates = [\"datetime\"])\n",
    "\n",
    "print(train.shape, test.shape)\n",
    "print(train.info(), test.info())"
   ]
  },
  {
   "cell_type": "markdown",
   "metadata": {},
   "source": [
    "# 데이터 전처리"
   ]
  },
  {
   "cell_type": "markdown",
   "metadata": {},
   "source": [
    "## (1) NaN체크 (없음)"
   ]
  },
  {
   "cell_type": "code",
   "execution_count": 4,
   "metadata": {},
   "outputs": [
    {
     "data": {
      "text/html": [
       "<div>\n",
       "<style scoped>\n",
       "    .dataframe tbody tr th:only-of-type {\n",
       "        vertical-align: middle;\n",
       "    }\n",
       "\n",
       "    .dataframe tbody tr th {\n",
       "        vertical-align: top;\n",
       "    }\n",
       "\n",
       "    .dataframe thead th {\n",
       "        text-align: right;\n",
       "    }\n",
       "</style>\n",
       "<table border=\"1\" class=\"dataframe\">\n",
       "  <thead>\n",
       "    <tr style=\"text-align: right;\">\n",
       "      <th></th>\n",
       "      <th>season</th>\n",
       "      <th>holiday</th>\n",
       "      <th>workingday</th>\n",
       "      <th>weather</th>\n",
       "      <th>temp</th>\n",
       "      <th>atemp</th>\n",
       "      <th>humidity</th>\n",
       "      <th>windspeed</th>\n",
       "      <th>casual</th>\n",
       "      <th>registered</th>\n",
       "      <th>count</th>\n",
       "    </tr>\n",
       "  </thead>\n",
       "  <tbody>\n",
       "    <tr>\n",
       "      <th>count</th>\n",
       "      <td>10886.000000</td>\n",
       "      <td>10886.000000</td>\n",
       "      <td>10886.000000</td>\n",
       "      <td>10886.000000</td>\n",
       "      <td>10886.00000</td>\n",
       "      <td>10886.000000</td>\n",
       "      <td>10886.000000</td>\n",
       "      <td>10886.000000</td>\n",
       "      <td>10886.000000</td>\n",
       "      <td>10886.000000</td>\n",
       "      <td>10886.000000</td>\n",
       "    </tr>\n",
       "    <tr>\n",
       "      <th>mean</th>\n",
       "      <td>2.506614</td>\n",
       "      <td>0.028569</td>\n",
       "      <td>0.680875</td>\n",
       "      <td>1.418427</td>\n",
       "      <td>20.23086</td>\n",
       "      <td>23.655084</td>\n",
       "      <td>61.886460</td>\n",
       "      <td>12.799395</td>\n",
       "      <td>36.021955</td>\n",
       "      <td>155.552177</td>\n",
       "      <td>191.574132</td>\n",
       "    </tr>\n",
       "    <tr>\n",
       "      <th>std</th>\n",
       "      <td>1.116174</td>\n",
       "      <td>0.166599</td>\n",
       "      <td>0.466159</td>\n",
       "      <td>0.633839</td>\n",
       "      <td>7.79159</td>\n",
       "      <td>8.474601</td>\n",
       "      <td>19.245033</td>\n",
       "      <td>8.164537</td>\n",
       "      <td>49.960477</td>\n",
       "      <td>151.039033</td>\n",
       "      <td>181.144454</td>\n",
       "    </tr>\n",
       "    <tr>\n",
       "      <th>min</th>\n",
       "      <td>1.000000</td>\n",
       "      <td>0.000000</td>\n",
       "      <td>0.000000</td>\n",
       "      <td>1.000000</td>\n",
       "      <td>0.82000</td>\n",
       "      <td>0.760000</td>\n",
       "      <td>0.000000</td>\n",
       "      <td>0.000000</td>\n",
       "      <td>0.000000</td>\n",
       "      <td>0.000000</td>\n",
       "      <td>1.000000</td>\n",
       "    </tr>\n",
       "    <tr>\n",
       "      <th>25%</th>\n",
       "      <td>2.000000</td>\n",
       "      <td>0.000000</td>\n",
       "      <td>0.000000</td>\n",
       "      <td>1.000000</td>\n",
       "      <td>13.94000</td>\n",
       "      <td>16.665000</td>\n",
       "      <td>47.000000</td>\n",
       "      <td>7.001500</td>\n",
       "      <td>4.000000</td>\n",
       "      <td>36.000000</td>\n",
       "      <td>42.000000</td>\n",
       "    </tr>\n",
       "    <tr>\n",
       "      <th>50%</th>\n",
       "      <td>3.000000</td>\n",
       "      <td>0.000000</td>\n",
       "      <td>1.000000</td>\n",
       "      <td>1.000000</td>\n",
       "      <td>20.50000</td>\n",
       "      <td>24.240000</td>\n",
       "      <td>62.000000</td>\n",
       "      <td>12.998000</td>\n",
       "      <td>17.000000</td>\n",
       "      <td>118.000000</td>\n",
       "      <td>145.000000</td>\n",
       "    </tr>\n",
       "    <tr>\n",
       "      <th>75%</th>\n",
       "      <td>4.000000</td>\n",
       "      <td>0.000000</td>\n",
       "      <td>1.000000</td>\n",
       "      <td>2.000000</td>\n",
       "      <td>26.24000</td>\n",
       "      <td>31.060000</td>\n",
       "      <td>77.000000</td>\n",
       "      <td>16.997900</td>\n",
       "      <td>49.000000</td>\n",
       "      <td>222.000000</td>\n",
       "      <td>284.000000</td>\n",
       "    </tr>\n",
       "    <tr>\n",
       "      <th>max</th>\n",
       "      <td>4.000000</td>\n",
       "      <td>1.000000</td>\n",
       "      <td>1.000000</td>\n",
       "      <td>4.000000</td>\n",
       "      <td>41.00000</td>\n",
       "      <td>45.455000</td>\n",
       "      <td>100.000000</td>\n",
       "      <td>56.996900</td>\n",
       "      <td>367.000000</td>\n",
       "      <td>886.000000</td>\n",
       "      <td>977.000000</td>\n",
       "    </tr>\n",
       "  </tbody>\n",
       "</table>\n",
       "</div>"
      ],
      "text/plain": [
       "             season       holiday    workingday       weather         temp  \\\n",
       "count  10886.000000  10886.000000  10886.000000  10886.000000  10886.00000   \n",
       "mean       2.506614      0.028569      0.680875      1.418427     20.23086   \n",
       "std        1.116174      0.166599      0.466159      0.633839      7.79159   \n",
       "min        1.000000      0.000000      0.000000      1.000000      0.82000   \n",
       "25%        2.000000      0.000000      0.000000      1.000000     13.94000   \n",
       "50%        3.000000      0.000000      1.000000      1.000000     20.50000   \n",
       "75%        4.000000      0.000000      1.000000      2.000000     26.24000   \n",
       "max        4.000000      1.000000      1.000000      4.000000     41.00000   \n",
       "\n",
       "              atemp      humidity     windspeed        casual    registered  \\\n",
       "count  10886.000000  10886.000000  10886.000000  10886.000000  10886.000000   \n",
       "mean      23.655084     61.886460     12.799395     36.021955    155.552177   \n",
       "std        8.474601     19.245033      8.164537     49.960477    151.039033   \n",
       "min        0.760000      0.000000      0.000000      0.000000      0.000000   \n",
       "25%       16.665000     47.000000      7.001500      4.000000     36.000000   \n",
       "50%       24.240000     62.000000     12.998000     17.000000    118.000000   \n",
       "75%       31.060000     77.000000     16.997900     49.000000    222.000000   \n",
       "max       45.455000    100.000000     56.996900    367.000000    886.000000   \n",
       "\n",
       "              count  \n",
       "count  10886.000000  \n",
       "mean     191.574132  \n",
       "std      181.144454  \n",
       "min        1.000000  \n",
       "25%       42.000000  \n",
       "50%      145.000000  \n",
       "75%      284.000000  \n",
       "max      977.000000  "
      ]
     },
     "execution_count": 4,
     "metadata": {},
     "output_type": "execute_result"
    }
   ],
   "source": [
    "train[:].describe()"
   ]
  },
  {
   "cell_type": "code",
   "execution_count": 5,
   "metadata": {},
   "outputs": [
    {
     "data": {
      "text/html": [
       "<div>\n",
       "<style scoped>\n",
       "    .dataframe tbody tr th:only-of-type {\n",
       "        vertical-align: middle;\n",
       "    }\n",
       "\n",
       "    .dataframe tbody tr th {\n",
       "        vertical-align: top;\n",
       "    }\n",
       "\n",
       "    .dataframe thead th {\n",
       "        text-align: right;\n",
       "    }\n",
       "</style>\n",
       "<table border=\"1\" class=\"dataframe\">\n",
       "  <thead>\n",
       "    <tr style=\"text-align: right;\">\n",
       "      <th></th>\n",
       "      <th>season</th>\n",
       "      <th>holiday</th>\n",
       "      <th>workingday</th>\n",
       "      <th>weather</th>\n",
       "      <th>temp</th>\n",
       "      <th>atemp</th>\n",
       "      <th>humidity</th>\n",
       "      <th>windspeed</th>\n",
       "    </tr>\n",
       "  </thead>\n",
       "  <tbody>\n",
       "    <tr>\n",
       "      <th>count</th>\n",
       "      <td>6493.000000</td>\n",
       "      <td>6493.000000</td>\n",
       "      <td>6493.000000</td>\n",
       "      <td>6493.000000</td>\n",
       "      <td>6493.000000</td>\n",
       "      <td>6493.000000</td>\n",
       "      <td>6493.000000</td>\n",
       "      <td>6493.000000</td>\n",
       "    </tr>\n",
       "    <tr>\n",
       "      <th>mean</th>\n",
       "      <td>2.493300</td>\n",
       "      <td>0.029108</td>\n",
       "      <td>0.685815</td>\n",
       "      <td>1.436778</td>\n",
       "      <td>20.620607</td>\n",
       "      <td>24.012865</td>\n",
       "      <td>64.125212</td>\n",
       "      <td>12.631157</td>\n",
       "    </tr>\n",
       "    <tr>\n",
       "      <th>std</th>\n",
       "      <td>1.091258</td>\n",
       "      <td>0.168123</td>\n",
       "      <td>0.464226</td>\n",
       "      <td>0.648390</td>\n",
       "      <td>8.059583</td>\n",
       "      <td>8.782741</td>\n",
       "      <td>19.293391</td>\n",
       "      <td>8.250151</td>\n",
       "    </tr>\n",
       "    <tr>\n",
       "      <th>min</th>\n",
       "      <td>1.000000</td>\n",
       "      <td>0.000000</td>\n",
       "      <td>0.000000</td>\n",
       "      <td>1.000000</td>\n",
       "      <td>0.820000</td>\n",
       "      <td>0.000000</td>\n",
       "      <td>16.000000</td>\n",
       "      <td>0.000000</td>\n",
       "    </tr>\n",
       "    <tr>\n",
       "      <th>25%</th>\n",
       "      <td>2.000000</td>\n",
       "      <td>0.000000</td>\n",
       "      <td>0.000000</td>\n",
       "      <td>1.000000</td>\n",
       "      <td>13.940000</td>\n",
       "      <td>16.665000</td>\n",
       "      <td>49.000000</td>\n",
       "      <td>7.001500</td>\n",
       "    </tr>\n",
       "    <tr>\n",
       "      <th>50%</th>\n",
       "      <td>3.000000</td>\n",
       "      <td>0.000000</td>\n",
       "      <td>1.000000</td>\n",
       "      <td>1.000000</td>\n",
       "      <td>21.320000</td>\n",
       "      <td>25.000000</td>\n",
       "      <td>65.000000</td>\n",
       "      <td>11.001400</td>\n",
       "    </tr>\n",
       "    <tr>\n",
       "      <th>75%</th>\n",
       "      <td>3.000000</td>\n",
       "      <td>0.000000</td>\n",
       "      <td>1.000000</td>\n",
       "      <td>2.000000</td>\n",
       "      <td>27.060000</td>\n",
       "      <td>31.060000</td>\n",
       "      <td>81.000000</td>\n",
       "      <td>16.997900</td>\n",
       "    </tr>\n",
       "    <tr>\n",
       "      <th>max</th>\n",
       "      <td>4.000000</td>\n",
       "      <td>1.000000</td>\n",
       "      <td>1.000000</td>\n",
       "      <td>4.000000</td>\n",
       "      <td>40.180000</td>\n",
       "      <td>50.000000</td>\n",
       "      <td>100.000000</td>\n",
       "      <td>55.998600</td>\n",
       "    </tr>\n",
       "  </tbody>\n",
       "</table>\n",
       "</div>"
      ],
      "text/plain": [
       "            season      holiday   workingday      weather         temp  \\\n",
       "count  6493.000000  6493.000000  6493.000000  6493.000000  6493.000000   \n",
       "mean      2.493300     0.029108     0.685815     1.436778    20.620607   \n",
       "std       1.091258     0.168123     0.464226     0.648390     8.059583   \n",
       "min       1.000000     0.000000     0.000000     1.000000     0.820000   \n",
       "25%       2.000000     0.000000     0.000000     1.000000    13.940000   \n",
       "50%       3.000000     0.000000     1.000000     1.000000    21.320000   \n",
       "75%       3.000000     0.000000     1.000000     2.000000    27.060000   \n",
       "max       4.000000     1.000000     1.000000     4.000000    40.180000   \n",
       "\n",
       "             atemp     humidity    windspeed  \n",
       "count  6493.000000  6493.000000  6493.000000  \n",
       "mean     24.012865    64.125212    12.631157  \n",
       "std       8.782741    19.293391     8.250151  \n",
       "min       0.000000    16.000000     0.000000  \n",
       "25%      16.665000    49.000000     7.001500  \n",
       "50%      25.000000    65.000000    11.001400  \n",
       "75%      31.060000    81.000000    16.997900  \n",
       "max      50.000000   100.000000    55.998600  "
      ]
     },
     "execution_count": 5,
     "metadata": {},
     "output_type": "execute_result"
    }
   ],
   "source": [
    "test[:].describe()"
   ]
  },
  {
   "cell_type": "markdown",
   "metadata": {},
   "source": [
    "## (2) Date 변환"
   ]
  },
  {
   "cell_type": "code",
   "execution_count": 6,
   "metadata": {},
   "outputs": [
    {
     "name": "stdout",
     "output_type": "stream",
     "text": [
      "(10886, 17) (6493, 14)\n"
     ]
    },
    {
     "data": {
      "text/html": [
       "<div>\n",
       "<style scoped>\n",
       "    .dataframe tbody tr th:only-of-type {\n",
       "        vertical-align: middle;\n",
       "    }\n",
       "\n",
       "    .dataframe tbody tr th {\n",
       "        vertical-align: top;\n",
       "    }\n",
       "\n",
       "    .dataframe thead th {\n",
       "        text-align: right;\n",
       "    }\n",
       "</style>\n",
       "<table border=\"1\" class=\"dataframe\">\n",
       "  <thead>\n",
       "    <tr style=\"text-align: right;\">\n",
       "      <th></th>\n",
       "      <th>datetime</th>\n",
       "      <th>season</th>\n",
       "      <th>holiday</th>\n",
       "      <th>workingday</th>\n",
       "      <th>weather</th>\n",
       "      <th>temp</th>\n",
       "      <th>atemp</th>\n",
       "      <th>humidity</th>\n",
       "      <th>windspeed</th>\n",
       "      <th>year</th>\n",
       "      <th>month</th>\n",
       "      <th>day</th>\n",
       "      <th>hour</th>\n",
       "      <th>dayofweek</th>\n",
       "    </tr>\n",
       "  </thead>\n",
       "  <tbody>\n",
       "    <tr>\n",
       "      <th>0</th>\n",
       "      <td>2011-01-20 00:00:00</td>\n",
       "      <td>1</td>\n",
       "      <td>0</td>\n",
       "      <td>1</td>\n",
       "      <td>1</td>\n",
       "      <td>10.66</td>\n",
       "      <td>11.365</td>\n",
       "      <td>56</td>\n",
       "      <td>26.0027</td>\n",
       "      <td>2011</td>\n",
       "      <td>1</td>\n",
       "      <td>20</td>\n",
       "      <td>0</td>\n",
       "      <td>3</td>\n",
       "    </tr>\n",
       "    <tr>\n",
       "      <th>1</th>\n",
       "      <td>2011-01-20 01:00:00</td>\n",
       "      <td>1</td>\n",
       "      <td>0</td>\n",
       "      <td>1</td>\n",
       "      <td>1</td>\n",
       "      <td>10.66</td>\n",
       "      <td>13.635</td>\n",
       "      <td>56</td>\n",
       "      <td>0.0000</td>\n",
       "      <td>2011</td>\n",
       "      <td>1</td>\n",
       "      <td>20</td>\n",
       "      <td>1</td>\n",
       "      <td>3</td>\n",
       "    </tr>\n",
       "    <tr>\n",
       "      <th>2</th>\n",
       "      <td>2011-01-20 02:00:00</td>\n",
       "      <td>1</td>\n",
       "      <td>0</td>\n",
       "      <td>1</td>\n",
       "      <td>1</td>\n",
       "      <td>10.66</td>\n",
       "      <td>13.635</td>\n",
       "      <td>56</td>\n",
       "      <td>0.0000</td>\n",
       "      <td>2011</td>\n",
       "      <td>1</td>\n",
       "      <td>20</td>\n",
       "      <td>2</td>\n",
       "      <td>3</td>\n",
       "    </tr>\n",
       "    <tr>\n",
       "      <th>3</th>\n",
       "      <td>2011-01-20 03:00:00</td>\n",
       "      <td>1</td>\n",
       "      <td>0</td>\n",
       "      <td>1</td>\n",
       "      <td>1</td>\n",
       "      <td>10.66</td>\n",
       "      <td>12.880</td>\n",
       "      <td>56</td>\n",
       "      <td>11.0014</td>\n",
       "      <td>2011</td>\n",
       "      <td>1</td>\n",
       "      <td>20</td>\n",
       "      <td>3</td>\n",
       "      <td>3</td>\n",
       "    </tr>\n",
       "    <tr>\n",
       "      <th>4</th>\n",
       "      <td>2011-01-20 04:00:00</td>\n",
       "      <td>1</td>\n",
       "      <td>0</td>\n",
       "      <td>1</td>\n",
       "      <td>1</td>\n",
       "      <td>10.66</td>\n",
       "      <td>12.880</td>\n",
       "      <td>56</td>\n",
       "      <td>11.0014</td>\n",
       "      <td>2011</td>\n",
       "      <td>1</td>\n",
       "      <td>20</td>\n",
       "      <td>4</td>\n",
       "      <td>3</td>\n",
       "    </tr>\n",
       "  </tbody>\n",
       "</table>\n",
       "</div>"
      ],
      "text/plain": [
       "             datetime  season  holiday  workingday  weather   temp   atemp  \\\n",
       "0 2011-01-20 00:00:00       1        0           1        1  10.66  11.365   \n",
       "1 2011-01-20 01:00:00       1        0           1        1  10.66  13.635   \n",
       "2 2011-01-20 02:00:00       1        0           1        1  10.66  13.635   \n",
       "3 2011-01-20 03:00:00       1        0           1        1  10.66  12.880   \n",
       "4 2011-01-20 04:00:00       1        0           1        1  10.66  12.880   \n",
       "\n",
       "   humidity  windspeed  year  month  day  hour  dayofweek  \n",
       "0        56    26.0027  2011      1   20     0          3  \n",
       "1        56     0.0000  2011      1   20     1          3  \n",
       "2        56     0.0000  2011      1   20     2          3  \n",
       "3        56    11.0014  2011      1   20     3          3  \n",
       "4        56    11.0014  2011      1   20     4          3  "
      ]
     },
     "execution_count": 6,
     "metadata": {},
     "output_type": "execute_result"
    }
   ],
   "source": [
    "train[\"year\"] = train[\"datetime\"].dt.year\n",
    "train[\"month\"] = train[\"datetime\"].dt.month\n",
    "train[\"day\"] = train[\"datetime\"].dt.day\n",
    "train[\"hour\"] = train[\"datetime\"].dt.hour\n",
    "# train[\"minute\"] = train[\"datetime\"].dt.minute\n",
    "train[\"dayofweek\"] = train[\"datetime\"].dt.dayofweek\n",
    "\n",
    "train.head()\n",
    "\n",
    "test[\"year\"] = test[\"datetime\"].dt.year\n",
    "test[\"month\"] = test[\"datetime\"].dt.month\n",
    "test[\"day\"] = test[\"datetime\"].dt.day\n",
    "test[\"hour\"] = test[\"datetime\"].dt.hour\n",
    "# train[\"minute\"] = train[\"datetime\"].dt.minute\n",
    "test[\"dayofweek\"] = test[\"datetime\"].dt.dayofweek\n",
    "\n",
    "print(train.shape, test.shape)\n",
    "test.head()"
   ]
  },
  {
   "cell_type": "markdown",
   "metadata": {},
   "source": [
    "## (3) 카테고리화 --> 영향없음"
   ]
  },
  {
   "cell_type": "code",
   "execution_count": 7,
   "metadata": {},
   "outputs": [],
   "source": [
    "category_feature = [\"season\", \"holiday\", \"workingday\", \"weather\", \"year\", \"month\", \"dayofweek\", \"day\"]\n",
    "\n",
    "# print(train.info(), test.info())\n",
    "\n",
    "for var in category_feature:\n",
    "    train[var] = train[var].astype(\"category\")\n",
    "    test[var] = test[var].astype(\"category\")\n",
    "\n",
    "# print(train.info(), test.info())"
   ]
  },
  {
   "cell_type": "markdown",
   "metadata": {},
   "source": [
    "## (5) Windspeed, temp, humidity 구간화"
   ]
  },
  {
   "cell_type": "code",
   "execution_count": 8,
   "metadata": {},
   "outputs": [],
   "source": [
    "#sns.lmplot(data = train, x = \"temp\", y = \"count\")\n",
    "train[\"temp\"].quantile(0.1)\n",
    "train[\"temp\"].quantile(0.9)\n",
    "\n",
    "#temp가 feature importance가 가장 높으므로 먼저 테스트\n",
    "train.loc[train[\"temp\"] < 5, \"temp_encode\"] = 0\n",
    "train.loc[(train[\"temp\"] >= 5) & (train[\"temp\"] < 15), \"temp_encode\"] = 1\n",
    "train.loc[(train[\"temp\"] >= 15) & (train[\"temp\"] < 25), \"temp_encode\"] = 2\n",
    "train.loc[(train[\"temp\"] >= 25) & (train[\"temp\"] < 35), \"temp_encode\"] = 3\n",
    "train.loc[train[\"temp\"] >= 35, \"temp_encode\"] = 4\n",
    "\n",
    "test.loc[test[\"temp\"] < 5, \"temp_encode\"] = 0\n",
    "test.loc[(test[\"temp\"] >= 5) & (test[\"temp\"] < 15), \"temp_encode\"] = 1\n",
    "test.loc[(test[\"temp\"] >= 15) & (test[\"temp\"] < 25), \"temp_encode\"] = 2\n",
    "test.loc[(test[\"temp\"] >= 25) & (test[\"temp\"] < 35), \"temp_encode\"] = 3\n",
    "test.loc[test[\"temp\"] >= 35, \"temp_encode\"] = 4"
   ]
  },
  {
   "cell_type": "code",
   "execution_count": 9,
   "metadata": {},
   "outputs": [],
   "source": [
    "#humidity => humidity_encode\n",
    "train.loc[train[\"humidity\"] < 38, \"humidity_encode\"] = 0\n",
    "train.loc[(train[\"humidity\"] >= 38) & (train[\"humidity\"] < 48), \"humidity_encode\"] = 1\n",
    "train.loc[(train[\"humidity\"] >= 48) & (train[\"humidity\"] < 58), \"humidity_encode\"] = 2\n",
    "train.loc[(train[\"humidity\"] >= 58) & (train[\"humidity\"] < 68), \"humidity_encode\"] = 3\n",
    "train.loc[(train[\"humidity\"] >= 68) & (train[\"humidity\"] < 78), \"humidity_encode\"] = 4\n",
    "train.loc[(train[\"humidity\"] >= 78) & (train[\"humidity\"] < 88), \"humidity_encode\"] = 5\n",
    "train.loc[train[\"humidity\"] >= 88, \"humidity_encode\"] = 6\n",
    "\n",
    "test.loc[test[\"humidity\"] < 38, \"humidity_encode\"] = 0\n",
    "test.loc[(test[\"humidity\"] >= 38) & (test[\"humidity\"] < 48), \"humidity_encode\"] = 1\n",
    "test.loc[(test[\"humidity\"] >= 48) & (test[\"humidity\"] < 58), \"humidity_encode\"] = 2\n",
    "test.loc[(test[\"humidity\"] >= 58) & (test[\"humidity\"] < 68), \"humidity_encode\"] = 3\n",
    "test.loc[(test[\"humidity\"] >= 68) & (test[\"humidity\"] < 78), \"humidity_encode\"] = 4\n",
    "test.loc[(test[\"humidity\"] >= 78) & (test[\"humidity\"] < 88), \"humidity_encode\"] = 5\n",
    "test.loc[test[\"humidity\"] >= 88, \"humidity_encode\"] = 6"
   ]
  },
  {
   "cell_type": "markdown",
   "metadata": {},
   "source": [
    "# Hyperparameter Tuning"
   ]
  },
  {
   "cell_type": "markdown",
   "metadata": {},
   "source": [
    "## (1) Grid Search 방법"
   ]
  },
  {
   "cell_type": "code",
   "execution_count": 10,
   "metadata": {},
   "outputs": [
    {
     "data": {
      "text/plain": [
       "Index(['datetime', 'season', 'holiday', 'workingday', 'weather', 'temp',\n",
       "       'atemp', 'humidity', 'windspeed', 'casual', 'registered', 'count',\n",
       "       'year', 'month', 'day', 'hour', 'dayofweek', 'temp_encode',\n",
       "       'humidity_encode'],\n",
       "      dtype='object')"
      ]
     },
     "execution_count": 10,
     "metadata": {},
     "output_type": "execute_result"
    }
   ],
   "source": [
    "train.columns"
   ]
  },
  {
   "cell_type": "code",
   "execution_count": 11,
   "metadata": {},
   "outputs": [],
   "source": [
    "#### Summary ####\n",
    "\n",
    "# WindSpeed를 RandomRegressor로 넣은 것 --> 오히려 낮아짐\n",
    "# 회원/비회원 구분하는 것도 오히려 낮아짐\n",
    "# Month 추가하는 것도 RMSLE는 높아지나, Kaggle은 오히려 낮아짐\n",
    "\n",
    "# RF --> Gradient Boost 로 변경\n",
    "# Feature Importance로 걸러냄 (Holiday)\n",
    "# temp_encode 적용 (5개 구간), humidity, atemp는 encode효과 없음\n",
    "\n",
    "feature_names = ['hour', 'humidity', 'atemp', 'dayofweek', 'windspeed', 'weather',\n",
    "       'season', 'workingday', 'year', 'temp_encode'] \n",
    "        # Gradient Boost 사용 (오늘의 코드)\n",
    "        # RMSLE = 0.2088 Kaggle = 0.3788  (104위 / 3251명 중 상위 3.2%)\n",
    "        # (vs. 오늘의 코드 RMSLE = 0.2135 Kaggle = 0.38677)\n",
    "        # RMSLE = 0.3701 Kaggle = 0.4217 (Random Forest)\n",
    "\n",
    "feature_names21 = ['hour', 'humidity', 'atemp', 'dayofweek', 'windspeed_next', 'weather',\n",
    "       'season', 'workingday', 'year', 'temp_encode'] \n",
    "        # windspeed 0 값에 아래 값을 넣어주었음.\n",
    "        # Gradient 적용\n",
    "        # RMSLE = 0.2080 # Kaggle = 0.3805\n",
    "        # RF는 Kaggle = 0.4217\n",
    "\n",
    "feature_names20 = ['hour', 'humidity', 'atemp', 'dayofweek', 'windspeed', 'weather',\n",
    "       'season', 'workingday', 'year'] \n",
    "        # temp_encode 제외 (feature_importance에서 가장 낮은)\n",
    "        # Gradient 적용\n",
    "        # RMSLE = 0.2092 # Kaggle = 0.3791    \n",
    "        \n",
    "feature_names10 = ['hour', 'year', 'temp_encode', 'dayofweek', 'workingday',\n",
    "       'atemp', 'humidity_encode', 'weather', 'season', 'windspeed'] \n",
    "        # humidity --> humidity_encode\n",
    "        # MAE 32.37  #RMSLE = 0.3683(RF)\n",
    "        # RMSLE = 0.2160 # Kaggle = 0.3792    \n",
    "\n",
    "feature_names11 = ['hour', 'year', 'temp', 'dayofweek', 'workingday',\n",
    "       'atemp', 'humidity', 'weather', 'season', 'windspeed'] \n",
    "        # temp_encode --> temp\n",
    "        # MAE 32.36  #RMSLE = 0.3711(RF)\n",
    "        # RMSLE = 0.2066 # Kaggle = 0.3818    \n",
    "        \n",
    "feature_names9 = ['hour', 'year', 'temp_encode', 'dayofweek', 'workingday',\n",
    "       'atemp_encode', 'humidity', 'weather', 'season', 'windspeed'] \n",
    "        # atemp ==> atemp_encode\n",
    "        # Gradient Boost 엔진 적용\n",
    "        # MAE 35.38  #RMSLE = 0.3811(RF)\n",
    "        # RMSLE = 0.2352 #Kaggle = 0.3857\n",
    "\n",
    "feature_names12 = ['hour', 'year', 'temp_encode', 'dayofweek', 'workingday',\n",
    "       'atemp', 'humidity', 'season'] \n",
    "        # windspeed, weather 제외 (gbm의 feature importance가 낮은 bottom 2개)\n",
    "        # MAE 33.53  #RMSLE = 0.3780(RF)\n",
    "        # RMSLE = 0.2066 # Kaggle = 0.4087  \n",
    "\n",
    "        \n",
    "        \n",
    "#### RF --> Gradient Boost ####\n",
    "# RF로는 0.4216이 최고점수\n",
    "\n",
    "feature_names13 = ['hour', 'year', 'temp_encode', 'dayofweek', 'workingday',\n",
    "       'atemp', 'humidity', 'weather', 'season', 'windspeed', 'month'] \n",
    "        # month 추가\n",
    "        # RMSLE = 0.19898 Kaggle = 0.4232  (오히려 낮아짐)\n",
    "        \n",
    "feature_names8 = ['hour', 'year', 'temp_encode', 'dayofweek', 'workingday',\n",
    "       'atemp', 'humidity', 'weather', 'season', 'windspeed'] \n",
    "        # DS스쿨 버전으로 season, windspeed 추가 & month 제외 \n",
    "        # MAE 32.48  # RMSLE = 0.3700  # Kaggle 0.4216\n",
    "        # DS스쿨은 temp를 그냥 쓰고, n_estimator는 10이었음 ==> 0.43019\n",
    "\n",
    "feature_names7 = ['hour', 'year', 'temp_encode', 'month', 'dayofweek', 'workingday',\n",
    "       'atemp', 'humidity', 'weather'] \n",
    "        # MAE 31.87 # RMSLE = 0.37517 # Kaggle = 0.4883\n",
    "        # day 제외\n",
    "        ### n_estimators = 10 --> 100으로 변경 (유투브 오늘의코드 참고)\n",
    "        # MAE 30.44 # RMSLE = 0.36253 # Kaggle = 0.4830\n",
    "        \n",
    "feature_names5 = ['hour', 'year', 'temp_encode', 'month', 'dayofweek', 'workingday',\n",
    "       'atemp', 'humidity', 'weather', 'day'] # --> temp 인코딩\n",
    "        # MAE 33.06 # RMSLE = 0.38270 # Kaggle = 0.4993\n",
    "\n",
    "feature_names4 = ['hour', 'year', 'temp', 'month', 'dayofweek', 'workingday',\n",
    "       'atemp', 'humidity', 'weather', 'day'] \n",
    "        # MAE 32.82 # RMSLE = 0.38018 # Kaggle = 0.5027\n",
    "        # --> season, holiday, windspeed 제외\n",
    "        # 중요도 순으로 나열한 후 마지막 3개 제외. \n",
    "        # 카테고리화를 해도 차이 없음\n",
    "\n",
    "feature_names6 = ['hour', 'year', 'month', 'dayofweek', 'workingday',\n",
    "       'atemp', 'humidity'] \n",
    "        # MAE 33.27 # RMSLE = 0.38611 # Kaggle = 0.5032\n",
    "        # weather, temp_encode, day 제외 (feature importance 하위 2개)\n",
    "        # 오히려 떨어짐\n",
    "                \n",
    "feature_names3 = ['hour', 'year', 'temp', 'month', 'dayofweek', 'workingday',\n",
    "       'atemp', 'humidity', 'weather', 'day', 'windspeed'] \n",
    "        # MAE = 31.23 # RMSLE = 0.37026 # Kaggel = 1.8\n",
    "        # windspeed를 RandomForestRegressor로 넣었는데, 과적합된 듯.\n",
    "\n",
    "        \n",
    "#### Kaggle 제출하기 전 ####\n",
    "\n",
    "feature_names2 = ['season', 'holiday', 'workingday', 'weather', 'temp',\n",
    "       'atemp', 'humidity', 'windspeed',\n",
    "       'year', 'month', 'day', 'hour', 'dayofweek'] \n",
    "        # MAE 33.03 # RMSLE = 0.38296 --> hour 추가\n",
    "\n",
    "feature_names1 = ['season', 'holiday', 'workingday', 'weather', 'temp',\n",
    "       'atemp', 'humidity', 'windspeed',\n",
    "       'year', 'month', 'day', 'dayofweek'] \n",
    "        # MAE 118.12\n",
    "\n",
    "lable_name = 'count' # 대괄호를 씌워주면, 배열이 아니라 DataFrame이 되어버려서 뒤의 CV 등의 연산에서 오류가 생김\n"
   ]
  },
  {
   "cell_type": "code",
   "execution_count": 12,
   "metadata": {},
   "outputs": [
    {
     "data": {
      "text/plain": [
       "(10886,)"
      ]
     },
     "execution_count": 12,
     "metadata": {},
     "output_type": "execute_result"
    }
   ],
   "source": [
    "X_train = train[feature_names]\n",
    "X_test = test[feature_names]\n",
    "y_train = train[lable_name]\n",
    "\n",
    "X_train.shape\n",
    "y_train.shape"
   ]
  },
  {
   "cell_type": "markdown",
   "metadata": {},
   "source": [
    "# Model Evaluation (Cross Val.)"
   ]
  },
  {
   "cell_type": "markdown",
   "metadata": {},
   "source": [
    "from sklearn.model_selection import cross_val_predict\n",
    "\n",
    "y_predict = cross_val_predict(model, X_train, y_train, cv = 20)\n",
    "\n",
    "print(y_predict.shape)\n",
    "y_predict"
   ]
  },
  {
   "cell_type": "markdown",
   "metadata": {},
   "source": [
    "# Evaluation Metrics - (MAE, MSE, MSLE)"
   ]
  },
  {
   "cell_type": "markdown",
   "metadata": {},
   "source": [
    "from sklearn.metrics import mean_squared_log_error\n",
    "from sklearn.metrics import mean_squared_error\n",
    "from sklearn.metrics import mean_absolute_error\n",
    "\n",
    "score_mse = mean_squared_error(y_train, y_predict)\n",
    "score_mae = mean_absolute_error(y_train, y_predict)\n",
    "# score_mae = np.abs(y_predict - y_train).mean()\n",
    "score_msle = mean_squared_log_error(y_train, y_predict)\n",
    "score_rmsle = np.sqrt(score_msle) # rmsle가 없기 때문에\n",
    "\n",
    "print(f\"Score(MSE) = {score_mse: .5f}\")\n",
    "print(f\"Score(MAE) = {score_mae: .5f}\")\n",
    "print(f\"Score(MSLE) = {score_msle: .5f}\")\n",
    "print(f\"Score(RMSLE) = {score_rmsle: .5f}\")"
   ]
  },
  {
   "cell_type": "markdown",
   "metadata": {},
   "source": [
    "# Evaluation Metrics - (RMSLE)"
   ]
  },
  {
   "cell_type": "code",
   "execution_count": 15,
   "metadata": {},
   "outputs": [
    {
     "data": {
      "text/plain": [
       "make_scorer(rmsle)"
      ]
     },
     "execution_count": 15,
     "metadata": {},
     "output_type": "execute_result"
    }
   ],
   "source": [
    "from sklearn.metrics import make_scorer\n",
    "\n",
    "def rmsle(predict, actual):\n",
    "    \n",
    "    predict = np.array(predict)\n",
    "    actual = np.array(actual)\n",
    "    \n",
    "    log_predict = np.log(predict + 1)\n",
    "    log_actual = np.log(actual + 1)\n",
    "    \n",
    "    distance = log_predict - log_actual\n",
    "    \n",
    "    square_distance = distance **2\n",
    "    \n",
    "    mean_square_distance = square_distance.mean()\n",
    "    \n",
    "    score = np.sqrt(mean_square_distance)\n",
    "    \n",
    "    return score\n",
    "\n",
    "score_rmsle = make_scorer(rmsle)\n",
    "score_rmsle"
   ]
  },
  {
   "cell_type": "code",
   "execution_count": 16,
   "metadata": {},
   "outputs": [],
   "source": [
    "from sklearn.model_selection import cross_val_score"
   ]
  },
  {
   "cell_type": "markdown",
   "metadata": {},
   "source": [
    "# Model - GBM"
   ]
  },
  {
   "cell_type": "markdown",
   "metadata": {},
   "source": [
    "- 오늘의코드 / GBM 모델 적용 Github 사례\n",
    "- https://github.com/corazzon/KaggleStruggle/blob/master/bike-sharing-demand/bike-sharing-demand-ensemble-model.ipynb"
   ]
  },
  {
   "cell_type": "code",
   "execution_count": 17,
   "metadata": {},
   "outputs": [
    {
     "data": {
      "text/plain": [
       "GradientBoostingRegressor(alpha=0.01, criterion='friedman_mse', init=None,\n",
       "             learning_rate=0.1, loss='ls', max_depth=3, max_features=None,\n",
       "             max_leaf_nodes=None, min_impurity_decrease=0.0,\n",
       "             min_impurity_split=None, min_samples_leaf=1,\n",
       "             min_samples_split=2, min_weight_fraction_leaf=0.0,\n",
       "             n_estimators=4000, presort='auto', random_state=None,\n",
       "             subsample=1.0, verbose=0, warm_start=False)"
      ]
     },
     "execution_count": 17,
     "metadata": {},
     "output_type": "execute_result"
    }
   ],
   "source": [
    "from sklearn.ensemble import GradientBoostingRegressor\n",
    "gbm = GradientBoostingRegressor(n_estimators = 4000, alpha = 0.01)\n",
    "gbm"
   ]
  },
  {
   "cell_type": "code",
   "execution_count": null,
   "metadata": {},
   "outputs": [
    {
     "name": "stderr",
     "output_type": "stream",
     "text": [
      "C:\\ProgramData\\Anaconda3\\lib\\site-packages\\sklearn\\cross_validation.py:41: DeprecationWarning: This module was deprecated in version 0.18 in favor of the model_selection module into which all the refactored classes and functions are moved. Also note that the interface of the new CV iterators are different from that of this module. This module will be removed in 0.20.\n",
      "  \"This module will be removed in 0.20.\", DeprecationWarning)\n",
      "C:\\ProgramData\\Anaconda3\\lib\\site-packages\\sklearn\\grid_search.py:42: DeprecationWarning: This module was deprecated in version 0.18 in favor of the model_selection module into which all the refactored classes and functions are moved. This module will be removed in 0.20.\n",
      "  DeprecationWarning)\n"
     ]
    }
   ],
   "source": [
    "from sklearn.model_selection import GridSearchCV\n",
    "from sklearn.grid_search import GridSearchCV\n",
    "\n",
    "param_grid = [ {'n_estimators': [600], \n",
    "                'learning_rate':[0.01,0.05], \n",
    "                'max_depth': [4,8], }\n",
    "             ]\n",
    "\n",
    "                                #'min_samples_leaf': [20,50,100]}, \n",
    "\n",
    "gbm_gs = GridSearchCV(gbm, param_grid, cv=5, n_jobs=-1, scoring=score_rmsle)\n",
    "%time gbm_gs.fit(X_train, y_train)\n",
    "\n",
    "print(gbm_gs.best_params_) \n",
    "print(gbm_gs.best_score_)"
   ]
  },
  {
   "cell_type": "markdown",
   "metadata": {},
   "source": [
    "# train_gs_X, test_gs_X, train_gs_Y, test_gs_Y = train_test_split(new_features, target, random_state=42,train_size=0.1 )\n",
    "\n",
    "\n",
    "\n",
    "\n",
    "from sklearn.pipeline import Pipeline\n",
    "from sklearn.preprocessing import StandardScaler\n",
    "from sklearn.svm import SVC\n",
    "\n",
    "pipe_svc = Pipeline([('scl', StandardScaler()), ('clf', SVC(random_state=1))])\n",
    "\n",
    "param_range = [0.0001, 0.001, 0.01, 0.1, 1.0, 10.0, 100.0, 1000.0]\n",
    "param_grid = [\n",
    "    {'clf__C': param_range, 'clf__kernel': ['linear']},\n",
    "    {'clf__C': param_range, 'clf__gamma': param_range, 'clf__kernel': ['rbf']}]\n",
    "\n",
    "gbm_gs = GridSearchCV(gbm, param_grid=param_grid, scoring=, cv=10, n_jobs=1)\n",
    "%time gbm_gs.fit(X, y)\n"
   ]
  },
  {
   "cell_type": "markdown",
   "metadata": {},
   "source": [
    "# Grid Search"
   ]
  },
  {
   "cell_type": "code",
   "execution_count": null,
   "metadata": {},
   "outputs": [],
   "source": [
    "#소요시간 측정\n",
    "import datetime\n",
    "now = datetime.datetime.today()\n",
    "print(\"start:\", now)\n",
    "\n",
    "# 178초. 2분 32초 (Local), 2분 53초 (Google Colab)\n",
    "n_estimators_list = [100]\n",
    "max_depth_list = [20, 40]\n",
    "max_features_list = [0.1, 0.5, 0.9]\n",
    "\n",
    "#Grid 변수 - Google Colab. 28분소요\n",
    "#n_estimators_list = [100, 300, 500]\n",
    "#max_depth_list = [20, 40, 60, 80, 100]\n",
    "#max_features_list = [0.1, 0.3, 0.5, 0.7, 0.9]\n",
    "\n",
    "hyperparameters_list = []\n",
    "\n",
    "for n_estimators in n_estimators_list:\n",
    "    for max_depth in max_depth_list:\n",
    "        for max_features in max_features_list:\n",
    "            model_rf = GradientBoostingRegressor(n_estimators=n_estimators,\n",
    "                                         max_depth = max_depth,\n",
    "                                         max_features = max_features,\n",
    "                                         n_jobs = -1,\n",
    "                                         random_state = 79)\n",
    "            score = cross_val_score(model_rf, X_train, y_train, cv = 10, scoring = rmse_score).mean()\n",
    "            \n",
    "            hyperparameters = {\n",
    "                'score' : score,\n",
    "                'n_estimators' : n_estimators,\n",
    "                'max_depth' : max_depth,\n",
    "                'max_features' : max_features,\n",
    "            }\n",
    "            # score 다음에 쉽표로 구분하지 않아서 생기는 문제들\n",
    "            \n",
    "            hyperparameters_list.append(hyperparameters)\n",
    "            \n",
    "            print(f\"n_estimators = {n_estimators}, max_depth = {max_depth:2}, max_features = {max_features:.2f}, Score = {score:.4f}\") # 마지막 따옴표 쳐야\n",
    "\n",
    "\n",
    "now2 = datetime.datetime.today()\n",
    "print(\"end:\", now2)\n",
    "gap = now2- now\n",
    "\n",
    "m = gap.seconds //60\n",
    "s = gap.seconds %60\n",
    "\n",
    "print(\"Gap Time:\", m,\"분\", s, \"초\")"
   ]
  },
  {
   "cell_type": "markdown",
   "metadata": {},
   "source": [
    "# RMSLE Value"
   ]
  },
  {
   "cell_type": "code",
   "execution_count": 70,
   "metadata": {},
   "outputs": [
    {
     "name": "stdout",
     "output_type": "stream",
     "text": [
      "Wall time: 22.9 s\n",
      "RMSLE Value For Gradient Boost:  0.2337785920816074\n"
     ]
    }
   ],
   "source": [
    "# -1 처리해준 것 (0.3788 --> 0.3767로 개선됨)\n",
    "\n",
    "y_train_log = np.log1p(y_train)\n",
    "#log1p는 log(x+1)를 의미함\n",
    "%time gbm.fit(X_train, y_train_log)\n",
    "\n",
    "y_train_log_ex = (np.exp(y_train_log) - 1)\n",
    "preds = gbm.predict(X_train)\n",
    "score_gbm = rmsle(y_train_log_ex, np.exp(preds))\n",
    "\n",
    "print(\"RMSLE Value For Gradient Boost: \", score_gbm)\n",
    "\n",
    "\n",
    "#RMSLE Value For Gradient Boost:  0.2088627507221706\n",
    "## 아래는 -1 처리했는데, RMSLE 점수는 오히려 안좋아졌으나, Kaggle Score는 좋아짐\n",
    "#RMSLE Value For Gradient Boost:  0.2337785920816074"
   ]
  },
  {
   "cell_type": "markdown",
   "metadata": {},
   "source": [
    "# Model - XGBoost"
   ]
  },
  {
   "cell_type": "code",
   "execution_count": null,
   "metadata": {},
   "outputs": [],
   "source": [
    "#import xgboost as xgb"
   ]
  },
  {
   "cell_type": "code",
   "execution_count": null,
   "metadata": {},
   "outputs": [],
   "source": []
  },
  {
   "cell_type": "markdown",
   "metadata": {},
   "source": [
    "# Feature Selection - GBM"
   ]
  },
  {
   "cell_type": "code",
   "execution_count": 55,
   "metadata": {},
   "outputs": [
    {
     "name": "stdout",
     "output_type": "stream",
     "text": [
      "[('hour', 0.2505248118845244), ('humidity', 0.16422310130636544), ('atemp', 0.157253253870152), ('dayofweek', 0.11831829162438291), ('windspeed', 0.11670935178227072), ('weather', 0.056863726500914494), ('season', 0.04866062527159311), ('workingday', 0.036441770278526645), ('year', 0.03443535623746909), ('temp_encode', 0.016569711243800425)]\n"
     ]
    }
   ],
   "source": [
    "print(list(zip(feature_names, gbm.feature_importances_)))\n",
    "# f_imp = df(feature_names, model.feature_importances_)\n",
    "\n",
    "feature_df_gbm = list(zip(feature_names, gbm.feature_importances_))\n",
    "feature_df_gbm = pd.DataFrame(feature_df_gbm)\n",
    "\n",
    "# display(pd.DataFrame(feature_df))\n",
    "# feature_df.columns"
   ]
  },
  {
   "cell_type": "code",
   "execution_count": 56,
   "metadata": {},
   "outputs": [
    {
     "data": {
      "text/html": [
       "<div>\n",
       "<style scoped>\n",
       "    .dataframe tbody tr th:only-of-type {\n",
       "        vertical-align: middle;\n",
       "    }\n",
       "\n",
       "    .dataframe tbody tr th {\n",
       "        vertical-align: top;\n",
       "    }\n",
       "\n",
       "    .dataframe thead th {\n",
       "        text-align: right;\n",
       "    }\n",
       "</style>\n",
       "<table border=\"1\" class=\"dataframe\">\n",
       "  <thead>\n",
       "    <tr style=\"text-align: right;\">\n",
       "      <th></th>\n",
       "      <th>feature</th>\n",
       "      <th>importance</th>\n",
       "    </tr>\n",
       "  </thead>\n",
       "  <tbody>\n",
       "    <tr>\n",
       "      <th>0</th>\n",
       "      <td>hour</td>\n",
       "      <td>0.250525</td>\n",
       "    </tr>\n",
       "    <tr>\n",
       "      <th>1</th>\n",
       "      <td>humidity</td>\n",
       "      <td>0.164223</td>\n",
       "    </tr>\n",
       "    <tr>\n",
       "      <th>2</th>\n",
       "      <td>atemp</td>\n",
       "      <td>0.157253</td>\n",
       "    </tr>\n",
       "    <tr>\n",
       "      <th>3</th>\n",
       "      <td>dayofweek</td>\n",
       "      <td>0.118318</td>\n",
       "    </tr>\n",
       "    <tr>\n",
       "      <th>4</th>\n",
       "      <td>windspeed</td>\n",
       "      <td>0.116709</td>\n",
       "    </tr>\n",
       "    <tr>\n",
       "      <th>5</th>\n",
       "      <td>weather</td>\n",
       "      <td>0.056864</td>\n",
       "    </tr>\n",
       "    <tr>\n",
       "      <th>6</th>\n",
       "      <td>season</td>\n",
       "      <td>0.048661</td>\n",
       "    </tr>\n",
       "    <tr>\n",
       "      <th>7</th>\n",
       "      <td>workingday</td>\n",
       "      <td>0.036442</td>\n",
       "    </tr>\n",
       "    <tr>\n",
       "      <th>8</th>\n",
       "      <td>year</td>\n",
       "      <td>0.034435</td>\n",
       "    </tr>\n",
       "    <tr>\n",
       "      <th>9</th>\n",
       "      <td>temp_encode</td>\n",
       "      <td>0.016570</td>\n",
       "    </tr>\n",
       "  </tbody>\n",
       "</table>\n",
       "</div>"
      ],
      "text/plain": [
       "       feature  importance\n",
       "0         hour    0.250525\n",
       "1     humidity    0.164223\n",
       "2        atemp    0.157253\n",
       "3    dayofweek    0.118318\n",
       "4    windspeed    0.116709\n",
       "5      weather    0.056864\n",
       "6       season    0.048661\n",
       "7   workingday    0.036442\n",
       "8         year    0.034435\n",
       "9  temp_encode    0.016570"
      ]
     },
     "execution_count": 56,
     "metadata": {},
     "output_type": "execute_result"
    }
   ],
   "source": [
    "feature_df_gbm.columns = feature_df_gbm.columns.astype(str)\n",
    "# RangeIndex(start=0, stop=2, step=1)로 되어 있던 것은 문자로 변경\n",
    "\n",
    "feature_df_gbm.columns = [\"feature\", \"importance\"]\n",
    "# 컬럼명 변경, 아래처럼 하는 것은 안됨\n",
    "# feature_df.rename(columns={'0':\"feature\", '1':\"feature_importance\"})\n",
    "\n",
    "feature_df_gbm.sort_values(by=['importance', 'feature'], ascending=[False, True], inplace=True)\n",
    "# importance 먼저 정렬, 그리고 importance 정렬\n",
    "\n",
    "feature_df_gbm"
   ]
  },
  {
   "cell_type": "code",
   "execution_count": 57,
   "metadata": {},
   "outputs": [
    {
     "data": {
      "text/plain": [
       "array(['hour', 'humidity', 'atemp', 'dayofweek', 'windspeed', 'weather',\n",
       "       'season', 'workingday', 'year', 'temp_encode'], dtype=object)"
      ]
     },
     "execution_count": 57,
     "metadata": {},
     "output_type": "execute_result"
    }
   ],
   "source": [
    "feature_df_gbm[\"feature\"].values # 중요도 순으로 피처를 나열함"
   ]
  },
  {
   "cell_type": "markdown",
   "metadata": {},
   "source": [
    "# Model Prediction & Graph Check - GBM"
   ]
  },
  {
   "cell_type": "code",
   "execution_count": 58,
   "metadata": {},
   "outputs": [
    {
     "name": "stdout",
     "output_type": "stream",
     "text": [
      "(6493,)\n"
     ]
    },
    {
     "data": {
      "text/plain": [
       "array([ 13.30392681,   4.49450502,   2.69100196,   1.84042462,\n",
       "         1.3439911 ,   7.53828639,  35.21253138,  93.57711278,\n",
       "       219.60685097, 113.24083315])"
      ]
     },
     "execution_count": 58,
     "metadata": {},
     "output_type": "execute_result"
    }
   ],
   "source": [
    "predsTest_ex = gbm.predict(X_test)\n",
    "predsTest = np.exp(predsTest_ex) - 1\n",
    "\n",
    "print(predsTest.shape)\n",
    "predsTest[0:10]"
   ]
  },
  {
   "cell_type": "code",
   "execution_count": 59,
   "metadata": {},
   "outputs": [
    {
     "name": "stderr",
     "output_type": "stream",
     "text": [
      "C:\\ProgramData\\Anaconda3\\lib\\site-packages\\matplotlib\\axes\\_axes.py:6462: UserWarning: The 'normed' kwarg is deprecated, and has been replaced by the 'density' kwarg.\n",
      "  warnings.warn(\"The 'normed' kwarg is deprecated, and has been \"\n",
      "C:\\ProgramData\\Anaconda3\\lib\\site-packages\\matplotlib\\axes\\_axes.py:6462: UserWarning: The 'normed' kwarg is deprecated, and has been replaced by the 'density' kwarg.\n",
      "  warnings.warn(\"The 'normed' kwarg is deprecated, and has been \"\n"
     ]
    },
    {
     "data": {
      "text/plain": [
       "[Text(0.5,1,'test')]"
      ]
     },
     "execution_count": 59,
     "metadata": {},
     "output_type": "execute_result"
    },
    {
     "data": {
      "image/png": "[encoded data removed]",
      "text/plain": [
       "<Figure size 864x360 with 2 Axes>"
      ]
     },
     "metadata": {},
     "output_type": "display_data"
    }
   ],
   "source": [
    "fig, (ax1, ax2) = plt.subplots(ncols = 2)\n",
    "fig.set_size_inches(12, 5)\n",
    "\n",
    "sns.distplot(y_train, ax = ax1, bins = 50)\n",
    "ax1.set(title = \"train\")\n",
    "sns.distplot(predsTest, ax = ax2, bins = 50)\n",
    "ax2.set(title = \"test\")"
   ]
  },
  {
   "cell_type": "code",
   "execution_count": 60,
   "metadata": {},
   "outputs": [],
   "source": [
    "# 날짜 넣기\n",
    "import datetime\n",
    "today_bike = datetime.datetime.today().strftime(\"%Y%m%d\")"
   ]
  },
  {
   "cell_type": "markdown",
   "metadata": {},
   "source": [
    "# Submission - GBM"
   ]
  },
  {
   "cell_type": "code",
   "execution_count": 61,
   "metadata": {},
   "outputs": [
    {
     "name": "stdout",
     "output_type": "stream",
     "text": [
      "(6493, 2)\n"
     ]
    },
    {
     "data": {
      "text/html": [
       "<div>\n",
       "<style scoped>\n",
       "    .dataframe tbody tr th:only-of-type {\n",
       "        vertical-align: middle;\n",
       "    }\n",
       "\n",
       "    .dataframe tbody tr th {\n",
       "        vertical-align: top;\n",
       "    }\n",
       "\n",
       "    .dataframe thead th {\n",
       "        text-align: right;\n",
       "    }\n",
       "</style>\n",
       "<table border=\"1\" class=\"dataframe\">\n",
       "  <thead>\n",
       "    <tr style=\"text-align: right;\">\n",
       "      <th></th>\n",
       "      <th>datetime</th>\n",
       "      <th>count</th>\n",
       "    </tr>\n",
       "  </thead>\n",
       "  <tbody>\n",
       "    <tr>\n",
       "      <th>0</th>\n",
       "      <td>2011-01-20 00:00:00</td>\n",
       "      <td>13.303927</td>\n",
       "    </tr>\n",
       "    <tr>\n",
       "      <th>1</th>\n",
       "      <td>2011-01-20 01:00:00</td>\n",
       "      <td>4.494505</td>\n",
       "    </tr>\n",
       "    <tr>\n",
       "      <th>2</th>\n",
       "      <td>2011-01-20 02:00:00</td>\n",
       "      <td>2.691002</td>\n",
       "    </tr>\n",
       "    <tr>\n",
       "      <th>3</th>\n",
       "      <td>2011-01-20 03:00:00</td>\n",
       "      <td>1.840425</td>\n",
       "    </tr>\n",
       "    <tr>\n",
       "      <th>4</th>\n",
       "      <td>2011-01-20 04:00:00</td>\n",
       "      <td>1.343991</td>\n",
       "    </tr>\n",
       "  </tbody>\n",
       "</table>\n",
       "</div>"
      ],
      "text/plain": [
       "              datetime      count\n",
       "0  2011-01-20 00:00:00  13.303927\n",
       "1  2011-01-20 01:00:00   4.494505\n",
       "2  2011-01-20 02:00:00   2.691002\n",
       "3  2011-01-20 03:00:00   1.840425\n",
       "4  2011-01-20 04:00:00   1.343991"
      ]
     },
     "execution_count": 61,
     "metadata": {},
     "output_type": "execute_result"
    }
   ],
   "source": [
    "submission = pd.read_csv(\"data/bike/sampleSubmission.csv\")\n",
    "submission\n",
    "\n",
    "submission[\"count\"] = predsTest\n",
    "\n",
    "print(submission.shape)\n",
    "submission.head()"
   ]
  },
  {
   "cell_type": "code",
   "execution_count": 62,
   "metadata": {},
   "outputs": [],
   "source": [
    "submission.to_csv(f\"data/bike/Score_RMSLE_{score_gbm: .5f}_gbm_submission_{today_bike}.csv\", index=False)"
   ]
  },
  {
   "cell_type": "markdown",
   "metadata": {},
   "source": [
    "# 추가로 작업해볼 것들"
   ]
  },
  {
   "cell_type": "markdown",
   "metadata": {},
   "source": [
    "- 자동 모델 선정 방식을 적용해보기\n",
    "\n",
    "### \"기타\"\n",
    "- 원핫인코딩\n",
    "- Kaggle API로 제출해보기"
   ]
  }
 ],
 "metadata": {
  "kernelspec": {
   "display_name": "Python 3",
   "language": "python",
   "name": "python3"
  },
  "language_info": {
   "codemirror_mode": {
    "name": "ipython",
    "version": 3
   },
   "file_extension": ".py",
   "mimetype": "text/x-python",
   "name": "python",
   "nbconvert_exporter": "python",
   "pygments_lexer": "ipython3",
   "version": "3.6.5"
  }
 },
 "nbformat": 4,
 "nbformat_minor": 2
}
