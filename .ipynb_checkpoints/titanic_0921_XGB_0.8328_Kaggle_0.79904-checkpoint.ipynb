{
 "cells": [
  {
   "cell_type": "code",
   "execution_count": 1,
   "metadata": {},
   "outputs": [
    {
     "name": "stdout",
     "output_type": "stream",
     "text": [
      "테스트\n"
     ]
    }
   ],
   "source": [
    "print(\"테스트\")"
   ]
  },
  {
   "cell_type": "markdown",
   "metadata": {},
   "source": [
    "# Data Load"
   ]
  },
  {
   "cell_type": "code",
   "execution_count": 2,
   "metadata": {},
   "outputs": [
    {
     "name": "stdout",
     "output_type": "stream",
     "text": [
      "(891, 11) (418, 10)\n"
     ]
    }
   ],
   "source": [
    "import pandas as pd\n",
    "import numpy as np\n",
    "\n",
    "train = pd.read_csv(\"d:/Python/data/titanic/train.csv\", index_col = \"PassengerId\")\n",
    "test = pd.read_csv(\"d:/Python/data/titanic/test.csv\", index_col = \"PassengerId\")\n",
    "\n",
    "print(train.shape, test.shape)"
   ]
  },
  {
   "cell_type": "code",
   "execution_count": 3,
   "metadata": {},
   "outputs": [],
   "source": [
    "import seaborn as sns\n",
    "import matplotlib as mpl\n",
    "import matplotlib.pyplot as plt\n",
    "% matplotlib inline"
   ]
  },
  {
   "cell_type": "code",
   "execution_count": 4,
   "metadata": {},
   "outputs": [
    {
     "data": {
      "text/plain": [
       "<matplotlib.axes._subplots.AxesSubplot at 0x9a55fd0>"
      ]
     },
     "execution_count": 4,
     "metadata": {},
     "output_type": "execute_result"
    },
    {
     "data": {
      "image/png": "[encoded data removed]",
      "text/plain": [
       "<Figure size 432x288 with 1 Axes>"
      ]
     },
     "metadata": {},
     "output_type": "display_data"
    }
   ],
   "source": [
    "sns.countplot(train[\"Embarked\"])"
   ]
  },
  {
   "cell_type": "code",
   "execution_count": 5,
   "metadata": {},
   "outputs": [
    {
     "data": {
      "text/plain": [
       "<matplotlib.axes._subplots.AxesSubplot at 0x9ea6ef0>"
      ]
     },
     "execution_count": 5,
     "metadata": {},
     "output_type": "execute_result"
    },
    {
     "data": {
      "image/png": "[encoded data removed]",
      "text/plain": [
       "<Figure size 432x288 with 1 Axes>"
      ]
     },
     "metadata": {},
     "output_type": "display_data"
    }
   ],
   "source": [
    "sns.barplot(data = train, x = \"Pclass\", y = \"Fare\")"
   ]
  },
  {
   "cell_type": "code",
   "execution_count": 8,
   "metadata": {},
   "outputs": [
    {
     "name": "stdout",
     "output_type": "stream",
     "text": [
      "(891, 28)\n"
     ]
    },
    {
     "data": {
      "text/html": [
       "<div>\n",
       "<style scoped>\n",
       "    .dataframe tbody tr th:only-of-type {\n",
       "        vertical-align: middle;\n",
       "    }\n",
       "\n",
       "    .dataframe tbody tr th {\n",
       "        vertical-align: top;\n",
       "    }\n",
       "\n",
       "    .dataframe thead th {\n",
       "        text-align: right;\n",
       "    }\n",
       "</style>\n",
       "<table border=\"1\" class=\"dataframe\">\n",
       "  <thead>\n",
       "    <tr style=\"text-align: right;\">\n",
       "      <th></th>\n",
       "      <th>Survived</th>\n",
       "      <th>Pclass</th>\n",
       "      <th>Name</th>\n",
       "      <th>Sex</th>\n",
       "      <th>Age</th>\n",
       "      <th>SibSp</th>\n",
       "      <th>Parch</th>\n",
       "      <th>Ticket</th>\n",
       "      <th>Fare</th>\n",
       "      <th>Cabin</th>\n",
       "      <th>...</th>\n",
       "      <th>Embarked_fill_C</th>\n",
       "      <th>Embarked_fill_Q</th>\n",
       "      <th>Embarked_fill_S</th>\n",
       "      <th>Name_encode_Master</th>\n",
       "      <th>Name_encode_Miss</th>\n",
       "      <th>Name_encode_Mr</th>\n",
       "      <th>Name_encode_Mrs</th>\n",
       "      <th>Pclass_1</th>\n",
       "      <th>Pclass_2</th>\n",
       "      <th>Pclass_3</th>\n",
       "    </tr>\n",
       "    <tr>\n",
       "      <th>PassengerId</th>\n",
       "      <th></th>\n",
       "      <th></th>\n",
       "      <th></th>\n",
       "      <th></th>\n",
       "      <th></th>\n",
       "      <th></th>\n",
       "      <th></th>\n",
       "      <th></th>\n",
       "      <th></th>\n",
       "      <th></th>\n",
       "      <th></th>\n",
       "      <th></th>\n",
       "      <th></th>\n",
       "      <th></th>\n",
       "      <th></th>\n",
       "      <th></th>\n",
       "      <th></th>\n",
       "      <th></th>\n",
       "      <th></th>\n",
       "      <th></th>\n",
       "      <th></th>\n",
       "    </tr>\n",
       "  </thead>\n",
       "  <tbody>\n",
       "    <tr>\n",
       "      <th>1</th>\n",
       "      <td>0</td>\n",
       "      <td>3</td>\n",
       "      <td>Braund, Mr. Owen Harris</td>\n",
       "      <td>male</td>\n",
       "      <td>22.0</td>\n",
       "      <td>1</td>\n",
       "      <td>0</td>\n",
       "      <td>A/5 21171</td>\n",
       "      <td>7.2500</td>\n",
       "      <td>NaN</td>\n",
       "      <td>...</td>\n",
       "      <td>0</td>\n",
       "      <td>0</td>\n",
       "      <td>1</td>\n",
       "      <td>0</td>\n",
       "      <td>0</td>\n",
       "      <td>1</td>\n",
       "      <td>0</td>\n",
       "      <td>0</td>\n",
       "      <td>0</td>\n",
       "      <td>1</td>\n",
       "    </tr>\n",
       "    <tr>\n",
       "      <th>2</th>\n",
       "      <td>1</td>\n",
       "      <td>1</td>\n",
       "      <td>Cumings, Mrs. John Bradley (Florence Briggs Th...</td>\n",
       "      <td>female</td>\n",
       "      <td>38.0</td>\n",
       "      <td>1</td>\n",
       "      <td>0</td>\n",
       "      <td>PC 17599</td>\n",
       "      <td>71.2833</td>\n",
       "      <td>C85</td>\n",
       "      <td>...</td>\n",
       "      <td>1</td>\n",
       "      <td>0</td>\n",
       "      <td>0</td>\n",
       "      <td>0</td>\n",
       "      <td>0</td>\n",
       "      <td>0</td>\n",
       "      <td>1</td>\n",
       "      <td>1</td>\n",
       "      <td>0</td>\n",
       "      <td>0</td>\n",
       "    </tr>\n",
       "    <tr>\n",
       "      <th>3</th>\n",
       "      <td>1</td>\n",
       "      <td>3</td>\n",
       "      <td>Heikkinen, Miss. Laina</td>\n",
       "      <td>female</td>\n",
       "      <td>26.0</td>\n",
       "      <td>0</td>\n",
       "      <td>0</td>\n",
       "      <td>STON/O2. 3101282</td>\n",
       "      <td>7.9250</td>\n",
       "      <td>NaN</td>\n",
       "      <td>...</td>\n",
       "      <td>0</td>\n",
       "      <td>0</td>\n",
       "      <td>1</td>\n",
       "      <td>0</td>\n",
       "      <td>1</td>\n",
       "      <td>0</td>\n",
       "      <td>0</td>\n",
       "      <td>0</td>\n",
       "      <td>0</td>\n",
       "      <td>1</td>\n",
       "    </tr>\n",
       "    <tr>\n",
       "      <th>4</th>\n",
       "      <td>1</td>\n",
       "      <td>1</td>\n",
       "      <td>Futrelle, Mrs. Jacques Heath (Lily May Peel)</td>\n",
       "      <td>female</td>\n",
       "      <td>35.0</td>\n",
       "      <td>1</td>\n",
       "      <td>0</td>\n",
       "      <td>113803</td>\n",
       "      <td>53.1000</td>\n",
       "      <td>C123</td>\n",
       "      <td>...</td>\n",
       "      <td>0</td>\n",
       "      <td>0</td>\n",
       "      <td>1</td>\n",
       "      <td>0</td>\n",
       "      <td>0</td>\n",
       "      <td>0</td>\n",
       "      <td>1</td>\n",
       "      <td>1</td>\n",
       "      <td>0</td>\n",
       "      <td>0</td>\n",
       "    </tr>\n",
       "    <tr>\n",
       "      <th>5</th>\n",
       "      <td>0</td>\n",
       "      <td>3</td>\n",
       "      <td>Allen, Mr. William Henry</td>\n",
       "      <td>male</td>\n",
       "      <td>35.0</td>\n",
       "      <td>0</td>\n",
       "      <td>0</td>\n",
       "      <td>373450</td>\n",
       "      <td>8.0500</td>\n",
       "      <td>NaN</td>\n",
       "      <td>...</td>\n",
       "      <td>0</td>\n",
       "      <td>0</td>\n",
       "      <td>1</td>\n",
       "      <td>0</td>\n",
       "      <td>0</td>\n",
       "      <td>1</td>\n",
       "      <td>0</td>\n",
       "      <td>0</td>\n",
       "      <td>0</td>\n",
       "      <td>1</td>\n",
       "    </tr>\n",
       "  </tbody>\n",
       "</table>\n",
       "<p>5 rows × 28 columns</p>\n",
       "</div>"
      ],
      "text/plain": [
       "             Survived  Pclass  \\\n",
       "PassengerId                     \n",
       "1                   0       3   \n",
       "2                   1       1   \n",
       "3                   1       3   \n",
       "4                   1       1   \n",
       "5                   0       3   \n",
       "\n",
       "                                                          Name     Sex   Age  \\\n",
       "PassengerId                                                                    \n",
       "1                                      Braund, Mr. Owen Harris    male  22.0   \n",
       "2            Cumings, Mrs. John Bradley (Florence Briggs Th...  female  38.0   \n",
       "3                                       Heikkinen, Miss. Laina  female  26.0   \n",
       "4                 Futrelle, Mrs. Jacques Heath (Lily May Peel)  female  35.0   \n",
       "5                                     Allen, Mr. William Henry    male  35.0   \n",
       "\n",
       "             SibSp  Parch            Ticket     Fare Cabin    ...     \\\n",
       "PassengerId                                                   ...      \n",
       "1                1      0         A/5 21171   7.2500   NaN    ...      \n",
       "2                1      0          PC 17599  71.2833   C85    ...      \n",
       "3                0      0  STON/O2. 3101282   7.9250   NaN    ...      \n",
       "4                1      0            113803  53.1000  C123    ...      \n",
       "5                0      0            373450   8.0500   NaN    ...      \n",
       "\n",
       "            Embarked_fill_C Embarked_fill_Q  Embarked_fill_S  \\\n",
       "PassengerId                                                    \n",
       "1                         0               0                1   \n",
       "2                         1               0                0   \n",
       "3                         0               0                1   \n",
       "4                         0               0                1   \n",
       "5                         0               0                1   \n",
       "\n",
       "             Name_encode_Master Name_encode_Miss  Name_encode_Mr  \\\n",
       "PassengerId                                                        \n",
       "1                             0                0               1   \n",
       "2                             0                0               0   \n",
       "3                             0                1               0   \n",
       "4                             0                0               0   \n",
       "5                             0                0               1   \n",
       "\n",
       "             Name_encode_Mrs  Pclass_1  Pclass_2  Pclass_3  \n",
       "PassengerId                                                 \n",
       "1                          0         0         0         1  \n",
       "2                          1         1         0         0  \n",
       "3                          0         0         0         1  \n",
       "4                          1         1         0         0  \n",
       "5                          0         0         0         1  \n",
       "\n",
       "[5 rows x 28 columns]"
      ]
     },
     "execution_count": 8,
     "metadata": {},
     "output_type": "execute_result"
    }
   ],
   "source": [
    "# Embarked 2개 --> S로\n",
    "train[\"Embarked_fill\"] = train[\"Embarked\"]\n",
    "train.loc[train[\"Embarked\"].isnull(), \"Embarked_fill\"] = \"S\"\n",
    "train.loc[train[\"Embarked_fill\"].isnull()]\n",
    "\n",
    "# Fare NaN 1개 --> Pclass 3이라서, 3의 평균 Fare로 처리\n",
    "train[\"Fare_fill\"] = train[\"Fare\"]\n",
    "train.loc[train[\"Fare\"].isnull(), \"Fare_fill\"] = np.array(train.loc[train[\"Pclass\"] == 3].mean())[1]\n",
    "train.loc[train[\"Fare_fill\"].isnull()]\n",
    "\n",
    "train[\"Familysize\"] = train[\"Parch\"] + train[\"SibSp\"]\n",
    "test[\"Familysize\"] = test[\"Parch\"] + test[\"SibSp\"]\n",
    "\n",
    "# train[\"Name_encode\"] = train[\"Name\"]\n",
    "train.loc[train[\"Name\"].str.contains(\"Master\"), \"Name_encode\"] = \"Master\"\n",
    "train.loc[train[\"Name\"].str.contains(\"Miss\"), \"Name_encode\"] = \"Miss\"\n",
    "train.loc[train[\"Name\"].str.contains(\"Mr\"), \"Name_encode\"] = \"Mr\"\n",
    "train.loc[train[\"Name\"].str.contains(\"Mrs\"), \"Name_encode\"] = \"Mrs\"\n",
    "train.loc[train[\"Name\"].str.contains(\"Ms\"), \"Name_encode\"] = \"Mrs\"\n",
    "train.loc[train[\"Name_encode\"].isnull()].head()\n",
    "\n",
    "train.loc[((train[\"Sex\"] == \"female\") & (train[\"Name_encode\"].isnull())), \"Name_encode\"] = \"Miss\"\n",
    "train.loc[((train[\"Sex\"] == \"male\") & (train[\"Name_encode\"].isnull())), \"Name_encode\"] = \"Mr\"\n",
    "\n",
    "#train[[\"Name\", \"Name_encode\"]].head(20)\n",
    "train.loc[train[\"Name_encode\"].isnull()]\n",
    "\n",
    "train[\"Age_encode\"] = train[\"Age\"]\n",
    "train.loc[train[\"Age\"].isnull(), \"Age_encode\"] = train[\"Age\"].mean()\n",
    "train.loc[train[\"Age_encode\"].isnull()]\n",
    "\n",
    "def dummy_data(data, columns):\n",
    "    for column in columns:\n",
    "        data = pd.concat([data, pd.get_dummies(data[column], prefix = column)], axis = 1)\n",
    "        # concat으로 DF끼리 합치기, axis =1 으로 열끼리 합치기, 기본은 행끼리\n",
    "        # pd.get_dummies는 원핫인코딩해주는 pandas 함수, 칼럼과 공통어를 지정해주면 됨.\n",
    "        #data = data.drop(column, axis = 1) #axis = 1이 없으면, 해당 이름의 행을 삭제함\n",
    "    return data\n",
    "\n",
    "dummy_columns = [\"Sex\", \"Embarked_fill\", \"Name_encode\", \"Pclass\"]\n",
    "\n",
    "train_dummy = dummy_data(train, dummy_columns)\n",
    "\n",
    "train = train_dummy\n",
    "\n",
    "print(train.shape)\n",
    "train.head()"
   ]
  },
  {
   "cell_type": "code",
   "execution_count": 9,
   "metadata": {},
   "outputs": [
    {
     "data": {
      "text/plain": [
       "<matplotlib.axes._subplots.AxesSubplot at 0xb595518>"
      ]
     },
     "execution_count": 9,
     "metadata": {},
     "output_type": "execute_result"
    },
    {
     "data": {
      "image/png": "[encoded data removed]",
      "text/plain": [
       "<Figure size 1080x360 with 3 Axes>"
      ]
     },
     "metadata": {},
     "output_type": "display_data"
    }
   ],
   "source": [
    "fig, (ax1, ax2, ax3) = plt.subplots(ncols = 3) \n",
    "#fig 또는 figure라고 해도 됨. plt.subplot. cols가 아니라 ncols\n",
    "fig.set_size_inches(15, 5)\n",
    "\n",
    "sns.barplot(data = train, x = \"SibSp\", y = \"Age\", ax = ax1)\n",
    "sns.barplot(data = train, x = \"Parch\", y = \"Age\", ax = ax2)\n",
    "sns.barplot(data = train, x = \"Familysize\", y = \"Age\", ax = ax3)"
   ]
  },
  {
   "cell_type": "code",
   "execution_count": 10,
   "metadata": {},
   "outputs": [
    {
     "data": {
      "text/plain": [
       "<matplotlib.axes._subplots.AxesSubplot at 0xb5f24a8>"
      ]
     },
     "execution_count": 10,
     "metadata": {},
     "output_type": "execute_result"
    },
    {
     "data": {
      "image/png": "[encoded data removed]",
      "text/plain": [
       "<Figure size 432x288 with 1 Axes>"
      ]
     },
     "metadata": {},
     "output_type": "display_data"
    }
   ],
   "source": [
    "sns.countplot(train[\"Name_encode\"]) #NaN값은 비워두고 안보여줌"
   ]
  },
  {
   "cell_type": "code",
   "execution_count": 11,
   "metadata": {},
   "outputs": [
    {
     "name": "stdout",
     "output_type": "stream",
     "text": [
      "(418, 27)\n"
     ]
    },
    {
     "data": {
      "text/html": [
       "<div>\n",
       "<style scoped>\n",
       "    .dataframe tbody tr th:only-of-type {\n",
       "        vertical-align: middle;\n",
       "    }\n",
       "\n",
       "    .dataframe tbody tr th {\n",
       "        vertical-align: top;\n",
       "    }\n",
       "\n",
       "    .dataframe thead th {\n",
       "        text-align: right;\n",
       "    }\n",
       "</style>\n",
       "<table border=\"1\" class=\"dataframe\">\n",
       "  <thead>\n",
       "    <tr style=\"text-align: right;\">\n",
       "      <th></th>\n",
       "      <th>Pclass</th>\n",
       "      <th>Name</th>\n",
       "      <th>Sex</th>\n",
       "      <th>Age</th>\n",
       "      <th>SibSp</th>\n",
       "      <th>Parch</th>\n",
       "      <th>Ticket</th>\n",
       "      <th>Fare</th>\n",
       "      <th>Cabin</th>\n",
       "      <th>Embarked</th>\n",
       "      <th>...</th>\n",
       "      <th>Embarked_fill_C</th>\n",
       "      <th>Embarked_fill_Q</th>\n",
       "      <th>Embarked_fill_S</th>\n",
       "      <th>Name_encode_Master</th>\n",
       "      <th>Name_encode_Miss</th>\n",
       "      <th>Name_encode_Mr</th>\n",
       "      <th>Name_encode_Mrs</th>\n",
       "      <th>Pclass_1</th>\n",
       "      <th>Pclass_2</th>\n",
       "      <th>Pclass_3</th>\n",
       "    </tr>\n",
       "    <tr>\n",
       "      <th>PassengerId</th>\n",
       "      <th></th>\n",
       "      <th></th>\n",
       "      <th></th>\n",
       "      <th></th>\n",
       "      <th></th>\n",
       "      <th></th>\n",
       "      <th></th>\n",
       "      <th></th>\n",
       "      <th></th>\n",
       "      <th></th>\n",
       "      <th></th>\n",
       "      <th></th>\n",
       "      <th></th>\n",
       "      <th></th>\n",
       "      <th></th>\n",
       "      <th></th>\n",
       "      <th></th>\n",
       "      <th></th>\n",
       "      <th></th>\n",
       "      <th></th>\n",
       "      <th></th>\n",
       "    </tr>\n",
       "  </thead>\n",
       "  <tbody>\n",
       "    <tr>\n",
       "      <th>892</th>\n",
       "      <td>3</td>\n",
       "      <td>Kelly, Mr. James</td>\n",
       "      <td>male</td>\n",
       "      <td>34.5</td>\n",
       "      <td>0</td>\n",
       "      <td>0</td>\n",
       "      <td>330911</td>\n",
       "      <td>7.8292</td>\n",
       "      <td>NaN</td>\n",
       "      <td>Q</td>\n",
       "      <td>...</td>\n",
       "      <td>0</td>\n",
       "      <td>1</td>\n",
       "      <td>0</td>\n",
       "      <td>0</td>\n",
       "      <td>0</td>\n",
       "      <td>1</td>\n",
       "      <td>0</td>\n",
       "      <td>0</td>\n",
       "      <td>0</td>\n",
       "      <td>1</td>\n",
       "    </tr>\n",
       "    <tr>\n",
       "      <th>893</th>\n",
       "      <td>3</td>\n",
       "      <td>Wilkes, Mrs. James (Ellen Needs)</td>\n",
       "      <td>female</td>\n",
       "      <td>47.0</td>\n",
       "      <td>1</td>\n",
       "      <td>0</td>\n",
       "      <td>363272</td>\n",
       "      <td>7.0000</td>\n",
       "      <td>NaN</td>\n",
       "      <td>S</td>\n",
       "      <td>...</td>\n",
       "      <td>0</td>\n",
       "      <td>0</td>\n",
       "      <td>1</td>\n",
       "      <td>0</td>\n",
       "      <td>0</td>\n",
       "      <td>0</td>\n",
       "      <td>1</td>\n",
       "      <td>0</td>\n",
       "      <td>0</td>\n",
       "      <td>1</td>\n",
       "    </tr>\n",
       "    <tr>\n",
       "      <th>894</th>\n",
       "      <td>2</td>\n",
       "      <td>Myles, Mr. Thomas Francis</td>\n",
       "      <td>male</td>\n",
       "      <td>62.0</td>\n",
       "      <td>0</td>\n",
       "      <td>0</td>\n",
       "      <td>240276</td>\n",
       "      <td>9.6875</td>\n",
       "      <td>NaN</td>\n",
       "      <td>Q</td>\n",
       "      <td>...</td>\n",
       "      <td>0</td>\n",
       "      <td>1</td>\n",
       "      <td>0</td>\n",
       "      <td>0</td>\n",
       "      <td>0</td>\n",
       "      <td>1</td>\n",
       "      <td>0</td>\n",
       "      <td>0</td>\n",
       "      <td>1</td>\n",
       "      <td>0</td>\n",
       "    </tr>\n",
       "    <tr>\n",
       "      <th>895</th>\n",
       "      <td>3</td>\n",
       "      <td>Wirz, Mr. Albert</td>\n",
       "      <td>male</td>\n",
       "      <td>27.0</td>\n",
       "      <td>0</td>\n",
       "      <td>0</td>\n",
       "      <td>315154</td>\n",
       "      <td>8.6625</td>\n",
       "      <td>NaN</td>\n",
       "      <td>S</td>\n",
       "      <td>...</td>\n",
       "      <td>0</td>\n",
       "      <td>0</td>\n",
       "      <td>1</td>\n",
       "      <td>0</td>\n",
       "      <td>0</td>\n",
       "      <td>1</td>\n",
       "      <td>0</td>\n",
       "      <td>0</td>\n",
       "      <td>0</td>\n",
       "      <td>1</td>\n",
       "    </tr>\n",
       "    <tr>\n",
       "      <th>896</th>\n",
       "      <td>3</td>\n",
       "      <td>Hirvonen, Mrs. Alexander (Helga E Lindqvist)</td>\n",
       "      <td>female</td>\n",
       "      <td>22.0</td>\n",
       "      <td>1</td>\n",
       "      <td>1</td>\n",
       "      <td>3101298</td>\n",
       "      <td>12.2875</td>\n",
       "      <td>NaN</td>\n",
       "      <td>S</td>\n",
       "      <td>...</td>\n",
       "      <td>0</td>\n",
       "      <td>0</td>\n",
       "      <td>1</td>\n",
       "      <td>0</td>\n",
       "      <td>0</td>\n",
       "      <td>0</td>\n",
       "      <td>1</td>\n",
       "      <td>0</td>\n",
       "      <td>0</td>\n",
       "      <td>1</td>\n",
       "    </tr>\n",
       "  </tbody>\n",
       "</table>\n",
       "<p>5 rows × 27 columns</p>\n",
       "</div>"
      ],
      "text/plain": [
       "             Pclass                                          Name     Sex  \\\n",
       "PassengerId                                                                 \n",
       "892               3                              Kelly, Mr. James    male   \n",
       "893               3              Wilkes, Mrs. James (Ellen Needs)  female   \n",
       "894               2                     Myles, Mr. Thomas Francis    male   \n",
       "895               3                              Wirz, Mr. Albert    male   \n",
       "896               3  Hirvonen, Mrs. Alexander (Helga E Lindqvist)  female   \n",
       "\n",
       "              Age  SibSp  Parch   Ticket     Fare Cabin Embarked    ...     \\\n",
       "PassengerId                                                         ...      \n",
       "892          34.5      0      0   330911   7.8292   NaN        Q    ...      \n",
       "893          47.0      1      0   363272   7.0000   NaN        S    ...      \n",
       "894          62.0      0      0   240276   9.6875   NaN        Q    ...      \n",
       "895          27.0      0      0   315154   8.6625   NaN        S    ...      \n",
       "896          22.0      1      1  3101298  12.2875   NaN        S    ...      \n",
       "\n",
       "             Embarked_fill_C Embarked_fill_Q  Embarked_fill_S  \\\n",
       "PassengerId                                                     \n",
       "892                        0               1                0   \n",
       "893                        0               0                1   \n",
       "894                        0               1                0   \n",
       "895                        0               0                1   \n",
       "896                        0               0                1   \n",
       "\n",
       "            Name_encode_Master  Name_encode_Miss  Name_encode_Mr  \\\n",
       "PassengerId                                                        \n",
       "892                          0                 0               1   \n",
       "893                          0                 0               0   \n",
       "894                          0                 0               1   \n",
       "895                          0                 0               1   \n",
       "896                          0                 0               0   \n",
       "\n",
       "             Name_encode_Mrs  Pclass_1  Pclass_2  Pclass_3  \n",
       "PassengerId                                                 \n",
       "892                        0         0         0         1  \n",
       "893                        1         0         0         1  \n",
       "894                        0         0         1         0  \n",
       "895                        0         0         0         1  \n",
       "896                        1         0         0         1  \n",
       "\n",
       "[5 rows x 27 columns]"
      ]
     },
     "execution_count": 11,
     "metadata": {},
     "output_type": "execute_result"
    }
   ],
   "source": [
    "# Embarked 2개 --> S로\n",
    "test[\"Embarked_fill\"] = test[\"Embarked\"]\n",
    "test.loc[test[\"Embarked\"].isnull(), \"Embarked_fill\"] = \"S\"\n",
    "test.loc[test[\"Embarked_fill\"].isnull()]\n",
    "\n",
    "# Fare NaN 1개 --> Pclass 3이라서, 3의 평균 Fare로 처리\n",
    "test[\"Fare_fill\"] = test[\"Fare\"]\n",
    "test.loc[test[\"Fare\"].isnull(), \"Fare_fill\"] = np.array(test.loc[test[\"Pclass\"] == 3].mean())[1]\n",
    "test.loc[test[\"Fare_fill\"].isnull()]\n",
    "\n",
    "# test[\"Name_encode\"] = test[\"Name\"]\n",
    "test.loc[test[\"Name\"].str.contains(\"Master\"), \"Name_encode\"] = \"Master\"\n",
    "test.loc[test[\"Name\"].str.contains(\"Miss\"), \"Name_encode\"] = \"Miss\"\n",
    "test.loc[test[\"Name\"].str.contains(\"Mr\"), \"Name_encode\"] = \"Mr\"\n",
    "test.loc[test[\"Name\"].str.contains(\"Mrs\"), \"Name_encode\"] = \"Mrs\"\n",
    "test.loc[test[\"Name\"].str.contains(\"Ms\"), \"Name_encode\"] = \"Mrs\"\n",
    "test.loc[test[\"Name_encode\"].isnull()].head()\n",
    "\n",
    "test.loc[((test[\"Sex\"] == \"female\") & (test[\"Name_encode\"].isnull())), \"Name_encode\"] = \"Miss\"\n",
    "test.loc[((test[\"Sex\"] == \"male\") & (test[\"Name_encode\"].isnull())), \"Name_encode\"] = \"Mr\"\n",
    "\n",
    "#test[[\"Name\", \"Name_encode\"]].head(20)\n",
    "test.loc[test[\"Name_encode\"].isnull()]\n",
    "\n",
    "test[\"Age_encode\"] = test[\"Age\"]\n",
    "test.loc[test[\"Age\"].isnull(), \"Age_encode\"] = test[\"Age\"].mean()\n",
    "test.loc[test[\"Age_encode\"].isnull()]\n",
    "\n",
    "def dummy_data(data, columns):\n",
    "    for column in columns:\n",
    "        data = pd.concat([data, pd.get_dummies(data[column], prefix = column)], axis = 1)\n",
    "        # concat으로 DF끼리 합치기, axis =1 으로 열끼리 합치기, 기본은 행끼리\n",
    "        # pd.get_dummies는 원핫인코딩해주는 pandas 함수, 칼럼과 공통어를 지정해주면 됨.\n",
    "        #data = data.drop(column, axis = 1) #axis = 1이 없으면, 해당 이름의 행을 삭제함\n",
    "    return data\n",
    "\n",
    "dummy_columns = [\"Sex\", \"Embarked_fill\", \"Name_encode\", \"Pclass\"]\n",
    "\n",
    "test_dummy = dummy_data(test, dummy_columns)\n",
    "\n",
    "test = test_dummy\n",
    "\n",
    "print(test.shape)\n",
    "test.head()"
   ]
  },
  {
   "cell_type": "code",
   "execution_count": 12,
   "metadata": {},
   "outputs": [],
   "source": [
    "feature_names = ['Parch', 'Fare_fill',\n",
    "       'Familysize', 'Embarked_fill_C', 'Embarked_fill_S',\n",
    "       'Name_encode_Mr', 'Pclass_1', 'Pclass_2', 'Pclass_3', 'Age_encode']\n",
    "\n",
    "# RF 0.8094 Kaggle 0.75598\n",
    "# XGB 0.8328 kaggle 0.79904 (1587위)\n",
    "# feature importance가 0인 변수 제외 \n",
    "# (Name_encode_Master,Name_encode_Miss, Name_encode_Mrs, Sex_female, SibSp)\n",
    "\n",
    "feature_names2 = ['Parch', 'SibSp', 'Fare_fill',\n",
    "       'Familysize', 'Sex_female',\n",
    "       'Embarked_fill_C', 'Embarked_fill_S',\n",
    "       'Name_encode_Master', 'Name_encode_Miss', 'Name_encode_Mr',\n",
    "       'Name_encode_Mrs', 'Pclass_1', 'Pclass_2', 'Pclass_3', 'Age_encode']\n",
    "\n",
    "# RF 0.8094 Kaggle 0.75598\n",
    "# XGB 0.8328 kaggle 0.79904 (1587위)\n",
    "\n",
    "feature_names1 = ['Parch', 'SibSp', 'Fare_fill',\n",
    "       'Familysize', 'Sex_female', 'Sex_male',\n",
    "       'Embarked_fill_C', 'Embarked_fill_Q', 'Embarked_fill_S',\n",
    "       'Name_encode_Master', 'Name_encode_Miss', 'Name_encode_Mr',\n",
    "       'Name_encode_Mrs', 'Pclass_1', 'Pclass_2', 'Pclass_3', 'Age_encode']\n",
    "\n",
    "label_name = 'Survived'\n",
    "\n",
    "X_train = train[feature_names]\n",
    "X_test = test[feature_names]\n",
    "y_train = train[label_name]"
   ]
  },
  {
   "cell_type": "code",
   "execution_count": 13,
   "metadata": {},
   "outputs": [
    {
     "name": "stdout",
     "output_type": "stream",
     "text": [
      "<class 'pandas.core.frame.DataFrame'>\n",
      "Int64Index: 891 entries, 1 to 891\n",
      "Data columns (total 10 columns):\n",
      "Parch              891 non-null int64\n",
      "Fare_fill          891 non-null float64\n",
      "Familysize         891 non-null int64\n",
      "Embarked_fill_C    891 non-null uint8\n",
      "Embarked_fill_S    891 non-null uint8\n",
      "Name_encode_Mr     891 non-null uint8\n",
      "Pclass_1           891 non-null uint8\n",
      "Pclass_2           891 non-null uint8\n",
      "Pclass_3           891 non-null uint8\n",
      "Age_encode         891 non-null float64\n",
      "dtypes: float64(2), int64(2), uint8(6)\n",
      "memory usage: 80.0 KB\n"
     ]
    }
   ],
   "source": [
    "X_train.info()"
   ]
  },
  {
   "cell_type": "code",
   "execution_count": 14,
   "metadata": {},
   "outputs": [
    {
     "name": "stdout",
     "output_type": "stream",
     "text": [
      "<class 'pandas.core.frame.DataFrame'>\n",
      "Int64Index: 418 entries, 892 to 1309\n",
      "Data columns (total 10 columns):\n",
      "Parch              418 non-null int64\n",
      "Fare_fill          418 non-null float64\n",
      "Familysize         418 non-null int64\n",
      "Embarked_fill_C    418 non-null uint8\n",
      "Embarked_fill_S    418 non-null uint8\n",
      "Name_encode_Mr     418 non-null uint8\n",
      "Pclass_1           418 non-null uint8\n",
      "Pclass_2           418 non-null uint8\n",
      "Pclass_3           418 non-null uint8\n",
      "Age_encode         418 non-null float64\n",
      "dtypes: float64(2), int64(2), uint8(6)\n",
      "memory usage: 18.8 KB\n"
     ]
    }
   ],
   "source": [
    "X_test.info()"
   ]
  },
  {
   "cell_type": "markdown",
   "metadata": {},
   "source": [
    "# Model Load"
   ]
  },
  {
   "cell_type": "code",
   "execution_count": 17,
   "metadata": {},
   "outputs": [],
   "source": [
    "from sklearn.ensemble import RandomForestClassifier\n",
    "from xgboost import XGBClassifier"
   ]
  },
  {
   "cell_type": "code",
   "execution_count": 18,
   "metadata": {},
   "outputs": [
    {
     "data": {
      "text/plain": [
       "RandomForestClassifier(bootstrap=True, class_weight=None, criterion='gini',\n",
       "            max_depth=None, max_features='auto', max_leaf_nodes=None,\n",
       "            min_impurity_decrease=0.0, min_impurity_split=None,\n",
       "            min_samples_leaf=1, min_samples_split=2,\n",
       "            min_weight_fraction_leaf=0.0, n_estimators=10, n_jobs=-1,\n",
       "            oob_score=False, random_state=79, verbose=0, warm_start=False)"
      ]
     },
     "execution_count": 18,
     "metadata": {},
     "output_type": "execute_result"
    }
   ],
   "source": [
    "model_rf = RandomForestClassifier(random_state = 79, n_jobs = -1)\n",
    "model_rf"
   ]
  },
  {
   "cell_type": "code",
   "execution_count": 19,
   "metadata": {},
   "outputs": [
    {
     "data": {
      "text/plain": [
       "XGBClassifier(base_score=0.5, booster='gbtree', colsample_bylevel=1,\n",
       "       colsample_bytree=1, gamma=0, learning_rate=0.1, max_delta_step=0,\n",
       "       max_depth=3, min_child_weight=1, missing=None, n_estimators=100,\n",
       "       n_jobs=-1, nthread=None, objective='binary:logistic',\n",
       "       random_state=79, reg_alpha=0, reg_lambda=1, scale_pos_weight=1,\n",
       "       seed=None, silent=True, subsample=1)"
      ]
     },
     "execution_count": 19,
     "metadata": {},
     "output_type": "execute_result"
    }
   ],
   "source": [
    "model_xgb = XGBClassifier(random_state = 79, n_jobs = -1)\n",
    "model_xgb"
   ]
  },
  {
   "cell_type": "markdown",
   "metadata": {},
   "source": [
    "# GridSearch & RandomizedSearch"
   ]
  },
  {
   "cell_type": "code",
   "execution_count": null,
   "metadata": {},
   "outputs": [],
   "source": [
    "# GridSearch \n",
    "\n",
    "import warnings\n",
    "warnings.filterwarnings('ignore')\n",
    "\n",
    "from sklearn.model_selection import GridSearchCV, RandomizedSearchCV\n",
    "\n",
    "param_grid = {'n_estimators' : [500, 700, 900], # 700이상은 0.84로 동일\n",
    "             'learning_rate' : [0.001, 0.05, 0.01, 0.1], # 0.001이 0.84로 가장 높았음\n",
    "             'random_state' : [79],\n",
    "             'n_jobs' : [-1]}\n",
    "\n",
    "grid = GridSearchCV(model_xgb, param_grid = param_grid, cv = 5)\n",
    "%time grid.fit(X_train, y_train)"
   ]
  },
  {
   "cell_type": "code",
   "execution_count": null,
   "metadata": {},
   "outputs": [],
   "source": [
    "grid_df = pd.DataFrame(grid.cv_results_)\n",
    "grid_df.head()"
   ]
  },
  {
   "cell_type": "code",
   "execution_count": null,
   "metadata": {},
   "outputs": [],
   "source": [
    "scores = np.array(grid_df.mean_test_score).reshape(4, 3)"
   ]
  },
  {
   "cell_type": "code",
   "execution_count": null,
   "metadata": {},
   "outputs": [],
   "source": [
    "import mglearn\n",
    "\n",
    "mglearn.tools.heatmap(scores, xlabel = 'n_estimators', xticklabels = param_grid['n_estimators'],\n",
    "                     ylabel = 'learning_rate', yticklabels = param_grid['learning_rate'], cmap = 'viridis')"
   ]
  },
  {
   "cell_type": "code",
   "execution_count": null,
   "metadata": {},
   "outputs": [],
   "source": [
    "# print(grid.cv_results_)\n",
    "print(f\"best score: {grid.best_score_ : .4f}\")\n",
    "print(f\"best param: {grid.best_params_}\")"
   ]
  },
  {
   "cell_type": "code",
   "execution_count": null,
   "metadata": {},
   "outputs": [],
   "source": [
    "# RandomizedSearch\n",
    "\n",
    "import scipy.stats as st\n",
    "\n",
    "params = {'n_estimators' : st.randint(700, 750),\n",
    "          'learning_rate' : st.uniform(0.003, 0.002),\n",
    "             'random_state' : [79],\n",
    "             'n_jobs' : [-1]\n",
    "}\n",
    "\n",
    "gs = RandomizedSearchCV(model_xgb, params, cv = 5, n_iter=10) \n",
    "# 기본값 cv없음, n_iter = 10\n",
    "%time gs.fit(X_train, y_train)\n",
    "\n",
    "#print(gs.cv_results_)\n",
    "print(f\"best score: {gs.best_score_ : .4f}\")\n",
    "print(f\"best param: {gs.best_params_}\")"
   ]
  },
  {
   "cell_type": "code",
   "execution_count": null,
   "metadata": {},
   "outputs": [],
   "source": [
    "grid_df = pd.DataFrame(gs.cv_results_)\n",
    "grid_df"
   ]
  },
  {
   "cell_type": "code",
   "execution_count": null,
   "metadata": {},
   "outputs": [],
   "source": [
    "scores = np.array(grid_df.mean_test_score).reshape(10, 1)"
   ]
  },
  {
   "cell_type": "code",
   "execution_count": null,
   "metadata": {},
   "outputs": [],
   "source": [
    "mglearn.tools.heatmap(scores, xlabel = 'n_estimators', xticklabels = grid_df['param_n_estimators'],\n",
    "                     ylabel = 'learning_rate', yticklabels = grid_df['param_learning_rate'], cmap = 'viridis')"
   ]
  },
  {
   "cell_type": "markdown",
   "metadata": {},
   "source": [
    "# Model Fit"
   ]
  },
  {
   "cell_type": "code",
   "execution_count": 10,
   "metadata": {},
   "outputs": [
    {
     "data": {
      "text/plain": [
       "RandomForestClassifier(bootstrap=True, class_weight=None, criterion='gini',\n",
       "            max_depth=None, max_features='auto', max_leaf_nodes=None,\n",
       "            min_impurity_decrease=0.0, min_impurity_split=None,\n",
       "            min_samples_leaf=1, min_samples_split=2,\n",
       "            min_weight_fraction_leaf=0.0, n_estimators=4000, n_jobs=-1,\n",
       "            oob_score=False, random_state=79, verbose=0, warm_start=False)"
      ]
     },
     "execution_count": 10,
     "metadata": {},
     "output_type": "execute_result"
    }
   ],
   "source": [
    "model_rf = RandomForestClassifier(n_estimators = 4000, random_state = 79, n_jobs = -1)\n",
    "model_rf"
   ]
  },
  {
   "cell_type": "code",
   "execution_count": 11,
   "metadata": {},
   "outputs": [],
   "source": [
    "from sklearn.model_selection import cross_val_score"
   ]
  },
  {
   "cell_type": "code",
   "execution_count": 19,
   "metadata": {},
   "outputs": [
    {
     "name": "stdout",
     "output_type": "stream",
     "text": [
      "Wall time: 1min 40s\n",
      "RF점수: [0.71 0.8  0.75 0.87 0.88 0.85 0.79 0.75 0.83 0.86] \n",
      "RF평균:  0.8094\n"
     ]
    }
   ],
   "source": [
    "model_rf.fit(X_train, y_train)\n",
    "%time score_rf = cross_val_score(model_rf, X_train, y_train, cv = 10)\n",
    "\n",
    "#print(f\"{np.round(scores_age, 2)} \\n {scores_age.mean(): .2f}\")\n",
    "print(f\"RF점수: {np.round(score_rf, 2)} \\nRF평균: {score_rf.mean(): .4f}\")"
   ]
  },
  {
   "cell_type": "code",
   "execution_count": 21,
   "metadata": {},
   "outputs": [],
   "source": [
    "score_rf = score_rf.mean()"
   ]
  },
  {
   "cell_type": "markdown",
   "metadata": {},
   "source": [
    "# Model Selection - XGB"
   ]
  },
  {
   "cell_type": "code",
   "execution_count": 34,
   "metadata": {},
   "outputs": [
    {
     "data": {
      "text/plain": [
       "XGBClassifier(base_score=0.5, booster='gbtree', colsample_bylevel=1,\n",
       "       colsample_bytree=1, gamma=0, learning_rate=0.002025398988117261,\n",
       "       max_delta_step=0, max_depth=3, min_child_weight=1, missing=None,\n",
       "       n_estimators=715, n_jobs=-1, nthread=None,\n",
       "       objective='binary:logistic', random_state=79, reg_alpha=0,\n",
       "       reg_lambda=1, scale_pos_weight=1, seed=None, silent=True,\n",
       "       subsample=1)"
      ]
     },
     "execution_count": 34,
     "metadata": {},
     "output_type": "execute_result"
    }
   ],
   "source": [
    "model_xgb = XGBClassifier(learning_rate=0.002025398988117261, n_estimators=715, \n",
    "                          random_state = 79, n_jobs = -1)\n",
    "model_xgb"
   ]
  },
  {
   "cell_type": "code",
   "execution_count": 35,
   "metadata": {},
   "outputs": [
    {
     "name": "stdout",
     "output_type": "stream",
     "text": [
      "Wall time: 5.84 s\n",
      "RF점수: [0.83 0.83 0.79 0.87 0.85 0.81 0.82 0.79 0.89 0.85] \n",
      "RF평균:  0.8328\n"
     ]
    }
   ],
   "source": [
    "import warnings\n",
    "warnings.filterwarnings('ignore')\n",
    "\n",
    "model_xgb.fit(X_train, y_train)\n",
    "%time score_xgb = cross_val_score(model_xgb, X_train, y_train, cv = 10)\n",
    "\n",
    "#print(f\"{np.round(scores_age, 2)} \\n {scores_age.mean(): .2f}\")\n",
    "print(f\"RF점수: {np.round(score_xgb, 2)} \\nRF평균: {score_xgb.mean(): .4f}\")"
   ]
  },
  {
   "cell_type": "code",
   "execution_count": 36,
   "metadata": {},
   "outputs": [],
   "source": [
    "score_xgb = score_xgb.mean()"
   ]
  },
  {
   "cell_type": "markdown",
   "metadata": {},
   "source": [
    "# Feature Importance - RF"
   ]
  },
  {
   "cell_type": "code",
   "execution_count": 13,
   "metadata": {},
   "outputs": [
    {
     "name": "stdout",
     "output_type": "stream",
     "text": [
      "[('Parch', 0.021245574158091207), ('SibSp', 0.033663204577004585), ('Fare_fill', 0.23193219791464031), ('Familysize', 0.05131455307876629), ('Sex_female', 0.10790412688459425), ('Embarked_fill_C', 0.012237109114714494), ('Embarked_fill_S', 0.01648404960383294), ('Name_encode_Master', 0.008876325864346706), ('Name_encode_Miss', 0.03659710985198958), ('Name_encode_Mr', 0.13354569742660724), ('Name_encode_Mrs', 0.035358712119620654), ('Pclass_1', 0.026597533717587152), ('Pclass_2', 0.014990299985685965), ('Pclass_3', 0.04889197731764719), ('Age_encode', 0.22036152838487116)]\n"
     ]
    },
    {
     "data": {
      "text/html": [
       "<div>\n",
       "<style scoped>\n",
       "    .dataframe tbody tr th:only-of-type {\n",
       "        vertical-align: middle;\n",
       "    }\n",
       "\n",
       "    .dataframe tbody tr th {\n",
       "        vertical-align: top;\n",
       "    }\n",
       "\n",
       "    .dataframe thead th {\n",
       "        text-align: right;\n",
       "    }\n",
       "</style>\n",
       "<table border=\"1\" class=\"dataframe\">\n",
       "  <thead>\n",
       "    <tr style=\"text-align: right;\">\n",
       "      <th></th>\n",
       "      <th>feature</th>\n",
       "      <th>importance</th>\n",
       "    </tr>\n",
       "  </thead>\n",
       "  <tbody>\n",
       "    <tr>\n",
       "      <th>2</th>\n",
       "      <td>Fare_fill</td>\n",
       "      <td>0.231932</td>\n",
       "    </tr>\n",
       "    <tr>\n",
       "      <th>14</th>\n",
       "      <td>Age_encode</td>\n",
       "      <td>0.220362</td>\n",
       "    </tr>\n",
       "    <tr>\n",
       "      <th>9</th>\n",
       "      <td>Name_encode_Mr</td>\n",
       "      <td>0.133546</td>\n",
       "    </tr>\n",
       "    <tr>\n",
       "      <th>4</th>\n",
       "      <td>Sex_female</td>\n",
       "      <td>0.107904</td>\n",
       "    </tr>\n",
       "    <tr>\n",
       "      <th>3</th>\n",
       "      <td>Familysize</td>\n",
       "      <td>0.051315</td>\n",
       "    </tr>\n",
       "    <tr>\n",
       "      <th>13</th>\n",
       "      <td>Pclass_3</td>\n",
       "      <td>0.048892</td>\n",
       "    </tr>\n",
       "    <tr>\n",
       "      <th>8</th>\n",
       "      <td>Name_encode_Miss</td>\n",
       "      <td>0.036597</td>\n",
       "    </tr>\n",
       "    <tr>\n",
       "      <th>10</th>\n",
       "      <td>Name_encode_Mrs</td>\n",
       "      <td>0.035359</td>\n",
       "    </tr>\n",
       "    <tr>\n",
       "      <th>1</th>\n",
       "      <td>SibSp</td>\n",
       "      <td>0.033663</td>\n",
       "    </tr>\n",
       "    <tr>\n",
       "      <th>11</th>\n",
       "      <td>Pclass_1</td>\n",
       "      <td>0.026598</td>\n",
       "    </tr>\n",
       "    <tr>\n",
       "      <th>0</th>\n",
       "      <td>Parch</td>\n",
       "      <td>0.021246</td>\n",
       "    </tr>\n",
       "    <tr>\n",
       "      <th>6</th>\n",
       "      <td>Embarked_fill_S</td>\n",
       "      <td>0.016484</td>\n",
       "    </tr>\n",
       "    <tr>\n",
       "      <th>12</th>\n",
       "      <td>Pclass_2</td>\n",
       "      <td>0.014990</td>\n",
       "    </tr>\n",
       "    <tr>\n",
       "      <th>5</th>\n",
       "      <td>Embarked_fill_C</td>\n",
       "      <td>0.012237</td>\n",
       "    </tr>\n",
       "    <tr>\n",
       "      <th>7</th>\n",
       "      <td>Name_encode_Master</td>\n",
       "      <td>0.008876</td>\n",
       "    </tr>\n",
       "  </tbody>\n",
       "</table>\n",
       "</div>"
      ],
      "text/plain": [
       "               feature  importance\n",
       "2            Fare_fill    0.231932\n",
       "14          Age_encode    0.220362\n",
       "9       Name_encode_Mr    0.133546\n",
       "4           Sex_female    0.107904\n",
       "3           Familysize    0.051315\n",
       "13            Pclass_3    0.048892\n",
       "8     Name_encode_Miss    0.036597\n",
       "10     Name_encode_Mrs    0.035359\n",
       "1                SibSp    0.033663\n",
       "11            Pclass_1    0.026598\n",
       "0                Parch    0.021246\n",
       "6      Embarked_fill_S    0.016484\n",
       "12            Pclass_2    0.014990\n",
       "5      Embarked_fill_C    0.012237\n",
       "7   Name_encode_Master    0.008876"
      ]
     },
     "execution_count": 13,
     "metadata": {},
     "output_type": "execute_result"
    }
   ],
   "source": [
    "print(list(zip(feature_names, model_rf.feature_importances_)))\n",
    "feature_df = list(zip(feature_names, model_rf.feature_importances_))\n",
    "feature_df = pd.DataFrame(feature_df)\n",
    "feature_df.columns = feature_df.columns.astype(str)\n",
    "feature_df.columns = [\"feature\", \"importance\"]\n",
    "feature_df.sort_values(by=['importance', 'feature'], ascending=[False, True], inplace=True)\n",
    "feature_df"
   ]
  },
  {
   "cell_type": "markdown",
   "metadata": {},
   "source": [
    "# Feature Importance - XGB"
   ]
  },
  {
   "cell_type": "code",
   "execution_count": 37,
   "metadata": {},
   "outputs": [
    {
     "name": "stdout",
     "output_type": "stream",
     "text": [
      "[('Parch', 0.0046214787), ('Fare_fill', 0.3474912), ('Familysize', 0.09441021), ('Embarked_fill_C', 0.043573942), ('Embarked_fill_S', 0.017385563), ('Name_encode_Mr', 0.15735035), ('Pclass_1', 0.043353874), ('Pclass_2', 0.048855633), ('Pclass_3', 0.15735035), ('Age_encode', 0.085607395)]\n"
     ]
    },
    {
     "data": {
      "text/html": [
       "<div>\n",
       "<style scoped>\n",
       "    .dataframe tbody tr th:only-of-type {\n",
       "        vertical-align: middle;\n",
       "    }\n",
       "\n",
       "    .dataframe tbody tr th {\n",
       "        vertical-align: top;\n",
       "    }\n",
       "\n",
       "    .dataframe thead th {\n",
       "        text-align: right;\n",
       "    }\n",
       "</style>\n",
       "<table border=\"1\" class=\"dataframe\">\n",
       "  <thead>\n",
       "    <tr style=\"text-align: right;\">\n",
       "      <th></th>\n",
       "      <th>feature</th>\n",
       "      <th>importance</th>\n",
       "    </tr>\n",
       "  </thead>\n",
       "  <tbody>\n",
       "    <tr>\n",
       "      <th>1</th>\n",
       "      <td>Fare_fill</td>\n",
       "      <td>0.347491</td>\n",
       "    </tr>\n",
       "    <tr>\n",
       "      <th>5</th>\n",
       "      <td>Name_encode_Mr</td>\n",
       "      <td>0.157350</td>\n",
       "    </tr>\n",
       "    <tr>\n",
       "      <th>8</th>\n",
       "      <td>Pclass_3</td>\n",
       "      <td>0.157350</td>\n",
       "    </tr>\n",
       "    <tr>\n",
       "      <th>2</th>\n",
       "      <td>Familysize</td>\n",
       "      <td>0.094410</td>\n",
       "    </tr>\n",
       "    <tr>\n",
       "      <th>9</th>\n",
       "      <td>Age_encode</td>\n",
       "      <td>0.085607</td>\n",
       "    </tr>\n",
       "    <tr>\n",
       "      <th>7</th>\n",
       "      <td>Pclass_2</td>\n",
       "      <td>0.048856</td>\n",
       "    </tr>\n",
       "    <tr>\n",
       "      <th>3</th>\n",
       "      <td>Embarked_fill_C</td>\n",
       "      <td>0.043574</td>\n",
       "    </tr>\n",
       "    <tr>\n",
       "      <th>6</th>\n",
       "      <td>Pclass_1</td>\n",
       "      <td>0.043354</td>\n",
       "    </tr>\n",
       "    <tr>\n",
       "      <th>4</th>\n",
       "      <td>Embarked_fill_S</td>\n",
       "      <td>0.017386</td>\n",
       "    </tr>\n",
       "    <tr>\n",
       "      <th>0</th>\n",
       "      <td>Parch</td>\n",
       "      <td>0.004621</td>\n",
       "    </tr>\n",
       "  </tbody>\n",
       "</table>\n",
       "</div>"
      ],
      "text/plain": [
       "           feature  importance\n",
       "1        Fare_fill    0.347491\n",
       "5   Name_encode_Mr    0.157350\n",
       "8         Pclass_3    0.157350\n",
       "2       Familysize    0.094410\n",
       "9       Age_encode    0.085607\n",
       "7         Pclass_2    0.048856\n",
       "3  Embarked_fill_C    0.043574\n",
       "6         Pclass_1    0.043354\n",
       "4  Embarked_fill_S    0.017386\n",
       "0            Parch    0.004621"
      ]
     },
     "execution_count": 37,
     "metadata": {},
     "output_type": "execute_result"
    }
   ],
   "source": [
    "print(list(zip(feature_names, model_xgb.feature_importances_)))\n",
    "feature_df = list(zip(feature_names, model_xgb.feature_importances_))\n",
    "feature_df = pd.DataFrame(feature_df)\n",
    "feature_df.columns = feature_df.columns.astype(str)\n",
    "feature_df.columns = [\"feature\", \"importance\"]\n",
    "feature_df.sort_values(by=['importance', 'feature'], ascending=[False, True], inplace=True)\n",
    "feature_df"
   ]
  },
  {
   "cell_type": "markdown",
   "metadata": {},
   "source": [
    "# Predict & Submit"
   ]
  },
  {
   "cell_type": "code",
   "execution_count": 16,
   "metadata": {},
   "outputs": [],
   "source": [
    "import datetime\n",
    "today_titanic = datetime.datetime.today().strftime(\"%y%m%d\")"
   ]
  },
  {
   "cell_type": "code",
   "execution_count": 17,
   "metadata": {},
   "outputs": [
    {
     "name": "stdout",
     "output_type": "stream",
     "text": [
      "(418, 2)\n"
     ]
    },
    {
     "data": {
      "text/html": [
       "<div>\n",
       "<style scoped>\n",
       "    .dataframe tbody tr th:only-of-type {\n",
       "        vertical-align: middle;\n",
       "    }\n",
       "\n",
       "    .dataframe tbody tr th {\n",
       "        vertical-align: top;\n",
       "    }\n",
       "\n",
       "    .dataframe thead th {\n",
       "        text-align: right;\n",
       "    }\n",
       "</style>\n",
       "<table border=\"1\" class=\"dataframe\">\n",
       "  <thead>\n",
       "    <tr style=\"text-align: right;\">\n",
       "      <th></th>\n",
       "      <th>PassengerId</th>\n",
       "      <th>Survived</th>\n",
       "    </tr>\n",
       "  </thead>\n",
       "  <tbody>\n",
       "    <tr>\n",
       "      <th>0</th>\n",
       "      <td>892</td>\n",
       "      <td>0</td>\n",
       "    </tr>\n",
       "    <tr>\n",
       "      <th>1</th>\n",
       "      <td>893</td>\n",
       "      <td>0</td>\n",
       "    </tr>\n",
       "    <tr>\n",
       "      <th>2</th>\n",
       "      <td>894</td>\n",
       "      <td>0</td>\n",
       "    </tr>\n",
       "    <tr>\n",
       "      <th>3</th>\n",
       "      <td>895</td>\n",
       "      <td>1</td>\n",
       "    </tr>\n",
       "    <tr>\n",
       "      <th>4</th>\n",
       "      <td>896</td>\n",
       "      <td>0</td>\n",
       "    </tr>\n",
       "  </tbody>\n",
       "</table>\n",
       "</div>"
      ],
      "text/plain": [
       "   PassengerId  Survived\n",
       "0          892         0\n",
       "1          893         0\n",
       "2          894         0\n",
       "3          895         1\n",
       "4          896         0"
      ]
     },
     "execution_count": 17,
     "metadata": {},
     "output_type": "execute_result"
    }
   ],
   "source": [
    "predictions_rf = model_rf.predict(X_test)\n",
    "submission_rf = pd.read_csv(\"d:/Python/data/titanic/gender_submission.csv\")\n",
    "\n",
    "submission_rf[\"Survived\"] = predictions_rf\n",
    "\n",
    "print(submission_rf.shape)\n",
    "submission_rf.head()"
   ]
  },
  {
   "cell_type": "code",
   "execution_count": 22,
   "metadata": {},
   "outputs": [],
   "source": [
    "submission_rf.to_csv(f\"d:/Python/data/titanic/submission_titanic_RF_{score_rf:.4f}_{today_titanic}.csv\", index=False)"
   ]
  },
  {
   "cell_type": "code",
   "execution_count": 31,
   "metadata": {},
   "outputs": [
    {
     "name": "stdout",
     "output_type": "stream",
     "text": [
      "(418, 2)\n"
     ]
    },
    {
     "data": {
      "text/html": [
       "<div>\n",
       "<style scoped>\n",
       "    .dataframe tbody tr th:only-of-type {\n",
       "        vertical-align: middle;\n",
       "    }\n",
       "\n",
       "    .dataframe tbody tr th {\n",
       "        vertical-align: top;\n",
       "    }\n",
       "\n",
       "    .dataframe thead th {\n",
       "        text-align: right;\n",
       "    }\n",
       "</style>\n",
       "<table border=\"1\" class=\"dataframe\">\n",
       "  <thead>\n",
       "    <tr style=\"text-align: right;\">\n",
       "      <th></th>\n",
       "      <th>PassengerId</th>\n",
       "      <th>Survived</th>\n",
       "    </tr>\n",
       "  </thead>\n",
       "  <tbody>\n",
       "    <tr>\n",
       "      <th>0</th>\n",
       "      <td>892</td>\n",
       "      <td>0</td>\n",
       "    </tr>\n",
       "    <tr>\n",
       "      <th>1</th>\n",
       "      <td>893</td>\n",
       "      <td>1</td>\n",
       "    </tr>\n",
       "    <tr>\n",
       "      <th>2</th>\n",
       "      <td>894</td>\n",
       "      <td>0</td>\n",
       "    </tr>\n",
       "    <tr>\n",
       "      <th>3</th>\n",
       "      <td>895</td>\n",
       "      <td>0</td>\n",
       "    </tr>\n",
       "    <tr>\n",
       "      <th>4</th>\n",
       "      <td>896</td>\n",
       "      <td>1</td>\n",
       "    </tr>\n",
       "  </tbody>\n",
       "</table>\n",
       "</div>"
      ],
      "text/plain": [
       "   PassengerId  Survived\n",
       "0          892         0\n",
       "1          893         1\n",
       "2          894         0\n",
       "3          895         0\n",
       "4          896         1"
      ]
     },
     "execution_count": 31,
     "metadata": {},
     "output_type": "execute_result"
    }
   ],
   "source": [
    "predictions_xgb = model_xgb.predict(X_test)\n",
    "submission_xgb = pd.read_csv(\"d:/Python/data/titanic/gender_submission.csv\")\n",
    "\n",
    "submission_xgb[\"Survived\"] = predictions_xgb\n",
    "\n",
    "print(submission_xgb.shape)\n",
    "submission_xgb.head()"
   ]
  },
  {
   "cell_type": "code",
   "execution_count": 32,
   "metadata": {},
   "outputs": [],
   "source": [
    "submission_xgb.to_csv(f\"d:/Python/data/titanic/submission_titanic_XGB_{score_xgb:.4f}_{today_titanic}.csv\", index=False)"
   ]
  },
  {
   "cell_type": "code",
   "execution_count": null,
   "metadata": {},
   "outputs": [],
   "source": []
  }
 ],
 "metadata": {
  "kernelspec": {
   "display_name": "Python 3",
   "language": "python",
   "name": "python3"
  },
  "language_info": {
   "codemirror_mode": {
    "name": "ipython",
    "version": 3
   },
   "file_extension": ".py",
   "mimetype": "text/x-python",
   "name": "python",
   "nbconvert_exporter": "python",
   "pygments_lexer": "ipython3",
   "version": "3.6.5"
  }
 },
 "nbformat": 4,
 "nbformat_minor": 2
}
