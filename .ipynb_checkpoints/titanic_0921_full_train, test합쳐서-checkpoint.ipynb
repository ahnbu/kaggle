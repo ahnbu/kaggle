{
 "cells": [
  {
   "cell_type": "code",
   "execution_count": 3,
   "metadata": {},
   "outputs": [
    {
     "name": "stdout",
     "output_type": "stream",
     "text": [
      "test\n"
     ]
    }
   ],
   "source": [
    "print(\"test\")"
   ]
  },
  {
   "cell_type": "markdown",
   "metadata": {},
   "source": [
    "# Data load"
   ]
  },
  {
   "cell_type": "code",
   "execution_count": 4,
   "metadata": {},
   "outputs": [
    {
     "name": "stdout",
     "output_type": "stream",
     "text": [
      "(891, 11) (418, 10)\n"
     ]
    }
   ],
   "source": [
    "import pandas as pd\n",
    "import numpy as np\n",
    "\n",
    "train = pd.read_csv(\"d:/Python/data/titanic/train.csv\", index_col = \"PassengerId\")\n",
    "test = pd.read_csv(\"d:/Python/data/titanic/test.csv\", index_col = \"PassengerId\")\n",
    "\n",
    "print(train.shape, test.shape)"
   ]
  },
  {
   "cell_type": "markdown",
   "metadata": {},
   "source": [
    "# Train + Test"
   ]
  },
  {
   "cell_type": "code",
   "execution_count": 5,
   "metadata": {},
   "outputs": [],
   "source": [
    "total = pd.concat([train, test], axis = 0, sort = True) \n",
    "# pd.concat([df1, df2], axis=1) axis =1 로 규정하면, 열로 합치는 방식"
   ]
  },
  {
   "cell_type": "markdown",
   "metadata": {},
   "source": [
    "# NaN처리"
   ]
  },
  {
   "cell_type": "code",
   "execution_count": 6,
   "metadata": {},
   "outputs": [],
   "source": [
    "import seaborn as sns\n",
    "import matplotlib as mpl\n",
    "import matplotlib.pyplot as plt\n",
    "% matplotlib inline"
   ]
  },
  {
   "cell_type": "code",
   "execution_count": 7,
   "metadata": {},
   "outputs": [
    {
     "data": {
      "text/plain": [
       "<matplotlib.axes._subplots.AxesSubplot at 0xac8a6a0>"
      ]
     },
     "execution_count": 7,
     "metadata": {},
     "output_type": "execute_result"
    },
    {
     "data": {
      "image/png": "[encoded data removed]",
      "text/plain": [
       "<Figure size 432x288 with 1 Axes>"
      ]
     },
     "metadata": {},
     "output_type": "display_data"
    }
   ],
   "source": [
    "sns.countplot(total[\"Embarked\"])"
   ]
  },
  {
   "cell_type": "code",
   "execution_count": 8,
   "metadata": {},
   "outputs": [
    {
     "data": {
      "text/html": [
       "<div>\n",
       "<style scoped>\n",
       "    .dataframe tbody tr th:only-of-type {\n",
       "        vertical-align: middle;\n",
       "    }\n",
       "\n",
       "    .dataframe tbody tr th {\n",
       "        vertical-align: top;\n",
       "    }\n",
       "\n",
       "    .dataframe thead th {\n",
       "        text-align: right;\n",
       "    }\n",
       "</style>\n",
       "<table border=\"1\" class=\"dataframe\">\n",
       "  <thead>\n",
       "    <tr style=\"text-align: right;\">\n",
       "      <th></th>\n",
       "      <th>Age</th>\n",
       "      <th>Cabin</th>\n",
       "      <th>Embarked</th>\n",
       "      <th>Fare</th>\n",
       "      <th>Name</th>\n",
       "      <th>Parch</th>\n",
       "      <th>Pclass</th>\n",
       "      <th>Sex</th>\n",
       "      <th>SibSp</th>\n",
       "      <th>Survived</th>\n",
       "      <th>Ticket</th>\n",
       "      <th>Embarked_fill</th>\n",
       "    </tr>\n",
       "    <tr>\n",
       "      <th>PassengerId</th>\n",
       "      <th></th>\n",
       "      <th></th>\n",
       "      <th></th>\n",
       "      <th></th>\n",
       "      <th></th>\n",
       "      <th></th>\n",
       "      <th></th>\n",
       "      <th></th>\n",
       "      <th></th>\n",
       "      <th></th>\n",
       "      <th></th>\n",
       "      <th></th>\n",
       "    </tr>\n",
       "  </thead>\n",
       "  <tbody>\n",
       "  </tbody>\n",
       "</table>\n",
       "</div>"
      ],
      "text/plain": [
       "Empty DataFrame\n",
       "Columns: [Age, Cabin, Embarked, Fare, Name, Parch, Pclass, Sex, SibSp, Survived, Ticket, Embarked_fill]\n",
       "Index: []"
      ]
     },
     "execution_count": 8,
     "metadata": {},
     "output_type": "execute_result"
    }
   ],
   "source": [
    "# Embarked 2개 --> S로\n",
    "\n",
    "total[\"Embarked_fill\"] = total[\"Embarked\"]\n",
    "total.loc[total[\"Embarked\"].isnull(), \"Embarked_fill\"] = \"S\"\n",
    "total.loc[total[\"Embarked_fill\"].isnull()]"
   ]
  },
  {
   "cell_type": "code",
   "execution_count": 9,
   "metadata": {},
   "outputs": [
    {
     "data": {
      "text/plain": [
       "<matplotlib.axes._subplots.AxesSubplot at 0xb0bee80>"
      ]
     },
     "execution_count": 9,
     "metadata": {},
     "output_type": "execute_result"
    },
    {
     "data": {
      "image/png": "[encoded data removed]",
      "text/plain": [
       "<Figure size 432x288 with 1 Axes>"
      ]
     },
     "metadata": {},
     "output_type": "display_data"
    }
   ],
   "source": [
    "sns.barplot(data = total, x = \"Pclass\", y = \"Fare\")"
   ]
  },
  {
   "cell_type": "code",
   "execution_count": 10,
   "metadata": {},
   "outputs": [
    {
     "data": {
      "text/html": [
       "<div>\n",
       "<style scoped>\n",
       "    .dataframe tbody tr th:only-of-type {\n",
       "        vertical-align: middle;\n",
       "    }\n",
       "\n",
       "    .dataframe tbody tr th {\n",
       "        vertical-align: top;\n",
       "    }\n",
       "\n",
       "    .dataframe thead th {\n",
       "        text-align: right;\n",
       "    }\n",
       "</style>\n",
       "<table border=\"1\" class=\"dataframe\">\n",
       "  <thead>\n",
       "    <tr style=\"text-align: right;\">\n",
       "      <th></th>\n",
       "      <th>Age</th>\n",
       "      <th>Cabin</th>\n",
       "      <th>Embarked</th>\n",
       "      <th>Fare</th>\n",
       "      <th>Name</th>\n",
       "      <th>Parch</th>\n",
       "      <th>Pclass</th>\n",
       "      <th>Sex</th>\n",
       "      <th>SibSp</th>\n",
       "      <th>Survived</th>\n",
       "      <th>Ticket</th>\n",
       "      <th>Embarked_fill</th>\n",
       "      <th>Fare_fill</th>\n",
       "    </tr>\n",
       "    <tr>\n",
       "      <th>PassengerId</th>\n",
       "      <th></th>\n",
       "      <th></th>\n",
       "      <th></th>\n",
       "      <th></th>\n",
       "      <th></th>\n",
       "      <th></th>\n",
       "      <th></th>\n",
       "      <th></th>\n",
       "      <th></th>\n",
       "      <th></th>\n",
       "      <th></th>\n",
       "      <th></th>\n",
       "      <th></th>\n",
       "    </tr>\n",
       "  </thead>\n",
       "  <tbody>\n",
       "  </tbody>\n",
       "</table>\n",
       "</div>"
      ],
      "text/plain": [
       "Empty DataFrame\n",
       "Columns: [Age, Cabin, Embarked, Fare, Name, Parch, Pclass, Sex, SibSp, Survived, Ticket, Embarked_fill, Fare_fill]\n",
       "Index: []"
      ]
     },
     "execution_count": 10,
     "metadata": {},
     "output_type": "execute_result"
    }
   ],
   "source": [
    "# Fare NaN 1개 --> Pclass 3이라서, 3의 평균 Fare로 처리\n",
    "total[\"Fare_fill\"] = total[\"Fare\"]\n",
    "total.loc[total[\"Fare\"].isnull(), \"Fare_fill\"] = np.array(total.loc[total[\"Pclass\"] == 3].mean())[1]\n",
    "total.loc[total[\"Fare_fill\"].isnull()]"
   ]
  },
  {
   "cell_type": "code",
   "execution_count": 11,
   "metadata": {},
   "outputs": [],
   "source": [
    "total[\"Familysize\"] = total[\"Parch\"] + total[\"SibSp\"]"
   ]
  },
  {
   "cell_type": "code",
   "execution_count": 12,
   "metadata": {},
   "outputs": [
    {
     "data": {
      "text/plain": [
       "<matplotlib.axes._subplots.AxesSubplot at 0xb1efc88>"
      ]
     },
     "execution_count": 12,
     "metadata": {},
     "output_type": "execute_result"
    },
    {
     "data": {
      "image/png": "[encoded data removed]",
      "text/plain": [
       "<Figure size 1080x360 with 3 Axes>"
      ]
     },
     "metadata": {},
     "output_type": "display_data"
    }
   ],
   "source": [
    "fig, (ax1, ax2, ax3) = plt.subplots(ncols = 3) \n",
    "#fig 또는 figure라고 해도 됨. plt.subplot. cols가 아니라 ncols\n",
    "fig.set_size_inches(15, 5)\n",
    "\n",
    "sns.barplot(data = total, x = \"SibSp\", y = \"Age\", ax = ax1)\n",
    "sns.barplot(data = total, x = \"Parch\", y = \"Age\", ax = ax2)\n",
    "sns.barplot(data = total, x = \"Familysize\", y = \"Age\", ax = ax3)"
   ]
  },
  {
   "cell_type": "code",
   "execution_count": 13,
   "metadata": {},
   "outputs": [
    {
     "data": {
      "text/html": [
       "<div>\n",
       "<style scoped>\n",
       "    .dataframe tbody tr th:only-of-type {\n",
       "        vertical-align: middle;\n",
       "    }\n",
       "\n",
       "    .dataframe tbody tr th {\n",
       "        vertical-align: top;\n",
       "    }\n",
       "\n",
       "    .dataframe thead th {\n",
       "        text-align: right;\n",
       "    }\n",
       "</style>\n",
       "<table border=\"1\" class=\"dataframe\">\n",
       "  <thead>\n",
       "    <tr style=\"text-align: right;\">\n",
       "      <th></th>\n",
       "      <th>Age</th>\n",
       "      <th>Cabin</th>\n",
       "      <th>Embarked</th>\n",
       "      <th>Fare</th>\n",
       "      <th>Name</th>\n",
       "      <th>Parch</th>\n",
       "      <th>Pclass</th>\n",
       "      <th>Sex</th>\n",
       "      <th>SibSp</th>\n",
       "      <th>Survived</th>\n",
       "      <th>Ticket</th>\n",
       "      <th>Embarked_fill</th>\n",
       "      <th>Fare_fill</th>\n",
       "      <th>Familysize</th>\n",
       "      <th>Name_encode</th>\n",
       "    </tr>\n",
       "    <tr>\n",
       "      <th>PassengerId</th>\n",
       "      <th></th>\n",
       "      <th></th>\n",
       "      <th></th>\n",
       "      <th></th>\n",
       "      <th></th>\n",
       "      <th></th>\n",
       "      <th></th>\n",
       "      <th></th>\n",
       "      <th></th>\n",
       "      <th></th>\n",
       "      <th></th>\n",
       "      <th></th>\n",
       "      <th></th>\n",
       "      <th></th>\n",
       "      <th></th>\n",
       "    </tr>\n",
       "  </thead>\n",
       "  <tbody>\n",
       "    <tr>\n",
       "      <th>31</th>\n",
       "      <td>40.0</td>\n",
       "      <td>NaN</td>\n",
       "      <td>C</td>\n",
       "      <td>27.7208</td>\n",
       "      <td>Uruchurtu, Don. Manuel E</td>\n",
       "      <td>0</td>\n",
       "      <td>1</td>\n",
       "      <td>male</td>\n",
       "      <td>0</td>\n",
       "      <td>0.0</td>\n",
       "      <td>PC 17601</td>\n",
       "      <td>C</td>\n",
       "      <td>27.7208</td>\n",
       "      <td>0</td>\n",
       "      <td>NaN</td>\n",
       "    </tr>\n",
       "    <tr>\n",
       "      <th>150</th>\n",
       "      <td>42.0</td>\n",
       "      <td>NaN</td>\n",
       "      <td>S</td>\n",
       "      <td>13.0000</td>\n",
       "      <td>Byles, Rev. Thomas Roussel Davids</td>\n",
       "      <td>0</td>\n",
       "      <td>2</td>\n",
       "      <td>male</td>\n",
       "      <td>0</td>\n",
       "      <td>0.0</td>\n",
       "      <td>244310</td>\n",
       "      <td>S</td>\n",
       "      <td>13.0000</td>\n",
       "      <td>0</td>\n",
       "      <td>NaN</td>\n",
       "    </tr>\n",
       "    <tr>\n",
       "      <th>151</th>\n",
       "      <td>51.0</td>\n",
       "      <td>NaN</td>\n",
       "      <td>S</td>\n",
       "      <td>12.5250</td>\n",
       "      <td>Bateman, Rev. Robert James</td>\n",
       "      <td>0</td>\n",
       "      <td>2</td>\n",
       "      <td>male</td>\n",
       "      <td>0</td>\n",
       "      <td>0.0</td>\n",
       "      <td>S.O.P. 1166</td>\n",
       "      <td>S</td>\n",
       "      <td>12.5250</td>\n",
       "      <td>0</td>\n",
       "      <td>NaN</td>\n",
       "    </tr>\n",
       "    <tr>\n",
       "      <th>246</th>\n",
       "      <td>44.0</td>\n",
       "      <td>C78</td>\n",
       "      <td>Q</td>\n",
       "      <td>90.0000</td>\n",
       "      <td>Minahan, Dr. William Edward</td>\n",
       "      <td>0</td>\n",
       "      <td>1</td>\n",
       "      <td>male</td>\n",
       "      <td>2</td>\n",
       "      <td>0.0</td>\n",
       "      <td>19928</td>\n",
       "      <td>Q</td>\n",
       "      <td>90.0000</td>\n",
       "      <td>2</td>\n",
       "      <td>NaN</td>\n",
       "    </tr>\n",
       "    <tr>\n",
       "      <th>250</th>\n",
       "      <td>54.0</td>\n",
       "      <td>NaN</td>\n",
       "      <td>S</td>\n",
       "      <td>26.0000</td>\n",
       "      <td>Carter, Rev. Ernest Courtenay</td>\n",
       "      <td>0</td>\n",
       "      <td>2</td>\n",
       "      <td>male</td>\n",
       "      <td>1</td>\n",
       "      <td>0.0</td>\n",
       "      <td>244252</td>\n",
       "      <td>S</td>\n",
       "      <td>26.0000</td>\n",
       "      <td>1</td>\n",
       "      <td>NaN</td>\n",
       "    </tr>\n",
       "  </tbody>\n",
       "</table>\n",
       "</div>"
      ],
      "text/plain": [
       "              Age Cabin Embarked     Fare                               Name  \\\n",
       "PassengerId                                                                    \n",
       "31           40.0   NaN        C  27.7208           Uruchurtu, Don. Manuel E   \n",
       "150          42.0   NaN        S  13.0000  Byles, Rev. Thomas Roussel Davids   \n",
       "151          51.0   NaN        S  12.5250         Bateman, Rev. Robert James   \n",
       "246          44.0   C78        Q  90.0000        Minahan, Dr. William Edward   \n",
       "250          54.0   NaN        S  26.0000      Carter, Rev. Ernest Courtenay   \n",
       "\n",
       "             Parch  Pclass   Sex  SibSp  Survived       Ticket Embarked_fill  \\\n",
       "PassengerId                                                                    \n",
       "31               0       1  male      0       0.0     PC 17601             C   \n",
       "150              0       2  male      0       0.0       244310             S   \n",
       "151              0       2  male      0       0.0  S.O.P. 1166             S   \n",
       "246              0       1  male      2       0.0        19928             Q   \n",
       "250              0       2  male      1       0.0       244252             S   \n",
       "\n",
       "             Fare_fill  Familysize Name_encode  \n",
       "PassengerId                                     \n",
       "31             27.7208           0         NaN  \n",
       "150            13.0000           0         NaN  \n",
       "151            12.5250           0         NaN  \n",
       "246            90.0000           2         NaN  \n",
       "250            26.0000           1         NaN  "
      ]
     },
     "execution_count": 13,
     "metadata": {},
     "output_type": "execute_result"
    }
   ],
   "source": [
    "# total[\"Name_encode\"] = total[\"Name\"]\n",
    "total.loc[total[\"Name\"].str.contains(\"Master\"), \"Name_encode\"] = \"Master\"\n",
    "total.loc[total[\"Name\"].str.contains(\"Miss\"), \"Name_encode\"] = \"Miss\"\n",
    "total.loc[total[\"Name\"].str.contains(\"Mr\"), \"Name_encode\"] = \"Mr\"\n",
    "total.loc[total[\"Name\"].str.contains(\"Mrs\"), \"Name_encode\"] = \"Mrs\"\n",
    "total.loc[total[\"Name\"].str.contains(\"Ms\"), \"Name_encode\"] = \"Mrs\"\n",
    "total.loc[total[\"Name_encode\"].isnull()].head()"
   ]
  },
  {
   "cell_type": "code",
   "execution_count": 14,
   "metadata": {},
   "outputs": [
    {
     "data": {
      "text/html": [
       "<div>\n",
       "<style scoped>\n",
       "    .dataframe tbody tr th:only-of-type {\n",
       "        vertical-align: middle;\n",
       "    }\n",
       "\n",
       "    .dataframe tbody tr th {\n",
       "        vertical-align: top;\n",
       "    }\n",
       "\n",
       "    .dataframe thead th {\n",
       "        text-align: right;\n",
       "    }\n",
       "</style>\n",
       "<table border=\"1\" class=\"dataframe\">\n",
       "  <thead>\n",
       "    <tr style=\"text-align: right;\">\n",
       "      <th></th>\n",
       "      <th>Age</th>\n",
       "      <th>Cabin</th>\n",
       "      <th>Embarked</th>\n",
       "      <th>Fare</th>\n",
       "      <th>Name</th>\n",
       "      <th>Parch</th>\n",
       "      <th>Pclass</th>\n",
       "      <th>Sex</th>\n",
       "      <th>SibSp</th>\n",
       "      <th>Survived</th>\n",
       "      <th>Ticket</th>\n",
       "      <th>Embarked_fill</th>\n",
       "      <th>Fare_fill</th>\n",
       "      <th>Familysize</th>\n",
       "      <th>Name_encode</th>\n",
       "    </tr>\n",
       "    <tr>\n",
       "      <th>PassengerId</th>\n",
       "      <th></th>\n",
       "      <th></th>\n",
       "      <th></th>\n",
       "      <th></th>\n",
       "      <th></th>\n",
       "      <th></th>\n",
       "      <th></th>\n",
       "      <th></th>\n",
       "      <th></th>\n",
       "      <th></th>\n",
       "      <th></th>\n",
       "      <th></th>\n",
       "      <th></th>\n",
       "      <th></th>\n",
       "      <th></th>\n",
       "    </tr>\n",
       "  </thead>\n",
       "  <tbody>\n",
       "  </tbody>\n",
       "</table>\n",
       "</div>"
      ],
      "text/plain": [
       "Empty DataFrame\n",
       "Columns: [Age, Cabin, Embarked, Fare, Name, Parch, Pclass, Sex, SibSp, Survived, Ticket, Embarked_fill, Fare_fill, Familysize, Name_encode]\n",
       "Index: []"
      ]
     },
     "execution_count": 14,
     "metadata": {},
     "output_type": "execute_result"
    }
   ],
   "source": [
    "total.loc[((total[\"Sex\"] == \"female\") & (total[\"Name_encode\"].isnull())), \"Name_encode\"] = \"Miss\"\n",
    "total.loc[((total[\"Sex\"] == \"male\") & (total[\"Name_encode\"].isnull())), \"Name_encode\"] = \"Mr\"\n",
    "\n",
    "#total[[\"Name\", \"Name_encode\"]].head(20)\n",
    "total.loc[total[\"Name_encode\"].isnull()]"
   ]
  },
  {
   "cell_type": "code",
   "execution_count": 15,
   "metadata": {},
   "outputs": [
    {
     "data": {
      "text/plain": [
       "<matplotlib.axes._subplots.AxesSubplot at 0xb4fe9e8>"
      ]
     },
     "execution_count": 15,
     "metadata": {},
     "output_type": "execute_result"
    },
    {
     "data": {
      "image/png": "[encoded data removed]",
      "text/plain": [
       "<Figure size 432x288 with 1 Axes>"
      ]
     },
     "metadata": {},
     "output_type": "display_data"
    }
   ],
   "source": [
    "sns.countplot(total[\"Name_encode\"]) #NaN값은 비워두고 안보여줌"
   ]
  },
  {
   "cell_type": "code",
   "execution_count": 16,
   "metadata": {},
   "outputs": [
    {
     "name": "stdout",
     "output_type": "stream",
     "text": [
      "(1309, 27)\n"
     ]
    },
    {
     "data": {
      "text/html": [
       "<div>\n",
       "<style scoped>\n",
       "    .dataframe tbody tr th:only-of-type {\n",
       "        vertical-align: middle;\n",
       "    }\n",
       "\n",
       "    .dataframe tbody tr th {\n",
       "        vertical-align: top;\n",
       "    }\n",
       "\n",
       "    .dataframe thead th {\n",
       "        text-align: right;\n",
       "    }\n",
       "</style>\n",
       "<table border=\"1\" class=\"dataframe\">\n",
       "  <thead>\n",
       "    <tr style=\"text-align: right;\">\n",
       "      <th></th>\n",
       "      <th>Age</th>\n",
       "      <th>Cabin</th>\n",
       "      <th>Embarked</th>\n",
       "      <th>Fare</th>\n",
       "      <th>Name</th>\n",
       "      <th>Parch</th>\n",
       "      <th>Pclass</th>\n",
       "      <th>Sex</th>\n",
       "      <th>SibSp</th>\n",
       "      <th>Survived</th>\n",
       "      <th>...</th>\n",
       "      <th>Embarked_fill_C</th>\n",
       "      <th>Embarked_fill_Q</th>\n",
       "      <th>Embarked_fill_S</th>\n",
       "      <th>Name_encode_Master</th>\n",
       "      <th>Name_encode_Miss</th>\n",
       "      <th>Name_encode_Mr</th>\n",
       "      <th>Name_encode_Mrs</th>\n",
       "      <th>Pclass_1</th>\n",
       "      <th>Pclass_2</th>\n",
       "      <th>Pclass_3</th>\n",
       "    </tr>\n",
       "    <tr>\n",
       "      <th>PassengerId</th>\n",
       "      <th></th>\n",
       "      <th></th>\n",
       "      <th></th>\n",
       "      <th></th>\n",
       "      <th></th>\n",
       "      <th></th>\n",
       "      <th></th>\n",
       "      <th></th>\n",
       "      <th></th>\n",
       "      <th></th>\n",
       "      <th></th>\n",
       "      <th></th>\n",
       "      <th></th>\n",
       "      <th></th>\n",
       "      <th></th>\n",
       "      <th></th>\n",
       "      <th></th>\n",
       "      <th></th>\n",
       "      <th></th>\n",
       "      <th></th>\n",
       "      <th></th>\n",
       "    </tr>\n",
       "  </thead>\n",
       "  <tbody>\n",
       "    <tr>\n",
       "      <th>1</th>\n",
       "      <td>22.0</td>\n",
       "      <td>NaN</td>\n",
       "      <td>S</td>\n",
       "      <td>7.2500</td>\n",
       "      <td>Braund, Mr. Owen Harris</td>\n",
       "      <td>0</td>\n",
       "      <td>3</td>\n",
       "      <td>male</td>\n",
       "      <td>1</td>\n",
       "      <td>0.0</td>\n",
       "      <td>...</td>\n",
       "      <td>0</td>\n",
       "      <td>0</td>\n",
       "      <td>1</td>\n",
       "      <td>0</td>\n",
       "      <td>0</td>\n",
       "      <td>1</td>\n",
       "      <td>0</td>\n",
       "      <td>0</td>\n",
       "      <td>0</td>\n",
       "      <td>1</td>\n",
       "    </tr>\n",
       "    <tr>\n",
       "      <th>2</th>\n",
       "      <td>38.0</td>\n",
       "      <td>C85</td>\n",
       "      <td>C</td>\n",
       "      <td>71.2833</td>\n",
       "      <td>Cumings, Mrs. John Bradley (Florence Briggs Th...</td>\n",
       "      <td>0</td>\n",
       "      <td>1</td>\n",
       "      <td>female</td>\n",
       "      <td>1</td>\n",
       "      <td>1.0</td>\n",
       "      <td>...</td>\n",
       "      <td>1</td>\n",
       "      <td>0</td>\n",
       "      <td>0</td>\n",
       "      <td>0</td>\n",
       "      <td>0</td>\n",
       "      <td>0</td>\n",
       "      <td>1</td>\n",
       "      <td>1</td>\n",
       "      <td>0</td>\n",
       "      <td>0</td>\n",
       "    </tr>\n",
       "    <tr>\n",
       "      <th>3</th>\n",
       "      <td>26.0</td>\n",
       "      <td>NaN</td>\n",
       "      <td>S</td>\n",
       "      <td>7.9250</td>\n",
       "      <td>Heikkinen, Miss. Laina</td>\n",
       "      <td>0</td>\n",
       "      <td>3</td>\n",
       "      <td>female</td>\n",
       "      <td>0</td>\n",
       "      <td>1.0</td>\n",
       "      <td>...</td>\n",
       "      <td>0</td>\n",
       "      <td>0</td>\n",
       "      <td>1</td>\n",
       "      <td>0</td>\n",
       "      <td>1</td>\n",
       "      <td>0</td>\n",
       "      <td>0</td>\n",
       "      <td>0</td>\n",
       "      <td>0</td>\n",
       "      <td>1</td>\n",
       "    </tr>\n",
       "    <tr>\n",
       "      <th>4</th>\n",
       "      <td>35.0</td>\n",
       "      <td>C123</td>\n",
       "      <td>S</td>\n",
       "      <td>53.1000</td>\n",
       "      <td>Futrelle, Mrs. Jacques Heath (Lily May Peel)</td>\n",
       "      <td>0</td>\n",
       "      <td>1</td>\n",
       "      <td>female</td>\n",
       "      <td>1</td>\n",
       "      <td>1.0</td>\n",
       "      <td>...</td>\n",
       "      <td>0</td>\n",
       "      <td>0</td>\n",
       "      <td>1</td>\n",
       "      <td>0</td>\n",
       "      <td>0</td>\n",
       "      <td>0</td>\n",
       "      <td>1</td>\n",
       "      <td>1</td>\n",
       "      <td>0</td>\n",
       "      <td>0</td>\n",
       "    </tr>\n",
       "    <tr>\n",
       "      <th>5</th>\n",
       "      <td>35.0</td>\n",
       "      <td>NaN</td>\n",
       "      <td>S</td>\n",
       "      <td>8.0500</td>\n",
       "      <td>Allen, Mr. William Henry</td>\n",
       "      <td>0</td>\n",
       "      <td>3</td>\n",
       "      <td>male</td>\n",
       "      <td>0</td>\n",
       "      <td>0.0</td>\n",
       "      <td>...</td>\n",
       "      <td>0</td>\n",
       "      <td>0</td>\n",
       "      <td>1</td>\n",
       "      <td>0</td>\n",
       "      <td>0</td>\n",
       "      <td>1</td>\n",
       "      <td>0</td>\n",
       "      <td>0</td>\n",
       "      <td>0</td>\n",
       "      <td>1</td>\n",
       "    </tr>\n",
       "  </tbody>\n",
       "</table>\n",
       "<p>5 rows × 27 columns</p>\n",
       "</div>"
      ],
      "text/plain": [
       "              Age Cabin Embarked     Fare  \\\n",
       "PassengerId                                 \n",
       "1            22.0   NaN        S   7.2500   \n",
       "2            38.0   C85        C  71.2833   \n",
       "3            26.0   NaN        S   7.9250   \n",
       "4            35.0  C123        S  53.1000   \n",
       "5            35.0   NaN        S   8.0500   \n",
       "\n",
       "                                                          Name  Parch  Pclass  \\\n",
       "PassengerId                                                                     \n",
       "1                                      Braund, Mr. Owen Harris      0       3   \n",
       "2            Cumings, Mrs. John Bradley (Florence Briggs Th...      0       1   \n",
       "3                                       Heikkinen, Miss. Laina      0       3   \n",
       "4                 Futrelle, Mrs. Jacques Heath (Lily May Peel)      0       1   \n",
       "5                                     Allen, Mr. William Henry      0       3   \n",
       "\n",
       "                Sex  SibSp  Survived    ...    Embarked_fill_C  \\\n",
       "PassengerId                             ...                      \n",
       "1              male      1       0.0    ...                  0   \n",
       "2            female      1       1.0    ...                  1   \n",
       "3            female      0       1.0    ...                  0   \n",
       "4            female      1       1.0    ...                  0   \n",
       "5              male      0       0.0    ...                  0   \n",
       "\n",
       "            Embarked_fill_Q  Embarked_fill_S  Name_encode_Master  \\\n",
       "PassengerId                                                        \n",
       "1                         0                1                   0   \n",
       "2                         0                0                   0   \n",
       "3                         0                1                   0   \n",
       "4                         0                1                   0   \n",
       "5                         0                1                   0   \n",
       "\n",
       "            Name_encode_Miss  Name_encode_Mr  Name_encode_Mrs  Pclass_1  \\\n",
       "PassengerId                                                               \n",
       "1                          0               1                0         0   \n",
       "2                          0               0                1         1   \n",
       "3                          1               0                0         0   \n",
       "4                          0               0                1         1   \n",
       "5                          0               1                0         0   \n",
       "\n",
       "             Pclass_2  Pclass_3  \n",
       "PassengerId                      \n",
       "1                   0         1  \n",
       "2                   0         0  \n",
       "3                   0         1  \n",
       "4                   0         0  \n",
       "5                   0         1  \n",
       "\n",
       "[5 rows x 27 columns]"
      ]
     },
     "execution_count": 16,
     "metadata": {},
     "output_type": "execute_result"
    }
   ],
   "source": [
    "def dummy_data(data, columns):\n",
    "    for column in columns:\n",
    "        data = pd.concat([data, pd.get_dummies(data[column], prefix = column)], axis = 1)\n",
    "        # concat으로 DF끼리 합치기, axis =1 으로 열끼리 합치기, 기본은 행끼리\n",
    "        # pd.get_dummies는 원핫인코딩해주는 pandas 함수, 칼럼과 공통어를 지정해주면 됨.\n",
    "        #data = data.drop(column, axis = 1) #axis = 1이 없으면, 해당 이름의 행을 삭제함\n",
    "    return data\n",
    "\n",
    "dummy_columns = [\"Sex\", \"Embarked_fill\", \"Name_encode\", \"Pclass\"]\n",
    "\n",
    "total_dummy = dummy_data(total, dummy_columns)\n",
    "\n",
    "total = total_dummy\n",
    "\n",
    "print(total.shape)\n",
    "total.head()"
   ]
  },
  {
   "cell_type": "code",
   "execution_count": 17,
   "metadata": {},
   "outputs": [
    {
     "data": {
      "text/plain": [
       "Index(['Age', 'Cabin', 'Embarked', 'Fare', 'Name', 'Parch', 'Pclass', 'Sex',\n",
       "       'SibSp', 'Survived', 'Ticket', 'Embarked_fill', 'Fare_fill',\n",
       "       'Familysize', 'Name_encode', 'Sex_female', 'Sex_male',\n",
       "       'Embarked_fill_C', 'Embarked_fill_Q', 'Embarked_fill_S',\n",
       "       'Name_encode_Master', 'Name_encode_Miss', 'Name_encode_Mr',\n",
       "       'Name_encode_Mrs', 'Pclass_1', 'Pclass_2', 'Pclass_3'],\n",
       "      dtype='object')"
      ]
     },
     "execution_count": 17,
     "metadata": {},
     "output_type": "execute_result"
    }
   ],
   "source": [
    "total.columns"
   ]
  },
  {
   "cell_type": "markdown",
   "metadata": {},
   "source": [
    "# Age 1안: 평균으로 넣기"
   ]
  },
  {
   "cell_type": "code",
   "execution_count": 18,
   "metadata": {},
   "outputs": [
    {
     "data": {
      "text/html": [
       "<div>\n",
       "<style scoped>\n",
       "    .dataframe tbody tr th:only-of-type {\n",
       "        vertical-align: middle;\n",
       "    }\n",
       "\n",
       "    .dataframe tbody tr th {\n",
       "        vertical-align: top;\n",
       "    }\n",
       "\n",
       "    .dataframe thead th {\n",
       "        text-align: right;\n",
       "    }\n",
       "</style>\n",
       "<table border=\"1\" class=\"dataframe\">\n",
       "  <thead>\n",
       "    <tr style=\"text-align: right;\">\n",
       "      <th></th>\n",
       "      <th>Age</th>\n",
       "      <th>Cabin</th>\n",
       "      <th>Embarked</th>\n",
       "      <th>Fare</th>\n",
       "      <th>Name</th>\n",
       "      <th>Parch</th>\n",
       "      <th>Pclass</th>\n",
       "      <th>Sex</th>\n",
       "      <th>SibSp</th>\n",
       "      <th>Survived</th>\n",
       "      <th>...</th>\n",
       "      <th>Embarked_fill_Q</th>\n",
       "      <th>Embarked_fill_S</th>\n",
       "      <th>Name_encode_Master</th>\n",
       "      <th>Name_encode_Miss</th>\n",
       "      <th>Name_encode_Mr</th>\n",
       "      <th>Name_encode_Mrs</th>\n",
       "      <th>Pclass_1</th>\n",
       "      <th>Pclass_2</th>\n",
       "      <th>Pclass_3</th>\n",
       "      <th>Age_encode</th>\n",
       "    </tr>\n",
       "    <tr>\n",
       "      <th>PassengerId</th>\n",
       "      <th></th>\n",
       "      <th></th>\n",
       "      <th></th>\n",
       "      <th></th>\n",
       "      <th></th>\n",
       "      <th></th>\n",
       "      <th></th>\n",
       "      <th></th>\n",
       "      <th></th>\n",
       "      <th></th>\n",
       "      <th></th>\n",
       "      <th></th>\n",
       "      <th></th>\n",
       "      <th></th>\n",
       "      <th></th>\n",
       "      <th></th>\n",
       "      <th></th>\n",
       "      <th></th>\n",
       "      <th></th>\n",
       "      <th></th>\n",
       "      <th></th>\n",
       "    </tr>\n",
       "  </thead>\n",
       "  <tbody>\n",
       "  </tbody>\n",
       "</table>\n",
       "<p>0 rows × 28 columns</p>\n",
       "</div>"
      ],
      "text/plain": [
       "Empty DataFrame\n",
       "Columns: [Age, Cabin, Embarked, Fare, Name, Parch, Pclass, Sex, SibSp, Survived, Ticket, Embarked_fill, Fare_fill, Familysize, Name_encode, Sex_female, Sex_male, Embarked_fill_C, Embarked_fill_Q, Embarked_fill_S, Name_encode_Master, Name_encode_Miss, Name_encode_Mr, Name_encode_Mrs, Pclass_1, Pclass_2, Pclass_3, Age_encode]\n",
       "Index: []\n",
       "\n",
       "[0 rows x 28 columns]"
      ]
     },
     "execution_count": 18,
     "metadata": {},
     "output_type": "execute_result"
    }
   ],
   "source": [
    "total[\"Age_encode\"] = total[\"Age\"]\n",
    "total.loc[total[\"Age\"].isnull(), \"Age_encode\"] = total[\"Age\"].mean()\n",
    "total.loc[total[\"Age_encode\"].isnull()]"
   ]
  },
  {
   "cell_type": "markdown",
   "metadata": {},
   "source": [
    "# Age 2안: RFR로 예측값 넣어보기 (나중에)"
   ]
  },
  {
   "cell_type": "markdown",
   "metadata": {},
   "source": [
    "# --------------------------------------------"
   ]
  },
  {
   "cell_type": "markdown",
   "metadata": {},
   "source": [
    "# Scaling"
   ]
  },
  {
   "cell_type": "code",
   "execution_count": null,
   "metadata": {},
   "outputs": [],
   "source": []
  },
  {
   "cell_type": "markdown",
   "metadata": {},
   "source": [
    "# Train, Test Split"
   ]
  },
  {
   "cell_type": "code",
   "execution_count": 19,
   "metadata": {},
   "outputs": [
    {
     "data": {
      "text/plain": [
       "(418, 28)"
      ]
     },
     "execution_count": 19,
     "metadata": {},
     "output_type": "execute_result"
    }
   ],
   "source": [
    "test = total.loc[total[\"Survived\"].isnull()]\n",
    "test.shape"
   ]
  },
  {
   "cell_type": "code",
   "execution_count": 20,
   "metadata": {},
   "outputs": [
    {
     "data": {
      "text/plain": [
       "(891, 28)"
      ]
     },
     "execution_count": 20,
     "metadata": {},
     "output_type": "execute_result"
    }
   ],
   "source": [
    "train = total.loc[total[\"Survived\"].notnull()]\n",
    "train.shape"
   ]
  },
  {
   "cell_type": "markdown",
   "metadata": {},
   "source": [
    "# Feature Selection"
   ]
  },
  {
   "cell_type": "code",
   "execution_count": 21,
   "metadata": {},
   "outputs": [
    {
     "name": "stdout",
     "output_type": "stream",
     "text": [
      "<class 'pandas.core.frame.DataFrame'>\n",
      "Int64Index: 1309 entries, 1 to 1309\n",
      "Data columns (total 28 columns):\n",
      "Age                   1046 non-null float64\n",
      "Cabin                 295 non-null object\n",
      "Embarked              1307 non-null object\n",
      "Fare                  1308 non-null float64\n",
      "Name                  1309 non-null object\n",
      "Parch                 1309 non-null int64\n",
      "Pclass                1309 non-null int64\n",
      "Sex                   1309 non-null object\n",
      "SibSp                 1309 non-null int64\n",
      "Survived              891 non-null float64\n",
      "Ticket                1309 non-null object\n",
      "Embarked_fill         1309 non-null object\n",
      "Fare_fill             1309 non-null float64\n",
      "Familysize            1309 non-null int64\n",
      "Name_encode           1309 non-null object\n",
      "Sex_female            1309 non-null uint8\n",
      "Sex_male              1309 non-null uint8\n",
      "Embarked_fill_C       1309 non-null uint8\n",
      "Embarked_fill_Q       1309 non-null uint8\n",
      "Embarked_fill_S       1309 non-null uint8\n",
      "Name_encode_Master    1309 non-null uint8\n",
      "Name_encode_Miss      1309 non-null uint8\n",
      "Name_encode_Mr        1309 non-null uint8\n",
      "Name_encode_Mrs       1309 non-null uint8\n",
      "Pclass_1              1309 non-null uint8\n",
      "Pclass_2              1309 non-null uint8\n",
      "Pclass_3              1309 non-null uint8\n",
      "Age_encode            1309 non-null float64\n",
      "dtypes: float64(5), int64(4), object(7), uint8(12)\n",
      "memory usage: 229.2+ KB\n"
     ]
    }
   ],
   "source": [
    "total.info()"
   ]
  },
  {
   "cell_type": "code",
   "execution_count": 22,
   "metadata": {},
   "outputs": [],
   "source": [
    "feature_names = ['Parch', 'SibSp', 'Fare_fill',\n",
    "       'Familysize', 'Sex_female',\n",
    "       'Embarked_fill_C', 'Embarked_fill_S',\n",
    "       'Name_encode_Master', 'Name_encode_Miss', 'Name_encode_Mr',\n",
    "       'Name_encode_Mrs', 'Pclass_1', 'Pclass_2', 'Pclass_3', 'Age_encode']\n",
    "\n",
    "feature_names1 = ['Parch', 'SibSp', 'Fare_fill',\n",
    "       'Familysize', 'Sex_female', 'Sex_male',\n",
    "       'Embarked_fill_C', 'Embarked_fill_Q', 'Embarked_fill_S',\n",
    "       'Name_encode_Master', 'Name_encode_Miss', 'Name_encode_Mr',\n",
    "       'Name_encode_Mrs', 'Pclass_1', 'Pclass_2', 'Pclass_3', 'Age_encode']\n",
    "\n",
    "label_name = 'Survived'\n",
    "\n",
    "X_train = train[feature_names]\n",
    "X_test = test[feature_names]\n",
    "y_train = train[label_name]"
   ]
  },
  {
   "cell_type": "code",
   "execution_count": 23,
   "metadata": {},
   "outputs": [
    {
     "data": {
      "text/html": [
       "<div>\n",
       "<style scoped>\n",
       "    .dataframe tbody tr th:only-of-type {\n",
       "        vertical-align: middle;\n",
       "    }\n",
       "\n",
       "    .dataframe tbody tr th {\n",
       "        vertical-align: top;\n",
       "    }\n",
       "\n",
       "    .dataframe thead th {\n",
       "        text-align: right;\n",
       "    }\n",
       "</style>\n",
       "<table border=\"1\" class=\"dataframe\">\n",
       "  <thead>\n",
       "    <tr style=\"text-align: right;\">\n",
       "      <th></th>\n",
       "      <th>Parch</th>\n",
       "      <th>SibSp</th>\n",
       "      <th>Fare_fill</th>\n",
       "      <th>Familysize</th>\n",
       "      <th>Sex_female</th>\n",
       "      <th>Embarked_fill_C</th>\n",
       "      <th>Embarked_fill_S</th>\n",
       "      <th>Name_encode_Master</th>\n",
       "      <th>Name_encode_Miss</th>\n",
       "      <th>Name_encode_Mr</th>\n",
       "      <th>Name_encode_Mrs</th>\n",
       "      <th>Pclass_1</th>\n",
       "      <th>Pclass_2</th>\n",
       "      <th>Pclass_3</th>\n",
       "      <th>Age_encode</th>\n",
       "    </tr>\n",
       "    <tr>\n",
       "      <th>PassengerId</th>\n",
       "      <th></th>\n",
       "      <th></th>\n",
       "      <th></th>\n",
       "      <th></th>\n",
       "      <th></th>\n",
       "      <th></th>\n",
       "      <th></th>\n",
       "      <th></th>\n",
       "      <th></th>\n",
       "      <th></th>\n",
       "      <th></th>\n",
       "      <th></th>\n",
       "      <th></th>\n",
       "      <th></th>\n",
       "      <th></th>\n",
       "    </tr>\n",
       "  </thead>\n",
       "  <tbody>\n",
       "    <tr>\n",
       "      <th>1</th>\n",
       "      <td>0</td>\n",
       "      <td>1</td>\n",
       "      <td>7.2500</td>\n",
       "      <td>1</td>\n",
       "      <td>0</td>\n",
       "      <td>0</td>\n",
       "      <td>1</td>\n",
       "      <td>0</td>\n",
       "      <td>0</td>\n",
       "      <td>1</td>\n",
       "      <td>0</td>\n",
       "      <td>0</td>\n",
       "      <td>0</td>\n",
       "      <td>1</td>\n",
       "      <td>22.0</td>\n",
       "    </tr>\n",
       "    <tr>\n",
       "      <th>2</th>\n",
       "      <td>0</td>\n",
       "      <td>1</td>\n",
       "      <td>71.2833</td>\n",
       "      <td>1</td>\n",
       "      <td>1</td>\n",
       "      <td>1</td>\n",
       "      <td>0</td>\n",
       "      <td>0</td>\n",
       "      <td>0</td>\n",
       "      <td>0</td>\n",
       "      <td>1</td>\n",
       "      <td>1</td>\n",
       "      <td>0</td>\n",
       "      <td>0</td>\n",
       "      <td>38.0</td>\n",
       "    </tr>\n",
       "    <tr>\n",
       "      <th>3</th>\n",
       "      <td>0</td>\n",
       "      <td>0</td>\n",
       "      <td>7.9250</td>\n",
       "      <td>0</td>\n",
       "      <td>1</td>\n",
       "      <td>0</td>\n",
       "      <td>1</td>\n",
       "      <td>0</td>\n",
       "      <td>1</td>\n",
       "      <td>0</td>\n",
       "      <td>0</td>\n",
       "      <td>0</td>\n",
       "      <td>0</td>\n",
       "      <td>1</td>\n",
       "      <td>26.0</td>\n",
       "    </tr>\n",
       "    <tr>\n",
       "      <th>4</th>\n",
       "      <td>0</td>\n",
       "      <td>1</td>\n",
       "      <td>53.1000</td>\n",
       "      <td>1</td>\n",
       "      <td>1</td>\n",
       "      <td>0</td>\n",
       "      <td>1</td>\n",
       "      <td>0</td>\n",
       "      <td>0</td>\n",
       "      <td>0</td>\n",
       "      <td>1</td>\n",
       "      <td>1</td>\n",
       "      <td>0</td>\n",
       "      <td>0</td>\n",
       "      <td>35.0</td>\n",
       "    </tr>\n",
       "    <tr>\n",
       "      <th>5</th>\n",
       "      <td>0</td>\n",
       "      <td>0</td>\n",
       "      <td>8.0500</td>\n",
       "      <td>0</td>\n",
       "      <td>0</td>\n",
       "      <td>0</td>\n",
       "      <td>1</td>\n",
       "      <td>0</td>\n",
       "      <td>0</td>\n",
       "      <td>1</td>\n",
       "      <td>0</td>\n",
       "      <td>0</td>\n",
       "      <td>0</td>\n",
       "      <td>1</td>\n",
       "      <td>35.0</td>\n",
       "    </tr>\n",
       "  </tbody>\n",
       "</table>\n",
       "</div>"
      ],
      "text/plain": [
       "             Parch  SibSp  Fare_fill  Familysize  Sex_female  Embarked_fill_C  \\\n",
       "PassengerId                                                                     \n",
       "1                0      1     7.2500           1           0                0   \n",
       "2                0      1    71.2833           1           1                1   \n",
       "3                0      0     7.9250           0           1                0   \n",
       "4                0      1    53.1000           1           1                0   \n",
       "5                0      0     8.0500           0           0                0   \n",
       "\n",
       "             Embarked_fill_S  Name_encode_Master  Name_encode_Miss  \\\n",
       "PassengerId                                                          \n",
       "1                          1                   0                 0   \n",
       "2                          0                   0                 0   \n",
       "3                          1                   0                 1   \n",
       "4                          1                   0                 0   \n",
       "5                          1                   0                 0   \n",
       "\n",
       "             Name_encode_Mr  Name_encode_Mrs  Pclass_1  Pclass_2  Pclass_3  \\\n",
       "PassengerId                                                                  \n",
       "1                         1                0         0         0         1   \n",
       "2                         0                1         1         0         0   \n",
       "3                         0                0         0         0         1   \n",
       "4                         0                1         1         0         0   \n",
       "5                         1                0         0         0         1   \n",
       "\n",
       "             Age_encode  \n",
       "PassengerId              \n",
       "1                  22.0  \n",
       "2                  38.0  \n",
       "3                  26.0  \n",
       "4                  35.0  \n",
       "5                  35.0  "
      ]
     },
     "execution_count": 23,
     "metadata": {},
     "output_type": "execute_result"
    }
   ],
   "source": [
    "columns = X_train.columns\n",
    "columns\n",
    "\n",
    "X_train.head()"
   ]
  },
  {
   "cell_type": "code",
   "execution_count": 24,
   "metadata": {},
   "outputs": [
    {
     "data": {
      "text/html": [
       "<div>\n",
       "<style scoped>\n",
       "    .dataframe tbody tr th:only-of-type {\n",
       "        vertical-align: middle;\n",
       "    }\n",
       "\n",
       "    .dataframe tbody tr th {\n",
       "        vertical-align: top;\n",
       "    }\n",
       "\n",
       "    .dataframe thead th {\n",
       "        text-align: right;\n",
       "    }\n",
       "</style>\n",
       "<table border=\"1\" class=\"dataframe\">\n",
       "  <thead>\n",
       "    <tr style=\"text-align: right;\">\n",
       "      <th></th>\n",
       "      <th>Parch</th>\n",
       "      <th>SibSp</th>\n",
       "      <th>Fare_fill</th>\n",
       "      <th>Familysize</th>\n",
       "      <th>Sex_female</th>\n",
       "      <th>Embarked_fill_C</th>\n",
       "      <th>Embarked_fill_S</th>\n",
       "      <th>Name_encode_Master</th>\n",
       "      <th>Name_encode_Miss</th>\n",
       "      <th>Name_encode_Mr</th>\n",
       "      <th>Name_encode_Mrs</th>\n",
       "      <th>Pclass_1</th>\n",
       "      <th>Pclass_2</th>\n",
       "      <th>Pclass_3</th>\n",
       "      <th>Age_encode</th>\n",
       "    </tr>\n",
       "    <tr>\n",
       "      <th>PassengerId</th>\n",
       "      <th></th>\n",
       "      <th></th>\n",
       "      <th></th>\n",
       "      <th></th>\n",
       "      <th></th>\n",
       "      <th></th>\n",
       "      <th></th>\n",
       "      <th></th>\n",
       "      <th></th>\n",
       "      <th></th>\n",
       "      <th></th>\n",
       "      <th></th>\n",
       "      <th></th>\n",
       "      <th></th>\n",
       "      <th></th>\n",
       "    </tr>\n",
       "  </thead>\n",
       "  <tbody>\n",
       "    <tr>\n",
       "      <th>1</th>\n",
       "      <td>0.0</td>\n",
       "      <td>0.125</td>\n",
       "      <td>0.014151</td>\n",
       "      <td>0.1</td>\n",
       "      <td>0</td>\n",
       "      <td>0</td>\n",
       "      <td>1</td>\n",
       "      <td>0</td>\n",
       "      <td>0</td>\n",
       "      <td>1</td>\n",
       "      <td>0</td>\n",
       "      <td>0</td>\n",
       "      <td>0</td>\n",
       "      <td>1</td>\n",
       "      <td>0.271174</td>\n",
       "    </tr>\n",
       "    <tr>\n",
       "      <th>2</th>\n",
       "      <td>0.0</td>\n",
       "      <td>0.125</td>\n",
       "      <td>0.139136</td>\n",
       "      <td>0.1</td>\n",
       "      <td>1</td>\n",
       "      <td>1</td>\n",
       "      <td>0</td>\n",
       "      <td>0</td>\n",
       "      <td>0</td>\n",
       "      <td>0</td>\n",
       "      <td>1</td>\n",
       "      <td>1</td>\n",
       "      <td>0</td>\n",
       "      <td>0</td>\n",
       "      <td>0.472229</td>\n",
       "    </tr>\n",
       "    <tr>\n",
       "      <th>3</th>\n",
       "      <td>0.0</td>\n",
       "      <td>0.000</td>\n",
       "      <td>0.015469</td>\n",
       "      <td>0.0</td>\n",
       "      <td>1</td>\n",
       "      <td>0</td>\n",
       "      <td>1</td>\n",
       "      <td>0</td>\n",
       "      <td>1</td>\n",
       "      <td>0</td>\n",
       "      <td>0</td>\n",
       "      <td>0</td>\n",
       "      <td>0</td>\n",
       "      <td>1</td>\n",
       "      <td>0.321438</td>\n",
       "    </tr>\n",
       "    <tr>\n",
       "      <th>4</th>\n",
       "      <td>0.0</td>\n",
       "      <td>0.125</td>\n",
       "      <td>0.103644</td>\n",
       "      <td>0.1</td>\n",
       "      <td>1</td>\n",
       "      <td>0</td>\n",
       "      <td>1</td>\n",
       "      <td>0</td>\n",
       "      <td>0</td>\n",
       "      <td>0</td>\n",
       "      <td>1</td>\n",
       "      <td>1</td>\n",
       "      <td>0</td>\n",
       "      <td>0</td>\n",
       "      <td>0.434531</td>\n",
       "    </tr>\n",
       "    <tr>\n",
       "      <th>5</th>\n",
       "      <td>0.0</td>\n",
       "      <td>0.000</td>\n",
       "      <td>0.015713</td>\n",
       "      <td>0.0</td>\n",
       "      <td>0</td>\n",
       "      <td>0</td>\n",
       "      <td>1</td>\n",
       "      <td>0</td>\n",
       "      <td>0</td>\n",
       "      <td>1</td>\n",
       "      <td>0</td>\n",
       "      <td>0</td>\n",
       "      <td>0</td>\n",
       "      <td>1</td>\n",
       "      <td>0.434531</td>\n",
       "    </tr>\n",
       "  </tbody>\n",
       "</table>\n",
       "</div>"
      ],
      "text/plain": [
       "             Parch  SibSp  Fare_fill  Familysize  Sex_female  Embarked_fill_C  \\\n",
       "PassengerId                                                                     \n",
       "1              0.0  0.125   0.014151         0.1           0                0   \n",
       "2              0.0  0.125   0.139136         0.1           1                1   \n",
       "3              0.0  0.000   0.015469         0.0           1                0   \n",
       "4              0.0  0.125   0.103644         0.1           1                0   \n",
       "5              0.0  0.000   0.015713         0.0           0                0   \n",
       "\n",
       "             Embarked_fill_S  Name_encode_Master  Name_encode_Miss  \\\n",
       "PassengerId                                                          \n",
       "1                          1                   0                 0   \n",
       "2                          0                   0                 0   \n",
       "3                          1                   0                 1   \n",
       "4                          1                   0                 0   \n",
       "5                          1                   0                 0   \n",
       "\n",
       "             Name_encode_Mr  Name_encode_Mrs  Pclass_1  Pclass_2  Pclass_3  \\\n",
       "PassengerId                                                                  \n",
       "1                         1                0         0         0         1   \n",
       "2                         0                1         1         0         0   \n",
       "3                         0                0         0         0         1   \n",
       "4                         0                1         1         0         0   \n",
       "5                         1                0         0         0         1   \n",
       "\n",
       "             Age_encode  \n",
       "PassengerId              \n",
       "1              0.271174  \n",
       "2              0.472229  \n",
       "3              0.321438  \n",
       "4              0.434531  \n",
       "5              0.434531  "
      ]
     },
     "execution_count": 24,
     "metadata": {},
     "output_type": "execute_result"
    }
   ],
   "source": [
    "from sklearn.preprocessing import MinMaxScaler\n",
    "\n",
    "scaler = MinMaxScaler()\n",
    "X_train[[\"Parch\", \"SibSp\", \"Fare_fill\", \"Familysize\", \"Age_encode\"]] = scaler.fit_transform(X_train[[\"Parch\", \"SibSp\", \"Fare_fill\", \"Familysize\", \"Age_encode\"]])\n",
    "    \n",
    "X_train.head()"
   ]
  },
  {
   "cell_type": "code",
   "execution_count": 25,
   "metadata": {},
   "outputs": [
    {
     "name": "stdout",
     "output_type": "stream",
     "text": [
      "<class 'pandas.core.frame.DataFrame'>\n",
      "Int64Index: 891 entries, 1 to 891\n",
      "Data columns (total 15 columns):\n",
      "Parch                 891 non-null float64\n",
      "SibSp                 891 non-null float64\n",
      "Fare_fill             891 non-null float64\n",
      "Familysize            891 non-null float64\n",
      "Sex_female            891 non-null uint8\n",
      "Embarked_fill_C       891 non-null uint8\n",
      "Embarked_fill_S       891 non-null uint8\n",
      "Name_encode_Master    891 non-null uint8\n",
      "Name_encode_Miss      891 non-null uint8\n",
      "Name_encode_Mr        891 non-null uint8\n",
      "Name_encode_Mrs       891 non-null uint8\n",
      "Pclass_1              891 non-null uint8\n",
      "Pclass_2              891 non-null uint8\n",
      "Pclass_3              891 non-null uint8\n",
      "Age_encode            891 non-null float64\n",
      "dtypes: float64(5), uint8(10)\n",
      "memory usage: 50.5 KB\n"
     ]
    }
   ],
   "source": [
    "X_train.info()"
   ]
  },
  {
   "cell_type": "code",
   "execution_count": 112,
   "metadata": {},
   "outputs": [],
   "source": [
    "from sklearn.ensemble import RandomForestClassifier\n",
    "from xgboost import XGBClassifier"
   ]
  },
  {
   "cell_type": "code",
   "execution_count": 113,
   "metadata": {},
   "outputs": [
    {
     "data": {
      "text/plain": [
       "RandomForestClassifier(bootstrap=True, class_weight=None, criterion='gini',\n",
       "            max_depth=None, max_features='auto', max_leaf_nodes=None,\n",
       "            min_impurity_decrease=0.0, min_impurity_split=None,\n",
       "            min_samples_leaf=1, min_samples_split=2,\n",
       "            min_weight_fraction_leaf=0.0, n_estimators=4000, n_jobs=-1,\n",
       "            oob_score=False, random_state=79, verbose=0, warm_start=False)"
      ]
     },
     "execution_count": 113,
     "metadata": {},
     "output_type": "execute_result"
    }
   ],
   "source": [
    "model_rf = RandomForestClassifier(n_estimators = 4000, random_state = 79, n_jobs = -1)\n",
    "model_rf"
   ]
  },
  {
   "cell_type": "code",
   "execution_count": 120,
   "metadata": {},
   "outputs": [
    {
     "data": {
      "text/plain": [
       "XGBClassifier(base_score=0.5, booster='gbtree', colsample_bylevel=1,\n",
       "       colsample_bytree=1, gamma=0, learning_rate=0.002, max_delta_step=0,\n",
       "       max_depth=3, min_child_weight=1, missing=None, n_estimators=715,\n",
       "       n_jobs=-1, nthread=None, objective='binary:logistic',\n",
       "       random_state=79, reg_alpha=0, reg_lambda=1, scale_pos_weight=1,\n",
       "       seed=None, silent=True, subsample=1)"
      ]
     },
     "execution_count": 120,
     "metadata": {},
     "output_type": "execute_result"
    }
   ],
   "source": [
    "model_xgb = XGBClassifier(random_state = 79, n_jobs = -1)\n",
    "model_xgb"
   ]
  },
  {
   "cell_type": "markdown",
   "metadata": {},
   "source": [
    "# RandomGridSearch"
   ]
  },
  {
   "cell_type": "code",
   "execution_count": 76,
   "metadata": {},
   "outputs": [
    {
     "name": "stdout",
     "output_type": "stream",
     "text": [
      "Wall time: 3.74 s\n"
     ]
    }
   ],
   "source": [
    "# GridSearch \n",
    "\n",
    "import warnings\n",
    "warnings.filterwarnings('ignore')\n",
    "\n",
    "from sklearn.model_selection import GridSearchCV, RandomizedSearchCV\n",
    "\n",
    "param_grid = {'n_estimators' : [700], # 700이상은 0.84로 동일\n",
    "             'learning_rate' : [0.001], # 0.001이 0.84로 가장 높았음\n",
    "             'random_state' : [79],\n",
    "             'n_jobs' : [-1]}\n",
    "\n",
    "grid = GridSearchCV(model_xgb, param_grid = param_grid, cv = 5)\n",
    "%time grid.fit(X_train, y_train)"
   ]
  },
  {
   "cell_type": "code",
   "execution_count": 77,
   "metadata": {},
   "outputs": [
    {
     "data": {
      "text/html": [
       "<div>\n",
       "<style scoped>\n",
       "    .dataframe tbody tr th:only-of-type {\n",
       "        vertical-align: middle;\n",
       "    }\n",
       "\n",
       "    .dataframe tbody tr th {\n",
       "        vertical-align: top;\n",
       "    }\n",
       "\n",
       "    .dataframe thead th {\n",
       "        text-align: right;\n",
       "    }\n",
       "</style>\n",
       "<table border=\"1\" class=\"dataframe\">\n",
       "  <thead>\n",
       "    <tr style=\"text-align: right;\">\n",
       "      <th></th>\n",
       "      <th>mean_fit_time</th>\n",
       "      <th>std_fit_time</th>\n",
       "      <th>mean_score_time</th>\n",
       "      <th>std_score_time</th>\n",
       "      <th>param_learning_rate</th>\n",
       "      <th>param_n_estimators</th>\n",
       "      <th>param_n_jobs</th>\n",
       "      <th>param_random_state</th>\n",
       "      <th>params</th>\n",
       "      <th>split0_test_score</th>\n",
       "      <th>...</th>\n",
       "      <th>mean_test_score</th>\n",
       "      <th>std_test_score</th>\n",
       "      <th>rank_test_score</th>\n",
       "      <th>split0_train_score</th>\n",
       "      <th>split1_train_score</th>\n",
       "      <th>split2_train_score</th>\n",
       "      <th>split3_train_score</th>\n",
       "      <th>split4_train_score</th>\n",
       "      <th>mean_train_score</th>\n",
       "      <th>std_train_score</th>\n",
       "    </tr>\n",
       "  </thead>\n",
       "  <tbody>\n",
       "    <tr>\n",
       "      <th>0</th>\n",
       "      <td>0.609235</td>\n",
       "      <td>0.034628</td>\n",
       "      <td>0.0028</td>\n",
       "      <td>0.0004</td>\n",
       "      <td>0.001</td>\n",
       "      <td>700</td>\n",
       "      <td>-1</td>\n",
       "      <td>79</td>\n",
       "      <td>{'learning_rate': 0.001, 'n_estimators': 700, ...</td>\n",
       "      <td>0.849162</td>\n",
       "      <td>...</td>\n",
       "      <td>0.836139</td>\n",
       "      <td>0.018288</td>\n",
       "      <td>1</td>\n",
       "      <td>0.839888</td>\n",
       "      <td>0.852528</td>\n",
       "      <td>0.83871</td>\n",
       "      <td>0.85554</td>\n",
       "      <td>0.827731</td>\n",
       "      <td>0.842879</td>\n",
       "      <td>0.010092</td>\n",
       "    </tr>\n",
       "  </tbody>\n",
       "</table>\n",
       "<p>1 rows × 24 columns</p>\n",
       "</div>"
      ],
      "text/plain": [
       "   mean_fit_time  std_fit_time  mean_score_time  std_score_time  \\\n",
       "0       0.609235      0.034628           0.0028          0.0004   \n",
       "\n",
       "  param_learning_rate param_n_estimators param_n_jobs param_random_state  \\\n",
       "0               0.001                700           -1                 79   \n",
       "\n",
       "                                              params  split0_test_score  \\\n",
       "0  {'learning_rate': 0.001, 'n_estimators': 700, ...           0.849162   \n",
       "\n",
       "        ...         mean_test_score  std_test_score  rank_test_score  \\\n",
       "0       ...                0.836139        0.018288                1   \n",
       "\n",
       "   split0_train_score  split1_train_score  split2_train_score  \\\n",
       "0            0.839888            0.852528             0.83871   \n",
       "\n",
       "   split3_train_score  split4_train_score  mean_train_score  std_train_score  \n",
       "0             0.85554            0.827731          0.842879         0.010092  \n",
       "\n",
       "[1 rows x 24 columns]"
      ]
     },
     "execution_count": 77,
     "metadata": {},
     "output_type": "execute_result"
    }
   ],
   "source": [
    "a"
   ]
  },
  {
   "cell_type": "code",
   "execution_count": 78,
   "metadata": {},
   "outputs": [],
   "source": [
    "scores = np.array(grid_df.mean_test_score).reshape(1, 1)"
   ]
  },
  {
   "cell_type": "code",
   "execution_count": 79,
   "metadata": {},
   "outputs": [
    {
     "data": {
      "text/plain": [
       "<matplotlib.collections.PolyCollection at 0xd3b0be0>"
      ]
     },
     "execution_count": 79,
     "metadata": {},
     "output_type": "execute_result"
    },
    {
     "data": {
      "image/png": "[encoded data removed]",
      "text/plain": [
       "<Figure size 432x288 with 1 Axes>"
      ]
     },
     "metadata": {},
     "output_type": "display_data"
    }
   ],
   "source": [
    "a"
   ]
  },
  {
   "cell_type": "code",
   "execution_count": 81,
   "metadata": {},
   "outputs": [
    {
     "name": "stdout",
     "output_type": "stream",
     "text": [
      "best score:  0.8361\n",
      "best param: {'learning_rate': 0.001, 'n_estimators': 700, 'n_jobs': -1, 'random_state': 79}\n"
     ]
    }
   ],
   "source": [
    "# print(grid.cv_results_)\n",
    "print(f\"best score: {grid.best_score_ : .4f}\")\n",
    "print(f\"best param: {grid.best_params_}\")"
   ]
  },
  {
   "cell_type": "code",
   "execution_count": 85,
   "metadata": {},
   "outputs": [
    {
     "name": "stdout",
     "output_type": "stream",
     "text": [
      "Wall time: 31.7 s\n",
      "best score:  0.8361\n",
      "best param: {'learning_rate': 0.002025398988117261, 'n_estimators': 715, 'n_jobs': -1, 'random_state': 79}\n"
     ]
    }
   ],
   "source": [
    "# RandomizedSearch\n",
    "\n",
    "import scipy.stats as st\n",
    "\n",
    "params = {'n_estimators' : st.randint(700, 750),\n",
    "          'learning_rate' : st.uniform(0.003, 0.002),\n",
    "             'random_state' : [79],\n",
    "             'n_jobs' : [-1]\n",
    "}\n",
    "\n",
    "gs = RandomizedSearchCV(model_xgb, params, cv = 5, n_iter=10) \n",
    "# 기본값 cv없음, n_iter = 10\n",
    "%time gs.fit(X_train, y_train)\n",
    "\n",
    "#print(gs.cv_results_)\n",
    "print(f\"best score: {gs.best_score_ : .4f}\")\n",
    "print(f\"best param: {gs.best_params_}\")"
   ]
  },
  {
   "cell_type": "code",
   "execution_count": 101,
   "metadata": {},
   "outputs": [
    {
     "data": {
      "text/html": [
       "<div>\n",
       "<style scoped>\n",
       "    .dataframe tbody tr th:only-of-type {\n",
       "        vertical-align: middle;\n",
       "    }\n",
       "\n",
       "    .dataframe tbody tr th {\n",
       "        vertical-align: top;\n",
       "    }\n",
       "\n",
       "    .dataframe thead th {\n",
       "        text-align: right;\n",
       "    }\n",
       "</style>\n",
       "<table border=\"1\" class=\"dataframe\">\n",
       "  <thead>\n",
       "    <tr style=\"text-align: right;\">\n",
       "      <th></th>\n",
       "      <th>mean_fit_time</th>\n",
       "      <th>std_fit_time</th>\n",
       "      <th>mean_score_time</th>\n",
       "      <th>std_score_time</th>\n",
       "      <th>param_learning_rate</th>\n",
       "      <th>param_n_estimators</th>\n",
       "      <th>param_n_jobs</th>\n",
       "      <th>param_random_state</th>\n",
       "      <th>params</th>\n",
       "      <th>split0_test_score</th>\n",
       "      <th>...</th>\n",
       "      <th>mean_test_score</th>\n",
       "      <th>std_test_score</th>\n",
       "      <th>rank_test_score</th>\n",
       "      <th>split0_train_score</th>\n",
       "      <th>split1_train_score</th>\n",
       "      <th>split2_train_score</th>\n",
       "      <th>split3_train_score</th>\n",
       "      <th>split4_train_score</th>\n",
       "      <th>mean_train_score</th>\n",
       "      <th>std_train_score</th>\n",
       "    </tr>\n",
       "  </thead>\n",
       "  <tbody>\n",
       "    <tr>\n",
       "      <th>0</th>\n",
       "      <td>0.613635</td>\n",
       "      <td>0.017131</td>\n",
       "      <td>0.0040</td>\n",
       "      <td>0.000894</td>\n",
       "      <td>0.0020254</td>\n",
       "      <td>715</td>\n",
       "      <td>-1</td>\n",
       "      <td>79</td>\n",
       "      <td>{'learning_rate': 0.002025398988117261, 'n_est...</td>\n",
       "      <td>0.849162</td>\n",
       "      <td>...</td>\n",
       "      <td>0.836139</td>\n",
       "      <td>0.018288</td>\n",
       "      <td>1</td>\n",
       "      <td>0.834270</td>\n",
       "      <td>0.852528</td>\n",
       "      <td>0.838710</td>\n",
       "      <td>0.855540</td>\n",
       "      <td>0.827731</td>\n",
       "      <td>0.841756</td>\n",
       "      <td>0.010659</td>\n",
       "    </tr>\n",
       "    <tr>\n",
       "      <th>1</th>\n",
       "      <td>0.630436</td>\n",
       "      <td>0.015253</td>\n",
       "      <td>0.0032</td>\n",
       "      <td>0.000748</td>\n",
       "      <td>0.00197002</td>\n",
       "      <td>742</td>\n",
       "      <td>-1</td>\n",
       "      <td>79</td>\n",
       "      <td>{'learning_rate': 0.001970020038274384, 'n_est...</td>\n",
       "      <td>0.849162</td>\n",
       "      <td>...</td>\n",
       "      <td>0.836139</td>\n",
       "      <td>0.018288</td>\n",
       "      <td>1</td>\n",
       "      <td>0.834270</td>\n",
       "      <td>0.852528</td>\n",
       "      <td>0.838710</td>\n",
       "      <td>0.855540</td>\n",
       "      <td>0.827731</td>\n",
       "      <td>0.841756</td>\n",
       "      <td>0.010659</td>\n",
       "    </tr>\n",
       "    <tr>\n",
       "      <th>2</th>\n",
       "      <td>0.631436</td>\n",
       "      <td>0.011552</td>\n",
       "      <td>0.0034</td>\n",
       "      <td>0.000490</td>\n",
       "      <td>0.00734489</td>\n",
       "      <td>779</td>\n",
       "      <td>-1</td>\n",
       "      <td>79</td>\n",
       "      <td>{'learning_rate': 0.0073448923053303075, 'n_es...</td>\n",
       "      <td>0.826816</td>\n",
       "      <td>...</td>\n",
       "      <td>0.828283</td>\n",
       "      <td>0.016446</td>\n",
       "      <td>9</td>\n",
       "      <td>0.875000</td>\n",
       "      <td>0.869382</td>\n",
       "      <td>0.847125</td>\n",
       "      <td>0.873773</td>\n",
       "      <td>0.869748</td>\n",
       "      <td>0.867006</td>\n",
       "      <td>0.010180</td>\n",
       "    </tr>\n",
       "    <tr>\n",
       "      <th>3</th>\n",
       "      <td>0.621836</td>\n",
       "      <td>0.011806</td>\n",
       "      <td>0.0038</td>\n",
       "      <td>0.000748</td>\n",
       "      <td>0.00686923</td>\n",
       "      <td>778</td>\n",
       "      <td>-1</td>\n",
       "      <td>79</td>\n",
       "      <td>{'learning_rate': 0.006869227798499888, 'n_est...</td>\n",
       "      <td>0.826816</td>\n",
       "      <td>...</td>\n",
       "      <td>0.828283</td>\n",
       "      <td>0.019870</td>\n",
       "      <td>9</td>\n",
       "      <td>0.872191</td>\n",
       "      <td>0.863764</td>\n",
       "      <td>0.848527</td>\n",
       "      <td>0.875175</td>\n",
       "      <td>0.869748</td>\n",
       "      <td>0.865881</td>\n",
       "      <td>0.009453</td>\n",
       "    </tr>\n",
       "    <tr>\n",
       "      <th>4</th>\n",
       "      <td>0.647437</td>\n",
       "      <td>0.025217</td>\n",
       "      <td>0.0036</td>\n",
       "      <td>0.000800</td>\n",
       "      <td>0.00299595</td>\n",
       "      <td>777</td>\n",
       "      <td>-1</td>\n",
       "      <td>79</td>\n",
       "      <td>{'learning_rate': 0.0029959478604458124, 'n_es...</td>\n",
       "      <td>0.837989</td>\n",
       "      <td>...</td>\n",
       "      <td>0.833895</td>\n",
       "      <td>0.017206</td>\n",
       "      <td>4</td>\n",
       "      <td>0.841292</td>\n",
       "      <td>0.852528</td>\n",
       "      <td>0.844320</td>\n",
       "      <td>0.855540</td>\n",
       "      <td>0.830532</td>\n",
       "      <td>0.844842</td>\n",
       "      <td>0.008845</td>\n",
       "    </tr>\n",
       "    <tr>\n",
       "      <th>5</th>\n",
       "      <td>0.593834</td>\n",
       "      <td>0.014825</td>\n",
       "      <td>0.0040</td>\n",
       "      <td>0.001549</td>\n",
       "      <td>0.005046</td>\n",
       "      <td>722</td>\n",
       "      <td>-1</td>\n",
       "      <td>79</td>\n",
       "      <td>{'learning_rate': 0.005046000763466289, 'n_est...</td>\n",
       "      <td>0.832402</td>\n",
       "      <td>...</td>\n",
       "      <td>0.830527</td>\n",
       "      <td>0.013045</td>\n",
       "      <td>7</td>\n",
       "      <td>0.858146</td>\n",
       "      <td>0.848315</td>\n",
       "      <td>0.845722</td>\n",
       "      <td>0.863955</td>\n",
       "      <td>0.852941</td>\n",
       "      <td>0.853816</td>\n",
       "      <td>0.006604</td>\n",
       "    </tr>\n",
       "    <tr>\n",
       "      <th>6</th>\n",
       "      <td>0.520230</td>\n",
       "      <td>0.013318</td>\n",
       "      <td>0.0032</td>\n",
       "      <td>0.000400</td>\n",
       "      <td>0.00452574</td>\n",
       "      <td>625</td>\n",
       "      <td>-1</td>\n",
       "      <td>79</td>\n",
       "      <td>{'learning_rate': 0.004525743568866822, 'n_est...</td>\n",
       "      <td>0.832402</td>\n",
       "      <td>...</td>\n",
       "      <td>0.832772</td>\n",
       "      <td>0.017084</td>\n",
       "      <td>5</td>\n",
       "      <td>0.839888</td>\n",
       "      <td>0.848315</td>\n",
       "      <td>0.844320</td>\n",
       "      <td>0.856942</td>\n",
       "      <td>0.831933</td>\n",
       "      <td>0.844279</td>\n",
       "      <td>0.008347</td>\n",
       "    </tr>\n",
       "    <tr>\n",
       "      <th>7</th>\n",
       "      <td>0.536031</td>\n",
       "      <td>0.013024</td>\n",
       "      <td>0.0038</td>\n",
       "      <td>0.000400</td>\n",
       "      <td>0.00959312</td>\n",
       "      <td>672</td>\n",
       "      <td>-1</td>\n",
       "      <td>79</td>\n",
       "      <td>{'learning_rate': 0.00959311889936064, 'n_esti...</td>\n",
       "      <td>0.826816</td>\n",
       "      <td>...</td>\n",
       "      <td>0.831650</td>\n",
       "      <td>0.016243</td>\n",
       "      <td>6</td>\n",
       "      <td>0.880618</td>\n",
       "      <td>0.875000</td>\n",
       "      <td>0.858345</td>\n",
       "      <td>0.879383</td>\n",
       "      <td>0.871148</td>\n",
       "      <td>0.872899</td>\n",
       "      <td>0.008011</td>\n",
       "    </tr>\n",
       "    <tr>\n",
       "      <th>8</th>\n",
       "      <td>0.631436</td>\n",
       "      <td>0.011093</td>\n",
       "      <td>0.0046</td>\n",
       "      <td>0.002245</td>\n",
       "      <td>0.00926547</td>\n",
       "      <td>776</td>\n",
       "      <td>-1</td>\n",
       "      <td>79</td>\n",
       "      <td>{'learning_rate': 0.009265467067626976, 'n_est...</td>\n",
       "      <td>0.826816</td>\n",
       "      <td>...</td>\n",
       "      <td>0.830527</td>\n",
       "      <td>0.014425</td>\n",
       "      <td>7</td>\n",
       "      <td>0.879213</td>\n",
       "      <td>0.882022</td>\n",
       "      <td>0.863955</td>\n",
       "      <td>0.879383</td>\n",
       "      <td>0.872549</td>\n",
       "      <td>0.875425</td>\n",
       "      <td>0.006533</td>\n",
       "    </tr>\n",
       "    <tr>\n",
       "      <th>9</th>\n",
       "      <td>0.633436</td>\n",
       "      <td>0.020753</td>\n",
       "      <td>0.0034</td>\n",
       "      <td>0.000490</td>\n",
       "      <td>0.00209397</td>\n",
       "      <td>746</td>\n",
       "      <td>-1</td>\n",
       "      <td>79</td>\n",
       "      <td>{'learning_rate': 0.0020939743717497752, 'n_es...</td>\n",
       "      <td>0.849162</td>\n",
       "      <td>...</td>\n",
       "      <td>0.836139</td>\n",
       "      <td>0.018288</td>\n",
       "      <td>1</td>\n",
       "      <td>0.834270</td>\n",
       "      <td>0.852528</td>\n",
       "      <td>0.838710</td>\n",
       "      <td>0.855540</td>\n",
       "      <td>0.827731</td>\n",
       "      <td>0.841756</td>\n",
       "      <td>0.010659</td>\n",
       "    </tr>\n",
       "  </tbody>\n",
       "</table>\n",
       "<p>10 rows × 24 columns</p>\n",
       "</div>"
      ],
      "text/plain": [
       "   mean_fit_time  std_fit_time  mean_score_time  std_score_time  \\\n",
       "0       0.613635      0.017131           0.0040        0.000894   \n",
       "1       0.630436      0.015253           0.0032        0.000748   \n",
       "2       0.631436      0.011552           0.0034        0.000490   \n",
       "3       0.621836      0.011806           0.0038        0.000748   \n",
       "4       0.647437      0.025217           0.0036        0.000800   \n",
       "5       0.593834      0.014825           0.0040        0.001549   \n",
       "6       0.520230      0.013318           0.0032        0.000400   \n",
       "7       0.536031      0.013024           0.0038        0.000400   \n",
       "8       0.631436      0.011093           0.0046        0.002245   \n",
       "9       0.633436      0.020753           0.0034        0.000490   \n",
       "\n",
       "  param_learning_rate param_n_estimators param_n_jobs param_random_state  \\\n",
       "0           0.0020254                715           -1                 79   \n",
       "1          0.00197002                742           -1                 79   \n",
       "2          0.00734489                779           -1                 79   \n",
       "3          0.00686923                778           -1                 79   \n",
       "4          0.00299595                777           -1                 79   \n",
       "5            0.005046                722           -1                 79   \n",
       "6          0.00452574                625           -1                 79   \n",
       "7          0.00959312                672           -1                 79   \n",
       "8          0.00926547                776           -1                 79   \n",
       "9          0.00209397                746           -1                 79   \n",
       "\n",
       "                                              params  split0_test_score  \\\n",
       "0  {'learning_rate': 0.002025398988117261, 'n_est...           0.849162   \n",
       "1  {'learning_rate': 0.001970020038274384, 'n_est...           0.849162   \n",
       "2  {'learning_rate': 0.0073448923053303075, 'n_es...           0.826816   \n",
       "3  {'learning_rate': 0.006869227798499888, 'n_est...           0.826816   \n",
       "4  {'learning_rate': 0.0029959478604458124, 'n_es...           0.837989   \n",
       "5  {'learning_rate': 0.005046000763466289, 'n_est...           0.832402   \n",
       "6  {'learning_rate': 0.004525743568866822, 'n_est...           0.832402   \n",
       "7  {'learning_rate': 0.00959311889936064, 'n_esti...           0.826816   \n",
       "8  {'learning_rate': 0.009265467067626976, 'n_est...           0.826816   \n",
       "9  {'learning_rate': 0.0020939743717497752, 'n_es...           0.849162   \n",
       "\n",
       "        ...         mean_test_score  std_test_score  rank_test_score  \\\n",
       "0       ...                0.836139        0.018288                1   \n",
       "1       ...                0.836139        0.018288                1   \n",
       "2       ...                0.828283        0.016446                9   \n",
       "3       ...                0.828283        0.019870                9   \n",
       "4       ...                0.833895        0.017206                4   \n",
       "5       ...                0.830527        0.013045                7   \n",
       "6       ...                0.832772        0.017084                5   \n",
       "7       ...                0.831650        0.016243                6   \n",
       "8       ...                0.830527        0.014425                7   \n",
       "9       ...                0.836139        0.018288                1   \n",
       "\n",
       "   split0_train_score  split1_train_score  split2_train_score  \\\n",
       "0            0.834270            0.852528            0.838710   \n",
       "1            0.834270            0.852528            0.838710   \n",
       "2            0.875000            0.869382            0.847125   \n",
       "3            0.872191            0.863764            0.848527   \n",
       "4            0.841292            0.852528            0.844320   \n",
       "5            0.858146            0.848315            0.845722   \n",
       "6            0.839888            0.848315            0.844320   \n",
       "7            0.880618            0.875000            0.858345   \n",
       "8            0.879213            0.882022            0.863955   \n",
       "9            0.834270            0.852528            0.838710   \n",
       "\n",
       "   split3_train_score  split4_train_score  mean_train_score  std_train_score  \n",
       "0            0.855540            0.827731          0.841756         0.010659  \n",
       "1            0.855540            0.827731          0.841756         0.010659  \n",
       "2            0.873773            0.869748          0.867006         0.010180  \n",
       "3            0.875175            0.869748          0.865881         0.009453  \n",
       "4            0.855540            0.830532          0.844842         0.008845  \n",
       "5            0.863955            0.852941          0.853816         0.006604  \n",
       "6            0.856942            0.831933          0.844279         0.008347  \n",
       "7            0.879383            0.871148          0.872899         0.008011  \n",
       "8            0.879383            0.872549          0.875425         0.006533  \n",
       "9            0.855540            0.827731          0.841756         0.010659  \n",
       "\n",
       "[10 rows x 24 columns]"
      ]
     },
     "execution_count": 101,
     "metadata": {},
     "output_type": "execute_result"
    }
   ],
   "source": [
    "grid_df = pd.DataFrame(gs.cv_results_)\n",
    "grid_df"
   ]
  },
  {
   "cell_type": "code",
   "execution_count": 105,
   "metadata": {},
   "outputs": [],
   "source": [
    "scores = np.array(grid_df.mean_test_score).reshape(10, 1)"
   ]
  },
  {
   "cell_type": "code",
   "execution_count": 106,
   "metadata": {},
   "outputs": [
    {
     "data": {
      "text/plain": [
       "<matplotlib.collections.PolyCollection at 0xe5f47f0>"
      ]
     },
     "execution_count": 106,
     "metadata": {},
     "output_type": "execute_result"
    },
    {
     "data": {
      "image/png": "[encoded data removed]",
      "text/plain": [
       "<Figure size 432x288 with 1 Axes>"
      ]
     },
     "metadata": {},
     "output_type": "display_data"
    }
   ],
   "source": [
    "mglearn.tools.heatmap(scores, xlabel = 'n_estimators', xticklabels = grid_df['param_n_estimators'],\n",
    "                     ylabel = 'learning_rate', yticklabels = grid_df['param_learning_rate'], cmap = 'viridis')"
   ]
  },
  {
   "cell_type": "code",
   "execution_count": 124,
   "metadata": {},
   "outputs": [
    {
     "data": {
      "text/plain": [
       "XGBClassifier(base_score=0.5, booster='gbtree', colsample_bylevel=1,\n",
       "       colsample_bytree=1, gamma=0, learning_rate=0.002025398988117261,\n",
       "       max_delta_step=0, max_depth=3, min_child_weight=1, missing=None,\n",
       "       n_estimators=715, n_jobs=-1, nthread=None,\n",
       "       objective='binary:logistic', random_state=79, reg_alpha=0,\n",
       "       reg_lambda=1, scale_pos_weight=1, seed=None, silent=True,\n",
       "       subsample=1)"
      ]
     },
     "execution_count": 124,
     "metadata": {},
     "output_type": "execute_result"
    }
   ],
   "source": [
    "model_xgb = XGBClassifier(learning_rate = gs.best_params_['learning_rate'],\n",
    "                          n_estimators = gs.best_params_['n_estimators'],\n",
    "                          n_jobs = -1,\n",
    "                          random_state = 79)\n",
    "model_xgb"
   ]
  },
  {
   "cell_type": "markdown",
   "metadata": {},
   "source": [
    "# CV"
   ]
  },
  {
   "cell_type": "code",
   "execution_count": 125,
   "metadata": {},
   "outputs": [],
   "source": [
    "from sklearn.model_selection import cross_val_score"
   ]
  },
  {
   "cell_type": "code",
   "execution_count": 126,
   "metadata": {},
   "outputs": [
    {
     "name": "stdout",
     "output_type": "stream",
     "text": [
      "Wall time: 1min 42s\n",
      "RF점수: [0.71 0.8  0.75 0.87 0.88 0.85 0.79 0.75 0.83 0.86] \n",
      "RF평균:  0.8094\n"
     ]
    }
   ],
   "source": [
    "model_rf.fit(X_train, y_train)\n",
    "%time score_rf = cross_val_score(model_rf, X_train, y_train, cv = 10)\n",
    "\n",
    "#print(f\"{np.round(scores_age, 2)} \\n {scores_age.mean(): .2f}\")\n",
    "print(f\"RF점수: {np.round(score_rf, 2)} \\nRF평균: {score_rf.mean(): .4f}\")"
   ]
  },
  {
   "cell_type": "code",
   "execution_count": 127,
   "metadata": {},
   "outputs": [
    {
     "name": "stdout",
     "output_type": "stream",
     "text": [
      "Wall time: 8.84 s\n",
      "RF점수: [0.83 0.83 0.79 0.87 0.85 0.81 0.82 0.79 0.89 0.85] \n",
      "RF평균:  0.8328\n"
     ]
    }
   ],
   "source": [
    "model_xgb.fit(X_train, y_train)\n",
    "%time score_xgb = cross_val_score(model_xgb, X_train, y_train, cv = 10)\n",
    "\n",
    "#print(f\"{np.round(scores_age, 2)} \\n {scores_age.mean(): .2f}\")\n",
    "print(f\"RF점수: {np.round(score_xgb, 2)} \\nRF평균: {score_xgb.mean(): .4f}\")"
   ]
  },
  {
   "cell_type": "code",
   "execution_count": 135,
   "metadata": {},
   "outputs": [
    {
     "data": {
      "text/plain": [
       "(0.8327928157984339, 0.809384859834298)"
      ]
     },
     "execution_count": 135,
     "metadata": {},
     "output_type": "execute_result"
    }
   ],
   "source": [
    "score_xgb = score_xgb.mean()\n",
    "score_rf = score_rf.mean()\n",
    "\n",
    "score_xgb, score_rf"
   ]
  },
  {
   "cell_type": "markdown",
   "metadata": {},
   "source": [
    "## - submission_titanic_XGB_0.8352_0.7990_1608위"
   ]
  },
  {
   "cell_type": "markdown",
   "metadata": {},
   "source": [
    "# Feature Importance - XGB"
   ]
  },
  {
   "cell_type": "code",
   "execution_count": 129,
   "metadata": {},
   "outputs": [
    {
     "name": "stdout",
     "output_type": "stream",
     "text": [
      "[('Parch', 0.0046214787), ('SibSp', 0.0), ('Fare_fill', 0.3474912), ('Familysize', 0.09441021), ('Sex_female', 0.0), ('Embarked_fill_C', 0.043573942), ('Embarked_fill_S', 0.017385563), ('Name_encode_Master', 0.0), ('Name_encode_Miss', 0.0), ('Name_encode_Mr', 0.15735035), ('Name_encode_Mrs', 0.0), ('Pclass_1', 0.043353874), ('Pclass_2', 0.048855633), ('Pclass_3', 0.15735035), ('Age_encode', 0.085607395)]\n"
     ]
    },
    {
     "data": {
      "text/html": [
       "<div>\n",
       "<style scoped>\n",
       "    .dataframe tbody tr th:only-of-type {\n",
       "        vertical-align: middle;\n",
       "    }\n",
       "\n",
       "    .dataframe tbody tr th {\n",
       "        vertical-align: top;\n",
       "    }\n",
       "\n",
       "    .dataframe thead th {\n",
       "        text-align: right;\n",
       "    }\n",
       "</style>\n",
       "<table border=\"1\" class=\"dataframe\">\n",
       "  <thead>\n",
       "    <tr style=\"text-align: right;\">\n",
       "      <th></th>\n",
       "      <th>feature</th>\n",
       "      <th>importance</th>\n",
       "    </tr>\n",
       "  </thead>\n",
       "  <tbody>\n",
       "    <tr>\n",
       "      <th>2</th>\n",
       "      <td>Fare_fill</td>\n",
       "      <td>0.347491</td>\n",
       "    </tr>\n",
       "    <tr>\n",
       "      <th>9</th>\n",
       "      <td>Name_encode_Mr</td>\n",
       "      <td>0.157350</td>\n",
       "    </tr>\n",
       "    <tr>\n",
       "      <th>13</th>\n",
       "      <td>Pclass_3</td>\n",
       "      <td>0.157350</td>\n",
       "    </tr>\n",
       "    <tr>\n",
       "      <th>3</th>\n",
       "      <td>Familysize</td>\n",
       "      <td>0.094410</td>\n",
       "    </tr>\n",
       "    <tr>\n",
       "      <th>14</th>\n",
       "      <td>Age_encode</td>\n",
       "      <td>0.085607</td>\n",
       "    </tr>\n",
       "    <tr>\n",
       "      <th>12</th>\n",
       "      <td>Pclass_2</td>\n",
       "      <td>0.048856</td>\n",
       "    </tr>\n",
       "    <tr>\n",
       "      <th>5</th>\n",
       "      <td>Embarked_fill_C</td>\n",
       "      <td>0.043574</td>\n",
       "    </tr>\n",
       "    <tr>\n",
       "      <th>11</th>\n",
       "      <td>Pclass_1</td>\n",
       "      <td>0.043354</td>\n",
       "    </tr>\n",
       "    <tr>\n",
       "      <th>6</th>\n",
       "      <td>Embarked_fill_S</td>\n",
       "      <td>0.017386</td>\n",
       "    </tr>\n",
       "    <tr>\n",
       "      <th>0</th>\n",
       "      <td>Parch</td>\n",
       "      <td>0.004621</td>\n",
       "    </tr>\n",
       "    <tr>\n",
       "      <th>7</th>\n",
       "      <td>Name_encode_Master</td>\n",
       "      <td>0.000000</td>\n",
       "    </tr>\n",
       "    <tr>\n",
       "      <th>8</th>\n",
       "      <td>Name_encode_Miss</td>\n",
       "      <td>0.000000</td>\n",
       "    </tr>\n",
       "    <tr>\n",
       "      <th>10</th>\n",
       "      <td>Name_encode_Mrs</td>\n",
       "      <td>0.000000</td>\n",
       "    </tr>\n",
       "    <tr>\n",
       "      <th>4</th>\n",
       "      <td>Sex_female</td>\n",
       "      <td>0.000000</td>\n",
       "    </tr>\n",
       "    <tr>\n",
       "      <th>1</th>\n",
       "      <td>SibSp</td>\n",
       "      <td>0.000000</td>\n",
       "    </tr>\n",
       "  </tbody>\n",
       "</table>\n",
       "</div>"
      ],
      "text/plain": [
       "               feature  importance\n",
       "2            Fare_fill    0.347491\n",
       "9       Name_encode_Mr    0.157350\n",
       "13            Pclass_3    0.157350\n",
       "3           Familysize    0.094410\n",
       "14          Age_encode    0.085607\n",
       "12            Pclass_2    0.048856\n",
       "5      Embarked_fill_C    0.043574\n",
       "11            Pclass_1    0.043354\n",
       "6      Embarked_fill_S    0.017386\n",
       "0                Parch    0.004621\n",
       "7   Name_encode_Master    0.000000\n",
       "8     Name_encode_Miss    0.000000\n",
       "10     Name_encode_Mrs    0.000000\n",
       "4           Sex_female    0.000000\n",
       "1                SibSp    0.000000"
      ]
     },
     "execution_count": 129,
     "metadata": {},
     "output_type": "execute_result"
    }
   ],
   "source": [
    "print(list(zip(feature_names, model_xgb.feature_importances_)))\n",
    "feature_df = list(zip(feature_names, model_xgb.feature_importances_))\n",
    "feature_df = pd.DataFrame(feature_df)\n",
    "feature_df.columns = feature_df.columns.astype(str)\n",
    "feature_df.columns = [\"feature\", \"importance\"]\n",
    "feature_df.sort_values(by=['importance', 'feature'], ascending=[False, True], inplace=True)\n",
    "feature_df"
   ]
  },
  {
   "cell_type": "code",
   "execution_count": 130,
   "metadata": {},
   "outputs": [
    {
     "name": "stdout",
     "output_type": "stream",
     "text": [
      "[('Parch', 0.021245574158091207), ('SibSp', 0.033663204577004585), ('Fare_fill', 0.23193219791464031), ('Familysize', 0.05131455307876629), ('Sex_female', 0.10790412688459425), ('Embarked_fill_C', 0.012237109114714494), ('Embarked_fill_S', 0.01648404960383294), ('Name_encode_Master', 0.008876325864346706), ('Name_encode_Miss', 0.03659710985198958), ('Name_encode_Mr', 0.13354569742660724), ('Name_encode_Mrs', 0.035358712119620654), ('Pclass_1', 0.026597533717587152), ('Pclass_2', 0.014990299985685965), ('Pclass_3', 0.04889197731764719), ('Age_encode', 0.22036152838487116)]\n"
     ]
    },
    {
     "data": {
      "text/html": [
       "<div>\n",
       "<style scoped>\n",
       "    .dataframe tbody tr th:only-of-type {\n",
       "        vertical-align: middle;\n",
       "    }\n",
       "\n",
       "    .dataframe tbody tr th {\n",
       "        vertical-align: top;\n",
       "    }\n",
       "\n",
       "    .dataframe thead th {\n",
       "        text-align: right;\n",
       "    }\n",
       "</style>\n",
       "<table border=\"1\" class=\"dataframe\">\n",
       "  <thead>\n",
       "    <tr style=\"text-align: right;\">\n",
       "      <th></th>\n",
       "      <th>feature</th>\n",
       "      <th>importance</th>\n",
       "    </tr>\n",
       "  </thead>\n",
       "  <tbody>\n",
       "    <tr>\n",
       "      <th>2</th>\n",
       "      <td>Fare_fill</td>\n",
       "      <td>0.231932</td>\n",
       "    </tr>\n",
       "    <tr>\n",
       "      <th>14</th>\n",
       "      <td>Age_encode</td>\n",
       "      <td>0.220362</td>\n",
       "    </tr>\n",
       "    <tr>\n",
       "      <th>9</th>\n",
       "      <td>Name_encode_Mr</td>\n",
       "      <td>0.133546</td>\n",
       "    </tr>\n",
       "    <tr>\n",
       "      <th>4</th>\n",
       "      <td>Sex_female</td>\n",
       "      <td>0.107904</td>\n",
       "    </tr>\n",
       "    <tr>\n",
       "      <th>3</th>\n",
       "      <td>Familysize</td>\n",
       "      <td>0.051315</td>\n",
       "    </tr>\n",
       "    <tr>\n",
       "      <th>13</th>\n",
       "      <td>Pclass_3</td>\n",
       "      <td>0.048892</td>\n",
       "    </tr>\n",
       "    <tr>\n",
       "      <th>8</th>\n",
       "      <td>Name_encode_Miss</td>\n",
       "      <td>0.036597</td>\n",
       "    </tr>\n",
       "    <tr>\n",
       "      <th>10</th>\n",
       "      <td>Name_encode_Mrs</td>\n",
       "      <td>0.035359</td>\n",
       "    </tr>\n",
       "    <tr>\n",
       "      <th>1</th>\n",
       "      <td>SibSp</td>\n",
       "      <td>0.033663</td>\n",
       "    </tr>\n",
       "    <tr>\n",
       "      <th>11</th>\n",
       "      <td>Pclass_1</td>\n",
       "      <td>0.026598</td>\n",
       "    </tr>\n",
       "    <tr>\n",
       "      <th>0</th>\n",
       "      <td>Parch</td>\n",
       "      <td>0.021246</td>\n",
       "    </tr>\n",
       "    <tr>\n",
       "      <th>6</th>\n",
       "      <td>Embarked_fill_S</td>\n",
       "      <td>0.016484</td>\n",
       "    </tr>\n",
       "    <tr>\n",
       "      <th>12</th>\n",
       "      <td>Pclass_2</td>\n",
       "      <td>0.014990</td>\n",
       "    </tr>\n",
       "    <tr>\n",
       "      <th>5</th>\n",
       "      <td>Embarked_fill_C</td>\n",
       "      <td>0.012237</td>\n",
       "    </tr>\n",
       "    <tr>\n",
       "      <th>7</th>\n",
       "      <td>Name_encode_Master</td>\n",
       "      <td>0.008876</td>\n",
       "    </tr>\n",
       "  </tbody>\n",
       "</table>\n",
       "</div>"
      ],
      "text/plain": [
       "               feature  importance\n",
       "2            Fare_fill    0.231932\n",
       "14          Age_encode    0.220362\n",
       "9       Name_encode_Mr    0.133546\n",
       "4           Sex_female    0.107904\n",
       "3           Familysize    0.051315\n",
       "13            Pclass_3    0.048892\n",
       "8     Name_encode_Miss    0.036597\n",
       "10     Name_encode_Mrs    0.035359\n",
       "1                SibSp    0.033663\n",
       "11            Pclass_1    0.026598\n",
       "0                Parch    0.021246\n",
       "6      Embarked_fill_S    0.016484\n",
       "12            Pclass_2    0.014990\n",
       "5      Embarked_fill_C    0.012237\n",
       "7   Name_encode_Master    0.008876"
      ]
     },
     "execution_count": 130,
     "metadata": {},
     "output_type": "execute_result"
    }
   ],
   "source": [
    "print(list(zip(feature_names, model_rf.feature_importances_)))\n",
    "feature_df = list(zip(feature_names, model_rf.feature_importances_))\n",
    "feature_df = pd.DataFrame(feature_df)\n",
    "feature_df.columns = feature_df.columns.astype(str)\n",
    "feature_df.columns = [\"feature\", \"importance\"]\n",
    "feature_df.sort_values(by=['importance', 'feature'], ascending=[False, True], inplace=True)\n",
    "feature_df"
   ]
  },
  {
   "cell_type": "markdown",
   "metadata": {},
   "source": [
    "# Predict & Submit"
   ]
  },
  {
   "cell_type": "code",
   "execution_count": 140,
   "metadata": {},
   "outputs": [],
   "source": [
    "import datetime\n",
    "today_titanic = datetime.datetime.today().strftime(\"%y%m%d\")"
   ]
  },
  {
   "cell_type": "code",
   "execution_count": 141,
   "metadata": {},
   "outputs": [
    {
     "name": "stdout",
     "output_type": "stream",
     "text": [
      "(418, 2)\n"
     ]
    },
    {
     "data": {
      "text/html": [
       "<div>\n",
       "<style scoped>\n",
       "    .dataframe tbody tr th:only-of-type {\n",
       "        vertical-align: middle;\n",
       "    }\n",
       "\n",
       "    .dataframe tbody tr th {\n",
       "        vertical-align: top;\n",
       "    }\n",
       "\n",
       "    .dataframe thead th {\n",
       "        text-align: right;\n",
       "    }\n",
       "</style>\n",
       "<table border=\"1\" class=\"dataframe\">\n",
       "  <thead>\n",
       "    <tr style=\"text-align: right;\">\n",
       "      <th></th>\n",
       "      <th>PassengerId</th>\n",
       "      <th>Survived</th>\n",
       "    </tr>\n",
       "  </thead>\n",
       "  <tbody>\n",
       "    <tr>\n",
       "      <th>0</th>\n",
       "      <td>892</td>\n",
       "      <td>0.0</td>\n",
       "    </tr>\n",
       "    <tr>\n",
       "      <th>1</th>\n",
       "      <td>893</td>\n",
       "      <td>0.0</td>\n",
       "    </tr>\n",
       "    <tr>\n",
       "      <th>2</th>\n",
       "      <td>894</td>\n",
       "      <td>0.0</td>\n",
       "    </tr>\n",
       "    <tr>\n",
       "      <th>3</th>\n",
       "      <td>895</td>\n",
       "      <td>0.0</td>\n",
       "    </tr>\n",
       "    <tr>\n",
       "      <th>4</th>\n",
       "      <td>896</td>\n",
       "      <td>0.0</td>\n",
       "    </tr>\n",
       "  </tbody>\n",
       "</table>\n",
       "</div>"
      ],
      "text/plain": [
       "   PassengerId  Survived\n",
       "0          892       0.0\n",
       "1          893       0.0\n",
       "2          894       0.0\n",
       "3          895       0.0\n",
       "4          896       0.0"
      ]
     },
     "execution_count": 141,
     "metadata": {},
     "output_type": "execute_result"
    }
   ],
   "source": [
    "predictions_xgb = model_xgb.predict(X_test)\n",
    "submission_xgb = pd.read_csv(\"d:/Python/data/titanic/gender_submission.csv\")\n",
    "\n",
    "submission_xgb[\"Survived\"] = predictions_xgb\n",
    "\n",
    "print(submission_xgb.shape)\n",
    "submission_xgb.head()"
   ]
  },
  {
   "cell_type": "code",
   "execution_count": 145,
   "metadata": {},
   "outputs": [
    {
     "data": {
      "text/plain": [
       "<matplotlib.axes._subplots.AxesSubplot at 0xe4bde80>"
      ]
     },
     "execution_count": 145,
     "metadata": {},
     "output_type": "execute_result"
    },
    {
     "data": {
      "image/png": "[encoded data removed]",
      "text/plain": [
       "<Figure size 1080x360 with 3 Axes>"
      ]
     },
     "metadata": {},
     "output_type": "display_data"
    }
   ],
   "source": [
    "fig, (ax1, ax2, ax3) = plt.subplots(ncols = 3)\n",
    "fig.set_size_inches(15, 5)\n",
    "\n",
    "sns.distplot(y_train, ax = ax1)\n",
    "sns.distplot(predictions_xgb, ax = ax2)\n",
    "sns.distplot(predictions_rf, ax = ax3)"
   ]
  },
  {
   "cell_type": "code",
   "execution_count": 142,
   "metadata": {},
   "outputs": [],
   "source": [
    "submission_xgb.to_csv(f\"d:/Python/data/titanic/submission_titanic_XGB_{score_xgb:.4f}_{today_titanic}.csv\", index=False)"
   ]
  },
  {
   "cell_type": "code",
   "execution_count": 143,
   "metadata": {},
   "outputs": [
    {
     "name": "stdout",
     "output_type": "stream",
     "text": [
      "(418, 2)\n"
     ]
    },
    {
     "data": {
      "text/html": [
       "<div>\n",
       "<style scoped>\n",
       "    .dataframe tbody tr th:only-of-type {\n",
       "        vertical-align: middle;\n",
       "    }\n",
       "\n",
       "    .dataframe tbody tr th {\n",
       "        vertical-align: top;\n",
       "    }\n",
       "\n",
       "    .dataframe thead th {\n",
       "        text-align: right;\n",
       "    }\n",
       "</style>\n",
       "<table border=\"1\" class=\"dataframe\">\n",
       "  <thead>\n",
       "    <tr style=\"text-align: right;\">\n",
       "      <th></th>\n",
       "      <th>PassengerId</th>\n",
       "      <th>Survived</th>\n",
       "    </tr>\n",
       "  </thead>\n",
       "  <tbody>\n",
       "    <tr>\n",
       "      <th>0</th>\n",
       "      <td>892</td>\n",
       "      <td>0.0</td>\n",
       "    </tr>\n",
       "    <tr>\n",
       "      <th>1</th>\n",
       "      <td>893</td>\n",
       "      <td>0.0</td>\n",
       "    </tr>\n",
       "    <tr>\n",
       "      <th>2</th>\n",
       "      <td>894</td>\n",
       "      <td>0.0</td>\n",
       "    </tr>\n",
       "    <tr>\n",
       "      <th>3</th>\n",
       "      <td>895</td>\n",
       "      <td>1.0</td>\n",
       "    </tr>\n",
       "    <tr>\n",
       "      <th>4</th>\n",
       "      <td>896</td>\n",
       "      <td>0.0</td>\n",
       "    </tr>\n",
       "  </tbody>\n",
       "</table>\n",
       "</div>"
      ],
      "text/plain": [
       "   PassengerId  Survived\n",
       "0          892       0.0\n",
       "1          893       0.0\n",
       "2          894       0.0\n",
       "3          895       1.0\n",
       "4          896       0.0"
      ]
     },
     "execution_count": 143,
     "metadata": {},
     "output_type": "execute_result"
    }
   ],
   "source": [
    "predictions_rf = model_rf.predict(X_test)\n",
    "submission_rf = pd.read_csv(\"d:/Python/data/titanic/gender_submission.csv\")\n",
    "\n",
    "submission_rf[\"Survived\"] = predictions_rf\n",
    "\n",
    "print(submission_rf.shape)\n",
    "submission_rf.head()"
   ]
  },
  {
   "cell_type": "code",
   "execution_count": 144,
   "metadata": {},
   "outputs": [],
   "source": [
    "submission_rf.to_csv(f\"d:/Python/data/titanic/submission_titanic_RF_{score_rf:.4f}_{today_titanic}.csv\", index=False)"
   ]
  },
  {
   "cell_type": "code",
   "execution_count": null,
   "metadata": {},
   "outputs": [],
   "source": []
  }
 ],
 "metadata": {
  "kernelspec": {
   "display_name": "Python 3",
   "language": "python",
   "name": "python3"
  },
  "language_info": {
   "codemirror_mode": {
    "name": "ipython",
    "version": 3
   },
   "file_extension": ".py",
   "mimetype": "text/x-python",
   "name": "python",
   "nbconvert_exporter": "python",
   "pygments_lexer": "ipython3",
   "version": "3.6.5"
  }
 },
 "nbformat": 4,
 "nbformat_minor": 2
}
