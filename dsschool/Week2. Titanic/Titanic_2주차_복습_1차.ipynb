{
 "cells": [
  {
   "cell_type": "markdown",
   "metadata": {},
   "source": [
    "# 테스트"
   ]
  },
  {
   "cell_type": "code",
   "execution_count": 3,
   "metadata": {},
   "outputs": [
    {
     "name": "stdout",
     "output_type": "stream",
     "text": [
      "테스트\n"
     ]
    }
   ],
   "source": [
    "print(\"테스트\")"
   ]
  },
  {
   "cell_type": "markdown",
   "metadata": {},
   "source": [
    "# 패키지 로딩"
   ]
  },
  {
   "cell_type": "code",
   "execution_count": 4,
   "metadata": {},
   "outputs": [],
   "source": [
    "import pandas as pd\n",
    "import os\n",
    "import seaborn as sns\n",
    "import numpy as np"
   ]
  },
  {
   "cell_type": "markdown",
   "metadata": {},
   "source": [
    "# 데이터 로딩"
   ]
  },
  {
   "cell_type": "code",
   "execution_count": 5,
   "metadata": {},
   "outputs": [
    {
     "data": {
      "text/plain": [
       "Index(['Survived', 'Pclass', 'Name', 'Sex', 'Age', 'SibSp', 'Parch', 'Ticket',\n",
       "       'Fare', 'Cabin', 'Embarked'],\n",
       "      dtype='object')"
      ]
     },
     "execution_count": 5,
     "metadata": {},
     "output_type": "execute_result"
    }
   ],
   "source": [
    "train = pd.read_csv(\"data/titanic/train.csv\", index_col = \"PassengerId\")\n",
    "test = pd.read_csv(\"data/titanic/test.csv\", index_col = \"PassengerId\")\n",
    "\n",
    "\n",
    "# 체크용도\n",
    "\n",
    "assert train.shape == (891,11)  # 등호 2개임\n",
    "assert test.shape == (418, 10)\n",
    "\n",
    "train.head()\n",
    "test.head()\n",
    "\n",
    "train.describe() # 숫자형 데이터만 보여줌, count가 전체보다 작으면 NaN이 있는 것\n",
    "test.describe() \n",
    "\n",
    "'''\n",
    "train[\"test\"] = np.arange(891) # 괄호 안의 숫자가 행의 개수와 같아야 함.\n",
    "print(train.shape, test.shape)  # shape 옆에 괄호 없음\n",
    "\n",
    "train.head()\n",
    "\n",
    "del train[\"test\"] # 열 삭제\n",
    "# print(train.shape, test.shape)  # shape 옆에 괄호 없음\n",
    "\n",
    "#train[0:3] # 상단 3개 행 보여주기\n",
    "#train.loc[:,\"Survived\":\"Cabin\"] # 왼쪽 행, 오른쪽 열로서 인덱싱(지정)할 수 있음\n",
    "#train.loc[:, [\"Survived\", \"Pcalss\", \"Cabin\"]] # Pclass가 제대로 나오지 않음\n",
    "#train[[\"Cabin\"]]\n",
    "\n",
    "\n",
    "train.loc[(train[\"Fare\"] > 100 ) & (train[\"Fare\"] < 500), :] # Fare가 100보다 크고, 500보다 작은 데이터 보기\n",
    "\n",
    "#df = pd.DataFrame(np.random.rand(5,7))\n",
    "#df\n",
    "'''\n",
    "\n",
    "train.columns # 어떤 변수가 있는지 확인하는 것\n"
   ]
  },
  {
   "cell_type": "markdown",
   "metadata": {},
   "source": [
    "# 열, 행 삭제 함수"
   ]
  },
  {
   "cell_type": "markdown",
   "metadata": {},
   "source": [
    "df.dropna(how = \"all\") ==> 이렇게 하면 모두 NaN값이 들어있는 행을 제거\n",
    "df.dropna(how = \"any\") ==> 이렇게 하면 하나라도 NaN값이 들어있는 행을 제거\n",
    "df.fillna(values = 5.0) ==> NaN이라는 부분에 5.0을 무조건 입력한다.\n",
    "\n",
    "df.drop(pd.to_datetime(\"20160701\")) ==> 인덱스가 2016년 7월 1일까지의 행을 삭제하라.\n",
    "df.drop(pd.to_datetime(\"20160701\"), pd.to_datetime(\"20160704\")) \n",
    "==> 2가지 조건을 가진 인덱스의 행을 삭제한다.\n",
    "df.drop(\"F\", axis = 1) => 기본적으로 행을 삭제하지만, axis = 1이 들어가면 열을 삭제할 수 있음. \n",
    "axis = 0 이면 기본값. 즉, 행을 삭제\n",
    "\n",
    "arr.sum() = arr 성분전체 합, axis = 0 각각 열들의 합, axis = 1 각각 행들의 합\n",
    "\n",
    "sort(arr, axis = 0 ) 각 열을 오름차순으로 정렬\n",
    "sort(arr, axis = 1 ) 각 열을 오름차순으로 정렬\n",
    "\n",
    "df.drop([\"B\", \"F\"], axis = 1) ==> 2개 이상의 열을 삭제할 때."
   ]
  },
  {
   "cell_type": "code",
   "execution_count": 6,
   "metadata": {},
   "outputs": [
    {
     "data": {
      "text/html": [
       "<div>\n",
       "<style scoped>\n",
       "    .dataframe tbody tr th:only-of-type {\n",
       "        vertical-align: middle;\n",
       "    }\n",
       "\n",
       "    .dataframe tbody tr th {\n",
       "        vertical-align: top;\n",
       "    }\n",
       "\n",
       "    .dataframe thead th {\n",
       "        text-align: right;\n",
       "    }\n",
       "</style>\n",
       "<table border=\"1\" class=\"dataframe\">\n",
       "  <thead>\n",
       "    <tr style=\"text-align: right;\">\n",
       "      <th></th>\n",
       "      <th>Sex</th>\n",
       "      <th>Cabin</th>\n",
       "      <th>Ticket</th>\n",
       "      <th>Embarked</th>\n",
       "      <th>Name</th>\n",
       "    </tr>\n",
       "  </thead>\n",
       "  <tbody>\n",
       "    <tr>\n",
       "      <th>count</th>\n",
       "      <td>891</td>\n",
       "      <td>204</td>\n",
       "      <td>891</td>\n",
       "      <td>889</td>\n",
       "      <td>891</td>\n",
       "    </tr>\n",
       "    <tr>\n",
       "      <th>unique</th>\n",
       "      <td>2</td>\n",
       "      <td>147</td>\n",
       "      <td>681</td>\n",
       "      <td>3</td>\n",
       "      <td>891</td>\n",
       "    </tr>\n",
       "    <tr>\n",
       "      <th>top</th>\n",
       "      <td>male</td>\n",
       "      <td>G6</td>\n",
       "      <td>347082</td>\n",
       "      <td>S</td>\n",
       "      <td>Robert, Mrs. Edward Scott (Elisabeth Walton Mc...</td>\n",
       "    </tr>\n",
       "    <tr>\n",
       "      <th>freq</th>\n",
       "      <td>577</td>\n",
       "      <td>4</td>\n",
       "      <td>7</td>\n",
       "      <td>644</td>\n",
       "      <td>1</td>\n",
       "    </tr>\n",
       "  </tbody>\n",
       "</table>\n",
       "</div>"
      ],
      "text/plain": [
       "         Sex Cabin  Ticket Embarked  \\\n",
       "count    891   204     891      889   \n",
       "unique     2   147     681        3   \n",
       "top     male    G6  347082        S   \n",
       "freq     577     4       7      644   \n",
       "\n",
       "                                                     Name  \n",
       "count                                                 891  \n",
       "unique                                                891  \n",
       "top     Robert, Mrs. Edward Scott (Elisabeth Walton Mc...  \n",
       "freq                                                    1  "
      ]
     },
     "execution_count": 6,
     "metadata": {},
     "output_type": "execute_result"
    }
   ],
   "source": [
    "train.describe() # 숫자형 자료들의 NaN포함여부 체크\n",
    "## Age 처리 필요 => Age에 0넣기\n",
    "train[[\"Sex\", \"Cabin\", \"Ticket\", \"Embarked\", \"Name\"]].describe() # 문자형 자료들 NaN 체크\n",
    "## Cabin, Embarked  처리 => Embarket는 S로 넣기, Cabin은 0으로 처리?\n",
    "\n",
    "#passid = train.index\n",
    "#random_passid = np.random.permutation(891)\n",
    "#train = train.reindex(index = random_passid)\n",
    "#train.sort_index(axis=0)\n",
    "#train.sort_values(by = \"Age\")\n",
    "\n",
    "#train.head(20)\n"
   ]
  },
  {
   "cell_type": "markdown",
   "metadata": {},
   "source": [
    "# 데이터 전처리"
   ]
  },
  {
   "cell_type": "code",
   "execution_count": 7,
   "metadata": {},
   "outputs": [
    {
     "name": "stdout",
     "output_type": "stream",
     "text": [
      "(418, 17)\n",
      "(891, 18)\n"
     ]
    },
    {
     "data": {
      "text/html": [
       "<div>\n",
       "<style scoped>\n",
       "    .dataframe tbody tr th:only-of-type {\n",
       "        vertical-align: middle;\n",
       "    }\n",
       "\n",
       "    .dataframe tbody tr th {\n",
       "        vertical-align: top;\n",
       "    }\n",
       "\n",
       "    .dataframe thead th {\n",
       "        text-align: right;\n",
       "    }\n",
       "</style>\n",
       "<table border=\"1\" class=\"dataframe\">\n",
       "  <thead>\n",
       "    <tr style=\"text-align: right;\">\n",
       "      <th></th>\n",
       "      <th>Pclass</th>\n",
       "      <th>Name</th>\n",
       "      <th>Sex</th>\n",
       "      <th>Age</th>\n",
       "      <th>SibSp</th>\n",
       "      <th>Parch</th>\n",
       "      <th>Ticket</th>\n",
       "      <th>Fare</th>\n",
       "      <th>Cabin</th>\n",
       "      <th>Embarked</th>\n",
       "      <th>Sex_encode</th>\n",
       "      <th>Embarked_encode</th>\n",
       "      <th>FamilySize</th>\n",
       "      <th>Parch_encode</th>\n",
       "      <th>Age_encode</th>\n",
       "      <th>Fare_fillin</th>\n",
       "      <th>Ticket_len</th>\n",
       "    </tr>\n",
       "    <tr>\n",
       "      <th>PassengerId</th>\n",
       "      <th></th>\n",
       "      <th></th>\n",
       "      <th></th>\n",
       "      <th></th>\n",
       "      <th></th>\n",
       "      <th></th>\n",
       "      <th></th>\n",
       "      <th></th>\n",
       "      <th></th>\n",
       "      <th></th>\n",
       "      <th></th>\n",
       "      <th></th>\n",
       "      <th></th>\n",
       "      <th></th>\n",
       "      <th></th>\n",
       "      <th></th>\n",
       "      <th></th>\n",
       "    </tr>\n",
       "  </thead>\n",
       "  <tbody>\n",
       "  </tbody>\n",
       "</table>\n",
       "</div>"
      ],
      "text/plain": [
       "Empty DataFrame\n",
       "Columns: [Pclass, Name, Sex, Age, SibSp, Parch, Ticket, Fare, Cabin, Embarked, Sex_encode, Embarked_encode, FamilySize, Parch_encode, Age_encode, Fare_fillin, Ticket_len]\n",
       "Index: []"
      ]
     },
     "execution_count": 7,
     "metadata": {},
     "output_type": "execute_result"
    }
   ],
   "source": [
    "\n",
    "#### Ticket 길이\n",
    "train[\"Ticket_len\"] = train[\"Ticket\"].str.len()\n",
    "#train.loc[train[\"Ticket\"].isnull()] = train[\"Ticket_len\"].mean()\n",
    "train[[\"Ticket\", \"Ticket_len\"]]\n",
    "\n",
    "#### 성별 인코딩\n",
    "train.loc[train[\"Sex\"] == \"male\", \"Sex_encode\"] = 0\n",
    "train.loc[train[\"Sex\"] == \"female\", \"Sex_encode\"] = 1\n",
    "\n",
    "test.loc[test[\"Sex\"] == \"male\", \"Sex_encode\"] = 0\n",
    "test.loc[test[\"Sex\"] == \"female\", \"Sex_encode\"] = 1\n",
    "\n",
    "#### Embarked\n",
    "\n",
    "train.loc[train[\"Embarked\"] == \"C\", \"Embarked_encode\"] = 1 # 프랑스\n",
    "train.loc[train[\"Embarked\"] != \"C\", \"Embarked_encode\"] = 0 # 영국\n",
    "\n",
    "test.loc[test[\"Embarked\"] == \"C\", \"Embarked_encode\"] = 1 # 프랑스\n",
    "test.loc[test[\"Embarked\"] != \"C\", \"Embarked_encode\"] = 0 # 영국\n",
    "\n",
    "# Embarked 빈값 처리 - test에는 없고, train에는 2개 있음\n",
    "# train[train[\"Embarked\"] != \"C\"].shape \n",
    "# 영국이 723개이고, 프랑스가 1개이므로 영국(0)으로 코딩\n",
    "\n",
    "train.loc[train[\"Embarked\"].isnull(), \"Embarked_encode\"] = 0\n",
    "\n",
    "#### SibSp, ParCh\n",
    "\n",
    "train.loc[(train[\"SibSp\"] == 0) & (train[\"Parch\"] == 0), \"FamilySize\"] = 0\n",
    "train.loc[(train[\"SibSp\"] != 0) | (train[\"Parch\"] != 0), \"FamilySize\"] = train[\"SibSp\"] + train[\"Parch\"]\n",
    "\n",
    "test.loc[(test[\"SibSp\"] == 0) & (test[\"Parch\"] == 0), \"FamilySize\"] = 0\n",
    "test.loc[(test[\"SibSp\"] != 0) | (test[\"Parch\"] != 0), \"FamilySize\"] = test[\"SibSp\"] + test[\"Parch\"]\n",
    "\n",
    "### Parch\n",
    "\n",
    "# 빈값없음 (train, test)\n",
    "\n",
    "train[\"Parch_encode\"] = train[\"Parch\"]\n",
    "train.loc[train[\"Parch\"] != 0, \"Parch_encode\"] = 0\n",
    "\n",
    "test[\"Parch_encode\"] = test[\"Parch\"]\n",
    "test.loc[test[\"Parch\"] != 0, \"Parch_encode\"] = 0\n",
    "\n",
    "#### Age\n",
    "\n",
    "train[\"Age_encode\"] = train[\"Age\"]\n",
    "train.loc[train[\"Age\"].isnull()] = train[\"Age\"].mean()\n",
    "\n",
    "test[\"Age_encode\"] = test[\"Age\"]\n",
    "test.loc[test[\"Age\"].isnull()] = test[\"Age\"].mean()\n",
    "\n",
    "\n",
    "#### Fare\n",
    "\n",
    "# 문자열은 빈값이 있는지 체크한 후에 인코딩\n",
    "# train.loc[train[\"Fare\"].isnull()] # 없음\n",
    "\n",
    "train[\"Fare_fillin\"] = train[\"Fare\"]\n",
    "train.loc[train[\"Fare\"].isnull(), \"Fare_fillin\"] = train[\"Fare\"].mean()\n",
    "\n",
    "test[\"Fare_fillin\"] = test[\"Fare\"]\n",
    "test.loc[test[\"Fare\"].isnull(), \"Fare_fillin\"] = test[\"Fare\"].mean()\n",
    "\n",
    "# test.loc[test[\"Embarked\"].isnull()] # 없음\n",
    "\n",
    "# train.head(20)\n",
    "# test.head(20)\n",
    "# test.loc[test[[\"Fare\"].isnull(), [\"Cabin\"].isnull()]]\n",
    "# test.loc[(test[\"Cabin\"].isnull() | test[\"Fare\"].isnull())]\n",
    "\n",
    "\n",
    "#test.loc[test[\"Ticket\"].isnull()]\n",
    "#train.loc[train[\"Ticket\"].isnull()]\n",
    "\n",
    "train.head()\n",
    "\n",
    "\n",
    "#### Ticket\n",
    "\n",
    "train[\"Ticket_len\"] = train[\"Ticket\"].str.len()\n",
    "train.loc[train[\"Ticket_len\"].isnull()] = train[\"Ticket_len\"].mean()\n",
    "train[[\"Ticket\", \"Ticket_len\"]]\n",
    "\n",
    "test[\"Ticket_len\"] = test[\"Ticket\"].str.len()\n",
    "test.loc[test[\"Ticket_len\"].isnull()] = test[\"Ticket_len\"].mean()\n",
    "test[[\"Ticket\", \"Ticket_len\"]]\n",
    "\n",
    "print(test.shape)\n",
    "test[\"Ticket\"].describe()\n",
    "test[\"Ticket_len\"].unique()\n",
    "\n",
    "print(train.shape)\n",
    "train[\"Ticket\"].describe()\n",
    "train[\"Ticket_len\"].unique()\n",
    "\n",
    "test.loc[test[\"Ticket\"].isnull()]\n",
    "\n",
    "#print(train[\"Ticket_len\"].mean())"
   ]
  },
  {
   "cell_type": "markdown",
   "metadata": {},
   "source": [
    "# 데이터 전처리(원핫 인코딩)"
   ]
  },
  {
   "cell_type": "code",
   "execution_count": 8,
   "metadata": {},
   "outputs": [
    {
     "data": {
      "text/html": [
       "<div>\n",
       "<style scoped>\n",
       "    .dataframe tbody tr th:only-of-type {\n",
       "        vertical-align: middle;\n",
       "    }\n",
       "\n",
       "    .dataframe tbody tr th {\n",
       "        vertical-align: top;\n",
       "    }\n",
       "\n",
       "    .dataframe thead th {\n",
       "        text-align: right;\n",
       "    }\n",
       "</style>\n",
       "<table border=\"1\" class=\"dataframe\">\n",
       "  <thead>\n",
       "    <tr style=\"text-align: right;\">\n",
       "      <th></th>\n",
       "      <th>Survived</th>\n",
       "    </tr>\n",
       "    <tr>\n",
       "      <th>Pclass</th>\n",
       "      <th></th>\n",
       "    </tr>\n",
       "  </thead>\n",
       "  <tbody>\n",
       "    <tr>\n",
       "      <th>1.000000</th>\n",
       "      <td>0.655914</td>\n",
       "    </tr>\n",
       "    <tr>\n",
       "      <th>2.000000</th>\n",
       "      <td>0.479769</td>\n",
       "    </tr>\n",
       "    <tr>\n",
       "      <th>3.000000</th>\n",
       "      <td>0.239437</td>\n",
       "    </tr>\n",
       "    <tr>\n",
       "      <th>6.841737</th>\n",
       "      <td>6.841737</td>\n",
       "    </tr>\n",
       "  </tbody>\n",
       "</table>\n",
       "</div>"
      ],
      "text/plain": [
       "          Survived\n",
       "Pclass            \n",
       "1.000000  0.655914\n",
       "2.000000  0.479769\n",
       "3.000000  0.239437\n",
       "6.841737  6.841737"
      ]
     },
     "execution_count": 8,
     "metadata": {},
     "output_type": "execute_result"
    },
    {
     "data": {
      "image/png": "[encoded data removed]",
      "text/plain": [
       "<Figure size 432x288 with 1 Axes>"
      ]
     },
     "metadata": {},
     "output_type": "display_data"
    }
   ],
   "source": [
    "from pandas import DataFrame, Series\n",
    "\n",
    "Pclass_onehot = pd.get_dummies(train[\"Pclass\"], prefix=\"Pclass\")\n",
    "Pclass_onehot\n",
    "\n",
    "# Pclass로 시작하는 변수로 만들어서 자동처리\n",
    "\n",
    "Embarked_onehot = pd.get_dummies(train[\"Embarked\"], prefix=\"Embarked\")\n",
    "Embarked_onehot\n",
    "\n",
    "# Embarked로 시작하는 변수로 만들어서 자동처리\n",
    "\n",
    "train_with_onehot = pd.concat(\n",
    "    [DataFrame(train),Pclass_onehot, Embarked_onehot], axis = 1)\n",
    "train_with_onehot.head()\n",
    "\n",
    "\n",
    "train[\"Pclass\"].describe()\n",
    "\n",
    "sns.countplot (data = train, x = \"Pclass\", hue = \"Survived\")\n",
    "pd.pivot_table (train, index = \"Pclass\", values = \"Survived\")"
   ]
  },
  {
   "cell_type": "markdown",
   "metadata": {},
   "source": [
    "# 사용자 정의 함수"
   ]
  },
  {
   "cell_type": "code",
   "execution_count": 9,
   "metadata": {},
   "outputs": [
    {
     "data": {
      "text/plain": [
       "array([22.        , 38.        , 26.        , 35.        ,  6.84173669,\n",
       "       54.        ,  2.        , 27.        , 14.        ,  4.        ,\n",
       "       58.        , 20.        , 39.        , 55.        , 31.        ,\n",
       "       34.        , 15.        , 28.        ,  8.        , 19.        ,\n",
       "       40.        , 66.        , 42.        , 21.        , 18.        ,\n",
       "        3.        ,  7.        , 49.        , 29.        , 65.        ,\n",
       "       28.5       ,  5.        , 11.        , 45.        , 17.        ,\n",
       "       32.        , 16.        , 25.        ,  0.83      , 30.        ,\n",
       "       33.        , 23.        , 24.        , 46.        , 59.        ,\n",
       "       71.        , 37.        , 47.        , 14.5       , 70.5       ,\n",
       "       32.5       , 12.        ,  9.        , 36.5       , 51.        ,\n",
       "       55.5       , 40.5       , 44.        ,  1.        , 61.        ,\n",
       "       56.        , 50.        , 36.        , 45.5       , 20.5       ,\n",
       "       62.        , 41.        , 52.        , 63.        , 23.5       ,\n",
       "        0.92      , 43.        , 60.        , 10.        , 64.        ,\n",
       "       13.        , 48.        ,  0.75      , 53.        , 57.        ,\n",
       "       80.        , 70.        , 24.5       ,  6.        ,  0.67      ,\n",
       "       30.5       ,  0.42      , 34.5       , 74.        ])"
      ]
     },
     "execution_count": 9,
     "metadata": {},
     "output_type": "execute_result"
    }
   ],
   "source": [
    "func = lambda x: x.max() - x.min()\n",
    "train[\"func\"] = train[[\"Pclass\", \"Age\"]].apply(func, axis = 1)\n",
    "train[[\"Age\", \"Pclass\", \"func\"]]\n",
    "\n",
    "# 사용자 정의 항수 만드는 기능\n",
    "\n",
    "train[\"Pclass\"].unique() # 중복값 제외하고 확인하는 범주형인지 아닌지 확인하는 기능\n",
    "train[\"Sex\"].unique()\n",
    "train[\"Age\"].unique()\n",
    "\n"
   ]
  },
  {
   "cell_type": "markdown",
   "metadata": {},
   "source": [
    "# Scikit-Learn의 모델 종류\n",
    "\n",
    "## Tree계열\n",
    "- DecisionTreeClassifier\n",
    "- RandomForestClassifier\n",
    "- Gradient Boosting Decision Tree\n",
    "\n",
    "## Regression\n",
    "- LogisticRegression\n",
    "\n",
    "## SVM (Support Vector Machine)\n",
    "- SVC\n",
    "\n",
    "## KNN\n",
    "- KNeighborsClassifier\n",
    "\n",
    "## Bayesian\n",
    "- MultinomialNB\n",
    "\n",
    "## Neural Network\n",
    "- MLPClassifier"
   ]
  },
  {
   "cell_type": "markdown",
   "metadata": {},
   "source": [
    "# 예측모델 - Decision Tree (0.86)"
   ]
  },
  {
   "cell_type": "code",
   "execution_count": 10,
   "metadata": {},
   "outputs": [
    {
     "name": "stdout",
     "output_type": "stream",
     "text": [
      "Train Set accuracy =  0.8641975308641975\n"
     ]
    }
   ],
   "source": [
    "from sklearn.tree import DecisionTreeClassifier\n",
    "\n",
    "\n",
    "# features = [\"Pclass\"] # 0.739\n",
    "# features = [\"Sex_encode\"] # 0.823\n",
    "# features = [\"Embarked_encode\"] # 0.507\n",
    "# features = [\"Pclass\", \"Sex_encode\"] #0.831\n",
    "# features = [\"Pclass\", \"Sex_encode\", \"Fare_fillin\"] #0.848 \n",
    "# features = [\"Pclass\", \"Sex_encode\", \"Fare_fillin\", \"Age_encode\"] # 0.864\n",
    "# features = [\"Pclass\", \"Sex_encode\", \"Fare_fillin\", \"Age_encode\", \"Ticket_len\"] # 0.864\n",
    "# features = [\"Pclass\", \"Sex_encode\", \"Fare_fillin\", \"Age_encode\", \"Embarked_encode\"] # 0.864\n",
    "# features = [\"Pclass\", \"Sex_encode\", \"Fare_fillin\", \"FamilySize\", \"Age_encode\"] #0.864 \n",
    "# features = [\"Pclass\", \"Sex_encode\", \"Fare_fillin\", \"FamilySize\", \"Age_encode\", \"Parch_encode\"]  # 0.864\n",
    "\n",
    "### Age_encode, Parch_encode, Embarked_encode, \"Ticket_len\" 의미 없음\n",
    "\n",
    "\n",
    "features = [\"Pclass\", \"Sex_encode\", \"Fare_fillin\", \"Age_encode\"]\n",
    "\n",
    "\n",
    "x_train = train[features]\n",
    "x_test = test[features]\n",
    "\n",
    "# label 에러 방지를 위한 인코딩\n",
    "encoded = train[\"Survived\"]\n",
    "lab_enc = preprocessing.LabelEncoder()\n",
    "y_train = lab_enc.fit_transform(encoded)\n",
    "\n",
    "model = DecisionTreeClassifier(max_depth = 5)\n",
    "z_train = model.fit (x_train, y_train)\n",
    "predictions = model.predict(x_test)\n",
    "\n",
    "########################################################################\n",
    "\n",
    "#print(\"Num Features: %d\" % z_train.n_features_,) \n",
    "#print(\"Selected Features: %s\" % z_train.support_,)\n",
    "#print(\"Feature Ranking: %s\" % z_train.ranking_,)\n",
    "\n",
    "#########################################################################\n",
    "\n",
    "print(\"Train Set accuracy = \", model.score(x_train, y_train))\n",
    "\n",
    "# print(\"Test Set accuracy = \", model.score(x_test, predictions))"
   ]
  },
  {
   "cell_type": "markdown",
   "metadata": {},
   "source": [
    "# 예측모델 - LogisticRegression (0.84)"
   ]
  },
  {
   "cell_type": "code",
   "execution_count": 11,
   "metadata": {},
   "outputs": [
    {
     "name": "stdout",
     "output_type": "stream",
     "text": [
      "Train Set accuracy =  0.8428731762065096\n",
      "Test Set accuracy =  1.0\n"
     ]
    }
   ],
   "source": [
    "from sklearn.feature_selection import RFE\n",
    "from sklearn.linear_model import LogisticRegression\n",
    "from sklearn.tree import DecisionTreeClassifier\n",
    "from sklearn import preprocessing\n",
    "\n",
    "features = [\"Pclass\", \"Sex_encode\", \"Fare_fillin\", \"FamilySize\", \"Age_encode\"]\n",
    "\n",
    "x_train = train[features]\n",
    "x_test = test[features]\n",
    "\n",
    "# label 에러 방지를 위한 인코딩\n",
    "encoded = train[\"Survived\"]\n",
    "lab_enc = preprocessing.LabelEncoder()\n",
    "y_train = lab_enc.fit_transform(encoded)\n",
    "\n",
    "model = LogisticRegression()\n",
    "rfe = RFE(model, 8)\n",
    "z_train = rfe.fit (x_train, y_train)\n",
    "predictions = rfe.predict(x_test)\n",
    "\n",
    "########################################################################\n",
    "\n",
    "#print(\"Num Features: %d\" % z_train.n_features_,) \n",
    "#print(\"Selected Features: %s\" % z_train.support_,)\n",
    "#print(\"Feature Ranking: %s\" % z_train.ranking_,)\n",
    "\n",
    "#########################################################################\n",
    "\n",
    "print(\"Train Set accuracy = \", rfe.score(x_train, y_train))\n",
    "print(\"Test Set accuracy = \", rfe.score(x_test, predictions))"
   ]
  },
  {
   "cell_type": "markdown",
   "metadata": {},
   "source": [
    "# 변수선택"
   ]
  },
  {
   "cell_type": "code",
   "execution_count": 13,
   "metadata": {},
   "outputs": [
    {
     "name": "stdout",
     "output_type": "stream",
     "text": [
      "Num Features: 5\n",
      "Selected Features: [ True  True  True  True  True]\n",
      "Feature Ranking: [1 1 1 1 1]\n"
     ]
    },
    {
     "data": {
      "text/plain": [
       "\"\\n# 에러 메시지2 : ValueError: Unknown label type: 'continuous'\\n\\n결과값을 인코딩해줌으로써 해결\\n\\n\\n\""
      ]
     },
     "execution_count": 13,
     "metadata": {},
     "output_type": "execute_result"
    }
   ],
   "source": [
    "from sklearn.feature_selection import RFE\n",
    "from sklearn.linear_model import LogisticRegression\n",
    "from sklearn import preprocessing\n",
    "\n",
    "features = [\"Pclass\", \"Sex_encode\", \"Fare_fillin\", \"FamilySize\", \"Age_encode\"]\n",
    "x_train = train[features]\n",
    "encoded = train[\"Survived\"]\n",
    "\n",
    "# label 에러 방지를 위한 인코딩\n",
    "lab_enc = preprocessing.LabelEncoder()\n",
    "y_train = lab_enc.fit_transform(encoded)\n",
    "\n",
    "model = LogisticRegression()\n",
    "rfe = RFE(model, 8)\n",
    "fit = rfe.fit (x_train, y_train)\n",
    "\n",
    "print(\"Num Features: %d\" % fit.n_features_,) \n",
    "print(\"Selected Features: %s\" % fit.support_,)\n",
    "print(\"Feature Ranking: %s\" % fit.ranking_,)\n",
    "\n",
    "\n",
    "\n",
    "'''\n",
    "# 에러 메시지1: TypeError: unsupported operand type(s) for %: 'NoneType' and 'int'\n",
    "\n",
    "print(\"Num Features: %d\") % fit.n_features_\n",
    "print(\"Selected Features: %s\") % fit.support_\n",
    "print(\"Feature Ranking: %s\") % fit.ranking_\n",
    "\n",
    "print() 바깥에 있는 것을 안쪽으로 들여오고, 마지막에 콤마 추가\n",
    "튜플이라는 것을 선언하려면 마지막 콤마 필요\n",
    "'''\n",
    "\n",
    "'''\n",
    "# 에러 메시지2 : ValueError: Unknown label type: 'continuous'\n",
    "\n",
    "결과값을 인코딩해줌으로써 해결\n",
    "\n",
    "\n",
    "'''"
   ]
  },
  {
   "cell_type": "code",
   "execution_count": null,
   "metadata": {},
   "outputs": [],
   "source": []
  },
  {
   "cell_type": "code",
   "execution_count": null,
   "metadata": {},
   "outputs": [],
   "source": []
  },
  {
   "cell_type": "code",
   "execution_count": null,
   "metadata": {},
   "outputs": [],
   "source": []
  }
 ],
 "metadata": {
  "kernelspec": {
   "display_name": "Python 3",
   "language": "python",
   "name": "python3"
  },
  "language_info": {
   "codemirror_mode": {
    "name": "ipython",
    "version": 3
   },
   "file_extension": ".py",
   "mimetype": "text/x-python",
   "name": "python",
   "nbconvert_exporter": "python",
   "pygments_lexer": "ipython3",
   "version": "3.6.5"
  }
 },
 "nbformat": 4,
 "nbformat_minor": 2
}
