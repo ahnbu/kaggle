{
 "cells": [
  {
   "cell_type": "code",
   "execution_count": 1,
   "metadata": {},
   "outputs": [],
   "source": [
    "import requests\n",
    "from bs4 import BeautifulSoup\n",
    "import time\n",
    "from tqdm import tqdm_notebook\n",
    "import pandas as pd"
   ]
  },
  {
   "cell_type": "code",
   "execution_count": 2,
   "metadata": {},
   "outputs": [],
   "source": [
    "# 1. 종목분석 페이지 url을 만든다.\n",
    "def get_page(pagenum):\n",
    "    page_base = 'https://finance.naver.com/research/company_list.nhn?&page={}'\n",
    "    page = page_base.format(pagenum)\n",
    "    return page"
   ]
  },
  {
   "cell_type": "code",
   "execution_count": 3,
   "metadata": {},
   "outputs": [
    {
     "data": {
      "text/plain": [
       "'https://finance.naver.com/research/company_list.nhn?&page=1'"
      ]
     },
     "execution_count": 3,
     "metadata": {},
     "output_type": "execute_result"
    }
   ],
   "source": [
    "pagenum = 1\n",
    "page = 'https://finance.naver.com/research/company_list.nhn?&page={}'.format(pagenum)\n",
    "page"
   ]
  },
  {
   "cell_type": "code",
   "execution_count": 4,
   "metadata": {},
   "outputs": [
    {
     "data": {
      "text/plain": [
       "'https://finance.naver.com/research/company_list.nhn?&page=1'"
      ]
     },
     "execution_count": 4,
     "metadata": {},
     "output_type": "execute_result"
    }
   ],
   "source": [
    "get_page(1)"
   ]
  },
  {
   "cell_type": "code",
   "execution_count": 5,
   "metadata": {},
   "outputs": [],
   "source": [
    "# 2. 한 페이지당 종목분석 리포트 링크를 가져온다.\n",
    "def get_links(page):\n",
    "\n",
    "    headers = {'User-Agent' : 'Mozilla/5.0 (Windows NT 10.0; Win64; x64) AppleWebKit/537.36 (KHTML, like Gecko) Chrome/69.0.3497.100 Safari/537.36' }\n",
    "    html = requests.get(page, headers = headers).text\n",
    "    time.sleep(1)\n",
    "    soup = BeautifulSoup(html, 'html.parser')\n",
    "    \n",
    "    links_all = soup.select('div.box_type_m tr > td > a')\n",
    "    links = []\n",
    "    for lll in links_all:\n",
    "        if 'company_read.nhn?' in lll['href']:\n",
    "            link = 'https://finance.naver.com/research' + lll['href']\n",
    "            links.append(link)\n",
    "    return links"
   ]
  },
  {
   "cell_type": "code",
   "execution_count": 6,
   "metadata": {},
   "outputs": [
    {
     "data": {
      "text/plain": [
       "['https://finance.naver.com/researchcompany_read.nhn?nid=46892&page=1',\n",
       " 'https://finance.naver.com/researchcompany_read.nhn?nid=46891&page=1',\n",
       " 'https://finance.naver.com/researchcompany_read.nhn?nid=46890&page=1',\n",
       " 'https://finance.naver.com/researchcompany_read.nhn?nid=46889&page=1',\n",
       " 'https://finance.naver.com/researchcompany_read.nhn?nid=46888&page=1',\n",
       " 'https://finance.naver.com/researchcompany_read.nhn?nid=46887&page=1',\n",
       " 'https://finance.naver.com/researchcompany_read.nhn?nid=46886&page=1',\n",
       " 'https://finance.naver.com/researchcompany_read.nhn?nid=46885&page=1',\n",
       " 'https://finance.naver.com/researchcompany_read.nhn?nid=46884&page=1',\n",
       " 'https://finance.naver.com/researchcompany_read.nhn?nid=46883&page=1',\n",
       " 'https://finance.naver.com/researchcompany_read.nhn?nid=46882&page=1',\n",
       " 'https://finance.naver.com/researchcompany_read.nhn?nid=46881&page=1',\n",
       " 'https://finance.naver.com/researchcompany_read.nhn?nid=46880&page=1',\n",
       " 'https://finance.naver.com/researchcompany_read.nhn?nid=46879&page=1',\n",
       " 'https://finance.naver.com/researchcompany_read.nhn?nid=46878&page=1',\n",
       " 'https://finance.naver.com/researchcompany_read.nhn?nid=46877&page=1',\n",
       " 'https://finance.naver.com/researchcompany_read.nhn?nid=46876&page=1',\n",
       " 'https://finance.naver.com/researchcompany_read.nhn?nid=46875&page=1',\n",
       " 'https://finance.naver.com/researchcompany_read.nhn?nid=46874&page=1',\n",
       " 'https://finance.naver.com/researchcompany_read.nhn?nid=46873&page=1',\n",
       " 'https://finance.naver.com/researchcompany_read.nhn?nid=46872&page=1',\n",
       " 'https://finance.naver.com/researchcompany_read.nhn?nid=46871&page=1',\n",
       " 'https://finance.naver.com/researchcompany_read.nhn?nid=46870&page=1',\n",
       " 'https://finance.naver.com/researchcompany_read.nhn?nid=46869&page=1',\n",
       " 'https://finance.naver.com/researchcompany_read.nhn?nid=46868&page=1',\n",
       " 'https://finance.naver.com/researchcompany_read.nhn?nid=46867&page=1',\n",
       " 'https://finance.naver.com/researchcompany_read.nhn?nid=46866&page=1',\n",
       " 'https://finance.naver.com/researchcompany_read.nhn?nid=46865&page=1',\n",
       " 'https://finance.naver.com/researchcompany_read.nhn?nid=46864&page=1',\n",
       " 'https://finance.naver.com/researchcompany_read.nhn?nid=46863&page=1']"
      ]
     },
     "execution_count": 6,
     "metadata": {},
     "output_type": "execute_result"
    }
   ],
   "source": [
    "page = get_page(1)\n",
    "get_links(page)"
   ]
  },
  {
   "cell_type": "code",
   "execution_count": 21,
   "metadata": {},
   "outputs": [],
   "source": [
    "# 3. 링크 당 정보를 가져온다. (제목, 내용, 일시, 종목, 검토회사...)\n",
    "def get_report(link):\n",
    "\n",
    "    headers = {'Referer' : 'https://finance.naver.com/research/invest_list.nhn', 'User-Agent' : 'Mozilla/5.0 (Windows NT 10.0; Win64; x64) AppleWebKit/537.36 (KHTML, like Gecko) Chrome/69.0.3497.100 Safari/537.36' }\n",
    "    html = requests.get(link, headers = headers).text\n",
    "    time.sleep(1)\n",
    "    soup = BeautifulSoup(html, 'html.parser')\n",
    "\n",
    "    print(soup.select('em'))\n",
    "\n",
    "    stock = soup.select('em')[0].text\n",
    "    target = soup.select('em > strong')[0].text\n",
    "    reco = soup.select('em.coment')[0].text\n",
    "\n",
    "    title_del = soup.select('th.view_sbj > p.source')[0].text\n",
    "    title = soup.select('th.view_sbj')[0].text.replace(title_del, '').replace(stock, '').strip()\n",
    "    report = soup.select('td.view_cnt > div')[0].text.replace('\\n', '').strip()\n",
    "\n",
    "    company = title_del.split('|')[0]\n",
    "    date = title_del.split('|')[1]\n",
    "    pdf = soup.select('a.con_link')[0]['href']\n",
    "    \n",
    "    result = [stock, target, reco, title, report, company, date, pdf]\n",
    "    \n",
    "    return result"
   ]
  },
  {
   "cell_type": "markdown",
   "metadata": {},
   "source": [
    "# 이렇게 하면 안됨 ㅠㅠ"
   ]
  },
  {
   "cell_type": "code",
   "execution_count": 22,
   "metadata": {},
   "outputs": [
    {
     "name": "stdout",
     "output_type": "stream",
     "text": [
      "[]\n"
     ]
    }
   ],
   "source": [
    "link = 'https://finance.naver.com/researchcompany_read.nhn?nid=46892&page=1'\n",
    "headers = {'Referer' : 'https://finance.naver.com/research/invest_list.nhn', 'User-Agent' : 'Mozilla/5.0 (Windows NT 10.0; Win64; x64) AppleWebKit/537.36 (KHTML, like Gecko) Chrome/69.0.3497.100 Safari/537.36' }\n",
    "html = requests.get(link, headers = headers).text\n",
    "time.sleep(1)\n",
    "soup = BeautifulSoup(html, 'html.parser')\n",
    "\n",
    "#print(html)\n",
    "print(soup.select('em'))"
   ]
  },
  {
   "cell_type": "markdown",
   "metadata": {},
   "source": [
    "# 이렇게 하면 됨.."
   ]
  },
  {
   "cell_type": "code",
   "execution_count": 23,
   "metadata": {},
   "outputs": [
    {
     "name": "stdout",
     "output_type": "stream",
     "text": [
      "[<em>현대백화점</em>, <em class=\"money\"><strong>125000</strong>원</em>, <em class=\"coment\">매수</em>, <em>Copyright ©</em>]\n"
     ]
    },
    {
     "data": {
      "text/plain": [
       "['현대백화점',\n",
       " '125000',\n",
       " '매수',\n",
       " '2019년, 기대 해볼만하다',\n",
       " '백화점, 2019년 문제 없다현대백화점 3분기 총매출액 1조 4,045억원(4% YoY), 영업이익 771억원 (11% YoY)을 예상한다.',\n",
       " '미래에셋대우',\n",
       " '2018.10.04',\n",
       " 'https://ssl.pstatic.net/imgstock/upload/research/company/1538621713176.pdf']"
      ]
     },
     "execution_count": 23,
     "metadata": {},
     "output_type": "execute_result"
    }
   ],
   "source": [
    "link = 'https://finance.naver.com/research/company_read.nhn?nid=46892&page=1'\n",
    "get_report(link)"
   ]
  },
  {
   "cell_type": "markdown",
   "metadata": {},
   "source": [
    "# get_report로 그냥 링크를 넣으면, em 태그 값이 나오는데, 함수에서 통으로 넣으면 빈 리스트가 나옴 --> 체크 필요"
   ]
  },
  {
   "cell_type": "code",
   "execution_count": 24,
   "metadata": {},
   "outputs": [],
   "source": [
    "# 4. 데이터 수집하기\n",
    "def get_stock_report(totalpage, fname):\n",
    "    \n",
    "    links = []\n",
    "    \n",
    "    for i in tqdm_notebook(range(1, totalpage), desc = '점검중'):\n",
    "        page = get_page(i)\n",
    "        links += get_links(page)\n",
    "        \n",
    "#    print(page, links)\n",
    "    print('{}개의 투자전략 리포트를 찾았습니다.' .format(len(links)))\n",
    "    print('리포트 수집 진행합니다. \\n')\n",
    "    \n",
    "    results = []\n",
    "    \n",
    "    for link in tqdm_notebook(links, desc = '리포트'):\n",
    "        print(link)\n",
    "        result = get_report(link)\n",
    "        results.append(result)\n",
    "        #print(result)\n",
    "    \n",
    "    #print(results)\n",
    "    datas = pd.DataFrame(results)\n",
    "    datas.columns = ['종목명', '목표가', '의견', '제목', '내용', '회사', '일자', '보고서']\n",
    "    datas.to_csv(fname)\n",
    "    print('{}개의 투자전략 리포트 수집 완료.'.format(len(results)))"
   ]
  },
  {
   "cell_type": "code",
   "execution_count": 27,
   "metadata": {},
   "outputs": [],
   "source": [
    "totalpage = 3\n",
    "fname = '투자전략리포트.csv'"
   ]
  },
  {
   "cell_type": "code",
   "execution_count": 28,
   "metadata": {},
   "outputs": [
    {
     "data": {
      "application/vnd.jupyter.widget-view+json": {
       "model_id": "1c7ece48ef6f4bc4bd23ea25a5866733",
       "version_major": 2,
       "version_minor": 0
      },
      "text/plain": [
       "HBox(children=(IntProgress(value=0, description='점검중', max=2), HTML(value='')))"
      ]
     },
     "metadata": {},
     "output_type": "display_data"
    },
    {
     "name": "stdout",
     "output_type": "stream",
     "text": [
      "\n",
      "60개의 투자전략 리포트를 찾았습니다.\n",
      "리포트 수집 진행합니다. \n",
      "\n"
     ]
    },
    {
     "data": {
      "application/vnd.jupyter.widget-view+json": {
       "model_id": "55c0f16f66924a6aa8fd98929d4c23bd",
       "version_major": 2,
       "version_minor": 0
      },
      "text/plain": [
       "HBox(children=(IntProgress(value=0, description='리포트', max=60), HTML(value='')))"
      ]
     },
     "metadata": {},
     "output_type": "display_data"
    },
    {
     "name": "stdout",
     "output_type": "stream",
     "text": [
      "https://finance.naver.com/researchcompany_read.nhn?nid=46892&page=1\n",
      "[]\n",
      "\n"
     ]
    },
    {
     "ename": "IndexError",
     "evalue": "list index out of range",
     "output_type": "error",
     "traceback": [
      "\u001b[1;31m---------------------------------------------------------------------------\u001b[0m",
      "\u001b[1;31mIndexError\u001b[0m                                Traceback (most recent call last)",
      "\u001b[1;32m<ipython-input-28-ba47a4c09694>\u001b[0m in \u001b[0;36m<module>\u001b[1;34m()\u001b[0m\n\u001b[1;32m----> 1\u001b[1;33m \u001b[0mget_stock_report\u001b[0m\u001b[1;33m(\u001b[0m\u001b[0mtotalpage\u001b[0m\u001b[1;33m,\u001b[0m \u001b[0mfname\u001b[0m\u001b[1;33m)\u001b[0m\u001b[1;33m\u001b[0m\u001b[0m\n\u001b[0m",
      "\u001b[1;32m<ipython-input-24-cfc890b7dc83>\u001b[0m in \u001b[0;36mget_stock_report\u001b[1;34m(totalpage, fname)\u001b[0m\n\u001b[0;32m     16\u001b[0m     \u001b[1;32mfor\u001b[0m \u001b[0mlink\u001b[0m \u001b[1;32min\u001b[0m \u001b[0mtqdm_notebook\u001b[0m\u001b[1;33m(\u001b[0m\u001b[0mlinks\u001b[0m\u001b[1;33m,\u001b[0m \u001b[0mdesc\u001b[0m \u001b[1;33m=\u001b[0m \u001b[1;34m'리포트'\u001b[0m\u001b[1;33m)\u001b[0m\u001b[1;33m:\u001b[0m\u001b[1;33m\u001b[0m\u001b[0m\n\u001b[0;32m     17\u001b[0m         \u001b[0mprint\u001b[0m\u001b[1;33m(\u001b[0m\u001b[0mlink\u001b[0m\u001b[1;33m)\u001b[0m\u001b[1;33m\u001b[0m\u001b[0m\n\u001b[1;32m---> 18\u001b[1;33m         \u001b[0mresult\u001b[0m \u001b[1;33m=\u001b[0m \u001b[0mget_report\u001b[0m\u001b[1;33m(\u001b[0m\u001b[0mlink\u001b[0m\u001b[1;33m)\u001b[0m\u001b[1;33m\u001b[0m\u001b[0m\n\u001b[0m\u001b[0;32m     19\u001b[0m         \u001b[0mresults\u001b[0m\u001b[1;33m.\u001b[0m\u001b[0mappend\u001b[0m\u001b[1;33m(\u001b[0m\u001b[0mresult\u001b[0m\u001b[1;33m)\u001b[0m\u001b[1;33m\u001b[0m\u001b[0m\n\u001b[0;32m     20\u001b[0m         \u001b[1;31m#print(result)\u001b[0m\u001b[1;33m\u001b[0m\u001b[1;33m\u001b[0m\u001b[0m\n",
      "\u001b[1;32m<ipython-input-21-cd734131ec00>\u001b[0m in \u001b[0;36mget_report\u001b[1;34m(link)\u001b[0m\n\u001b[0;32m      9\u001b[0m     \u001b[0mprint\u001b[0m\u001b[1;33m(\u001b[0m\u001b[0msoup\u001b[0m\u001b[1;33m.\u001b[0m\u001b[0mselect\u001b[0m\u001b[1;33m(\u001b[0m\u001b[1;34m'em'\u001b[0m\u001b[1;33m)\u001b[0m\u001b[1;33m)\u001b[0m\u001b[1;33m\u001b[0m\u001b[0m\n\u001b[0;32m     10\u001b[0m \u001b[1;33m\u001b[0m\u001b[0m\n\u001b[1;32m---> 11\u001b[1;33m     \u001b[0mstock\u001b[0m \u001b[1;33m=\u001b[0m \u001b[0msoup\u001b[0m\u001b[1;33m.\u001b[0m\u001b[0mselect\u001b[0m\u001b[1;33m(\u001b[0m\u001b[1;34m'em'\u001b[0m\u001b[1;33m)\u001b[0m\u001b[1;33m[\u001b[0m\u001b[1;36m0\u001b[0m\u001b[1;33m]\u001b[0m\u001b[1;33m.\u001b[0m\u001b[0mtext\u001b[0m\u001b[1;33m\u001b[0m\u001b[0m\n\u001b[0m\u001b[0;32m     12\u001b[0m     \u001b[0mtarget\u001b[0m \u001b[1;33m=\u001b[0m \u001b[0msoup\u001b[0m\u001b[1;33m.\u001b[0m\u001b[0mselect\u001b[0m\u001b[1;33m(\u001b[0m\u001b[1;34m'em > strong'\u001b[0m\u001b[1;33m)\u001b[0m\u001b[1;33m[\u001b[0m\u001b[1;36m0\u001b[0m\u001b[1;33m]\u001b[0m\u001b[1;33m.\u001b[0m\u001b[0mtext\u001b[0m\u001b[1;33m\u001b[0m\u001b[0m\n\u001b[0;32m     13\u001b[0m     \u001b[0mreco\u001b[0m \u001b[1;33m=\u001b[0m \u001b[0msoup\u001b[0m\u001b[1;33m.\u001b[0m\u001b[0mselect\u001b[0m\u001b[1;33m(\u001b[0m\u001b[1;34m'em.coment'\u001b[0m\u001b[1;33m)\u001b[0m\u001b[1;33m[\u001b[0m\u001b[1;36m0\u001b[0m\u001b[1;33m]\u001b[0m\u001b[1;33m.\u001b[0m\u001b[0mtext\u001b[0m\u001b[1;33m\u001b[0m\u001b[0m\n",
      "\u001b[1;31mIndexError\u001b[0m: list index out of range"
     ]
    }
   ],
   "source": [
    "get_stock_report(totalpage, fname)"
   ]
  },
  {
   "cell_type": "code",
   "execution_count": null,
   "metadata": {},
   "outputs": [],
   "source": []
  },
  {
   "cell_type": "code",
   "execution_count": null,
   "metadata": {},
   "outputs": [],
   "source": []
  }
 ],
 "metadata": {
  "kernelspec": {
   "display_name": "Python 3",
   "language": "python",
   "name": "python3"
  },
  "language_info": {
   "codemirror_mode": {
    "name": "ipython",
    "version": 3
   },
   "file_extension": ".py",
   "mimetype": "text/x-python",
   "name": "python",
   "nbconvert_exporter": "python",
   "pygments_lexer": "ipython3",
   "version": "3.6.6"
  }
 },
 "nbformat": 4,
 "nbformat_minor": 2
}
