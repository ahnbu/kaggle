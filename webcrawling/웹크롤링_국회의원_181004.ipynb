{
 "cells": [
  {
   "cell_type": "markdown",
   "metadata": {},
   "source": [
    "# 국회의원 명부_고유번호 크롤링"
   ]
  },
  {
   "cell_type": "code",
   "execution_count": 24,
   "metadata": {},
   "outputs": [],
   "source": [
    "import requests\n",
    "from bs4 import BeautifulSoup"
   ]
  },
  {
   "cell_type": "code",
   "execution_count": 25,
   "metadata": {},
   "outputs": [],
   "source": [
    "url = 'http://www.assembly.go.kr/assm/memact/congressman/memCond/memCondListAjax.do'\n",
    "# 내가 보는 것은 위의 url인데, 코드에서는 아래처럼 되어 있음\n",
    "#http://www.assembly.go.kr/assm/memact/congressman/memCond/memCondListAjax.do\n",
    "\n",
    "headers = {'User-Agent' : 'Mozilla/5.0 (Windows NT 10.0; Win64; x64) AppleWebKit/537.36 (KHTML, like Gecko) Chrome/69.0.3497.100 Safari/537.36' }\n",
    "params = {'currentPage': 1, 'rowPerPage': 300}\n",
    "html = requests.get(url, params = params, headers = headers).text # 소스코드를 불러옴, params의 역할은 아직 모르겠음..."
   ]
  },
  {
   "cell_type": "code",
   "execution_count": 26,
   "metadata": {},
   "outputs": [],
   "source": [
    "soup = BeautifulSoup(html, 'lxml') # 파이썬 내장 파써인 html.parser보다 속도가 훨씬 빠름"
   ]
  },
  {
   "cell_type": "code",
   "execution_count": 27,
   "metadata": {},
   "outputs": [],
   "source": [
    "names = []\n",
    "tag_list = []\n",
    "\n",
    "for idx, tag in enumerate(soup.select('a[href*=jsMemPop]'), 1):\n",
    "#    print(idx, tag)\n",
    "#    print('[{}] {}' .format(idx, tag))\n",
    "    tag_list.append(tag.get('href')[-9:-2])\n",
    "    names.append(tag.text)\n",
    "# enumerate는 앞에 순서번호를 자동으로 붙여주는 형식을 만들어줌\n",
    "# idx는 enumerate가 제공하는 index이고, 그것을 시작하는 번호를 지정할 수 있음"
   ]
  },
  {
   "cell_type": "code",
   "execution_count": 28,
   "metadata": {},
   "outputs": [
    {
     "name": "stdout",
     "output_type": "stream",
     "text": [
      "299\n"
     ]
    }
   ],
   "source": [
    "print(len(tag_list))\n",
    "# tag_list"
   ]
  },
  {
   "cell_type": "code",
   "execution_count": 29,
   "metadata": {},
   "outputs": [
    {
     "name": "stdout",
     "output_type": "stream",
     "text": [
      "299\n"
     ]
    }
   ],
   "source": [
    "print(len(names))\n",
    "# names"
   ]
  },
  {
   "cell_type": "markdown",
   "metadata": {},
   "source": [
    "# 국회의원 상세정보 추가"
   ]
  },
  {
   "cell_type": "markdown",
   "metadata": {},
   "source": [
    "- http://www.assembly.go.kr/assm/memPop/memPopup.do?dept_cd=9770933\n",
    "- 국회의원별 정보"
   ]
  },
  {
   "cell_type": "markdown",
   "metadata": {},
   "source": [
    "## 정당 정보"
   ]
  },
  {
   "cell_type": "code",
   "execution_count": 30,
   "metadata": {},
   "outputs": [],
   "source": [
    "from urllib.request import urlopen\n",
    "import time\n",
    "\n",
    "basic_url = 'http://www.assembly.go.kr/assm/memPop/memPopup.do?dept_cd='\n",
    "\n",
    "# 그냥 soup.select를 하면, 메인 페이지 내에 있는 것을 검색함\n",
    "# 상세페이지로 BeautiflSoup을 통해서 다시 soup_each를 만들어줘야 함\n",
    "# 그리고 BeautifulSoup은 브라우저(html client)가 아니므로, \n",
    "# reqeust나 urllib을 통해서 읽어들인 후에 넣어줘야 함\n",
    "\n",
    "# soup_each.select('dl.pro_detail > dd')[0].text"
   ]
  },
  {
   "cell_type": "code",
   "execution_count": 31,
   "metadata": {},
   "outputs": [],
   "source": [
    "import pandas as pd\n",
    "columns = {'name': names, \n",
    "           'tag_list': tag_list, \n",
    "          }\n",
    "total_df = pd.DataFrame(columns, index = tag_list)"
   ]
  },
  {
   "cell_type": "code",
   "execution_count": 32,
   "metadata": {},
   "outputs": [
    {
     "data": {
      "application/vnd.jupyter.widget-view+json": {
       "model_id": "e06372e7316040d9a31c92f37cab2352",
       "version_major": 2,
       "version_minor": 0
      },
      "text/plain": [
       "HBox(children=(IntProgress(value=0, description='정당리스트', max=29), HTML(value='')))"
      ]
     },
     "metadata": {},
     "output_type": "display_data"
    },
    {
     "name": "stdout",
     "output_type": "stream",
     "text": [
      "\n",
      "0분 19초\n",
      "29개의 정당 목록을 정리했습니다.\n"
     ]
    }
   ],
   "source": [
    "# 정당\n",
    "import time\n",
    "from tqdm import tqdm_notebook\n",
    "\n",
    "party = []\n",
    "\n",
    "start_time = time.time() \n",
    "\n",
    "for i in tqdm_notebook(range(1, 30), desc = '정당리스트'):\n",
    "    url_each = basic_url + total_df['tag_list'][i]\n",
    "    html = requests.get(url_each).text \n",
    "    soup_each = BeautifulSoup(html, 'lxml')\n",
    "    # soup_each = BeautifulSoup(urlopen(url_each), 'lxml')\n",
    "    # Urllib은 약 30% 정도 속도가 느림\n",
    "\n",
    "    # print(i, url_each)\n",
    "    party.append(soup_each.select('dl.pro_detail > dd')[0].text)\n",
    "    # print(i, party)\n",
    "    \n",
    "gap = time.time() - start_time\n",
    "print(f\"{gap//60:.0f}분 {gap%60:.0f}초\")\n",
    "print('{}개의 정당 목록을 정리했습니다.' .format(len(party)))"
   ]
  },
  {
   "cell_type": "code",
   "execution_count": 33,
   "metadata": {},
   "outputs": [
    {
     "data": {
      "text/plain": [
       "[<dt>정당</dt>,\n",
       " <dt>선거구</dt>,\n",
       " <dt>소속위원회</dt>,\n",
       " <dt>당선횟수</dt>,\n",
       " <dt>사무실전화</dt>,\n",
       " <dt>홈페이지</dt>,\n",
       " <dt>이메일</dt>,\n",
       " <dt>보좌관</dt>,\n",
       " <dt>비서관</dt>,\n",
       " <dt>비서</dt>,\n",
       " <dt>취미, 특기</dt>]"
      ]
     },
     "execution_count": 33,
     "metadata": {},
     "output_type": "execute_result"
    }
   ],
   "source": [
    "column_names = soup_each.select('dl.pro_detail > dt')\n",
    "len(column_names)\n",
    "column_names"
   ]
  },
  {
   "cell_type": "code",
   "execution_count": 37,
   "metadata": {},
   "outputs": [
    {
     "data": {
      "application/vnd.jupyter.widget-view+json": {
       "model_id": "0b6e96f72a844a2c8614d4485f6d0495",
       "version_major": 2,
       "version_minor": 0
      },
      "text/plain": [
       "HBox(children=(IntProgress(value=0, description='진행률', max=11), HTML(value='')))"
      ]
     },
     "metadata": {},
     "output_type": "display_data"
    },
    {
     "data": {
      "application/vnd.jupyter.widget-view+json": {
       "model_id": "6fc3ceaa331a4763be70f3a67c022afc",
       "version_major": 2,
       "version_minor": 0
      },
      "text/plain": [
       "HBox(children=(IntProgress(value=0, description='정당', max=5), HTML(value='')))"
      ]
     },
     "metadata": {},
     "output_type": "display_data"
    },
    {
     "data": {
      "application/vnd.jupyter.widget-view+json": {
       "model_id": "5db042607a6f450ca0f7c2736bfc92ce",
       "version_major": 2,
       "version_minor": 0
      },
      "text/plain": [
       "HBox(children=(IntProgress(value=0, description='선거구', max=5), HTML(value='')))"
      ]
     },
     "metadata": {},
     "output_type": "display_data"
    },
    {
     "data": {
      "application/vnd.jupyter.widget-view+json": {
       "model_id": "8219717e1f37429d99130d1f630c4153",
       "version_major": 2,
       "version_minor": 0
      },
      "text/plain": [
       "HBox(children=(IntProgress(value=0, description='소속위원회', max=5), HTML(value='')))"
      ]
     },
     "metadata": {},
     "output_type": "display_data"
    },
    {
     "data": {
      "application/vnd.jupyter.widget-view+json": {
       "model_id": "8881a54dcf704d36a59390c87736eba4",
       "version_major": 2,
       "version_minor": 0
      },
      "text/plain": [
       "HBox(children=(IntProgress(value=0, description='당선횟수', max=5), HTML(value='')))"
      ]
     },
     "metadata": {},
     "output_type": "display_data"
    },
    {
     "data": {
      "application/vnd.jupyter.widget-view+json": {
       "model_id": "423b8ad3263342b5bb8e483a648f0b89",
       "version_major": 2,
       "version_minor": 0
      },
      "text/plain": [
       "HBox(children=(IntProgress(value=0, description='사무실전화', max=5), HTML(value='')))"
      ]
     },
     "metadata": {},
     "output_type": "display_data"
    },
    {
     "data": {
      "application/vnd.jupyter.widget-view+json": {
       "model_id": "e15b4ca4c85748d8bd59cdc90c11c697",
       "version_major": 2,
       "version_minor": 0
      },
      "text/plain": [
       "HBox(children=(IntProgress(value=0, description='홈페이지', max=5), HTML(value='')))"
      ]
     },
     "metadata": {},
     "output_type": "display_data"
    },
    {
     "data": {
      "application/vnd.jupyter.widget-view+json": {
       "model_id": "4940288d32d14c71981e86dfb411cdd7",
       "version_major": 2,
       "version_minor": 0
      },
      "text/plain": [
       "HBox(children=(IntProgress(value=0, description='이메일', max=5), HTML(value='')))"
      ]
     },
     "metadata": {},
     "output_type": "display_data"
    },
    {
     "data": {
      "application/vnd.jupyter.widget-view+json": {
       "model_id": "76d3bec242c64857a371374df3f6c8d0",
       "version_major": 2,
       "version_minor": 0
      },
      "text/plain": [
       "HBox(children=(IntProgress(value=0, description='보좌관', max=5), HTML(value='')))"
      ]
     },
     "metadata": {},
     "output_type": "display_data"
    },
    {
     "data": {
      "application/vnd.jupyter.widget-view+json": {
       "model_id": "8e4e2d3dc8c24569a17966db71d6a76f",
       "version_major": 2,
       "version_minor": 0
      },
      "text/plain": [
       "HBox(children=(IntProgress(value=0, description='비서관', max=5), HTML(value='')))"
      ]
     },
     "metadata": {},
     "output_type": "display_data"
    },
    {
     "data": {
      "application/vnd.jupyter.widget-view+json": {
       "model_id": "3526495ea5bd4f2f8ce7f6a5ab6d7762",
       "version_major": 2,
       "version_minor": 0
      },
      "text/plain": [
       "HBox(children=(IntProgress(value=0, description='비서', max=5), HTML(value='')))"
      ]
     },
     "metadata": {},
     "output_type": "display_data"
    },
    {
     "data": {
      "application/vnd.jupyter.widget-view+json": {
       "model_id": "d3ed455240704640a05d4b85f5e5bbb5",
       "version_major": 2,
       "version_minor": 0
      },
      "text/plain": [
       "HBox(children=(IntProgress(value=0, description='취미, 특기', max=5), HTML(value='')))"
      ]
     },
     "metadata": {},
     "output_type": "display_data"
    },
    {
     "name": "stdout",
     "output_type": "stream",
     "text": [
      "\n"
     ]
    }
   ],
   "source": [
    "num = 0\n",
    "dt_list = []\n",
    "\n",
    "for d in tqdm_notebook(column_names, desc = \"진행률\"):\n",
    "    dt = d.text\n",
    "#    print(dt, \"시작\")\n",
    "    start_time = time.time()     \n",
    "    dt_sublist = []\n",
    "    \n",
    "    for i in tqdm_notebook(range(299), desc = dt):\n",
    "        url_each = basic_url + total_df['tag_list'][i]\n",
    "#        print(url_each)\n",
    "        html = requests.get(url_each).text \n",
    "        soup_each = BeautifulSoup(html, 'lxml')\n",
    "        dt_sublist.append(soup_each.select('dl.pro_detail > dd')[num].text)\n",
    "#        print(dt_sublist)\n",
    "\n",
    "    dt_list.append(dt_sublist)\n",
    "    gap = time.time() - start_time\n",
    "    num = num + 1\n",
    "#    print(dt_list)\n",
    "#    print(f\"{dt} 마감 : {gap//60:.0f}분 {gap%60:.1f}초\")\n",
    "    \n",
    "# dt_list"
   ]
  },
  {
   "cell_type": "markdown",
   "metadata": {},
   "source": [
    "# 국회의원 정보 통합"
   ]
  },
  {
   "cell_type": "code",
   "execution_count": 394,
   "metadata": {},
   "outputs": [],
   "source": [
    "import pandas as pd\n",
    "import matplotlib\n",
    "import seaborn as sns\n",
    "from matplotlib import pyplot as plt\n",
    "plt.rc('font', family='Malgun Gothic')\n",
    "# 그래프 내 한글 보여주도록 하는 부분\n",
    "\n",
    "%matplotlib inline"
   ]
  },
  {
   "cell_type": "code",
   "execution_count": 22,
   "metadata": {},
   "outputs": [
    {
     "ename": "NameError",
     "evalue": "name 'total_df' is not defined",
     "output_type": "error",
     "traceback": [
      "\u001b[1;31m---------------------------------------------------------------------------\u001b[0m",
      "\u001b[1;31mNameError\u001b[0m                                 Traceback (most recent call last)",
      "\u001b[1;32m<ipython-input-22-b5169b8336d1>\u001b[0m in \u001b[0;36m<module>\u001b[1;34m()\u001b[0m\n\u001b[0;32m      2\u001b[0m \u001b[1;33m\u001b[0m\u001b[0m\n\u001b[0;32m      3\u001b[0m \u001b[1;32mfor\u001b[0m \u001b[0mi\u001b[0m \u001b[1;32min\u001b[0m \u001b[0mrange\u001b[0m\u001b[1;33m(\u001b[0m\u001b[1;36m299\u001b[0m\u001b[1;33m)\u001b[0m\u001b[1;33m:\u001b[0m\u001b[1;33m\u001b[0m\u001b[0m\n\u001b[1;32m----> 4\u001b[1;33m     \u001b[0murl_each\u001b[0m \u001b[1;33m=\u001b[0m \u001b[0mbasic_url\u001b[0m \u001b[1;33m+\u001b[0m \u001b[0mtotal_df\u001b[0m\u001b[1;33m[\u001b[0m\u001b[1;34m'tag_list'\u001b[0m\u001b[1;33m]\u001b[0m\u001b[1;33m[\u001b[0m\u001b[0mi\u001b[0m\u001b[1;33m]\u001b[0m\u001b[1;33m\u001b[0m\u001b[0m\n\u001b[0m\u001b[0;32m      5\u001b[0m     \u001b[0murl_list\u001b[0m\u001b[1;33m.\u001b[0m\u001b[0mappend\u001b[0m\u001b[1;33m(\u001b[0m\u001b[0murl_each\u001b[0m\u001b[1;33m)\u001b[0m\u001b[1;33m\u001b[0m\u001b[0m\n\u001b[0;32m      6\u001b[0m \u001b[1;33m\u001b[0m\u001b[0m\n",
      "\u001b[1;31mNameError\u001b[0m: name 'total_df' is not defined"
     ]
    }
   ],
   "source": [
    "url_list = []\n",
    "\n",
    "for i in range(299):\n",
    "    url_each = basic_url + total_df['tag_list'][i]\n",
    "    url_list.append(url_each)\n",
    "\n",
    "url_list"
   ]
  },
  {
   "cell_type": "code",
   "execution_count": 276,
   "metadata": {},
   "outputs": [
    {
     "name": "stdout",
     "output_type": "stream",
     "text": [
      "(299, 14)\n"
     ]
    },
    {
     "data": {
      "text/html": [
       "<div>\n",
       "<style scoped>\n",
       "    .dataframe tbody tr th:only-of-type {\n",
       "        vertical-align: middle;\n",
       "    }\n",
       "\n",
       "    .dataframe tbody tr th {\n",
       "        vertical-align: top;\n",
       "    }\n",
       "\n",
       "    .dataframe thead th {\n",
       "        text-align: right;\n",
       "    }\n",
       "</style>\n",
       "<table border=\"1\" class=\"dataframe\">\n",
       "  <thead>\n",
       "    <tr style=\"text-align: right;\">\n",
       "      <th></th>\n",
       "      <th>name</th>\n",
       "      <th>tag_list</th>\n",
       "      <th>정당</th>\n",
       "      <th>선거구</th>\n",
       "      <th>소속위원회</th>\n",
       "      <th>당선횟수</th>\n",
       "      <th>사무실전화</th>\n",
       "      <th>홈페이지</th>\n",
       "      <th>이메일</th>\n",
       "      <th>보좌관</th>\n",
       "      <th>비서관</th>\n",
       "      <th>비서</th>\n",
       "      <th>취미특기</th>\n",
       "      <th>링크</th>\n",
       "    </tr>\n",
       "  </thead>\n",
       "  <tbody>\n",
       "    <tr>\n",
       "      <th>9770276</th>\n",
       "      <td>강길부</td>\n",
       "      <td>9770276</td>\n",
       "      <td>무소속</td>\n",
       "      <td>울산울주군</td>\n",
       "      <td>산업통상자원중소벤처기업위원회</td>\n",
       "      <td>4선(17대,18대,19대,20대)</td>\n",
       "      <td>02-788-2708</td>\n",
       "      <td></td>\n",
       "      <td>uljukang@assembly.go.kr</td>\n",
       "      <td>윤지현,정재원</td>\n",
       "      <td>이수철,차상윤</td>\n",
       "      <td>고길주,김변호,장경희,박금숙</td>\n",
       "      <td></td>\n",
       "      <td>http://www.assembly.go.kr/assm/memPop/memPopup...</td>\n",
       "    </tr>\n",
       "    <tr>\n",
       "      <th>9770933</th>\n",
       "      <td>강병원</td>\n",
       "      <td>9770933</td>\n",
       "      <td>더불어민주당</td>\n",
       "      <td>서울은평구을</td>\n",
       "      <td>기획재정위원회</td>\n",
       "      <td>초선(20대)</td>\n",
       "      <td>02-784-1422</td>\n",
       "      <td>http://blog.naver.com/kangbw89</td>\n",
       "      <td>kangbw89@gmail.com</td>\n",
       "      <td>김재홍,김영근,장용득</td>\n",
       "      <td>이여진,김영기</td>\n",
       "      <td>김형근,정연우,권민준,김민재,안신영</td>\n",
       "      <td>등산,독서</td>\n",
       "      <td>http://www.assembly.go.kr/assm/memPop/memPopup...</td>\n",
       "    </tr>\n",
       "    <tr>\n",
       "      <th>9771036</th>\n",
       "      <td>강석진</td>\n",
       "      <td>9771036</td>\n",
       "      <td>자유한국당</td>\n",
       "      <td>경남산청군함양군거창군합천군</td>\n",
       "      <td>농림축산식품해양수산위원회</td>\n",
       "      <td>초선(20대)</td>\n",
       "      <td>02-784-1460</td>\n",
       "      <td></td>\n",
       "      <td>ksjv7900@naver.com</td>\n",
       "      <td>김완철,오석환</td>\n",
       "      <td>서일교,신우성</td>\n",
       "      <td>김준형,신용욱,용선주,정진남</td>\n",
       "      <td></td>\n",
       "      <td>http://www.assembly.go.kr/assm/memPop/memPopup...</td>\n",
       "    </tr>\n",
       "    <tr>\n",
       "      <th>9770512</th>\n",
       "      <td>강석호</td>\n",
       "      <td>9770512</td>\n",
       "      <td>자유한국당</td>\n",
       "      <td>경북영양군영덕군봉화군울진군</td>\n",
       "      <td>외교통일위원회</td>\n",
       "      <td>3선(18대,19대,20대)</td>\n",
       "      <td>02-784-2376</td>\n",
       "      <td>http://kangsh.kr</td>\n",
       "      <td>kangsh@na.go.kr</td>\n",
       "      <td>임종석,홍성범</td>\n",
       "      <td>김동우,정성한</td>\n",
       "      <td>한승룡,서재광,조하나,박민지</td>\n",
       "      <td>스포츠</td>\n",
       "      <td>http://www.assembly.go.kr/assm/memPop/memPopup...</td>\n",
       "    </tr>\n",
       "    <tr>\n",
       "      <th>9770279</th>\n",
       "      <td>강창일</td>\n",
       "      <td>9770279</td>\n",
       "      <td>더불어민주당</td>\n",
       "      <td>제주제주시갑</td>\n",
       "      <td>행정안전위원회</td>\n",
       "      <td>4선(17대,18대,19대,20대)</td>\n",
       "      <td>02-784-6084</td>\n",
       "      <td>http://www.kangci.net</td>\n",
       "      <td>kang809@gmail.com</td>\n",
       "      <td>강신혁,김행준</td>\n",
       "      <td>김명언,유동현</td>\n",
       "      <td>배경민,정민희,하소라,이진욱,신윤정</td>\n",
       "      <td>바둑</td>\n",
       "      <td>http://www.assembly.go.kr/assm/memPop/memPopup...</td>\n",
       "    </tr>\n",
       "  </tbody>\n",
       "</table>\n",
       "</div>"
      ],
      "text/plain": [
       "        name tag_list      정당             선거구            소속위원회  \\\n",
       "9770276  강길부  9770276     무소속           울산울주군  산업통상자원중소벤처기업위원회   \n",
       "9770933  강병원  9770933  더불어민주당          서울은평구을          기획재정위원회   \n",
       "9771036  강석진  9771036   자유한국당  경남산청군함양군거창군합천군    농림축산식품해양수산위원회   \n",
       "9770512  강석호  9770512   자유한국당  경북영양군영덕군봉화군울진군          외교통일위원회   \n",
       "9770279  강창일  9770279  더불어민주당          제주제주시갑          행정안전위원회   \n",
       "\n",
       "                        당선횟수        사무실전화                            홈페이지  \\\n",
       "9770276  4선(17대,18대,19대,20대)  02-788-2708                                   \n",
       "9770933              초선(20대)  02-784-1422  http://blog.naver.com/kangbw89   \n",
       "9771036              초선(20대)  02-784-1460                                   \n",
       "9770512      3선(18대,19대,20대)  02-784-2376                http://kangsh.kr   \n",
       "9770279  4선(17대,18대,19대,20대)  02-784-6084           http://www.kangci.net   \n",
       "\n",
       "                             이메일          보좌관      비서관                   비서  \\\n",
       "9770276  uljukang@assembly.go.kr      윤지현,정재원  이수철,차상윤      고길주,김변호,장경희,박금숙   \n",
       "9770933       kangbw89@gmail.com  김재홍,김영근,장용득  이여진,김영기  김형근,정연우,권민준,김민재,안신영   \n",
       "9771036       ksjv7900@naver.com      김완철,오석환  서일교,신우성      김준형,신용욱,용선주,정진남   \n",
       "9770512          kangsh@na.go.kr      임종석,홍성범  김동우,정성한      한승룡,서재광,조하나,박민지   \n",
       "9770279        kang809@gmail.com      강신혁,김행준  김명언,유동현  배경민,정민희,하소라,이진욱,신윤정   \n",
       "\n",
       "          취미특기                                                 링크  \n",
       "9770276         http://www.assembly.go.kr/assm/memPop/memPopup...  \n",
       "9770933  등산,독서  http://www.assembly.go.kr/assm/memPop/memPopup...  \n",
       "9771036         http://www.assembly.go.kr/assm/memPop/memPopup...  \n",
       "9770512    스포츠  http://www.assembly.go.kr/assm/memPop/memPopup...  \n",
       "9770279     바둑  http://www.assembly.go.kr/assm/memPop/memPopup...  "
      ]
     },
     "execution_count": 276,
     "metadata": {},
     "output_type": "execute_result"
    }
   ],
   "source": [
    "columns = {'name': names, \n",
    "           'tag_list': tag_list, \n",
    "           '정당': dt_list[0], \n",
    "           '선거구': dt_list[1], \n",
    "           '소속위원회': dt_list[2],\n",
    "           '당선횟수': dt_list[3],\n",
    "           '사무실전화': dt_list[4],\n",
    "           '홈페이지': dt_list[5],\n",
    "           '이메일': dt_list[6],\n",
    "           '보좌관': dt_list[7],\n",
    "           '비서관': dt_list[8],\n",
    "           '비서': dt_list[9],\n",
    "           '취미특기': dt_list[10],\n",
    "           '링크': url_list\n",
    "          }\n",
    "total_df2 = pd.DataFrame(columns, index = tag_list)\n",
    "total_df2 = total_df2.replace('\\n','',regex = True)\n",
    "total_df2 = total_df2.replace('\\t','',regex = True)\n",
    "total_df2 = total_df2.replace('\\r','',regex = True)\n",
    "total_df2 = total_df2.replace(\" \",'',regex = True)\n",
    "print(total_df2.shape)\n",
    "total_df2.head()"
   ]
  },
  {
   "cell_type": "code",
   "execution_count": 278,
   "metadata": {},
   "outputs": [],
   "source": [
    "total_df2.to_csv('국회의원명단.csv', encoding = 'cp949') \n",
    "\n",
    "#한글이 깨지는 것을 막기 위해서 인코딩 추가\n",
    "\n",
    "#utf-8, cp949\n",
    "#현재 python은 utf-8 표준화 되어있다.\n",
    "#cp949는 windows 생성된 파일이다. "
   ]
  },
  {
   "cell_type": "markdown",
   "metadata": {},
   "source": [
    "# 공약이행률 미공개자 분석"
   ]
  },
  {
   "cell_type": "code",
   "execution_count": 307,
   "metadata": {},
   "outputs": [
    {
     "data": {
      "text/plain": [
       "27"
      ]
     },
     "execution_count": 307,
     "metadata": {},
     "output_type": "execute_result"
    }
   ],
   "source": [
    "url2 = 'http://manifesto.or.kr/?p=5504'\n",
    "headers = {'User-Agent' : 'Mozilla/5.0 (Windows NT 10.0; Win64; x64) AppleWebKit/537.36 (KHTML, like Gecko) Chrome/69.0.3497.100 Safari/537.36' }\n",
    "html2 = requests.get(url2, headers = headers).text\n",
    "soup2 = BeautifulSoup(html2, 'lxml')\n",
    "\n",
    "no_keep = soup2.select('p')[5]\n",
    "no_keep = str(no_keep)\n",
    "\n",
    "no_keep.count(',')"
   ]
  },
  {
   "cell_type": "code",
   "execution_count": 308,
   "metadata": {},
   "outputs": [
    {
     "data": {
      "text/plain": [
       "'<p>유승희 (서울 성북구갑), 정양석 (강북구갑), 인재근 (도봉구갑), 김선동 (도봉구을),<br/>\\n김영호 (서대문구을), 이종구 (강남구갑), 김무성 (부산 중구영도구), 배덕광 (해운대구을),<br/>\\n조원진 (대구 달서구병), 천정배 (광주 서구을), 이은권 (대전 중구), 김종훈 (울산 동구),<br/>\\n이언주 (경기 광명시을), 표창원 (용인시정), 홍철호 (김포시을), 김진태 (강원 춘천시),<br/>\\n김기선 (원주시갑), 권성동 (강릉시), 박덕흠 (충북 보은군옥천군영동군괴산군),<br/>\\n정진석 (충남 공주시부여군청양군), 이용호 (전북 남원시임실군순창군), 박지원 (전남 목포시),<br/>\\n백승주 (경북 구미시갑), 장석춘 (구미시을), 최교일 (영주시문경시예천군),<br/>\\n노회찬 (경남 창원시성산구), 여상규 (사천시남해군하동군), 서형수 (양산시을)</p>'"
      ]
     },
     "execution_count": 308,
     "metadata": {},
     "output_type": "execute_result"
    }
   ],
   "source": [
    "no_keep"
   ]
  },
  {
   "cell_type": "code",
   "execution_count": 309,
   "metadata": {},
   "outputs": [
    {
     "data": {
      "text/plain": [
       "'유승희 (서울 성북구갑), 정양석 (강북구갑), 인재근 (도봉구갑), 김선동 (도봉구을),김영호 (서대문구을), 이종구 (강남구갑), 김무성 (부산 중구영도구), 배덕광 (해운대구을),조원진 (대구 달서구병), 천정배 (광주 서구을), 이은권 (대전 중구), 김종훈 (울산 동구),이언주 (경기 광명시을), 표창원 (용인시정), 홍철호 (김포시을), 김진태 (강원 춘천시),김기선 (원주시갑), 권성동 (강릉시), 박덕흠 (충북 보은군옥천군영동군괴산군),정진석 (충남 공주시부여군청양군), 이용호 (전북 남원시임실군순창군), 박지원 (전남 목포시),백승주 (경북 구미시갑), 장석춘 (구미시을), 최교일 (영주시문경시예천군),노회찬 (경남 창원시성산구), 여상규 (사천시남해군하동군), 서형수 (양산시을)'"
      ]
     },
     "execution_count": 309,
     "metadata": {},
     "output_type": "execute_result"
    }
   ],
   "source": [
    "no_keep = no_keep.replace('<p>', '')\n",
    "no_keep = no_keep.replace('<br/>\\n', '')\n",
    "no_keep = no_keep.replace('</p>', '')\n",
    "no_keep"
   ]
  },
  {
   "cell_type": "code",
   "execution_count": 310,
   "metadata": {},
   "outputs": [],
   "source": [
    "no_keep = no_keep.split(',')"
   ]
  },
  {
   "cell_type": "code",
   "execution_count": 312,
   "metadata": {},
   "outputs": [
    {
     "data": {
      "text/plain": [
       "28"
      ]
     },
     "execution_count": 312,
     "metadata": {},
     "output_type": "execute_result"
    }
   ],
   "source": [
    "no_keep\n",
    "len(no_keep)"
   ]
  },
  {
   "cell_type": "code",
   "execution_count": 313,
   "metadata": {},
   "outputs": [
    {
     "data": {
      "text/plain": [
       "['유승희 (서울 성북구갑)',\n",
       " ' 정양석 (강북구갑)',\n",
       " ' 인재근 (도봉구갑)',\n",
       " ' 김선동 (도봉구을)',\n",
       " '김영호 (서대문구을)',\n",
       " ' 이종구 (강남구갑)',\n",
       " ' 김무성 (부산 중구영도구)',\n",
       " ' 배덕광 (해운대구을)',\n",
       " '조원진 (대구 달서구병)',\n",
       " ' 천정배 (광주 서구을)',\n",
       " ' 이은권 (대전 중구)',\n",
       " ' 김종훈 (울산 동구)',\n",
       " '이언주 (경기 광명시을)',\n",
       " ' 표창원 (용인시정)',\n",
       " ' 홍철호 (김포시을)',\n",
       " ' 김진태 (강원 춘천시)',\n",
       " '김기선 (원주시갑)',\n",
       " ' 권성동 (강릉시)',\n",
       " ' 박덕흠 (충북 보은군옥천군영동군괴산군)',\n",
       " '정진석 (충남 공주시부여군청양군)',\n",
       " ' 이용호 (전북 남원시임실군순창군)',\n",
       " ' 박지원 (전남 목포시)',\n",
       " '백승주 (경북 구미시갑)',\n",
       " ' 장석춘 (구미시을)',\n",
       " ' 최교일 (영주시문경시예천군)',\n",
       " '노회찬 (경남 창원시성산구)',\n",
       " ' 여상규 (사천시남해군하동군)',\n",
       " ' 서형수 (양산시을)']"
      ]
     },
     "execution_count": 313,
     "metadata": {},
     "output_type": "execute_result"
    }
   ],
   "source": [
    "no_keep"
   ]
  },
  {
   "cell_type": "code",
   "execution_count": 330,
   "metadata": {},
   "outputs": [
    {
     "name": "stdout",
     "output_type": "stream",
     "text": [
      "[['유승희', '서울 성북구갑)'], [' 정양석', '강북구갑)'], [' 인재근', '도봉구갑)'], [' 김선동', '도봉구을)'], ['김영호', '서대문구을)'], [' 이종구', '강남구갑)'], [' 김무성', '부산 중구영도구)'], [' 배덕광', '해운대구을)'], ['조원진', '대구 달서구병)'], [' 천정배', '광주 서구을)'], [' 이은권', '대전 중구)'], [' 김종훈', '울산 동구)'], ['이언주', '경기 광명시을)'], [' 표창원', '용인시정)'], [' 홍철호', '김포시을)'], [' 김진태', '강원 춘천시)'], ['김기선', '원주시갑)'], [' 권성동', '강릉시)'], [' 박덕흠', '충북 보은군옥천군영동군괴산군)'], ['정진석', '충남 공주시부여군청양군)'], [' 이용호', '전북 남원시임실군순창군)'], [' 박지원', '전남 목포시)'], ['백승주', '경북 구미시갑)'], [' 장석춘', '구미시을)'], [' 최교일', '영주시문경시예천군)'], ['노회찬', '경남 창원시성산구)'], [' 여상규', '사천시남해군하동군)'], [' 서형수', '양산시을)']]\n"
     ]
    }
   ],
   "source": [
    "lists = []\n",
    "\n",
    "for i in range(28):\n",
    "    list = no_keep[i].split(' (')\n",
    "    lists.append(list)\n",
    "\n",
    "print(lists)"
   ]
  },
  {
   "cell_type": "code",
   "execution_count": 333,
   "metadata": {},
   "outputs": [
    {
     "data": {
      "text/plain": [
       "0      유승희\n",
       "1      정양석\n",
       "2      인재근\n",
       "3      김선동\n",
       "4      김영호\n",
       "5      이종구\n",
       "6      김무성\n",
       "7      배덕광\n",
       "8      조원진\n",
       "9      천정배\n",
       "10     이은권\n",
       "11     김종훈\n",
       "12     이언주\n",
       "13     표창원\n",
       "14     홍철호\n",
       "15     김진태\n",
       "16     김기선\n",
       "17     권성동\n",
       "18     박덕흠\n",
       "19     정진석\n",
       "20     이용호\n",
       "21     박지원\n",
       "22     백승주\n",
       "23     장석춘\n",
       "24     최교일\n",
       "25     노회찬\n",
       "26     여상규\n",
       "27     서형수\n",
       "Name: 0, dtype: object"
      ]
     },
     "execution_count": 333,
     "metadata": {},
     "output_type": "execute_result"
    }
   ],
   "source": [
    "lists = pd.DataFrame(lists) #, columns = [['이름', '지역구']])\n",
    "# lists.columns['이름', '지역구']\n",
    "lists.head()\n",
    "\n",
    "lists[0]"
   ]
  },
  {
   "cell_type": "code",
   "execution_count": 372,
   "metadata": {},
   "outputs": [],
   "source": [
    "import numpy as np\n",
    "no_keep_list = np.array(lists[0][:])"
   ]
  },
  {
   "cell_type": "code",
   "execution_count": 373,
   "metadata": {},
   "outputs": [
    {
     "data": {
      "text/plain": [
       "array(['유승희', ' 정양석', ' 인재근', ' 김선동', '김영호', ' 이종구', ' 김무성', ' 배덕광',\n",
       "       '조원진', ' 천정배', ' 이은권', ' 김종훈', '이언주', ' 표창원', ' 홍철호', ' 김진태',\n",
       "       '김기선', ' 권성동', ' 박덕흠', '정진석', ' 이용호', ' 박지원', '백승주', ' 장석춘',\n",
       "       ' 최교일', '노회찬', ' 여상규', ' 서형수'], dtype=object)"
      ]
     },
     "execution_count": 373,
     "metadata": {},
     "output_type": "execute_result"
    }
   ],
   "source": [
    "no_keep_list"
   ]
  },
  {
   "cell_type": "code",
   "execution_count": 387,
   "metadata": {},
   "outputs": [
    {
     "data": {
      "text/plain": [
       "array(['유승희', '정양석', '인재근', '김선동', '김영호', '이종구', '김무성', '배덕광', '조원진',\n",
       "       '천정배', '이은권', '김종훈', '이언주', '표창원', '홍철호', '김진태', '김기선', '권성동',\n",
       "       '박덕흠', '정진석', '이용호', '박지원', '백승주', '장석춘', '최교일', '노회찬', '여상규',\n",
       "       '서형수'], dtype=object)"
      ]
     },
     "execution_count": 387,
     "metadata": {},
     "output_type": "execute_result"
    }
   ],
   "source": [
    "for i in range(len(no_keep_list)):\n",
    "#    print(i, no_keep_list[i])\n",
    "    no_keep_list[i] = no_keep_list[i].strip()\n",
    "#    print(new)\n",
    "#    print(new_list)\n",
    "\n",
    "no_keep_list"
   ]
  },
  {
   "cell_type": "code",
   "execution_count": 353,
   "metadata": {},
   "outputs": [
    {
     "data": {
      "text/html": [
       "<div>\n",
       "<style scoped>\n",
       "    .dataframe tbody tr th:only-of-type {\n",
       "        vertical-align: middle;\n",
       "    }\n",
       "\n",
       "    .dataframe tbody tr th {\n",
       "        vertical-align: top;\n",
       "    }\n",
       "\n",
       "    .dataframe thead th {\n",
       "        text-align: right;\n",
       "    }\n",
       "</style>\n",
       "<table border=\"1\" class=\"dataframe\">\n",
       "  <thead>\n",
       "    <tr style=\"text-align: right;\">\n",
       "      <th></th>\n",
       "      <th>0</th>\n",
       "      <th>1</th>\n",
       "    </tr>\n",
       "  </thead>\n",
       "  <tbody>\n",
       "    <tr>\n",
       "      <th>0</th>\n",
       "      <td>유승희</td>\n",
       "      <td>서울 성북구갑)</td>\n",
       "    </tr>\n",
       "    <tr>\n",
       "      <th>1</th>\n",
       "      <td>정양석</td>\n",
       "      <td>강북구갑)</td>\n",
       "    </tr>\n",
       "    <tr>\n",
       "      <th>2</th>\n",
       "      <td>인재근</td>\n",
       "      <td>도봉구갑)</td>\n",
       "    </tr>\n",
       "    <tr>\n",
       "      <th>3</th>\n",
       "      <td>김선동</td>\n",
       "      <td>도봉구을)</td>\n",
       "    </tr>\n",
       "    <tr>\n",
       "      <th>4</th>\n",
       "      <td>김영호</td>\n",
       "      <td>서대문구을)</td>\n",
       "    </tr>\n",
       "    <tr>\n",
       "      <th>5</th>\n",
       "      <td>이종구</td>\n",
       "      <td>강남구갑)</td>\n",
       "    </tr>\n",
       "    <tr>\n",
       "      <th>6</th>\n",
       "      <td>김무성</td>\n",
       "      <td>부산 중구영도구)</td>\n",
       "    </tr>\n",
       "    <tr>\n",
       "      <th>7</th>\n",
       "      <td>배덕광</td>\n",
       "      <td>해운대구을)</td>\n",
       "    </tr>\n",
       "    <tr>\n",
       "      <th>8</th>\n",
       "      <td>조원진</td>\n",
       "      <td>대구 달서구병)</td>\n",
       "    </tr>\n",
       "    <tr>\n",
       "      <th>9</th>\n",
       "      <td>천정배</td>\n",
       "      <td>광주 서구을)</td>\n",
       "    </tr>\n",
       "    <tr>\n",
       "      <th>10</th>\n",
       "      <td>이은권</td>\n",
       "      <td>대전 중구)</td>\n",
       "    </tr>\n",
       "    <tr>\n",
       "      <th>11</th>\n",
       "      <td>김종훈</td>\n",
       "      <td>울산 동구)</td>\n",
       "    </tr>\n",
       "    <tr>\n",
       "      <th>12</th>\n",
       "      <td>이언주</td>\n",
       "      <td>경기 광명시을)</td>\n",
       "    </tr>\n",
       "    <tr>\n",
       "      <th>13</th>\n",
       "      <td>표창원</td>\n",
       "      <td>용인시정)</td>\n",
       "    </tr>\n",
       "    <tr>\n",
       "      <th>14</th>\n",
       "      <td>홍철호</td>\n",
       "      <td>김포시을)</td>\n",
       "    </tr>\n",
       "    <tr>\n",
       "      <th>15</th>\n",
       "      <td>김진태</td>\n",
       "      <td>강원 춘천시)</td>\n",
       "    </tr>\n",
       "    <tr>\n",
       "      <th>16</th>\n",
       "      <td>김기선</td>\n",
       "      <td>원주시갑)</td>\n",
       "    </tr>\n",
       "    <tr>\n",
       "      <th>17</th>\n",
       "      <td>권성동</td>\n",
       "      <td>강릉시)</td>\n",
       "    </tr>\n",
       "    <tr>\n",
       "      <th>18</th>\n",
       "      <td>박덕흠</td>\n",
       "      <td>충북 보은군옥천군영동군괴산군)</td>\n",
       "    </tr>\n",
       "    <tr>\n",
       "      <th>19</th>\n",
       "      <td>정진석</td>\n",
       "      <td>충남 공주시부여군청양군)</td>\n",
       "    </tr>\n",
       "    <tr>\n",
       "      <th>20</th>\n",
       "      <td>이용호</td>\n",
       "      <td>전북 남원시임실군순창군)</td>\n",
       "    </tr>\n",
       "    <tr>\n",
       "      <th>21</th>\n",
       "      <td>박지원</td>\n",
       "      <td>전남 목포시)</td>\n",
       "    </tr>\n",
       "    <tr>\n",
       "      <th>22</th>\n",
       "      <td>백승주</td>\n",
       "      <td>경북 구미시갑)</td>\n",
       "    </tr>\n",
       "    <tr>\n",
       "      <th>23</th>\n",
       "      <td>장석춘</td>\n",
       "      <td>구미시을)</td>\n",
       "    </tr>\n",
       "    <tr>\n",
       "      <th>24</th>\n",
       "      <td>최교일</td>\n",
       "      <td>영주시문경시예천군)</td>\n",
       "    </tr>\n",
       "    <tr>\n",
       "      <th>25</th>\n",
       "      <td>노회찬</td>\n",
       "      <td>경남 창원시성산구)</td>\n",
       "    </tr>\n",
       "    <tr>\n",
       "      <th>26</th>\n",
       "      <td>여상규</td>\n",
       "      <td>사천시남해군하동군)</td>\n",
       "    </tr>\n",
       "    <tr>\n",
       "      <th>27</th>\n",
       "      <td>서형수</td>\n",
       "      <td>양산시을)</td>\n",
       "    </tr>\n",
       "  </tbody>\n",
       "</table>\n",
       "</div>"
      ],
      "text/plain": [
       "       0                 1\n",
       "0    유승희          서울 성북구갑)\n",
       "1    정양석             강북구갑)\n",
       "2    인재근             도봉구갑)\n",
       "3    김선동             도봉구을)\n",
       "4    김영호            서대문구을)\n",
       "5    이종구             강남구갑)\n",
       "6    김무성         부산 중구영도구)\n",
       "7    배덕광            해운대구을)\n",
       "8    조원진          대구 달서구병)\n",
       "9    천정배           광주 서구을)\n",
       "10   이은권            대전 중구)\n",
       "11   김종훈            울산 동구)\n",
       "12   이언주          경기 광명시을)\n",
       "13   표창원             용인시정)\n",
       "14   홍철호             김포시을)\n",
       "15   김진태           강원 춘천시)\n",
       "16   김기선             원주시갑)\n",
       "17   권성동              강릉시)\n",
       "18   박덕흠  충북 보은군옥천군영동군괴산군)\n",
       "19   정진석     충남 공주시부여군청양군)\n",
       "20   이용호     전북 남원시임실군순창군)\n",
       "21   박지원           전남 목포시)\n",
       "22   백승주          경북 구미시갑)\n",
       "23   장석춘             구미시을)\n",
       "24   최교일        영주시문경시예천군)\n",
       "25   노회찬        경남 창원시성산구)\n",
       "26   여상규        사천시남해군하동군)\n",
       "27   서형수             양산시을)"
      ]
     },
     "execution_count": 353,
     "metadata": {},
     "output_type": "execute_result"
    }
   ],
   "source": [
    "lists"
   ]
  },
  {
   "cell_type": "code",
   "execution_count": 364,
   "metadata": {},
   "outputs": [
    {
     "name": "stdout",
     "output_type": "stream",
     "text": [
      "있다\n"
     ]
    }
   ],
   "source": [
    "if '유승희' in no_keep_list :\n",
    "    print(\"있다\")\n",
    "else:\n",
    "    print(\"없다\")"
   ]
  },
  {
   "cell_type": "code",
   "execution_count": 388,
   "metadata": {},
   "outputs": [
    {
     "name": "stdout",
     "output_type": "stream",
     "text": [
      "권성동\n",
      "김기선\n",
      "김무성\n",
      "김선동\n",
      "김영호\n",
      "김종훈\n",
      "김진태\n",
      "박덕흠\n",
      "박지원\n",
      "백승주\n",
      "서형수\n",
      "여상규\n",
      "유승희\n",
      "이언주\n",
      "이용호\n",
      "이은권\n",
      "이종구\n",
      "인재근\n",
      "장석춘\n",
      "정양석\n",
      "정진석\n",
      "조원진\n",
      "천정배\n",
      "최교일\n",
      "표창원\n",
      "홍철호\n"
     ]
    }
   ],
   "source": [
    "for i in range(299):\n",
    "    name = total_df2[\"name\"][i]\n",
    "    if name in no_keep_list:\n",
    "        total_df2[\"공약미이행\"][i] = \"fail\"\n",
    "        print(name)\n",
    "    else:\n",
    "        total_df2[\"공약미이행\"][i] = \"success\""
   ]
  },
  {
   "cell_type": "code",
   "execution_count": 389,
   "metadata": {},
   "outputs": [
    {
     "data": {
      "text/plain": [
       "(26, 15)"
      ]
     },
     "execution_count": 389,
     "metadata": {},
     "output_type": "execute_result"
    }
   ],
   "source": [
    "total_df2.loc[total_df2[\"공약미이행\"] == \"fail\"].shape"
   ]
  },
  {
   "cell_type": "code",
   "execution_count": 390,
   "metadata": {},
   "outputs": [],
   "source": [
    "fail_list = total_df2.loc[total_df2[\"공약미이행\"] == \"fail\"]"
   ]
  },
  {
   "cell_type": "code",
   "execution_count": 393,
   "metadata": {},
   "outputs": [
    {
     "data": {
      "text/plain": [
       "<matplotlib.axes._subplots.AxesSubplot at 0x25c76f19e10>"
      ]
     },
     "execution_count": 393,
     "metadata": {},
     "output_type": "execute_result"
    },
    {
     "data": {
      "image/png": "[encoded data removed]",
      "text/plain": [
       "<Figure size 432x288 with 1 Axes>"
      ]
     },
     "metadata": {
      "needs_background": "light"
     },
     "output_type": "display_data"
    }
   ],
   "source": [
    "sns.countplot(fail_list[\"정당\"])"
   ]
  },
  {
   "cell_type": "markdown",
   "metadata": {},
   "source": [
    "# 국회의원 DB 분석"
   ]
  },
  {
   "cell_type": "code",
   "execution_count": 396,
   "metadata": {},
   "outputs": [
    {
     "data": {
      "text/plain": [
       "<matplotlib.axes._subplots.AxesSubplot at 0x25c780c1978>"
      ]
     },
     "execution_count": 396,
     "metadata": {},
     "output_type": "execute_result"
    },
    {
     "data": {
      "image/png": "[encoded data removed]",
      "text/plain": [
       "<Figure size 1440x216 with 1 Axes>"
      ]
     },
     "metadata": {
      "needs_background": "light"
     },
     "output_type": "display_data"
    }
   ],
   "source": [
    "# 국회의원 성씨 빈도 분석\n",
    "series = pd.Series(names)\n",
    "series.str.slice(0,1).value_counts().plot(kind = 'bar', figsize = (20, 3))"
   ]
  },
  {
   "cell_type": "code",
   "execution_count": null,
   "metadata": {},
   "outputs": [],
   "source": []
  }
 ],
 "metadata": {
  "kernelspec": {
   "display_name": "Python 3",
   "language": "python",
   "name": "python3"
  },
  "language_info": {
   "codemirror_mode": {
    "name": "ipython",
    "version": 3
   },
   "file_extension": ".py",
   "mimetype": "text/x-python",
   "name": "python",
   "nbconvert_exporter": "python",
   "pygments_lexer": "ipython3",
   "version": "3.6.6"
  }
 },
 "nbformat": 4,
 "nbformat_minor": 2
}
