{
 "cells": [
  {
   "cell_type": "code",
   "execution_count": 5,
   "metadata": {},
   "outputs": [
    {
     "name": "stdout",
     "output_type": "stream",
     "text": [
      "이메일을 발송했습니다.\n"
     ]
    }
   ],
   "source": [
    "import smtplib\n",
    "from email.message import EmailMessage\n",
    "\n",
    "message = EmailMessage()\n",
    "message['Subject'] = '업무 자동화'\n",
    "message['From'] = 'ahnbui@naver.com'\n",
    "message['To'] = 'byungwook.an@gmail.com', 'ahnbui@naver.com'\n",
    "\n",
    "message.set_content('''\n",
    "\n",
    "안녕하세요. 안병욱입니다.\n",
    "이메일 테스트 중입니다.\n",
    "\n",
    "''')\n",
    "\n",
    "# html 내용을 넣고 싶으면, 이렇게 하면 위의 텍스트가 없어지고 이게 대신 나간다.\n",
    "\n",
    "message.add_alternative('''\n",
    "\n",
    "<h1> 안녕하세요. 안병욱입니다. </h1>\n",
    "<a href=\"www.naver.com\"> 네이버를 가려면 클릭하세요. </a>\n",
    "\n",
    "''', subtype='html')\n",
    "\n",
    "with smtplib.SMTP_SSL('smtp.gmail.com', 465) as server:\n",
    "    server.ehlo()\n",
    "    server.login('byungwook.an@gmail.com', 'Ahnbu7891')\n",
    "    server.send_message(message)\n",
    "    \n",
    "print('이메일을 발송했습니다.')"
   ]
  },
  {
   "cell_type": "code",
   "execution_count": null,
   "metadata": {},
   "outputs": [],
   "source": []
  }
 ],
 "metadata": {
  "kernelspec": {
   "display_name": "Python 3",
   "language": "python",
   "name": "python3"
  },
  "language_info": {
   "codemirror_mode": {
    "name": "ipython",
    "version": 3
   },
   "file_extension": ".py",
   "mimetype": "text/x-python",
   "name": "python",
   "nbconvert_exporter": "python",
   "pygments_lexer": "ipython3",
   "version": "3.6.5"
  }
 },
 "nbformat": 4,
 "nbformat_minor": 2
}
