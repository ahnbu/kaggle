{
 "cells": [
  {
   "cell_type": "code",
   "execution_count": 10,
   "metadata": {},
   "outputs": [
    {
     "name": "stderr",
     "output_type": "stream",
     "text": [
      "\n",
      "  0%|                                                                                          | 0/100 [00:00<?, ?it/s]\n",
      "진행율 0%:   0%|                                                                                  | 0/100 [00:00<?, ?it/s]\n",
      "진행율 0%:   0%|                                          | 0/100 [00:00<?, ?it/s, gen=408, loss=0.108, lst=[1, 2], str=h]\n",
      "진행율 0%:   1%|▎                                 | 1/100 [00:01<01:39,  1.01s/it, gen=408, loss=0.108, lst=[1, 2], str=h]\n",
      "진행율 1%:   1%|▎                                 | 1/100 [00:01<01:39,  1.01s/it, gen=408, loss=0.108, lst=[1, 2], str=h]\n",
      "진행율 1%:   1%|▎                                  | 1/100 [00:01<01:39,  1.01s/it, gen=23, loss=0.249, lst=[1, 2], str=h]\n",
      "진행율 1%:   2%|▋                                  | 2/100 [00:02<01:38,  1.01s/it, gen=23, loss=0.249, lst=[1, 2], str=h]\n",
      "진행율 2%:   2%|▋                                  | 2/100 [00:02<01:38,  1.01s/it, gen=23, loss=0.249, lst=[1, 2], str=h]\n",
      "진행율 2%:   2%|▋                                 | 2/100 [00:02<01:38,  1.01s/it, gen=256, loss=0.424, lst=[1, 2], str=h]\n",
      "진행율 2%:   3%|█                                 | 3/100 [00:03<01:38,  1.01s/it, gen=256, loss=0.424, lst=[1, 2], str=h]\n",
      "진행율 3%:   3%|█                                 | 3/100 [00:03<01:38,  1.01s/it, gen=256, loss=0.424, lst=[1, 2], str=h]\n",
      "진행율 3%:   3%|█                                 | 3/100 [00:03<01:38,  1.01s/it, gen=560, loss=0.956, lst=[1, 2], str=h]\n",
      "진행율 3%:   4%|█▎                                | 4/100 [00:04<01:37,  1.01s/it, gen=560, loss=0.956, lst=[1, 2], str=h]\n",
      "진행율 4%:   4%|█▎                                | 4/100 [00:04<01:37,  1.01s/it, gen=560, loss=0.956, lst=[1, 2], str=h]\n",
      "진행율 4%:   4%|█▎                                | 4/100 [00:04<01:37,  1.01s/it, gen=350, loss=0.886, lst=[1, 2], str=h]\n",
      "진행율 4%:   5%|█▋                                | 5/100 [00:05<01:36,  1.01s/it, gen=350, loss=0.886, lst=[1, 2], str=h]\n",
      "진행율 5%:   5%|█▋                                | 5/100 [00:05<01:36,  1.01s/it, gen=350, loss=0.886, lst=[1, 2], str=h]\n",
      "진행율 5%:   5%|█▋                                | 5/100 [00:05<01:36,  1.01s/it, gen=515, loss=0.647, lst=[1, 2], str=h]\n",
      "진행율 5%:   6%|██                                | 6/100 [00:06<01:35,  1.01s/it, gen=515, loss=0.647, lst=[1, 2], str=h]\n",
      "진행율 6%:   6%|██                                | 6/100 [00:06<01:35,  1.01s/it, gen=515, loss=0.647, lst=[1, 2], str=h]\n",
      "진행율 6%:   6%|██                                | 6/100 [00:06<01:35,  1.01s/it, gen=263, loss=0.465, lst=[1, 2], str=h]\n",
      "진행율 6%:   7%|██▍                               | 7/100 [00:07<01:34,  1.01s/it, gen=263, loss=0.465, lst=[1, 2], str=h]\n",
      "진행율 7%:   7%|██▍                               | 7/100 [00:07<01:34,  1.01s/it, gen=263, loss=0.465, lst=[1, 2], str=h]\n",
      "진행율 7%:   7%|██▍                               | 7/100 [00:07<01:34,  1.01s/it, gen=679, loss=0.729, lst=[1, 2], str=h]\n",
      "진행율 7%:   8%|██▋                               | 8/100 [00:08<01:33,  1.01s/it, gen=679, loss=0.729, lst=[1, 2], str=h]\n",
      "진행율 8%:   8%|██▋                               | 8/100 [00:08<01:33,  1.01s/it, gen=679, loss=0.729, lst=[1, 2], str=h]\n",
      "진행율 8%:   8%|██▋                               | 8/100 [00:08<01:33,  1.01s/it, gen=353, loss=0.518, lst=[1, 2], str=h]\n",
      "진행율 8%:   9%|███                               | 9/100 [00:09<01:32,  1.01s/it, gen=353, loss=0.518, lst=[1, 2], str=h]\n",
      "진행율 9%:   9%|███                               | 9/100 [00:09<01:32,  1.01s/it, gen=353, loss=0.518, lst=[1, 2], str=h]\n",
      "진행율 9%:   9%|███                               | 9/100 [00:09<01:32,  1.01s/it, gen=133, loss=0.296, lst=[1, 2], str=h]\n",
      "진행율 9%:  10%|███▎                             | 10/100 [00:10<01:31,  1.01s/it, gen=133, loss=0.296, lst=[1, 2], str=h]\n",
      "진행율 10%:  10%|███▏                            | 10/100 [00:10<01:31,  1.01s/it, gen=133, loss=0.296, lst=[1, 2], str=h]\n",
      "진행율 10%:  10%|███▏                            | 10/100 [00:10<01:31,  1.01s/it, gen=672, loss=0.978, lst=[1, 2], str=h]\n",
      "진행율 10%:  11%|███▌                            | 11/100 [00:11<01:30,  1.01s/it, gen=672, loss=0.978, lst=[1, 2], str=h]\n",
      "진행율 11%:  11%|███▌                            | 11/100 [00:11<01:30,  1.01s/it, gen=672, loss=0.978, lst=[1, 2], str=h]\n",
      "진행율 11%:  11%|███▌                            | 11/100 [00:11<01:30,  1.01s/it, gen=929, loss=0.996, lst=[1, 2], str=h]\n",
      "진행율 11%:  12%|███▊                            | 12/100 [00:12<01:29,  1.01s/it, gen=929, loss=0.996, lst=[1, 2], str=h]\n",
      "진행율 12%:  12%|███▊                            | 12/100 [00:12<01:29,  1.01s/it, gen=929, loss=0.996, lst=[1, 2], str=h]\n",
      "진행율 12%:  12%|███▊                            | 12/100 [00:12<01:29,  1.01s/it, gen=981, loss=0.255, lst=[1, 2], str=h]\n",
      "진행율 12%:  13%|████▏                           | 13/100 [00:13<01:28,  1.01s/it, gen=981, loss=0.255, lst=[1, 2], str=h]\n",
      "진행율 13%:  13%|████▏                           | 13/100 [00:13<01:28,  1.01s/it, gen=981, loss=0.255, lst=[1, 2], str=h]\n",
      "진행율 13%:  13%|████▏                           | 13/100 [00:13<01:28,  1.01s/it, gen=138, loss=0.537, lst=[1, 2], str=h]\n",
      "진행율 13%:  14%|████▍                           | 14/100 [00:14<01:27,  1.01s/it, gen=138, loss=0.537, lst=[1, 2], str=h]\n",
      "진행율 14%:  14%|████▍                           | 14/100 [00:14<01:27,  1.01s/it, gen=138, loss=0.537, lst=[1, 2], str=h]\n",
      "진행율 14%:  14%|████▊                             | 14/100 [00:14<01:27,  1.01s/it, gen=65, loss=0.17, lst=[1, 2], str=h]\n",
      "진행율 14%:  15%|█████                             | 15/100 [00:15<01:26,  1.01s/it, gen=65, loss=0.17, lst=[1, 2], str=h]\n",
      "진행율 15%:  15%|█████                             | 15/100 [00:15<01:26,  1.01s/it, gen=65, loss=0.17, lst=[1, 2], str=h]\n",
      "진행율 15%:  15%|████▉                            | 15/100 [00:15<01:26,  1.01s/it, gen=372, loss=0.45, lst=[1, 2], str=h]\n",
      "진행율 15%:  16%|█████▎                           | 16/100 [00:16<01:25,  1.01s/it, gen=372, loss=0.45, lst=[1, 2], str=h]\n",
      "진행율 16%:  16%|█████▎                           | 16/100 [00:16<01:25,  1.01s/it, gen=372, loss=0.45, lst=[1, 2], str=h]\n",
      "진행율 16%:  16%|█████                           | 16/100 [00:16<01:25,  1.01s/it, gen=132, loss=0.879, lst=[1, 2], str=h]\n",
      "진행율 16%:  17%|█████▍                          | 17/100 [00:17<01:24,  1.01s/it, gen=132, loss=0.879, lst=[1, 2], str=h]\n",
      "진행율 17%:  17%|█████▍                          | 17/100 [00:17<01:24,  1.01s/it, gen=132, loss=0.879, lst=[1, 2], str=h]\n",
      "진행율 17%:  17%|█████▍                          | 17/100 [00:17<01:24,  1.01s/it, gen=137, loss=0.709, lst=[1, 2], str=h]\n",
      "진행율 17%:  18%|█████▊                          | 18/100 [00:18<01:23,  1.01s/it, gen=137, loss=0.709, lst=[1, 2], str=h]\n",
      "진행율 18%:  18%|█████▊                          | 18/100 [00:18<01:23,  1.01s/it, gen=137, loss=0.709, lst=[1, 2], str=h]\n",
      "진행율 18%:  18%|█████▊                          | 18/100 [00:18<01:23,  1.01s/it, gen=218, loss=0.123, lst=[1, 2], str=h]\n",
      "진행율 18%:  19%|██████                          | 19/100 [00:19<01:22,  1.02s/it, gen=218, loss=0.123, lst=[1, 2], str=h]\n",
      "진행율 19%:  19%|██████                          | 19/100 [00:19<01:22,  1.02s/it, gen=218, loss=0.123, lst=[1, 2], str=h]\n",
      "진행율 19%:  19%|██████                          | 19/100 [00:19<01:22,  1.02s/it, gen=150, loss=0.472, lst=[1, 2], str=h]\n",
      "진행율 19%:  20%|██████▍                         | 20/100 [00:20<01:21,  1.02s/it, gen=150, loss=0.472, lst=[1, 2], str=h]\n",
      "진행율 20%:  20%|██████▍                         | 20/100 [00:20<01:21,  1.02s/it, gen=150, loss=0.472, lst=[1, 2], str=h]\n",
      "진행율 20%:  20%|██████▊                           | 20/100 [00:20<01:21,  1.02s/it, gen=254, loss=0.8, lst=[1, 2], str=h]\n",
      "진행율 20%:  21%|███████▏                          | 21/100 [00:21<01:20,  1.02s/it, gen=254, loss=0.8, lst=[1, 2], str=h]\n",
      "진행율 21%:  21%|███████▏                          | 21/100 [00:21<01:20,  1.02s/it, gen=254, loss=0.8, lst=[1, 2], str=h]\n",
      "진행율 21%:  21%|██████▋                         | 21/100 [00:21<01:20,  1.02s/it, gen=843, loss=0.642, lst=[1, 2], str=h]"
     ]
    },
    {
     "ename": "KeyboardInterrupt",
     "evalue": "",
     "output_type": "error",
     "traceback": [
      "\u001b[1;31m---------------------------------------------------------------------------\u001b[0m",
      "\u001b[1;31mKeyboardInterrupt\u001b[0m                         Traceback (most recent call last)",
      "\u001b[1;32m<ipython-input-10-fca7d2ebebf9>\u001b[0m in \u001b[0;36m<module>\u001b[1;34m()\u001b[0m\n\u001b[0;32m      7\u001b[0m     \u001b[0mt\u001b[0m\u001b[1;33m.\u001b[0m\u001b[0mset_description\u001b[0m\u001b[1;33m(\u001b[0m\u001b[1;34mf'진행율 {i}%'\u001b[0m\u001b[1;33m)\u001b[0m\u001b[1;33m\u001b[0m\u001b[0m\n\u001b[0;32m      8\u001b[0m     \u001b[0mt\u001b[0m\u001b[1;33m.\u001b[0m\u001b[0mset_postfix\u001b[0m\u001b[1;33m(\u001b[0m\u001b[0mloss\u001b[0m \u001b[1;33m=\u001b[0m \u001b[0mrandom\u001b[0m\u001b[1;33m(\u001b[0m\u001b[1;33m)\u001b[0m\u001b[1;33m,\u001b[0m \u001b[0mgen\u001b[0m \u001b[1;33m=\u001b[0m \u001b[0mrandint\u001b[0m\u001b[1;33m(\u001b[0m\u001b[1;36m1\u001b[0m\u001b[1;33m,\u001b[0m \u001b[1;36m999\u001b[0m\u001b[1;33m)\u001b[0m\u001b[1;33m,\u001b[0m \u001b[0mstr\u001b[0m \u001b[1;33m=\u001b[0m \u001b[1;34m'h'\u001b[0m\u001b[1;33m,\u001b[0m \u001b[0mlst\u001b[0m \u001b[1;33m=\u001b[0m \u001b[1;33m[\u001b[0m\u001b[1;36m1\u001b[0m\u001b[1;33m,\u001b[0m \u001b[1;36m2\u001b[0m\u001b[1;33m]\u001b[0m\u001b[1;33m)\u001b[0m\u001b[1;33m\u001b[0m\u001b[0m\n\u001b[1;32m----> 9\u001b[1;33m     \u001b[0msleep\u001b[0m\u001b[1;33m(\u001b[0m\u001b[1;36m1\u001b[0m\u001b[1;33m)\u001b[0m\u001b[1;33m\u001b[0m\u001b[0m\n\u001b[0m",
      "\u001b[1;31mKeyboardInterrupt\u001b[0m: "
     ]
    }
   ],
   "source": [
    "from  tqdm import tqdm, trange\n",
    "from time import sleep\n",
    "from random import random, randint\n",
    "\n",
    "t = trange(100)\n",
    "for i in t:\n",
    "    t.set_description(f'진행율 {i}%')\n",
    "    t.set_postfix(loss = random(), gen = randint(1, 999), str = 'h', lst = [1, 2])\n",
    "    sleep(1)"
   ]
  },
  {
   "cell_type": "code",
   "execution_count": 16,
   "metadata": {},
   "outputs": [
    {
     "data": {
      "application/vnd.jupyter.widget-view+json": {
       "model_id": "f9bae368692c47378259458401087a17",
       "version_major": 2,
       "version_minor": 0
      },
      "text/plain": [
       "FloatProgress(value=0.0)"
      ]
     },
     "metadata": {},
     "output_type": "display_data"
    },
    {
     "ename": "KeyboardInterrupt",
     "evalue": "",
     "output_type": "error",
     "traceback": [
      "\u001b[1;31m---------------------------------------------------------------------------\u001b[0m",
      "\u001b[1;31mKeyboardInterrupt\u001b[0m                         Traceback (most recent call last)",
      "\u001b[1;32m<ipython-input-16-1180636a9956>\u001b[0m in \u001b[0;36m<module>\u001b[1;34m()\u001b[0m\n\u001b[0;32m     11\u001b[0m     \u001b[1;32mwhile\u001b[0m \u001b[0mcount\u001b[0m \u001b[1;33m<=\u001b[0m \u001b[0mmax_count\u001b[0m\u001b[1;33m:\u001b[0m\u001b[1;33m\u001b[0m\u001b[0m\n\u001b[0;32m     12\u001b[0m         \u001b[0mf\u001b[0m\u001b[1;33m.\u001b[0m\u001b[0mvalue\u001b[0m \u001b[1;33m+=\u001b[0m \u001b[1;36m1\u001b[0m \u001b[1;31m# signal to increment the progress bar\u001b[0m\u001b[1;33m\u001b[0m\u001b[0m\n\u001b[1;32m---> 13\u001b[1;33m         \u001b[0mtime\u001b[0m\u001b[1;33m.\u001b[0m\u001b[0msleep\u001b[0m\u001b[1;33m(\u001b[0m\u001b[1;36m.1\u001b[0m\u001b[1;33m)\u001b[0m\u001b[1;33m\u001b[0m\u001b[0m\n\u001b[0m\u001b[0;32m     14\u001b[0m         \u001b[0mcount\u001b[0m \u001b[1;33m+=\u001b[0m \u001b[1;36m1\u001b[0m\u001b[1;33m\u001b[0m\u001b[0m\n",
      "\u001b[1;31mKeyboardInterrupt\u001b[0m: "
     ]
    }
   ],
   "source": [
    "from ipywidgets import FloatProgress\n",
    "from IPython.display import display\n",
    "import time\n",
    "\n",
    "max_count = 100\n",
    "\n",
    "f = FloatProgress(min=0, max=max_count) # instantiate the bar\n",
    "display(f) # display the bar\n",
    "\n",
    "for count in range(100):\n",
    "    while count <= max_count:\n",
    "        f.value += 1 # signal to increment the progress bar\n",
    "        time.sleep(.1)\n",
    "        count += 1"
   ]
  },
  {
   "cell_type": "code",
   "execution_count": 19,
   "metadata": {},
   "outputs": [
    {
     "data": {
      "application/vnd.jupyter.widget-view+json": {
       "model_id": "a6d53e1709c14792a86c3c424bf3ad86",
       "version_major": 2,
       "version_minor": 0
      },
      "text/plain": [
       "HBox(children=(IntProgress(value=0, description='Processing records'), HTML(value='')))"
      ]
     },
     "metadata": {},
     "output_type": "display_data"
    },
    {
     "ename": "TypeError",
     "evalue": "'function' object is not iterable",
     "output_type": "error",
     "traceback": [
      "\u001b[1;31m---------------------------------------------------------------------------\u001b[0m",
      "\u001b[1;31mTypeError\u001b[0m                                 Traceback (most recent call last)",
      "\u001b[1;32m<ipython-input-19-0ad3663b9e26>\u001b[0m in \u001b[0;36m<module>\u001b[1;34m()\u001b[0m\n\u001b[0;32m     10\u001b[0m for rec in tqdm_notebook(test, \n\u001b[0;32m     11\u001b[0m                          \u001b[0mtotal\u001b[0m\u001b[1;33m=\u001b[0m\u001b[1;36m100\u001b[0m\u001b[1;33m,\u001b[0m\u001b[1;33m\u001b[0m\u001b[0m\n\u001b[1;32m---> 12\u001b[1;33m                          desc=\"Processing records\"):\n\u001b[0m\u001b[0;32m     13\u001b[0m     \u001b[1;31m# any code processing the elements in the iterable\u001b[0m\u001b[1;33m\u001b[0m\u001b[1;33m\u001b[0m\u001b[0m\n\u001b[0;32m     14\u001b[0m     \u001b[0mlen\u001b[0m\u001b[1;33m(\u001b[0m\u001b[0mrec\u001b[0m\u001b[1;33m.\u001b[0m\u001b[0mkeys\u001b[0m\u001b[1;33m(\u001b[0m\u001b[1;33m)\u001b[0m\u001b[1;33m)\u001b[0m\u001b[1;33m\u001b[0m\u001b[0m\n",
      "\u001b[1;32m~\\Anaconda3\\lib\\site-packages\\tqdm\\_tqdm_notebook.py\u001b[0m in \u001b[0;36m__iter__\u001b[1;34m(self, *args, **kwargs)\u001b[0m\n\u001b[0;32m    207\u001b[0m     \u001b[1;32mdef\u001b[0m \u001b[0m__iter__\u001b[0m\u001b[1;33m(\u001b[0m\u001b[0mself\u001b[0m\u001b[1;33m,\u001b[0m \u001b[1;33m*\u001b[0m\u001b[0margs\u001b[0m\u001b[1;33m,\u001b[0m \u001b[1;33m**\u001b[0m\u001b[0mkwargs\u001b[0m\u001b[1;33m)\u001b[0m\u001b[1;33m:\u001b[0m\u001b[1;33m\u001b[0m\u001b[0m\n\u001b[0;32m    208\u001b[0m         \u001b[1;32mtry\u001b[0m\u001b[1;33m:\u001b[0m\u001b[1;33m\u001b[0m\u001b[0m\n\u001b[1;32m--> 209\u001b[1;33m             \u001b[1;32mfor\u001b[0m \u001b[0mobj\u001b[0m \u001b[1;32min\u001b[0m \u001b[0msuper\u001b[0m\u001b[1;33m(\u001b[0m\u001b[0mtqdm_notebook\u001b[0m\u001b[1;33m,\u001b[0m \u001b[0mself\u001b[0m\u001b[1;33m)\u001b[0m\u001b[1;33m.\u001b[0m\u001b[0m__iter__\u001b[0m\u001b[1;33m(\u001b[0m\u001b[1;33m*\u001b[0m\u001b[0margs\u001b[0m\u001b[1;33m,\u001b[0m \u001b[1;33m**\u001b[0m\u001b[0mkwargs\u001b[0m\u001b[1;33m)\u001b[0m\u001b[1;33m:\u001b[0m\u001b[1;33m\u001b[0m\u001b[0m\n\u001b[0m\u001b[0;32m    210\u001b[0m                 \u001b[1;31m# return super(tqdm...) will not catch exception\u001b[0m\u001b[1;33m\u001b[0m\u001b[1;33m\u001b[0m\u001b[0m\n\u001b[0;32m    211\u001b[0m                 \u001b[1;32myield\u001b[0m \u001b[0mobj\u001b[0m\u001b[1;33m\u001b[0m\u001b[0m\n",
      "\u001b[1;32m~\\Anaconda3\\lib\\site-packages\\tqdm\\_tqdm.py\u001b[0m in \u001b[0;36m__iter__\u001b[1;34m(self)\u001b[0m\n\u001b[0;32m    935\u001b[0m \"\"\", fp_write=getattr(self.fp, 'write', sys.stderr.write))\n\u001b[0;32m    936\u001b[0m \u001b[1;33m\u001b[0m\u001b[0m\n\u001b[1;32m--> 937\u001b[1;33m             \u001b[1;32mfor\u001b[0m \u001b[0mobj\u001b[0m \u001b[1;32min\u001b[0m \u001b[0miterable\u001b[0m\u001b[1;33m:\u001b[0m\u001b[1;33m\u001b[0m\u001b[0m\n\u001b[0m\u001b[0;32m    938\u001b[0m                 \u001b[1;32myield\u001b[0m \u001b[0mobj\u001b[0m\u001b[1;33m\u001b[0m\u001b[0m\n\u001b[0;32m    939\u001b[0m                 \u001b[1;31m# Update and possibly print the progressbar.\u001b[0m\u001b[1;33m\u001b[0m\u001b[1;33m\u001b[0m\u001b[0m\n",
      "\u001b[1;31mTypeError\u001b[0m: 'function' object is not iterable"
     ]
    }
   ],
   "source": [
    "from tqdm import tqdm_notebook\n",
    "\n",
    "def test(num):\n",
    "    for i in range(num):\n",
    "        i = i + 1\n",
    "        print(i)\n",
    "\n",
    "# works on any iterable, including cursors. \n",
    "# for iterables with len(), no need to specify 'total'.\n",
    "for rec in tqdm_notebook(test, \n",
    "                         total=100, \n",
    "                         desc=\"Processing records\"):\n",
    "    # any code processing the elements in the iterable\n",
    "    len(rec.keys())"
   ]
  },
  {
   "cell_type": "code",
   "execution_count": 4,
   "metadata": {},
   "outputs": [
    {
     "name": "stderr",
     "output_type": "stream",
     "text": [
      " 10%|████████                                                                         | 10/100 [00:10<01:30,  1.01s/it]"
     ]
    },
    {
     "ename": "KeyboardInterrupt",
     "evalue": "",
     "output_type": "error",
     "traceback": [
      "\u001b[1;31m---------------------------------------------------------------------------\u001b[0m",
      "\u001b[1;31mKeyboardInterrupt\u001b[0m                         Traceback (most recent call last)",
      "\u001b[1;32m<ipython-input-4-06e2c7348956>\u001b[0m in \u001b[0;36m<module>\u001b[1;34m()\u001b[0m\n\u001b[0;32m      1\u001b[0m \u001b[1;32mfor\u001b[0m \u001b[0mi\u001b[0m \u001b[1;32min\u001b[0m \u001b[0mtrange\u001b[0m\u001b[1;33m(\u001b[0m\u001b[1;36m100\u001b[0m\u001b[1;33m)\u001b[0m\u001b[1;33m:\u001b[0m\u001b[1;33m\u001b[0m\u001b[0m\n\u001b[1;32m----> 2\u001b[1;33m     \u001b[0msleep\u001b[0m\u001b[1;33m(\u001b[0m\u001b[1;36m1\u001b[0m\u001b[1;33m)\u001b[0m\u001b[1;33m\u001b[0m\u001b[0m\n\u001b[0m",
      "\u001b[1;31mKeyboardInterrupt\u001b[0m: "
     ]
    }
   ],
   "source": [
    "for i in trange(100):\n",
    "    sleep(1)"
   ]
  },
  {
   "cell_type": "code",
   "execution_count": 7,
   "metadata": {},
   "outputs": [
    {
     "name": "stderr",
     "output_type": "stream",
     "text": [
      "\n",
      "  0%|                                                                                          | 0/100 [00:00<?, ?it/s]\n"
     ]
    }
   ],
   "source": [
    "with tqdm(total = 100) as pbar:\n",
    "    for i in range(10):\n",
    "        sleep(0.1)\n",
    "        pbar.update(10)"
   ]
  },
  {
   "cell_type": "code",
   "execution_count": null,
   "metadata": {},
   "outputs": [],
   "source": []
  },
  {
   "cell_type": "code",
   "execution_count": null,
   "metadata": {},
   "outputs": [],
   "source": []
  }
 ],
 "metadata": {
  "kernelspec": {
   "display_name": "Python 3",
   "language": "python",
   "name": "python3"
  },
  "language_info": {
   "codemirror_mode": {
    "name": "ipython",
    "version": 3
   },
   "file_extension": ".py",
   "mimetype": "text/x-python",
   "name": "python",
   "nbconvert_exporter": "python",
   "pygments_lexer": "ipython3",
   "version": "3.6.6"
  }
 },
 "nbformat": 4,
 "nbformat_minor": 2
}
