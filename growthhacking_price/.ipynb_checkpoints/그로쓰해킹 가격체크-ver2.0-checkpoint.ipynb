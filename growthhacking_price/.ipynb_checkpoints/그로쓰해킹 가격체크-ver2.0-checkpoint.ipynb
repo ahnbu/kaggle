{
 "cells": [
  {
   "cell_type": "markdown",
   "metadata": {},
   "source": [
    "# 사전테스트"
   ]
  },
  {
   "cell_type": "code",
   "execution_count": 1,
   "metadata": {},
   "outputs": [
    {
     "name": "stdout",
     "output_type": "stream",
     "text": [
      "테스트\n"
     ]
    }
   ],
   "source": [
    "print (\"테스트\")"
   ]
  },
  {
   "cell_type": "markdown",
   "metadata": {},
   "source": [
    "# 그로쓰해킹 가격체크"
   ]
  },
  {
   "cell_type": "code",
   "execution_count": 3,
   "metadata": {},
   "outputs": [
    {
     "name": "stdout",
     "output_type": "stream",
     "text": [
      "[<h3 class=\"course-price\"><s>1,050,000 원</s></h3>, <h3 class=\"course-price\">525,000원 (50% 할인가)</h3>, <h3 class=\"course-price\"><s>990,000 원</s></h3>, <h3 class=\"course-price discount-price\">594,000원 (40% 할인가)</h3>, <h3 class=\"course-price\">3,990,000 원</h3>]\n",
      "50\n"
     ]
    }
   ],
   "source": [
    "import requests\n",
    "\n",
    "html = requests.get(\"https://dsschool.co.kr/marketing/suggestions\").text\n",
    "\n",
    "# print(html)\n",
    "\n",
    "from bs4 import BeautifulSoup\n",
    "\n",
    "soup = BeautifulSoup(html,'lxml')\n",
    "\n",
    "# print(soup.prettify())\n",
    "\n",
    "#soup.find_all('div') # suop.find('div')라고 하면 첫 div 태그 부분만 불러옴\n",
    "\n",
    "#soup.select('h3.class_course-price')\n",
    "\n",
    "soup.select('div#id_course-beginner') # 이렇게하면 빈괄호가 나옴\n",
    "soup.select('p.class_course-target') # 이렇게하면 빈괄호가 나옴\n",
    "\n",
    "soup.find_all('div', {\"id\":\"course-beginner\"})\n",
    "price = soup.find_all('h3', {\"class\":\"course-price\"}) # h3가 들어간 여러 개의 코드를 리스트로 받음\n",
    "\n",
    "print(price)\n",
    "\n",
    "price_discount = price[1].get_text() # h3가 포함된 코드 리스트 중에서 첫번째 것을 받음\n",
    "discount_rate = int(price_discount[10:-6]) # 정수화\n",
    "\n",
    "print(discount_rate)"
   ]
  },
  {
   "cell_type": "code",
   "execution_count": 4,
   "metadata": {},
   "outputs": [
    {
     "data": {
      "text/plain": [
       "int"
      ]
     },
     "execution_count": 4,
     "metadata": {},
     "output_type": "execute_result"
    }
   ],
   "source": [
    "type(discount_rate)"
   ]
  },
  {
   "cell_type": "code",
   "execution_count": 7,
   "metadata": {},
   "outputs": [
    {
     "name": "stdout",
     "output_type": "stream",
     "text": [
      "[<h3 class=\"course-price\"><s>1,050,000 원</s></h3>, <h3 class=\"course-price\">525,000원 (50% 할인가)</h3>, <h3 class=\"course-price\"><s>990,000 원</s></h3>, <h3 class=\"course-price discount-price\">594,000원 (40% 할인가)</h3>, <h3 class=\"course-price\">3,990,000 원</h3>]\n"
     ]
    }
   ],
   "source": [
    "price = list(price)\n",
    "type(price)\n",
    "print(price)"
   ]
  },
  {
   "cell_type": "markdown",
   "metadata": {},
   "source": [
    "# 이메일 보내기"
   ]
  },
  {
   "cell_type": "code",
   "execution_count": 3,
   "metadata": {
    "scrolled": false
   },
   "outputs": [
    {
     "name": "stdout",
     "output_type": "stream",
     "text": [
      "이메일을 발송했습니다.\n"
     ]
    }
   ],
   "source": [
    "import smtplib\n",
    "\n",
    "from email.mime.multipart import MIMEMultipart\n",
    "from email.mime.text import MIMEText\n",
    "from email.message import EmailMessage\n",
    "from email.mime.application import MIMEApplication\n",
    "\n",
    "# msg = EmailMessage()\n",
    "\n",
    "google_server = smtplib.SMTP_SSL('smtp.gmail.com', 465)\n",
    "google_server.ehlo()\n",
    "google_server.login('byungwook.an@gmail.com', 'Ahnbu7891')\n",
    "\n",
    "# 정확하게 했는데, 안되는 경우는 gmail의 보안 수준이 높기 때문임\n",
    "# https://myaccount.google.com/security에서 보안 수준이 낮은 앱의 액세스 를 '사용'으로 하면 발송이 잘 될 것\n",
    "\n",
    "me = 'byungwook.an@gmail.com'\n",
    "you = 'byungwook.an@gmail.com'\n",
    "\n",
    "# 오늘 날짜\n",
    "from datetime import date, timedelta\n",
    "today = date.today()\n",
    "today1 = today.strftime('%m/%d')\n",
    "\n",
    "subject = \"[참고] 오늘(\" + today1 + \") 그로쓰해킹 할인율이 \" + str(discount_rate) + \"%입니다.\"\n",
    "subject2 = \"[중요] 오늘(\" + today1 + \") 그로쓰해킹 할인율이 \" + str(discount_rate) + \"%입니다.\"\n",
    "\n",
    "# print(subject + subject2)\n",
    "\n",
    "###### 이메일 본문 파일 (text) #####\n",
    "\n",
    "# contents = '이메일 내용'\n",
    "\n",
    "f = open('email.html') \n",
    "\n",
    "# r/w/x/a (읽기/쓰기(기존파일삭제후변경)/쓰기(동일파일오류)/쓰기(동일파일있어도변경))\n",
    "# b/t (바이너리/텍스트)\n",
    "# rb, rt... 이렇게 씀.. 아무것도 안쓰면 기본은 rt로 지정됨\n",
    "\n",
    "contents = f.read()\n",
    "contents\n",
    "\n",
    "####### 이메일 본문 (html) #########\n",
    "\n",
    "# msg = MIMEText(contents, _charset = 'euc-kr')\n",
    "msg = MIMEMultipart('alternative')\n",
    "msg['Subject'] = subject\n",
    "msg['From'] = me\n",
    "msg['To'] = you\n",
    "\n",
    "# msg1 = MIMEText(contents, _charset = 'euc-kr')\n",
    "msg1 = MIMEMultipart('alternative')\n",
    "msg1['Subject'] = subject2\n",
    "msg1['From'] = me\n",
    "msg1['To'] = you\n",
    "\n",
    "text = \"Hi!\\nHow are you?\\nHere is the link you wanted:\\nhttp://www.python.org\"\n",
    "html = \"\"\"\\\n",
    "<html>\n",
    "  <head></head>\n",
    "  <body>\n",
    "    <h3>\n",
    "    <p>수강신청하려면, 링크를 클릭하세요.<br>\n",
    "       <a href=\"https://dsschool.co.kr/marketing/suggestions\">그로쓰해킹 입문반</a>\n",
    "    </p>\n",
    "    </h3>\n",
    "  </body>\n",
    "</html>\n",
    "\"\"\"\n",
    "\n",
    "part1 = MIMEText(text, 'plain')\n",
    "part2 = MIMEText(html, 'html')\n",
    "\n",
    "if discount_rate > 40 :\n",
    "    #print(\"와우!! 드디어 할인율이 \" + str(discount_rate) + \"% 되었네요.\" + \"\\n\" + \"얼른 신청하세요!\")\n",
    "    #msg1.attach(part1)\n",
    "    msg1.attach(part2)\n",
    "    google_server.sendmail('byungwook.an@gmail.com','byungwook.an@gmail.com',msg1.as_string())\n",
    "    # str만 들어가야 한다고 하니, 정수를 str으로 변환시켜서 넣었음\n",
    "else:\n",
    "    #print(\"아직 할인율이 \" + str(discount_rate) + \"% 밖에 안되요.\" + \"\\n\" + \"조금 더 기다려주세요.\")\n",
    "    #msg.attach(part1)\n",
    "    msg.attach(part2)\n",
    "    google_server.sendmail('byungwook.an@gmail.com','byungwook.an@gmail.com',msg.as_string())\n",
    "\n",
    "google_server.quit()    \n",
    "print('이메일을 발송했습니다.')"
   ]
  },
  {
   "cell_type": "code",
   "execution_count": 3,
   "metadata": {
    "collapsed": true
   },
   "outputs": [
    {
     "data": {
      "text/plain": [
       "'\\n<div id=\"course-beginner\" class=\"course course-column active\" data-default-pricing=\"890000\" data-pricing=\"667500\" data-discount=\"25\" data-current-course=\"marketing_beginner_15\">\\n        <h3 class=\"course-name\">입문 과정</h3>\\n        <h3 class=\"course-summary\">4주 과정, 매주 5시간</h3>\\n        <h3 class=\"course-price\"><s>1,050,000 원</s></h3>\\n        <h3 class=\"course-price\">735,000원 (30% 할인가)</h3>\\n        <p style=\"font-size: 12px; margin: 0;\">* 기자재 비용 포함 (유료 광고 툴, 실습 광고 비용 등)</p>\\n\\n        <hr />\\n\\n        <p class=\"course-target\">데이터 마케팅 경험이 전혀 없어도 가능</p>\\n        <p class=\"course-description\">최신 디지털 마케팅 툴을 활용하는 실용적인 스킬들을 갖게 되시고, 워크샵 기간동안 실제 예산을 태워 디지털 광고를 집행/분석/후속 운영을 해보는 과정입니다.</p>\\n\\n        <p class=\"course-discount\">\\n            <span class=\"remain-seat\">현재 잔여 좌석 6개</span>\\n        </p>\\n\\n        <a href=\"#\" id=\"btn-purchase-marketing-beginner\" class=\"btn-course btn-purchase\">30% 할인 결제하기</a>\\n      </div>\\n'"
      ]
     },
     "execution_count": 3,
     "metadata": {},
     "output_type": "execute_result"
    }
   ],
   "source": [
    "'''\n",
    "<div id=\"course-beginner\" class=\"course course-column active\" data-default-pricing=\"890000\" data-pricing=\"667500\" data-discount=\"25\" data-current-course=\"marketing_beginner_15\">\n",
    "        <h3 class=\"course-name\">입문 과정</h3>\n",
    "        <h3 class=\"course-summary\">4주 과정, 매주 5시간</h3>\n",
    "        <h3 class=\"course-price\"><s>1,050,000 원</s></h3>\n",
    "        <h3 class=\"course-price\">735,000원 (30% 할인가)</h3>\n",
    "        <p style=\"font-size: 12px; margin: 0;\">* 기자재 비용 포함 (유료 광고 툴, 실습 광고 비용 등)</p>\n",
    "\n",
    "        <hr />\n",
    "\n",
    "        <p class=\"course-target\">데이터 마케팅 경험이 전혀 없어도 가능</p>\n",
    "        <p class=\"course-description\">최신 디지털 마케팅 툴을 활용하는 실용적인 스킬들을 갖게 되시고, 워크샵 기간동안 실제 예산을 태워 디지털 광고를 집행/분석/후속 운영을 해보는 과정입니다.</p>\n",
    "\n",
    "        <p class=\"course-discount\">\n",
    "            <span class=\"remain-seat\">현재 잔여 좌석 6개</span>\n",
    "        </p>\n",
    "\n",
    "        <a href=\"#\" id=\"btn-purchase-marketing-beginner\" class=\"btn-course btn-purchase\">30% 할인 결제하기</a>\n",
    "      </div>\n",
    "'''"
   ]
  },
  {
   "cell_type": "markdown",
   "metadata": {},
   "source": [
    "# 스케줄러"
   ]
  },
  {
   "cell_type": "code",
   "execution_count": null,
   "metadata": {},
   "outputs": [],
   "source": []
  }
 ],
 "metadata": {
  "kernelspec": {
   "display_name": "Python 3",
   "language": "python",
   "name": "python3"
  },
  "language_info": {
   "codemirror_mode": {
    "name": "ipython",
    "version": 3
   },
   "file_extension": ".py",
   "mimetype": "text/x-python",
   "name": "python",
   "nbconvert_exporter": "python",
   "pygments_lexer": "ipython3",
   "version": "3.6.6"
  }
 },
 "nbformat": 4,
 "nbformat_minor": 2
}
